{
 "cells": [
  {
   "cell_type": "markdown",
   "id": "71eb5823-6f69-436a-b1f5-993fef48c5e1",
   "metadata": {},
   "source": [
    "# Time Series\n",
    "- Time series can be defined as a set of measurements of certain variable made at regular time intervals.\n",
    "- Time acts as an independent variable for estimation.\n",
    "- A time series defined by the values Y1, Y2 of a variable Y at time t1,t2,t3 is given by Y = F(t).\n",
    "\n",
    "### Component of time series. \n",
    "- Trend.\n",
    "- Seasonal.\n",
    "- Cyclic.\n",
    "- Irregular."
   ]
  },
  {
   "cell_type": "markdown",
   "id": "d604c53f-c57e-458e-a755-d09f81f57b34",
   "metadata": {},
   "source": [
    "import numpy as np\n",
    "import pandas as pd\n",
    "import matplotlib.pyplot as plt\n",
    "%matplotlib inline\n",
    "import seaborn as sns\n",
    "\n",
    "import warnings\n",
    "warnings.filterwarnings(\"ignore\")"
   ]
  },
  {
   "cell_type": "code",
   "execution_count": 8,
   "id": "c5a48345-17a4-4f96-b377-53cad0a339e1",
   "metadata": {},
   "outputs": [
    {
     "data": {
      "text/html": [
       "<div>\n",
       "<style scoped>\n",
       "    .dataframe tbody tr th:only-of-type {\n",
       "        vertical-align: middle;\n",
       "    }\n",
       "\n",
       "    .dataframe tbody tr th {\n",
       "        vertical-align: top;\n",
       "    }\n",
       "\n",
       "    .dataframe thead th {\n",
       "        text-align: right;\n",
       "    }\n",
       "</style>\n",
       "<table border=\"1\" class=\"dataframe\">\n",
       "  <thead>\n",
       "    <tr style=\"text-align: right;\">\n",
       "      <th></th>\n",
       "      <th>Month</th>\n",
       "      <th>Passengers</th>\n",
       "    </tr>\n",
       "  </thead>\n",
       "  <tbody>\n",
       "    <tr>\n",
       "      <th>0</th>\n",
       "      <td>15-01-1949</td>\n",
       "      <td>112</td>\n",
       "    </tr>\n",
       "    <tr>\n",
       "      <th>1</th>\n",
       "      <td>15-02-1949</td>\n",
       "      <td>118</td>\n",
       "    </tr>\n",
       "    <tr>\n",
       "      <th>2</th>\n",
       "      <td>15-03-1949</td>\n",
       "      <td>132</td>\n",
       "    </tr>\n",
       "    <tr>\n",
       "      <th>3</th>\n",
       "      <td>15-04-1949</td>\n",
       "      <td>129</td>\n",
       "    </tr>\n",
       "    <tr>\n",
       "      <th>4</th>\n",
       "      <td>15-05-1949</td>\n",
       "      <td>121</td>\n",
       "    </tr>\n",
       "    <tr>\n",
       "      <th>...</th>\n",
       "      <td>...</td>\n",
       "      <td>...</td>\n",
       "    </tr>\n",
       "    <tr>\n",
       "      <th>95</th>\n",
       "      <td>15-12-1956</td>\n",
       "      <td>306</td>\n",
       "    </tr>\n",
       "    <tr>\n",
       "      <th>96</th>\n",
       "      <td>15-01-1957</td>\n",
       "      <td>315</td>\n",
       "    </tr>\n",
       "    <tr>\n",
       "      <th>97</th>\n",
       "      <td>15-02-1957</td>\n",
       "      <td>301</td>\n",
       "    </tr>\n",
       "    <tr>\n",
       "      <th>98</th>\n",
       "      <td>15-03-1957</td>\n",
       "      <td>356</td>\n",
       "    </tr>\n",
       "    <tr>\n",
       "      <th>99</th>\n",
       "      <td>15-04-1957</td>\n",
       "      <td>348</td>\n",
       "    </tr>\n",
       "  </tbody>\n",
       "</table>\n",
       "<p>100 rows × 2 columns</p>\n",
       "</div>"
      ],
      "text/plain": [
       "         Month  Passengers\n",
       "0   15-01-1949         112\n",
       "1   15-02-1949         118\n",
       "2   15-03-1949         132\n",
       "3   15-04-1949         129\n",
       "4   15-05-1949         121\n",
       "..         ...         ...\n",
       "95  15-12-1956         306\n",
       "96  15-01-1957         315\n",
       "97  15-02-1957         301\n",
       "98  15-03-1957         356\n",
       "99  15-04-1957         348\n",
       "\n",
       "[100 rows x 2 columns]"
      ]
     },
     "execution_count": 8,
     "metadata": {},
     "output_type": "execute_result"
    }
   ],
   "source": [
    "import pandas as pd\n",
    "data = pd.read_csv(\"AirPassengers.csv\")\n",
    "data.head(100)"
   ]
  },
  {
   "cell_type": "code",
   "execution_count": 9,
   "id": "00699e16-4303-4545-9d44-29e0b94f1b80",
   "metadata": {},
   "outputs": [
    {
     "name": "stdout",
     "output_type": "stream",
     "text": [
      "<class 'pandas.core.frame.DataFrame'>\n",
      "RangeIndex: 144 entries, 0 to 143\n",
      "Data columns (total 2 columns):\n",
      " #   Column      Non-Null Count  Dtype \n",
      "---  ------      --------------  ----- \n",
      " 0   Month       144 non-null    object\n",
      " 1   Passengers  144 non-null    int64 \n",
      "dtypes: int64(1), object(1)\n",
      "memory usage: 2.4+ KB\n"
     ]
    }
   ],
   "source": [
    "data.info()"
   ]
  },
  {
   "cell_type": "code",
   "execution_count": 10,
   "id": "b48ea5c7-309e-4383-99b9-dd7be06fa0bd",
   "metadata": {},
   "outputs": [
    {
     "data": {
      "text/html": [
       "<div>\n",
       "<style scoped>\n",
       "    .dataframe tbody tr th:only-of-type {\n",
       "        vertical-align: middle;\n",
       "    }\n",
       "\n",
       "    .dataframe tbody tr th {\n",
       "        vertical-align: top;\n",
       "    }\n",
       "\n",
       "    .dataframe thead th {\n",
       "        text-align: right;\n",
       "    }\n",
       "</style>\n",
       "<table border=\"1\" class=\"dataframe\">\n",
       "  <thead>\n",
       "    <tr style=\"text-align: right;\">\n",
       "      <th></th>\n",
       "      <th>Passengers</th>\n",
       "    </tr>\n",
       "    <tr>\n",
       "      <th>Month</th>\n",
       "      <th></th>\n",
       "    </tr>\n",
       "  </thead>\n",
       "  <tbody>\n",
       "    <tr>\n",
       "      <th>15-01-1949</th>\n",
       "      <td>112</td>\n",
       "    </tr>\n",
       "    <tr>\n",
       "      <th>15-02-1949</th>\n",
       "      <td>118</td>\n",
       "    </tr>\n",
       "    <tr>\n",
       "      <th>15-03-1949</th>\n",
       "      <td>132</td>\n",
       "    </tr>\n",
       "    <tr>\n",
       "      <th>15-04-1949</th>\n",
       "      <td>129</td>\n",
       "    </tr>\n",
       "    <tr>\n",
       "      <th>15-05-1949</th>\n",
       "      <td>121</td>\n",
       "    </tr>\n",
       "  </tbody>\n",
       "</table>\n",
       "</div>"
      ],
      "text/plain": [
       "            Passengers\n",
       "Month                 \n",
       "15-01-1949         112\n",
       "15-02-1949         118\n",
       "15-03-1949         132\n",
       "15-04-1949         129\n",
       "15-05-1949         121"
      ]
     },
     "execution_count": 10,
     "metadata": {},
     "output_type": "execute_result"
    }
   ],
   "source": [
    "# First we need to set the month column as index of teh data frame. \n",
    "data = data.set_index(\"Month\")\n",
    "data.head()"
   ]
  },
  {
   "cell_type": "markdown",
   "id": "f1ae0da4-0737-4c40-a847-68857e151cd2",
   "metadata": {},
   "source": [
    "## Visualizing the time series data. \n",
    "- Check for trend, seasonality or random patterns."
   ]
  },
  {
   "cell_type": "code",
   "execution_count": 14,
   "id": "5eaadabc-53cb-4a90-81f9-fcfa15e0ff30",
   "metadata": {},
   "outputs": [
    {
     "name": "stderr",
     "output_type": "stream",
     "text": [
      "/opt/anaconda3/lib/python3.11/site-packages/seaborn/_oldcore.py:1119: FutureWarning: use_inf_as_na option is deprecated and will be removed in a future version. Convert inf values to NaN before operating instead.\n",
      "  with pd.option_context('mode.use_inf_as_na', True):\n",
      "/opt/anaconda3/lib/python3.11/site-packages/seaborn/_oldcore.py:1119: FutureWarning: use_inf_as_na option is deprecated and will be removed in a future version. Convert inf values to NaN before operating instead.\n",
      "  with pd.option_context('mode.use_inf_as_na', True):\n"
     ]
    },
    {
     "ename": "AttributeError",
     "evalue": "'Axes' object has no attribute 'show'",
     "output_type": "error",
     "traceback": [
      "\u001b[0;31m---------------------------------------------------------------------------\u001b[0m",
      "\u001b[0;31mAttributeError\u001b[0m                            Traceback (most recent call last)",
      "Cell \u001b[0;32mIn[14], line 3\u001b[0m\n\u001b[1;32m      1\u001b[0m \u001b[38;5;28;01mimport\u001b[39;00m \u001b[38;5;21;01mseaborn\u001b[39;00m \u001b[38;5;28;01mas\u001b[39;00m \u001b[38;5;21;01msns\u001b[39;00m\n\u001b[1;32m      2\u001b[0m sns\u001b[38;5;241m.\u001b[39mlineplot(x\u001b[38;5;241m=\u001b[39mdata\u001b[38;5;241m.\u001b[39mindex, y\u001b[38;5;241m=\u001b[39mdata[\u001b[38;5;124m\"\u001b[39m\u001b[38;5;124mPassengers\u001b[39m\u001b[38;5;124m\"\u001b[39m])\n\u001b[0;32m----> 3\u001b[0m plt\u001b[38;5;241m.\u001b[39mshow()\n",
      "\u001b[0;31mAttributeError\u001b[0m: 'Axes' object has no attribute 'show'"
     ]
    },
    {
     "data": {
      "image/png": "[encoded data removed]",
      "text/plain": [
       "<Figure size 640x480 with 1 Axes>"
      ]
     },
     "metadata": {},
     "output_type": "display_data"
    }
   ],
   "source": [
    "import seaborn as sns\n",
    "sns.lineplot(x=data.index, y=data[\"Passengers\"])\n",
    "plt.show()"
   ]
  },
  {
   "cell_type": "markdown",
   "id": "550f178f-0435-4b68-a660-fc20ffab41a5",
   "metadata": {},
   "source": [
    "In the above graph observe \n",
    "- uptrande.\n",
    "- seasonality. "
   ]
  },
  {
   "cell_type": "markdown",
   "id": "633a1479-b0d9-4446-8ba4-059e54dae11a",
   "metadata": {},
   "source": [
    "# Step 2: Check for Stationarity\n",
    "## Method 1: Rolling Statistics"
   ]
  },
  {
   "cell_type": "code",
   "execution_count": null,
   "id": "f0cc1b0d-a7b3-41cb-b3f6-14e0c90e286f",
   "metadata": {},
   "outputs": [],
   "source": [
    "#Determing rolling statistics\n",
    "rolmean = data.rolling(window=12).mean()\n",
    "rolstd = data.rolling(window=12).std()\n",
    "\n",
    "#plot rolling statistics:\n",
    "orig = plt.plot(data, color = \"blue\", label = \"Original\")\n",
    "mean = plt.plot(rolmean, color = \"red\", label = \"Rolling Mean\")\n",
    "std = plt.plot(rolstd, color =\"black\", label = \"Rolling Std\")\n",
    "plt.title(\"Rolling Mean & Standard Deviation\")\n",
    "plt.legend()\n",
    "plt.show()"
   ]
  },
  {
   "cell_type": "markdown",
   "id": "b916a5e6-c6b8-42bc-b905-6e2f0001d729",
   "metadata": {},
   "source": [
    "## Method 2: ADF Test"
   ]
  },
  {
   "cell_type": "code",
   "execution_count": null,
   "id": "17bc6b52-9b32-4682-a291-e2409415a70e",
   "metadata": {},
   "outputs": [],
   "source": [
    "# ADF est - null hypothesis - non-stationary - if p-value < 5% reject null hypothesis\n",
    "from statsmodels.tsa.stattools import adfuller\n",
    "adfuller_result = adfuller(data[\"Passengers\"].values)\n",
    "adfuller_result"
   ]
  },
  {
   "cell_type": "code",
   "execution_count": null,
   "id": "dc3d0a2b-ae12-45c0-ac67-4df4a504c18b",
   "metadata": {},
   "outputs": [],
   "source": [
    "print(\"p-Value:{}\".format(adfuller_result[1]))"
   ]
  },
  {
   "cell_type": "markdown",
   "id": "e027f100-573c-4252-9e75-fb3506d23ae7",
   "metadata": {},
   "source": [
    "- p high null fly. So the data is non statationary.\n",
    "\n",
    "# Stationarize the time series.\n",
    "## Differencing"
   ]
  },
  {
   "cell_type": "code",
   "execution_count": null,
   "id": "cc2582ff-eb83-42a9-ae65-dc2a4132b292",
   "metadata": {},
   "outputs": [],
   "source": [
    "# Get the difference between the moving average and the actual number of passengers.\n",
    "ts = data[\"Passengers\"]\n",
    "\n",
    "mv_diff = ts - ts.shift(1)\n",
    "mv_diff.head()\n",
    "#mv_diff.dropna()"
   ]
  },
  {
   "cell_type": "code",
   "execution_count": null,
   "id": "6dbce641-18b0-4839-8084-9a61cb67ef2c",
   "metadata": {},
   "outputs": [],
   "source": [
    "#transformation\n",
    "ts_log = np.log(data[\"Passengers\"])\n",
    "ts_log"
   ]
  }
 ],
 "metadata": {
  "kernelspec": {
   "display_name": "Python 3 (ipykernel)",
   "language": "python",
   "name": "python3"
  },
  "language_info": {
   "codemirror_mode": {
    "name": "ipython",
    "version": 3
   },
   "file_extension": ".py",
   "mimetype": "text/x-python",
   "name": "python",
   "nbconvert_exporter": "python",
   "pygments_lexer": "ipython3",
   "version": "3.11.5"
  }
 },
 "nbformat": 4,
 "nbformat_minor": 5
}
