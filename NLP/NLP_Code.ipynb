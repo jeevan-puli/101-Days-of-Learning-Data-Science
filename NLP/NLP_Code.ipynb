{
 "cells": [
  {
   "cell_type": "markdown",
   "id": "0f97d2f7-3ae7-4e75-99f2-182ff0f53851",
   "metadata": {},
   "source": [
    "# NLP"
   ]
  },
  {
   "cell_type": "code",
   "execution_count": 13,
   "id": "7bb1d752-65da-4b40-8505-ac089946c380",
   "metadata": {},
   "outputs": [],
   "source": [
    "import nltk"
   ]
  },
  {
   "cell_type": "code",
   "execution_count": 3,
   "id": "fe01dc49-9692-4e8d-bb4b-75bceb44b72d",
   "metadata": {},
   "outputs": [
    {
     "name": "stdout",
     "output_type": "stream",
     "text": [
      "showing info https://raw.githubusercontent.com/nltk/nltk_data/gh-pages/index.xml\n"
     ]
    },
    {
     "data": {
      "text/plain": [
       "True"
      ]
     },
     "execution_count": 3,
     "metadata": {},
     "output_type": "execute_result"
    }
   ],
   "source": [
    "nltk.download()"
   ]
  },
  {
   "cell_type": "code",
   "execution_count": 4,
   "id": "8af50852-6f8e-4a07-aa6f-65317cc9deec",
   "metadata": {},
   "outputs": [
    {
     "data": {
      "text/plain": [
       "'He is a good boy. She is a good girl. boy & girl are good.'"
      ]
     },
     "execution_count": 4,
     "metadata": {},
     "output_type": "execute_result"
    }
   ],
   "source": [
    "paragraph = \"He is a good boy. She is a good girl. boy & girl are good.\"\n",
    "paragraph"
   ]
  },
  {
   "cell_type": "markdown",
   "id": "c97cf822-3697-4631-96d9-9255530c39fb",
   "metadata": {},
   "source": [
    "# 2 Tokenization\n",
    "## Sentence Tokenization."
   ]
  },
  {
   "cell_type": "code",
   "execution_count": 5,
   "id": "e020661f-2a88-4f0e-8f10-392cd023c52a",
   "metadata": {},
   "outputs": [
    {
     "data": {
      "text/plain": [
       "['He is a good boy.', 'She is a good girl.', 'boy & girl are good.']"
      ]
     },
     "execution_count": 5,
     "metadata": {},
     "output_type": "execute_result"
    }
   ],
   "source": [
    "# Loading data.\n",
    "sentences = nltk.sent_tokenize(paragraph)\n",
    "sentences"
   ]
  },
  {
   "cell_type": "markdown",
   "id": "db0fb4c1-ed44-43ae-ab5a-05456db7c789",
   "metadata": {},
   "source": [
    "## Word tokenization"
   ]
  },
  {
   "cell_type": "code",
   "execution_count": 6,
   "id": "c7280d59-8724-4405-b77b-b0c57cded258",
   "metadata": {},
   "outputs": [
    {
     "data": {
      "text/plain": [
       "['He',\n",
       " 'is',\n",
       " 'a',\n",
       " 'good',\n",
       " 'boy',\n",
       " '.',\n",
       " 'She',\n",
       " 'is',\n",
       " 'a',\n",
       " 'good',\n",
       " 'girl',\n",
       " '.',\n",
       " 'boy',\n",
       " '&',\n",
       " 'girl',\n",
       " 'are',\n",
       " 'good',\n",
       " '.']"
      ]
     },
     "execution_count": 6,
     "metadata": {},
     "output_type": "execute_result"
    }
   ],
   "source": [
    "words = nltk.word_tokenize(paragraph)\n",
    "words"
   ]
  },
  {
   "cell_type": "markdown",
   "id": "04e2e2df-bafa-415a-a56b-b2d48062a8ef",
   "metadata": {},
   "source": [
    "# 3 Text Cleaning \n",
    "## 3.a Remove Punctuations"
   ]
  },
  {
   "cell_type": "code",
   "execution_count": 11,
   "id": "db3e4677-2537-4816-83a7-4fc100503298",
   "metadata": {},
   "outputs": [
    {
     "name": "stdout",
     "output_type": "stream",
     "text": [
      "['He is a good boy.', 'She is a good girl.', 'boy & girl are good.']\n",
      "['He is a good boy ', 'She is a good girl ', 'boy   girl are good ']\n"
     ]
    }
   ],
   "source": [
    "import re\n",
    "\n",
    "corpus = []\n",
    "print(sentences)\n",
    "\n",
    "for i in range(len(sentences)):\n",
    "    rp = re.sub(\"[^a-zA-Z]\", \" \",sentences[i])\n",
    "    corpus.append(rp)\n",
    "\n",
    "print(corpus)"
   ]
  },
  {
   "cell_type": "markdown",
   "id": "c36a6453-4428-4e1f-9847-ac2cdbabf8dd",
   "metadata": {},
   "source": [
    "## 3.b Stopwords in English"
   ]
  },
  {
   "cell_type": "code",
   "execution_count": null,
   "id": "97298af1-cecd-4b3e-8a77-06e2f7500c7c",
   "metadata": {},
   "outputs": [],
   "source": [
    "from nltk.corpus import stopwords\n",
    "## To see list of stop words in english\n",
    "stopwords.words(\"english\")"
   ]
  },
  {
   "cell_type": "code",
   "execution_count": 24,
   "id": "b8b7e733-3956-4aab-be3e-d47dc5805560",
   "metadata": {},
   "outputs": [
    {
     "name": "stdout",
     "output_type": "stream",
     "text": [
      "['good boy', 'good girl', 'boy girl good']\n"
     ]
    }
   ],
   "source": [
    "import re\n",
    "\n",
    "corpus = []\n",
    "#print(sentences)\n",
    "\n",
    "for i in range(len(sentences)):\n",
    "    rp = re.sub(\"[^a-zA-Z]\", \" \",sentences[i])\n",
    "    rp = rp.lower()\n",
    "    rp = rp.split()\n",
    "    rp = [word for word in rp if not word in stopwords.words(\"english\")] # list list comprehensio (just if in for loop). \n",
    "    rp = \" \".join(rp)\n",
    "    corpus.append(rp)\n",
    "\n",
    "print(corpus)"
   ]
  },
  {
   "cell_type": "markdown",
   "id": "c7a37929-fbac-457e-94a0-9e77dd34688f",
   "metadata": {},
   "source": [
    "## 3.c Stemming and Lemmatization"
   ]
  },
  {
   "cell_type": "code",
   "execution_count": 30,
   "id": "057dd875-2f9f-4bc0-8e25-16b69f63ac36",
   "metadata": {},
   "outputs": [
    {
     "data": {
      "text/plain": [
       "'histor'"
      ]
     },
     "execution_count": 30,
     "metadata": {},
     "output_type": "execute_result"
    }
   ],
   "source": [
    "# stemming\n",
    "from nltk.stem import PorterStemmer\n",
    "ps = PorterStemmer()\n",
    "ps.stem(\"historically\")"
   ]
  },
  {
   "cell_type": "code",
   "execution_count": 31,
   "id": "ca2997c4-1e31-4436-b099-905ae25b6751",
   "metadata": {},
   "outputs": [
    {
     "data": {
      "text/plain": [
       "'historically'"
      ]
     },
     "execution_count": 31,
     "metadata": {},
     "output_type": "execute_result"
    }
   ],
   "source": [
    "# Lemmatization\n",
    "from nltk.stem import WordNetLemmatizer\n",
    "wnl = WordNetLemmatizer()\n",
    "wnl.lemmatize(\"historically\")"
   ]
  },
  {
   "cell_type": "markdown",
   "id": "679b13ae-d973-45e5-aa14-378236d75cd4",
   "metadata": {},
   "source": [
    "## Final ever thing together for text Cleaning (remove punctuation + Remove Stop words + Stemming / Lemmatization)"
   ]
  },
  {
   "cell_type": "code",
   "execution_count": 33,
   "id": "679205bc-2aa8-45fe-a379-7548d34a519f",
   "metadata": {},
   "outputs": [
    {
     "name": "stdout",
     "output_type": "stream",
     "text": [
      "['good boy', 'good girl', 'boy girl good']\n"
     ]
    }
   ],
   "source": [
    "import re\n",
    "from nltk.corpus import stopwords\n",
    "from nltk.stem import PorterStemmer #Stemming\n",
    "ps = PorterStemmer()\n",
    "\n",
    "corpus = []\n",
    "\n",
    "for i in range(len(sentences)):\n",
    "    rp = re.sub(\"[^a-zA-Z]\", \" \",sentences[i])\n",
    "    rp = rp.lower()\n",
    "    rp = rp.split()\n",
    "    rp = [ps.stem(word) for word in rp if not word in stopwords.words(\"english\")] # list list comprehensio (just if in for loop). \n",
    "    rp = \" \".join(rp)\n",
    "    corpus.append(rp)\n",
    "\n",
    "print(corpus)"
   ]
  },
  {
   "cell_type": "markdown",
   "id": "96d69453-fb1c-4d7f-abbb-57d8e68f6fa8",
   "metadata": {},
   "source": [
    "# 4 Vectorization\n",
    "count vectorizer (bag of words) --> it counts the repetion no.of words in the give sentence. "
   ]
  },
  {
   "cell_type": "code",
   "execution_count": null,
   "id": "438a1159-23d5-4889-b318-823ded39d416",
   "metadata": {},
   "outputs": [],
   "source": []
  }
 ],
 "metadata": {
  "kernelspec": {
   "display_name": "Python 3 (ipykernel)",
   "language": "python",
   "name": "python3"
  },
  "language_info": {
   "codemirror_mode": {
    "name": "ipython",
    "version": 3
   },
   "file_extension": ".py",
   "mimetype": "text/x-python",
   "name": "python",
   "nbconvert_exporter": "python",
   "pygments_lexer": "ipython3",
   "version": "3.11.5"
  }
 },
 "nbformat": 4,
 "nbformat_minor": 5
}
