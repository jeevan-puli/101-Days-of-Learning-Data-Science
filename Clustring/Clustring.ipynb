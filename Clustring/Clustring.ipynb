{
 "cells": [
  {
   "cell_type": "markdown",
   "id": "7aa9bae0-47fc-44aa-8de9-08e5fc19bb01",
   "metadata": {},
   "source": [
    "# Clustring\n",
    "\n",
    "- A group of objects that are similar to other objects in the cluster and dissimilar to data points in other clusters.\n",
    "\n",
    "### Applications:\n",
    "- Retail / Marketing\n",
    "- Banking.\n",
    "- Insurance.\n",
    "\n",
    "### Different clustering algorithms\n",
    "- Partitioned-based clustering\n",
    "- Hierarchical Clustering\n",
    "- Density-based Clustering. "
   ]
  },
  {
   "cell_type": "code",
   "execution_count": null,
   "id": "b67102ea-2648-45fb-b461-a57ba7299ba9",
   "metadata": {},
   "outputs": [],
   "source": [
    "# "
   ]
  }
 ],
 "metadata": {
  "kernelspec": {
   "display_name": "Python 3 (ipykernel)",
   "language": "python",
   "name": "python3"
  },
  "language_info": {
   "codemirror_mode": {
    "name": "ipython",
    "version": 3
   },
   "file_extension": ".py",
   "mimetype": "text/x-python",
   "name": "python",
   "nbconvert_exporter": "python",
   "pygments_lexer": "ipython3",
   "version": "3.9.7"
  }
 },
 "nbformat": 4,
 "nbformat_minor": 5
}
