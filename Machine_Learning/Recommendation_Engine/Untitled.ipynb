{
 "cells": [
  {
   "cell_type": "markdown",
   "id": "440b161d-8635-4650-8cbc-367127f76249",
   "metadata": {},
   "source": [
    "## Recommendation Engine\n",
    "- Pecommender systems capture the pattern of people's behaviour and use it to predict what else they might want or like. "
   ]
  },
  {
   "cell_type": "code",
   "execution_count": null,
   "id": "e3dc04b1-1be6-452a-bab7-9714d3185f9c",
   "metadata": {},
   "outputs": [],
   "source": []
  }
 ],
 "metadata": {
  "kernelspec": {
   "display_name": "Python 3 (ipykernel)",
   "language": "python",
   "name": "python3"
  },
  "language_info": {
   "codemirror_mode": {
    "name": "ipython",
    "version": 3
   },
   "file_extension": ".py",
   "mimetype": "text/x-python",
   "name": "python",
   "nbconvert_exporter": "python",
   "pygments_lexer": "ipython3",
   "version": "3.9.7"
  }
 },
 "nbformat": 4,
 "nbformat_minor": 5
}
