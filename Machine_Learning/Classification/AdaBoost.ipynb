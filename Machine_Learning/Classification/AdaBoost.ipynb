{
 "cells": [
  {
   "cell_type": "markdown",
   "id": "685b8ec0-7818-4082-bbd9-601cabc1be64",
   "metadata": {},
   "source": [
    "# AdaBoost\n",
    "- AdaBoost (Adaptive Boosting) works by using an ensemble of weak learners and then combining them through the use of weighted sum.\n",
    "- Adaboost adapts by using preiously created weak learners in order to adjust misclassified instances for the next created weak learner.\n",
    "\n",
    "#### What is a weak learner?\n",
    "- A weak model is a model that is too simple to predict output on its own.\n",
    "- The weakest decision tree posible would be a stump, one mode and two leaves.\n"
   ]
  },
  {
   "cell_type": "code",
   "execution_count": null,
   "id": "8d30d477-8b1c-4e86-816c-13d8adf9388e",
   "metadata": {},
   "outputs": [],
   "source": []
  }
 ],
 "metadata": {
  "kernelspec": {
   "display_name": "Python 3 (ipykernel)",
   "language": "python",
   "name": "python3"
  },
  "language_info": {
   "codemirror_mode": {
    "name": "ipython",
    "version": 3
   },
   "file_extension": ".py",
   "mimetype": "text/x-python",
   "name": "python",
   "nbconvert_exporter": "python",
   "pygments_lexer": "ipython3",
   "version": "3.9.7"
  }
 },
 "nbformat": 4,
 "nbformat_minor": 5
}
