{
 "cells": [
  {
   "cell_type": "markdown",
   "id": "6e7de3d4-9db7-4670-a368-09f5d9b2057a",
   "metadata": {},
   "source": [
    "# Gradient Boost\n",
    "-In addition, when gradient boost is used for classification, it has a lot in common with Logistic Regression. So if you're not familiar with Logistic Regression, Check out the Logistic Regression topic. "
   ]
  },
  {
   "cell_type": "code",
   "execution_count": null,
   "id": "ea03272d-41e1-4011-90da-6b85faee69bf",
   "metadata": {},
   "outputs": [],
   "source": []
  }
 ],
 "metadata": {
  "kernelspec": {
   "display_name": "Python 3 (ipykernel)",
   "language": "python",
   "name": "python3"
  },
  "language_info": {
   "codemirror_mode": {
    "name": "ipython",
    "version": 3
   },
   "file_extension": ".py",
   "mimetype": "text/x-python",
   "name": "python",
   "nbconvert_exporter": "python",
   "pygments_lexer": "ipython3",
   "version": "3.11.5"
  }
 },
 "nbformat": 4,
 "nbformat_minor": 5
}
