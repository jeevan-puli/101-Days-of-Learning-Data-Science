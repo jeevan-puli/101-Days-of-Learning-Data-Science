{
 "cells": [
  {
   "cell_type": "markdown",
   "id": "66fa2405-58be-4335-85b3-2267c04cea12",
   "metadata": {},
   "source": [
    "# Decision Tree\n",
    "- Decision Trees are supervised Machine Learning technique where he data is split according to a certain conditin/parameter.\n",
    "- Lets assme we want to classify whether a customer could retire or not based on their savings and age. "
   ]
  },
  {
   "cell_type": "code",
   "execution_count": null,
   "id": "5e84760c-1027-42f7-9f07-c8b420ae51a1",
   "metadata": {},
   "outputs": [],
   "source": []
  }
 ],
 "metadata": {
  "kernelspec": {
   "display_name": "Python 3 (ipykernel)",
   "language": "python",
   "name": "python3"
  },
  "language_info": {
   "codemirror_mode": {
    "name": "ipython",
    "version": 3
   },
   "file_extension": ".py",
   "mimetype": "text/x-python",
   "name": "python",
   "nbconvert_exporter": "python",
   "pygments_lexer": "ipython3",
   "version": "3.9.7"
  }
 },
 "nbformat": 4,
 "nbformat_minor": 5
}
