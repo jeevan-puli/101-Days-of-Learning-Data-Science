{
 "cells": [
  {
   "cell_type": "markdown",
   "id": "a4f3ae3b-05c9-4df9-b996-cff513778302",
   "metadata": {},
   "source": [
    "# Random Forest: Intuition\n",
    "\n",
    "- Random Forest Calssifier is a type of ensemble algorithm.\n",
    "- It creates a set of decisin trees from randomly selected subset of training set.\n",
    "- It then combines votes from different decisio trees to decide the final class of the test object. "
   ]
  },
  {
   "cell_type": "code",
   "execution_count": null,
   "id": "8bf13b0c-9df2-41cc-93a1-163d7102edc9",
   "metadata": {},
   "outputs": [],
   "source": []
  }
 ],
 "metadata": {
  "kernelspec": {
   "display_name": "Python 3 (ipykernel)",
   "language": "python",
   "name": "python3"
  },
  "language_info": {
   "codemirror_mode": {
    "name": "ipython",
    "version": 3
   },
   "file_extension": ".py",
   "mimetype": "text/x-python",
   "name": "python",
   "nbconvert_exporter": "python",
   "pygments_lexer": "ipython3",
   "version": "3.9.7"
  }
 },
 "nbformat": 4,
 "nbformat_minor": 5
}
