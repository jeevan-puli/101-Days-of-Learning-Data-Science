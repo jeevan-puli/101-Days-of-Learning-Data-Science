{
 "cells": [
  {
   "cell_type": "markdown",
   "id": "adcd7584-d83d-4a76-bb56-3c6f8f993440",
   "metadata": {},
   "source": [
    "# Classification\n",
    "\n",
    "- Its supervised Machine Lerning approach.\n",
    "- Categorizing some unknown items into a discrete set of categories or classes.\n",
    "- The target attribute is a categorical variable. "
   ]
  },
  {
   "cell_type": "code",
   "execution_count": null,
   "id": "573d846c-838d-406a-9a00-e3e5280e13c2",
   "metadata": {},
   "outputs": [],
   "source": []
  },
  {
   "cell_type": "code",
   "execution_count": null,
   "id": "1abb914c-1064-42f5-a95a-0efa26fc896e",
   "metadata": {},
   "outputs": [],
   "source": []
  }
 ],
 "metadata": {
  "kernelspec": {
   "display_name": "Python 3 (ipykernel)",
   "language": "python",
   "name": "python3"
  },
  "language_info": {
   "codemirror_mode": {
    "name": "ipython",
    "version": 3
   },
   "file_extension": ".py",
   "mimetype": "text/x-python",
   "name": "python",
   "nbconvert_exporter": "python",
   "pygments_lexer": "ipython3",
   "version": "3.9.7"
  }
 },
 "nbformat": 4,
 "nbformat_minor": 5
}
