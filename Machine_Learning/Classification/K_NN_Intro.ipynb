{
 "cells": [
  {
   "cell_type": "markdown",
   "id": "9fc8b6b5-4d6b-4b74-a2f8-30bd624c062c",
   "metadata": {},
   "source": [
    "# K-NN Intuition\n",
    "- K Nearest Neighbors.\n",
    "\n",
    "## How KNN work\n",
    "- Step 1: Choose the number K of neighbors.\n",
    "- Step 2: Take the K nearest neighbors of the data point, according to the Euclidean distance.\n",
    "- Step 3: Among these K neighbors, count the number of data points in each category.\n",
    "- Step 4: Assign the new data point to the category where you count the most neighbors."
   ]
  },
  {
   "cell_type": "code",
   "execution_count": null,
   "id": "5553fc02-86c2-4b8c-9415-096cf709ccbf",
   "metadata": {},
   "outputs": [],
   "source": []
  }
 ],
 "metadata": {
  "kernelspec": {
   "display_name": "Python 3 (ipykernel)",
   "language": "python",
   "name": "python3"
  },
  "language_info": {
   "codemirror_mode": {
    "name": "ipython",
    "version": 3
   },
   "file_extension": ".py",
   "mimetype": "text/x-python",
   "name": "python",
   "nbconvert_exporter": "python",
   "pygments_lexer": "ipython3",
   "version": "3.9.7"
  }
 },
 "nbformat": 4,
 "nbformat_minor": 5
}
