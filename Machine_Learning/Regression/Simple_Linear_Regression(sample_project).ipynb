{
 "cells": [
  {
   "cell_type": "markdown",
   "id": "0c0ce8bd-7ff1-4db8-a8bc-8f734cb70420",
   "metadata": {},
   "source": [
    "## Step 1: Business Problem understanding. \n",
    "- Indentify relationship between total advertising spend and sales?\n",
    "- Our next ad campaign will have a total spend of $200,000. How many units do we expect to sell as a result of this?"
   ]
  },
  {
   "cell_type": "code",
   "execution_count": null,
   "id": "05613b74-621c-4746-a673-35f449b8cf4e",
   "metadata": {},
   "outputs": [],
   "source": [
    "import "
   ]
  }
 ],
 "metadata": {
  "kernelspec": {
   "display_name": "Python 3 (ipykernel)",
   "language": "python",
   "name": "python3"
  },
  "language_info": {
   "codemirror_mode": {
    "name": "ipython",
    "version": 3
   },
   "file_extension": ".py",
   "mimetype": "text/x-python",
   "name": "python",
   "nbconvert_exporter": "python",
   "pygments_lexer": "ipython3",
   "version": "3.9.7"
  }
 },
 "nbformat": 4,
 "nbformat_minor": 5
}
