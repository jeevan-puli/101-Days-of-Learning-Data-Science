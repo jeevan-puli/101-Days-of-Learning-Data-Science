{
 "cells": [
  {
   "cell_type": "markdown",
   "id": "6b226e12-1066-44ed-8aed-be6130ee0366",
   "metadata": {},
   "source": [
    "# Regression\n",
    "\n",
    "## Types of regression Models.\n",
    "- Simple Regression.\n",
    "- - Simple Linear Regression (y = f(x) = ax + b)\n",
    "  - Simple Non-Linear Regression. (Any other equation apart from ax+b is non-linear). \n",
    "- Multiple Regression.\n",
    "- - Multiple Linear Regression.\n",
    "  - Multiple Non-linear Regression.\n",
    " \n",
    "## Applications of regression. \n",
    "- Sales forecasting.\n",
    "- Satisfaction analysis.\n",
    "- Price estimation.\n",
    "- Employment income.\n",
    "\n",
    "## 1. Simple Linear Rgression: Intuition.\n",
    "- In simple linear regression, wepredict the value of one variable Y based on another variable X.\n",
    "- X is called teh independent variable and Y is callled the dependant variable.\n",
    "- Why simple? Because it examines relationship between two variables only.\n",
    "- Why linear? when the independent variable increases (or deceases), the dependent variable increases(or decreases) in a linear fashion.\n",
    "\n",
    "## Simple Linear Regression: How to obtain model parameters? Least Sum of Squares. \n",
    "- Least square fitting is a way to find the best fit curve or line for a set of points.\n",
    "- The sum of the squares of the offsets(residuals) are used to estimate the best fit curve or line.\n",
    "- Least squares method is used to obtain the coefficients m and b."
   ]
  },
  {
   "cell_type": "code",
   "execution_count": null,
   "id": "a5616fdd-ded8-4bc6-abd4-4b291e027ae3",
   "metadata": {},
   "outputs": [],
   "source": []
  }
 ],
 "metadata": {
  "kernelspec": {
   "display_name": "Python 3 (ipykernel)",
   "language": "python",
   "name": "python3"
  },
  "language_info": {
   "codemirror_mode": {
    "name": "ipython",
    "version": 3
   },
   "file_extension": ".py",
   "mimetype": "text/x-python",
   "name": "python",
   "nbconvert_exporter": "python",
   "pygments_lexer": "ipython3",
   "version": "3.9.7"
  }
 },
 "nbformat": 4,
 "nbformat_minor": 5
}
