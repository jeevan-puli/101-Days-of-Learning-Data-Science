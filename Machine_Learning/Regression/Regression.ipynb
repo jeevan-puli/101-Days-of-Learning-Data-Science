{
 "cells": [
  {
   "cell_type": "markdown",
   "id": "6b226e12-1066-44ed-8aed-be6130ee0366",
   "metadata": {},
   "source": [
    "# Regression\n",
    "\n",
    "## Types of regression Models.\n",
    "- Simple Regression.\n",
    "- - Simple Linear Regression (y = f(x) = ax + b)\n",
    "  - Simple Non-Linear Regression. (Any other equation apart from ax+b is non-linear). \n",
    "- Multiple Regression.\n",
    "- - Multiple Linear Regression.\n",
    "  - Multiple Non-linear Regression.\n",
    " \n",
    "## Applications of regression. \n",
    "- Sales forecasting.\n",
    "- Satisfaction analysis.\n",
    "- Price estimation.\n",
    "- Employment income.\n",
    "\n",
    "## 1. Simple Linear Rgression: Intuition.\n",
    "- In simple linear regression, wepredict the value of one variable Y based on another variable X.\n",
    "- X is called teh independent variable and Y is callled the dependant variable.\n",
    "- Why simple? Because it examines relationship between two variables only.\n",
    "- Why linear? when the independent variable increases (or deceases), the dependent variable increases(or decreases) in a linear fashion.\n",
    "\n",
    "## Simple Linear Regression: How to obtain model parameters? Least Sum of Squares. \n",
    "- Least square fitting is a way to find the best fit curve or line for a set of points.\n",
    "- The sum of the squares of the offsets(residuals) are used to estimate the best fit curve or line.\n",
    "- Least squares method is used to obtain the coefficients m and b.\n",
    "\n",
    "## Examples"
   ]
  },
  {
   "cell_type": "code",
   "execution_count": 1,
   "id": "a5616fdd-ded8-4bc6-abd4-4b291e027ae3",
   "metadata": {},
   "outputs": [],
   "source": [
    "import pandas as pd"
   ]
  },
  {
   "cell_type": "code",
   "execution_count": 2,
   "id": "8ef71d0a-1414-4c5a-8634-d2d237ee3cf9",
   "metadata": {},
   "outputs": [],
   "source": [
    "df = pd.DataFrame({\"X\":[1,2,3,4,5],\"Y\":[6,7,5,5,10]})"
   ]
  },
  {
   "cell_type": "code",
   "execution_count": 3,
   "id": "0cb5fe3f-bbf8-4321-9c46-d1d7c0e23fde",
   "metadata": {},
   "outputs": [
    {
     "data": {
      "text/html": [
       "<div>\n",
       "<style scoped>\n",
       "    .dataframe tbody tr th:only-of-type {\n",
       "        vertical-align: middle;\n",
       "    }\n",
       "\n",
       "    .dataframe tbody tr th {\n",
       "        vertical-align: top;\n",
       "    }\n",
       "\n",
       "    .dataframe thead th {\n",
       "        text-align: right;\n",
       "    }\n",
       "</style>\n",
       "<table border=\"1\" class=\"dataframe\">\n",
       "  <thead>\n",
       "    <tr style=\"text-align: right;\">\n",
       "      <th></th>\n",
       "      <th>X</th>\n",
       "      <th>Y</th>\n",
       "    </tr>\n",
       "  </thead>\n",
       "  <tbody>\n",
       "    <tr>\n",
       "      <th>0</th>\n",
       "      <td>1</td>\n",
       "      <td>6</td>\n",
       "    </tr>\n",
       "    <tr>\n",
       "      <th>1</th>\n",
       "      <td>2</td>\n",
       "      <td>7</td>\n",
       "    </tr>\n",
       "    <tr>\n",
       "      <th>2</th>\n",
       "      <td>3</td>\n",
       "      <td>5</td>\n",
       "    </tr>\n",
       "    <tr>\n",
       "      <th>3</th>\n",
       "      <td>4</td>\n",
       "      <td>5</td>\n",
       "    </tr>\n",
       "    <tr>\n",
       "      <th>4</th>\n",
       "      <td>5</td>\n",
       "      <td>10</td>\n",
       "    </tr>\n",
       "  </tbody>\n",
       "</table>\n",
       "</div>"
      ],
      "text/plain": [
       "   X   Y\n",
       "0  1   6\n",
       "1  2   7\n",
       "2  3   5\n",
       "3  4   5\n",
       "4  5  10"
      ]
     },
     "execution_count": 3,
     "metadata": {},
     "output_type": "execute_result"
    }
   ],
   "source": [
    "df"
   ]
  },
  {
   "cell_type": "code",
   "execution_count": 5,
   "id": "8f9a7fb5-7ff4-4276-a802-e43ac0062a7c",
   "metadata": {},
   "outputs": [
    {
     "data": {
      "text/plain": [
       "LinearRegression()"
      ]
     },
     "execution_count": 5,
     "metadata": {},
     "output_type": "execute_result"
    }
   ],
   "source": [
    "from sklearn.linear_model import LinearRegression\n",
    "\n",
    "model = LinearRegression()\n",
    "\n",
    "model.fit(df[[\"X\"]],df[\"Y\"])\n",
    "\n",
    "#model.fit will pridect best equation (also callled as mode) mx +c "
   ]
  },
  {
   "cell_type": "code",
   "execution_count": 16,
   "id": "e6dedddc-36ff-4238-9fef-81a3558d1518",
   "metadata": {},
   "outputs": [
    {
     "data": {
      "text/plain": [
       "4.8"
      ]
     },
     "execution_count": 16,
     "metadata": {},
     "output_type": "execute_result"
    }
   ],
   "source": [
    "#this is m part of y = mx + c equation. \n",
    "model.intercept_"
   ]
  },
  {
   "cell_type": "code",
   "execution_count": 15,
   "id": "e9ab718b-6568-438e-bd85-ac5999bcd61e",
   "metadata": {},
   "outputs": [
    {
     "data": {
      "text/plain": [
       "array([0.6])"
      ]
     },
     "execution_count": 15,
     "metadata": {},
     "output_type": "execute_result"
    }
   ],
   "source": [
    "#This is the c part of the equation. \n",
    "model.coef_"
   ]
  },
  {
   "cell_type": "code",
   "execution_count": 8,
   "id": "3dd6da86-649a-4de6-a122-1b1e82afa621",
   "metadata": {},
   "outputs": [
    {
     "data": {
      "text/plain": [
       "array([5.4, 6. , 6.6, 7.2, 7.8])"
      ]
     },
     "execution_count": 8,
     "metadata": {},
     "output_type": "execute_result"
    }
   ],
   "source": [
    "ypred = model.predict(df[[\"X\"]])\n",
    "ypred"
   ]
  },
  {
   "cell_type": "code",
   "execution_count": 9,
   "id": "2c792b05-b904-4ad7-afec-685ece7115c5",
   "metadata": {},
   "outputs": [
    {
     "data": {
      "text/plain": [
       "2.7199999999999998"
      ]
     },
     "execution_count": 9,
     "metadata": {},
     "output_type": "execute_result"
    }
   ],
   "source": [
    "from sklearn.metrics import mean_squared_error\n",
    "mse = mean_squared_error(df[\"Y\"],ypred)\n",
    "mse"
   ]
  },
  {
   "cell_type": "code",
   "execution_count": 11,
   "id": "fca24838-7812-45ca-a4cb-30ffda74fca5",
   "metadata": {},
   "outputs": [
    {
     "data": {
      "text/plain": [
       "1.649242250247064"
      ]
     },
     "execution_count": 11,
     "metadata": {},
     "output_type": "execute_result"
    }
   ],
   "source": [
    "import numpy as np\n",
    "np.sqrt(mse)"
   ]
  },
  {
   "cell_type": "code",
   "execution_count": 13,
   "id": "d121865d-409f-43e2-b91d-f75279d99ebe",
   "metadata": {},
   "outputs": [
    {
     "data": {
      "text/plain": [
       "0.2093023255813954"
      ]
     },
     "execution_count": 13,
     "metadata": {},
     "output_type": "execute_result"
    }
   ],
   "source": [
    "model.score(df[[\"X\"]],df[\"Y\"])"
   ]
  },
  {
   "cell_type": "code",
   "execution_count": 14,
   "id": "2b7dd8ec-c387-4d4f-a6a2-01291c0afa3d",
   "metadata": {},
   "outputs": [
    {
     "name": "stderr",
     "output_type": "stream",
     "text": [
      "/Users/puli/opt/anaconda3/lib/python3.9/site-packages/sklearn/base.py:450: UserWarning: X does not have valid feature names, but LinearRegression was fitted with feature names\n",
      "  warnings.warn(\n"
     ]
    },
    {
     "data": {
      "text/plain": [
       "array([8.4])"
      ]
     },
     "execution_count": 14,
     "metadata": {},
     "output_type": "execute_result"
    }
   ],
   "source": [
    "model.predict([[6]])"
   ]
  },
  {
   "cell_type": "markdown",
   "id": "d1437d4b-6c53-49b7-8142-3d84ec5b618c",
   "metadata": {},
   "source": [
    "# ------------------------\n",
    "\n",
    "# Steps involded in simple linear regression. "
   ]
  },
  {
   "cell_type": "code",
   "execution_count": 1,
   "id": "3f8d7229-9569-4eb2-8427-2fca4576e4e7",
   "metadata": {},
   "outputs": [],
   "source": [
    "import pandas as pd"
   ]
  },
  {
   "cell_type": "code",
   "execution_count": 2,
   "id": "52830db0-21a6-4a62-94c9-30b4b641dd7c",
   "metadata": {},
   "outputs": [
    {
     "data": {
      "text/html": [
       "<div>\n",
       "<style scoped>\n",
       "    .dataframe tbody tr th:only-of-type {\n",
       "        vertical-align: middle;\n",
       "    }\n",
       "\n",
       "    .dataframe tbody tr th {\n",
       "        vertical-align: top;\n",
       "    }\n",
       "\n",
       "    .dataframe thead th {\n",
       "        text-align: right;\n",
       "    }\n",
       "</style>\n",
       "<table border=\"1\" class=\"dataframe\">\n",
       "  <thead>\n",
       "    <tr style=\"text-align: right;\">\n",
       "      <th></th>\n",
       "      <th>X</th>\n",
       "      <th>Y</th>\n",
       "    </tr>\n",
       "  </thead>\n",
       "  <tbody>\n",
       "    <tr>\n",
       "      <th>0</th>\n",
       "      <td>1</td>\n",
       "      <td>6</td>\n",
       "    </tr>\n",
       "    <tr>\n",
       "      <th>1</th>\n",
       "      <td>2</td>\n",
       "      <td>7</td>\n",
       "    </tr>\n",
       "    <tr>\n",
       "      <th>2</th>\n",
       "      <td>3</td>\n",
       "      <td>8</td>\n",
       "    </tr>\n",
       "    <tr>\n",
       "      <th>3</th>\n",
       "      <td>4</td>\n",
       "      <td>9</td>\n",
       "    </tr>\n",
       "    <tr>\n",
       "      <th>4</th>\n",
       "      <td>5</td>\n",
       "      <td>10</td>\n",
       "    </tr>\n",
       "  </tbody>\n",
       "</table>\n",
       "</div>"
      ],
      "text/plain": [
       "   X   Y\n",
       "0  1   6\n",
       "1  2   7\n",
       "2  3   8\n",
       "3  4   9\n",
       "4  5  10"
      ]
     },
     "execution_count": 2,
     "metadata": {},
     "output_type": "execute_result"
    }
   ],
   "source": [
    "df = pd.DataFrame({\"X\":[1,2,3,4,5],\"Y\":[6,7,8,9,10]})\n",
    "\n",
    "df"
   ]
  },
  {
   "cell_type": "markdown",
   "id": "1d504caf-257c-47e2-8790-84c0afc33c94",
   "metadata": {},
   "source": [
    "###  --Modeling--"
   ]
  },
  {
   "cell_type": "code",
   "execution_count": 12,
   "id": "6fef7af1-6abd-4c42-8c1d-351e589de48f",
   "metadata": {},
   "outputs": [],
   "source": [
    "#Step 1: Split the data into test and train. \n",
    "x = df[[\"X\"]]\n",
    "y = df[\"Y\"]"
   ]
  },
  {
   "cell_type": "code",
   "execution_count": 13,
   "id": "39221dbe-9611-48c6-be35-bf59359da93e",
   "metadata": {},
   "outputs": [
    {
     "data": {
      "text/html": [
       "<div>\n",
       "<style scoped>\n",
       "    .dataframe tbody tr th:only-of-type {\n",
       "        vertical-align: middle;\n",
       "    }\n",
       "\n",
       "    .dataframe tbody tr th {\n",
       "        vertical-align: top;\n",
       "    }\n",
       "\n",
       "    .dataframe thead th {\n",
       "        text-align: right;\n",
       "    }\n",
       "</style>\n",
       "<table border=\"1\" class=\"dataframe\">\n",
       "  <thead>\n",
       "    <tr style=\"text-align: right;\">\n",
       "      <th></th>\n",
       "      <th>X</th>\n",
       "    </tr>\n",
       "  </thead>\n",
       "  <tbody>\n",
       "    <tr>\n",
       "      <th>0</th>\n",
       "      <td>1</td>\n",
       "    </tr>\n",
       "    <tr>\n",
       "      <th>1</th>\n",
       "      <td>2</td>\n",
       "    </tr>\n",
       "    <tr>\n",
       "      <th>2</th>\n",
       "      <td>3</td>\n",
       "    </tr>\n",
       "    <tr>\n",
       "      <th>3</th>\n",
       "      <td>4</td>\n",
       "    </tr>\n",
       "    <tr>\n",
       "      <th>4</th>\n",
       "      <td>5</td>\n",
       "    </tr>\n",
       "  </tbody>\n",
       "</table>\n",
       "</div>"
      ],
      "text/plain": [
       "   X\n",
       "0  1\n",
       "1  2\n",
       "2  3\n",
       "3  4\n",
       "4  5"
      ]
     },
     "execution_count": 13,
     "metadata": {},
     "output_type": "execute_result"
    }
   ],
   "source": [
    "x"
   ]
  },
  {
   "cell_type": "code",
   "execution_count": 14,
   "id": "ad5bdda8-0dbb-4de9-906b-2b7cb67a8032",
   "metadata": {},
   "outputs": [
    {
     "data": {
      "text/plain": [
       "0     6\n",
       "1     7\n",
       "2     8\n",
       "3     9\n",
       "4    10\n",
       "Name: Y, dtype: int64"
      ]
     },
     "execution_count": 14,
     "metadata": {},
     "output_type": "execute_result"
    }
   ],
   "source": [
    "y"
   ]
  },
  {
   "cell_type": "code",
   "execution_count": 23,
   "id": "4a8c0830-37d6-492e-85f5-18837a323c78",
   "metadata": {},
   "outputs": [
    {
     "data": {
      "text/html": [
       "<div>\n",
       "<style scoped>\n",
       "    .dataframe tbody tr th:only-of-type {\n",
       "        vertical-align: middle;\n",
       "    }\n",
       "\n",
       "    .dataframe tbody tr th {\n",
       "        vertical-align: top;\n",
       "    }\n",
       "\n",
       "    .dataframe thead th {\n",
       "        text-align: right;\n",
       "    }\n",
       "</style>\n",
       "<table border=\"1\" class=\"dataframe\">\n",
       "  <thead>\n",
       "    <tr style=\"text-align: right;\">\n",
       "      <th></th>\n",
       "      <th>X</th>\n",
       "    </tr>\n",
       "  </thead>\n",
       "  <tbody>\n",
       "    <tr>\n",
       "      <th>2</th>\n",
       "      <td>3</td>\n",
       "    </tr>\n",
       "    <tr>\n",
       "      <th>0</th>\n",
       "      <td>1</td>\n",
       "    </tr>\n",
       "    <tr>\n",
       "      <th>1</th>\n",
       "      <td>2</td>\n",
       "    </tr>\n",
       "    <tr>\n",
       "      <th>3</th>\n",
       "      <td>4</td>\n",
       "    </tr>\n",
       "  </tbody>\n",
       "</table>\n",
       "</div>"
      ],
      "text/plain": [
       "   X\n",
       "2  3\n",
       "0  1\n",
       "1  2\n",
       "3  4"
      ]
     },
     "execution_count": 23,
     "metadata": {},
     "output_type": "execute_result"
    }
   ],
   "source": [
    "#train_test_split is the function from sklearn that we need to use to split the data into train and test. \n",
    "from sklearn.model_selection import train_test_split\n",
    "x_train, x_test, y_train, y_test = train_test_split(x,y,test_size=0.2)\n",
    "\n",
    "x_train"
   ]
  },
  {
   "cell_type": "code",
   "execution_count": 24,
   "id": "acd94ae2-22e9-4dff-8403-2442aba737d7",
   "metadata": {},
   "outputs": [
    {
     "data": {
      "text/html": [
       "<div>\n",
       "<style scoped>\n",
       "    .dataframe tbody tr th:only-of-type {\n",
       "        vertical-align: middle;\n",
       "    }\n",
       "\n",
       "    .dataframe tbody tr th {\n",
       "        vertical-align: top;\n",
       "    }\n",
       "\n",
       "    .dataframe thead th {\n",
       "        text-align: right;\n",
       "    }\n",
       "</style>\n",
       "<table border=\"1\" class=\"dataframe\">\n",
       "  <thead>\n",
       "    <tr style=\"text-align: right;\">\n",
       "      <th></th>\n",
       "      <th>X</th>\n",
       "    </tr>\n",
       "  </thead>\n",
       "  <tbody>\n",
       "    <tr>\n",
       "      <th>4</th>\n",
       "      <td>5</td>\n",
       "    </tr>\n",
       "  </tbody>\n",
       "</table>\n",
       "</div>"
      ],
      "text/plain": [
       "   X\n",
       "4  5"
      ]
     },
     "execution_count": 24,
     "metadata": {},
     "output_type": "execute_result"
    }
   ],
   "source": [
    "x_test"
   ]
  },
  {
   "cell_type": "code",
   "execution_count": 25,
   "id": "9ade7062-cfbe-4c41-95fc-57846f37bf5f",
   "metadata": {},
   "outputs": [
    {
     "data": {
      "text/plain": [
       "2    8\n",
       "0    6\n",
       "1    7\n",
       "3    9\n",
       "Name: Y, dtype: int64"
      ]
     },
     "execution_count": 25,
     "metadata": {},
     "output_type": "execute_result"
    }
   ],
   "source": [
    "y_train"
   ]
  },
  {
   "cell_type": "code",
   "execution_count": 26,
   "id": "c957bad9-7386-4228-a6e2-fbbdeabb6387",
   "metadata": {},
   "outputs": [
    {
     "data": {
      "text/plain": [
       "4    10\n",
       "Name: Y, dtype: int64"
      ]
     },
     "execution_count": 26,
     "metadata": {},
     "output_type": "execute_result"
    }
   ],
   "source": [
    "y_test"
   ]
  },
  {
   "cell_type": "code",
   "execution_count": 27,
   "id": "2eea039d-6d22-4689-827b-95f6957858ce",
   "metadata": {},
   "outputs": [
    {
     "data": {
      "text/plain": [
       "LinearRegression()"
      ]
     },
     "execution_count": 27,
     "metadata": {},
     "output_type": "execute_result"
    }
   ],
   "source": [
    "#Step 2: Apply Al on train data to find the equation (fit the model)\n",
    "\n",
    "from sklearn.linear_model import LinearRegression\n",
    "\n",
    "model = LinearRegression()\n",
    "\n",
    "model.fit(x_train,y_train)"
   ]
  },
  {
   "cell_type": "code",
   "execution_count": 28,
   "id": "9d079ec9-7578-48f4-9f0b-aa397a39a9f6",
   "metadata": {},
   "outputs": [
    {
     "data": {
      "text/plain": [
       "array([1.])"
      ]
     },
     "execution_count": 28,
     "metadata": {},
     "output_type": "execute_result"
    }
   ],
   "source": [
    "model.coef_"
   ]
  },
  {
   "cell_type": "code",
   "execution_count": 29,
   "id": "a0ade691-0980-4337-ae6c-454e080ee2b7",
   "metadata": {},
   "outputs": [
    {
     "data": {
      "text/plain": [
       "5.0"
      ]
     },
     "execution_count": 29,
     "metadata": {},
     "output_type": "execute_result"
    }
   ],
   "source": [
    "model.intercept_"
   ]
  },
  {
   "cell_type": "markdown",
   "id": "17236cf3-239a-49a3-8e8e-8439670dc3e1",
   "metadata": {},
   "source": [
    "###  --Prediction--"
   ]
  },
  {
   "cell_type": "code",
   "execution_count": 34,
   "id": "3be2151c-ee19-4b11-adbe-5fb983b28680",
   "metadata": {},
   "outputs": [
    {
     "data": {
      "text/plain": [
       "array([8., 6., 7., 9.])"
      ]
     },
     "execution_count": 34,
     "metadata": {},
     "output_type": "execute_result"
    }
   ],
   "source": [
    "#Step 3: predect the ypred_train on train data. \n",
    "\n",
    "ypred_train = model.predict(x_train)\n",
    "\n",
    "ypred_train"
   ]
  },
  {
   "cell_type": "code",
   "execution_count": 35,
   "id": "f3920045-4758-4ab4-9629-a5515f993934",
   "metadata": {},
   "outputs": [
    {
     "data": {
      "text/plain": [
       "array([10.])"
      ]
     },
     "execution_count": 35,
     "metadata": {},
     "output_type": "execute_result"
    }
   ],
   "source": [
    "#Step 4: predect the ypred_test on test data. \n",
    "\n",
    "ypred_test = model.predict(x_test)\n",
    "\n",
    "ypred_test"
   ]
  },
  {
   "cell_type": "markdown",
   "id": "122b6eae-b97a-43a9-bed0-7e3b874a9927",
   "metadata": {},
   "source": [
    "###  --Evaluation--"
   ]
  },
  {
   "cell_type": "code",
   "execution_count": 41,
   "id": "41ece4dd-f9a8-4705-96ac-78c0d72d1d5e",
   "metadata": {},
   "outputs": [
    {
     "name": "stdout",
     "output_type": "stream",
     "text": [
      "1.0\n",
      "nan\n"
     ]
    },
    {
     "name": "stderr",
     "output_type": "stream",
     "text": [
      "/Users/puli/opt/anaconda3/lib/python3.9/site-packages/sklearn/metrics/_regression.py:796: UndefinedMetricWarning: R^2 score is not well-defined with less than two samples.\n",
      "  warnings.warn(msg, UndefinedMetricWarning)\n"
     ]
    }
   ],
   "source": [
    "#Step 5:: Calculate R2_test, R2_train\n",
    "\n",
    "Rsqr_train = model.score(x_train,y_train)\n",
    "\n",
    "print(Rsqr_train)\n",
    "\n",
    "Rsqr_train = model.score(x_test,y_test)\n",
    "\n",
    "print(Rsqr_train)  # this will through error because 0/0 usually this will not happen but our data set is small. "
   ]
  },
  {
   "cell_type": "markdown",
   "id": "e55c3054-47fe-4413-bb5b-65cc1d93362e",
   "metadata": {},
   "source": [
    "###  --Modeal Selection--\n",
    "\n",
    "Following three condition SHOULD BE satisifed to say the model is good or bad.\n",
    "- Train Accuracy = Test Accuracy (+- 5%)\n",
    "- Cross Validation Score = Test Accuracy.\n",
    "- Client Requirement (Example:: If client ask for 85% accurate model). "
   ]
  },
  {
   "cell_type": "markdown",
   "id": "490c1993-6734-4041-8263-bc8bca65018d",
   "metadata": {},
   "source": [
    "# Regularization\n",
    "- Regularization seeks to solve a few common model issues by:\n",
    "- - Minimizing model complexity.\n",
    "  - Penalizing the loos function (Penalizing error). \n",
    "  - Reducing model overfitting (add more bias to reduce model variance).\n",
    "- as a way to reduce model overfitting and variance.\n",
    "- - Requires some additional bias\n",
    "  - Requires a search for optimal penalty hyperparameter.\n",
    " \n",
    "## Three main type of Regularization. \n",
    "- L1 Regularization.\n",
    "- - LASSO Regression.\n",
    "- L2 Regularization.\n",
    "- - Ridge Regression.\n",
    "- Combining L1 and L2\n",
    "- - Elastic Net."
   ]
  },
  {
   "cell_type": "code",
   "execution_count": null,
   "id": "8a799829-d75f-420d-ac06-30511dd8adab",
   "metadata": {},
   "outputs": [],
   "source": []
  }
 ],
 "metadata": {
  "kernelspec": {
   "display_name": "Python 3 (ipykernel)",
   "language": "python",
   "name": "python3"
  },
  "language_info": {
   "codemirror_mode": {
    "name": "ipython",
    "version": 3
   },
   "file_extension": ".py",
   "mimetype": "text/x-python",
   "name": "python",
   "nbconvert_exporter": "python",
   "pygments_lexer": "ipython3",
   "version": "3.9.7"
  }
 },
 "nbformat": 4,
 "nbformat_minor": 5
}
