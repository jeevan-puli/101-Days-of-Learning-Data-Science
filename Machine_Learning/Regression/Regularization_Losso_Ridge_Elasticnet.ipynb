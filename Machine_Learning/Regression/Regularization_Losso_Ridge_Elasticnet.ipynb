{
 "cells": [
  {
   "cell_type": "markdown",
   "id": "29b24f4c-273c-43bb-a45b-f67338002d80",
   "metadata": {},
   "source": [
    "# Multiple Linear Regression.\n",
    "\n",
    "## Step 1: Business Problem Understanding. \n",
    "- What is the relationship between each advertising channel (TV,Radio,Newspaper) and sales?"
   ]
  },
  {
   "cell_type": "code",
   "execution_count": 1,
   "id": "b5a448d7-be1a-4115-896e-cd91ef6118d2",
   "metadata": {},
   "outputs": [],
   "source": [
    "import numpy as np\n",
    "import pandas as pd\n",
    "\n",
    "import matplotlib.pyplot as plt\n",
    "import seaborn as sns"
   ]
  }
 ],
 "metadata": {
  "kernelspec": {
   "display_name": "Python 3 (ipykernel)",
   "language": "python",
   "name": "python3"
  },
  "language_info": {
   "codemirror_mode": {
    "name": "ipython",
    "version": 3
   },
   "file_extension": ".py",
   "mimetype": "text/x-python",
   "name": "python",
   "nbconvert_exporter": "python",
   "pygments_lexer": "ipython3",
   "version": "3.9.7"
  }
 },
 "nbformat": 4,
 "nbformat_minor": 5
}
