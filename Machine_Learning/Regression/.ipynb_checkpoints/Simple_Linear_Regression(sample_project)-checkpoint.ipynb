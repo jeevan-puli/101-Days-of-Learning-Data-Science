{
 "cells": [
  {
   "cell_type": "markdown",
   "id": "0c0ce8bd-7ff1-4db8-a8bc-8f734cb70420",
   "metadata": {},
   "source": [
    "# Step 1: Business Problem understanding. \n",
    "- Indentify relationship between total advertising spend and sales with 80% confidence.\n",
    "- Our next ad campaign will have a total spend of $200,000. How many units do we expect to sell as a result of this?\n",
    "\n",
    "#### Note:: This is base line model, no outliers are treated. "
   ]
  },
  {
   "cell_type": "code",
   "execution_count": 16,
   "id": "05613b74-621c-4746-a673-35f449b8cf4e",
   "metadata": {},
   "outputs": [],
   "source": [
    "import numpy as np\n",
    "import pandas as pd\n",
    "\n",
    "import matplotlib.pyplot as plt\n",
    "\n",
    "%matplotlib inline\n",
    "\n",
    "import seaborn as sns"
   ]
  },
  {
   "cell_type": "markdown",
   "id": "8b5d028b-82c0-4ef4-80d1-885cff4369fd",
   "metadata": {},
   "source": [
    "# Step 2: Data Understanding. \n",
    "## 2.1 Data Collection"
   ]
  },
  {
   "cell_type": "code",
   "execution_count": 5,
   "id": "97a6ccec-4ba7-4bab-8b7d-acd45569d476",
   "metadata": {},
   "outputs": [
    {
     "data": {
      "text/html": [
       "<div>\n",
       "<style scoped>\n",
       "    .dataframe tbody tr th:only-of-type {\n",
       "        vertical-align: middle;\n",
       "    }\n",
       "\n",
       "    .dataframe tbody tr th {\n",
       "        vertical-align: top;\n",
       "    }\n",
       "\n",
       "    .dataframe thead th {\n",
       "        text-align: right;\n",
       "    }\n",
       "</style>\n",
       "<table border=\"1\" class=\"dataframe\">\n",
       "  <thead>\n",
       "    <tr style=\"text-align: right;\">\n",
       "      <th></th>\n",
       "      <th>TV</th>\n",
       "      <th>radio</th>\n",
       "      <th>newspaper</th>\n",
       "      <th>sales</th>\n",
       "    </tr>\n",
       "  </thead>\n",
       "  <tbody>\n",
       "    <tr>\n",
       "      <th>0</th>\n",
       "      <td>230100</td>\n",
       "      <td>37800</td>\n",
       "      <td>69200</td>\n",
       "      <td>22100</td>\n",
       "    </tr>\n",
       "    <tr>\n",
       "      <th>1</th>\n",
       "      <td>44500</td>\n",
       "      <td>39300</td>\n",
       "      <td>45100</td>\n",
       "      <td>10400</td>\n",
       "    </tr>\n",
       "    <tr>\n",
       "      <th>2</th>\n",
       "      <td>17200</td>\n",
       "      <td>45900</td>\n",
       "      <td>69300</td>\n",
       "      <td>9300</td>\n",
       "    </tr>\n",
       "    <tr>\n",
       "      <th>3</th>\n",
       "      <td>151500</td>\n",
       "      <td>41300</td>\n",
       "      <td>58500</td>\n",
       "      <td>18500</td>\n",
       "    </tr>\n",
       "    <tr>\n",
       "      <th>4</th>\n",
       "      <td>180800</td>\n",
       "      <td>10800</td>\n",
       "      <td>58400</td>\n",
       "      <td>12900</td>\n",
       "    </tr>\n",
       "  </tbody>\n",
       "</table>\n",
       "</div>"
      ],
      "text/plain": [
       "       TV  radio  newspaper  sales\n",
       "0  230100  37800      69200  22100\n",
       "1   44500  39300      45100  10400\n",
       "2   17200  45900      69300   9300\n",
       "3  151500  41300      58500  18500\n",
       "4  180800  10800      58400  12900"
      ]
     },
     "execution_count": 5,
     "metadata": {},
     "output_type": "execute_result"
    }
   ],
   "source": [
    "df = pd.read_csv(\"Advertising.csv\")\n",
    "\n",
    "df.head()"
   ]
  },
  {
   "cell_type": "code",
   "execution_count": 6,
   "id": "2fd1bcf7-4d65-4187-b919-02ce7791b4a0",
   "metadata": {},
   "outputs": [
    {
     "name": "stdout",
     "output_type": "stream",
     "text": [
      "<class 'pandas.core.frame.DataFrame'>\n",
      "RangeIndex: 200 entries, 0 to 199\n",
      "Data columns (total 4 columns):\n",
      " #   Column     Non-Null Count  Dtype\n",
      "---  ------     --------------  -----\n",
      " 0   TV         200 non-null    int64\n",
      " 1   radio      200 non-null    int64\n",
      " 2   newspaper  200 non-null    int64\n",
      " 3   sales      200 non-null    int64\n",
      "dtypes: int64(4)\n",
      "memory usage: 6.4 KB\n"
     ]
    }
   ],
   "source": [
    "df.info()"
   ]
  },
  {
   "cell_type": "markdown",
   "id": "3938a86d-6038-4757-a52d-40729e75ba9a",
   "metadata": {},
   "source": [
    "- Since the question is only asking what is relation between total spend vs sales. Lets combine money spend on different platform into one. "
   ]
  },
  {
   "cell_type": "code",
   "execution_count": 8,
   "id": "b6a165fd-5158-4611-9622-d27bf8a6c7d9",
   "metadata": {},
   "outputs": [
    {
     "data": {
      "text/html": [
       "<div>\n",
       "<style scoped>\n",
       "    .dataframe tbody tr th:only-of-type {\n",
       "        vertical-align: middle;\n",
       "    }\n",
       "\n",
       "    .dataframe tbody tr th {\n",
       "        vertical-align: top;\n",
       "    }\n",
       "\n",
       "    .dataframe thead th {\n",
       "        text-align: right;\n",
       "    }\n",
       "</style>\n",
       "<table border=\"1\" class=\"dataframe\">\n",
       "  <thead>\n",
       "    <tr style=\"text-align: right;\">\n",
       "      <th></th>\n",
       "      <th>TV</th>\n",
       "      <th>radio</th>\n",
       "      <th>newspaper</th>\n",
       "      <th>sales</th>\n",
       "      <th>total_spend</th>\n",
       "    </tr>\n",
       "  </thead>\n",
       "  <tbody>\n",
       "    <tr>\n",
       "      <th>0</th>\n",
       "      <td>230100</td>\n",
       "      <td>37800</td>\n",
       "      <td>69200</td>\n",
       "      <td>22100</td>\n",
       "      <td>337100</td>\n",
       "    </tr>\n",
       "    <tr>\n",
       "      <th>1</th>\n",
       "      <td>44500</td>\n",
       "      <td>39300</td>\n",
       "      <td>45100</td>\n",
       "      <td>10400</td>\n",
       "      <td>128900</td>\n",
       "    </tr>\n",
       "    <tr>\n",
       "      <th>2</th>\n",
       "      <td>17200</td>\n",
       "      <td>45900</td>\n",
       "      <td>69300</td>\n",
       "      <td>9300</td>\n",
       "      <td>132400</td>\n",
       "    </tr>\n",
       "    <tr>\n",
       "      <th>3</th>\n",
       "      <td>151500</td>\n",
       "      <td>41300</td>\n",
       "      <td>58500</td>\n",
       "      <td>18500</td>\n",
       "      <td>251300</td>\n",
       "    </tr>\n",
       "    <tr>\n",
       "      <th>4</th>\n",
       "      <td>180800</td>\n",
       "      <td>10800</td>\n",
       "      <td>58400</td>\n",
       "      <td>12900</td>\n",
       "      <td>250000</td>\n",
       "    </tr>\n",
       "  </tbody>\n",
       "</table>\n",
       "</div>"
      ],
      "text/plain": [
       "       TV  radio  newspaper  sales  total_spend\n",
       "0  230100  37800      69200  22100       337100\n",
       "1   44500  39300      45100  10400       128900\n",
       "2   17200  45900      69300   9300       132400\n",
       "3  151500  41300      58500  18500       251300\n",
       "4  180800  10800      58400  12900       250000"
      ]
     },
     "execution_count": 8,
     "metadata": {},
     "output_type": "execute_result"
    }
   ],
   "source": [
    "df[\"total_spend\"] = df[\"TV\"]+df[\"radio\"]+df[\"newspaper\"]\n",
    "df.head()"
   ]
  },
  {
   "cell_type": "code",
   "execution_count": 9,
   "id": "a57cb5b4-517e-4902-8983-594b72e8aaf4",
   "metadata": {},
   "outputs": [
    {
     "data": {
      "text/html": [
       "<div>\n",
       "<style scoped>\n",
       "    .dataframe tbody tr th:only-of-type {\n",
       "        vertical-align: middle;\n",
       "    }\n",
       "\n",
       "    .dataframe tbody tr th {\n",
       "        vertical-align: top;\n",
       "    }\n",
       "\n",
       "    .dataframe thead th {\n",
       "        text-align: right;\n",
       "    }\n",
       "</style>\n",
       "<table border=\"1\" class=\"dataframe\">\n",
       "  <thead>\n",
       "    <tr style=\"text-align: right;\">\n",
       "      <th></th>\n",
       "      <th>sales</th>\n",
       "      <th>total_spend</th>\n",
       "    </tr>\n",
       "  </thead>\n",
       "  <tbody>\n",
       "    <tr>\n",
       "      <th>0</th>\n",
       "      <td>22100</td>\n",
       "      <td>337100</td>\n",
       "    </tr>\n",
       "    <tr>\n",
       "      <th>1</th>\n",
       "      <td>10400</td>\n",
       "      <td>128900</td>\n",
       "    </tr>\n",
       "    <tr>\n",
       "      <th>2</th>\n",
       "      <td>9300</td>\n",
       "      <td>132400</td>\n",
       "    </tr>\n",
       "    <tr>\n",
       "      <th>3</th>\n",
       "      <td>18500</td>\n",
       "      <td>251300</td>\n",
       "    </tr>\n",
       "    <tr>\n",
       "      <th>4</th>\n",
       "      <td>12900</td>\n",
       "      <td>250000</td>\n",
       "    </tr>\n",
       "  </tbody>\n",
       "</table>\n",
       "</div>"
      ],
      "text/plain": [
       "   sales  total_spend\n",
       "0  22100       337100\n",
       "1  10400       128900\n",
       "2   9300       132400\n",
       "3  18500       251300\n",
       "4  12900       250000"
      ]
     },
     "execution_count": 9,
     "metadata": {},
     "output_type": "execute_result"
    }
   ],
   "source": [
    "#Since we no longer need unused columns lets drop them. \n",
    "\n",
    "df.drop(columns=[\"TV\",\"radio\",\"newspaper\"],inplace = True)\n",
    "df.head()"
   ]
  },
  {
   "cell_type": "markdown",
   "id": "406848ff-d074-41d3-a3cd-b013915d9849",
   "metadata": {},
   "source": [
    "# Step 3: Data Preprocessing\n",
    "\n",
    "## 3.1: Expolatory Data Analysis(EDA)\n",
    "on the basis of this data, how should you spend advertising money in the future? These general questions might lead you to more specific questions:\n",
    "\n",
    "1. Is there a relationship between ads and sales.\n",
    "2. How strong is the releationship?\n",
    "3. Given ad spending, can sales be predicted?"
   ]
  },
  {
   "cell_type": "code",
   "execution_count": 10,
   "id": "b088036b-8064-457c-a945-f53973344741",
   "metadata": {},
   "outputs": [
    {
     "data": {
      "text/html": [
       "<div>\n",
       "<style scoped>\n",
       "    .dataframe tbody tr th:only-of-type {\n",
       "        vertical-align: middle;\n",
       "    }\n",
       "\n",
       "    .dataframe tbody tr th {\n",
       "        vertical-align: top;\n",
       "    }\n",
       "\n",
       "    .dataframe thead th {\n",
       "        text-align: right;\n",
       "    }\n",
       "</style>\n",
       "<table border=\"1\" class=\"dataframe\">\n",
       "  <thead>\n",
       "    <tr style=\"text-align: right;\">\n",
       "      <th></th>\n",
       "      <th>sales</th>\n",
       "      <th>total_spend</th>\n",
       "    </tr>\n",
       "  </thead>\n",
       "  <tbody>\n",
       "    <tr>\n",
       "      <th>count</th>\n",
       "      <td>200.000000</td>\n",
       "      <td>200.000000</td>\n",
       "    </tr>\n",
       "    <tr>\n",
       "      <th>mean</th>\n",
       "      <td>14022.500000</td>\n",
       "      <td>200860.500000</td>\n",
       "    </tr>\n",
       "    <tr>\n",
       "      <th>std</th>\n",
       "      <td>5217.456566</td>\n",
       "      <td>92985.180587</td>\n",
       "    </tr>\n",
       "    <tr>\n",
       "      <th>min</th>\n",
       "      <td>1600.000000</td>\n",
       "      <td>11700.000000</td>\n",
       "    </tr>\n",
       "    <tr>\n",
       "      <th>25%</th>\n",
       "      <td>10375.000000</td>\n",
       "      <td>123550.000000</td>\n",
       "    </tr>\n",
       "    <tr>\n",
       "      <th>50%</th>\n",
       "      <td>12900.000000</td>\n",
       "      <td>207350.000000</td>\n",
       "    </tr>\n",
       "    <tr>\n",
       "      <th>75%</th>\n",
       "      <td>17400.000000</td>\n",
       "      <td>281125.000000</td>\n",
       "    </tr>\n",
       "    <tr>\n",
       "      <th>max</th>\n",
       "      <td>27000.000000</td>\n",
       "      <td>433600.000000</td>\n",
       "    </tr>\n",
       "  </tbody>\n",
       "</table>\n",
       "</div>"
      ],
      "text/plain": [
       "              sales    total_spend\n",
       "count    200.000000     200.000000\n",
       "mean   14022.500000  200860.500000\n",
       "std     5217.456566   92985.180587\n",
       "min     1600.000000   11700.000000\n",
       "25%    10375.000000  123550.000000\n",
       "50%    12900.000000  207350.000000\n",
       "75%    17400.000000  281125.000000\n",
       "max    27000.000000  433600.000000"
      ]
     },
     "execution_count": 10,
     "metadata": {},
     "output_type": "execute_result"
    }
   ],
   "source": [
    "df.describe()"
   ]
  },
  {
   "cell_type": "code",
   "execution_count": 11,
   "id": "9e95f07d-dfd1-4d64-89b7-e383f4798186",
   "metadata": {},
   "outputs": [
    {
     "data": {
      "image/png": "[encoded data removed]",
      "text/plain": [
       "<Figure size 500x500 with 6 Axes>"
      ]
     },
     "metadata": {},
     "output_type": "display_data"
    }
   ],
   "source": [
    "sns.pairplot(df)\n",
    "plt.show()"
   ]
  },
  {
   "cell_type": "code",
   "execution_count": 12,
   "id": "3d274aa1-f6a2-47d9-86b8-939d8c4b7fb7",
   "metadata": {},
   "outputs": [
    {
     "data": {
      "text/html": [
       "<div>\n",
       "<style scoped>\n",
       "    .dataframe tbody tr th:only-of-type {\n",
       "        vertical-align: middle;\n",
       "    }\n",
       "\n",
       "    .dataframe tbody tr th {\n",
       "        vertical-align: top;\n",
       "    }\n",
       "\n",
       "    .dataframe thead th {\n",
       "        text-align: right;\n",
       "    }\n",
       "</style>\n",
       "<table border=\"1\" class=\"dataframe\">\n",
       "  <thead>\n",
       "    <tr style=\"text-align: right;\">\n",
       "      <th></th>\n",
       "      <th>sales</th>\n",
       "      <th>total_spend</th>\n",
       "    </tr>\n",
       "  </thead>\n",
       "  <tbody>\n",
       "    <tr>\n",
       "      <th>sales</th>\n",
       "      <td>1.000000</td>\n",
       "      <td>0.867712</td>\n",
       "    </tr>\n",
       "    <tr>\n",
       "      <th>total_spend</th>\n",
       "      <td>0.867712</td>\n",
       "      <td>1.000000</td>\n",
       "    </tr>\n",
       "  </tbody>\n",
       "</table>\n",
       "</div>"
      ],
      "text/plain": [
       "                sales  total_spend\n",
       "sales        1.000000     0.867712\n",
       "total_spend  0.867712     1.000000"
      ]
     },
     "execution_count": 12,
     "metadata": {},
     "output_type": "execute_result"
    }
   ],
   "source": [
    "df.corr()"
   ]
  },
  {
   "cell_type": "markdown",
   "id": "0fa8dc7b-2d0d-46ac-bdf4-785a32ae6c1c",
   "metadata": {},
   "source": [
    "## 3.2: Data Cleaning."
   ]
  },
  {
   "cell_type": "code",
   "execution_count": 14,
   "id": "650fe644-41dc-4a09-abd3-6ef2d3d49d60",
   "metadata": {},
   "outputs": [
    {
     "data": {
      "text/plain": [
       "sales          0\n",
       "total_spend    0\n",
       "dtype: int64"
      ]
     },
     "execution_count": 14,
     "metadata": {},
     "output_type": "execute_result"
    }
   ],
   "source": [
    "df.isnull().sum()\n",
    "\n",
    "#basic check null values, in this example we do not have any missing values. "
   ]
  },
  {
   "cell_type": "markdown",
   "id": "982c3f09-00d2-4ae7-877b-8a7ba96e2b8f",
   "metadata": {},
   "source": [
    "## 3.3: Data Wrangling"
   ]
  },
  {
   "cell_type": "code",
   "execution_count": 15,
   "id": "55f30e26-62fb-4d5a-9f0a-05e7208de061",
   "metadata": {},
   "outputs": [],
   "source": [
    "#no encoding is required. "
   ]
  },
  {
   "cell_type": "markdown",
   "id": "46c6342b-9dbd-47a1-bcb0-16e740dc2114",
   "metadata": {},
   "source": [
    "## 3.4: Train-Test Split"
   ]
  },
  {
   "cell_type": "code",
   "execution_count": 18,
   "id": "da30608a-63be-43ff-a3d3-498f5ea7c7b1",
   "metadata": {},
   "outputs": [
    {
     "name": "stdout",
     "output_type": "stream",
     "text": [
      "     sales\n",
      "0    22100\n",
      "1    10400\n",
      "2     9300\n",
      "3    18500\n",
      "4    12900\n",
      "..     ...\n",
      "195   7600\n",
      "196   9700\n",
      "197  12800\n",
      "198  25500\n",
      "199  13400\n",
      "\n",
      "[200 rows x 1 columns]\n",
      "0      337100\n",
      "1      128900\n",
      "2      132400\n",
      "3      251300\n",
      "4      250000\n",
      "        ...  \n",
      "195     55700\n",
      "196    107200\n",
      "197    192700\n",
      "198    391800\n",
      "199    249400\n",
      "Name: total_spend, Length: 200, dtype: int64\n"
     ]
    }
   ],
   "source": [
    "#Create x and y\n",
    "x = df[[\"sales\"]]\n",
    "y = df[\"total_spend\"]\n",
    "\n",
    "print(x)\n",
    "print(y)"
   ]
  },
  {
   "cell_type": "code",
   "execution_count": 38,
   "id": "49951f9b-63f5-41be-bb58-4312f00cfc87",
   "metadata": {},
   "outputs": [],
   "source": [
    "# import train_test_split function and split data. \n",
    "\n",
    "from sklearn.model_selection import train_test_split\n",
    "x_train, x_test, y_train, y_test = train_test_split(x, y, test_size = 0.3, random_state=43)"
   ]
  },
  {
   "cell_type": "markdown",
   "id": "a9da5a92-df1b-4237-907e-4dce317229c4",
   "metadata": {},
   "source": [
    "# Step 4: Modelling.\n",
    "\n",
    "### 4.1: Modelling with default parameters. "
   ]
  },
  {
   "cell_type": "code",
   "execution_count": 39,
   "id": "82f030ec-209b-4300-806b-2bf58ac65671",
   "metadata": {},
   "outputs": [
    {
     "data": {
      "text/plain": [
       "LinearRegression()"
      ]
     },
     "execution_count": 39,
     "metadata": {},
     "output_type": "execute_result"
    }
   ],
   "source": [
    "#Import function, save in model, and fit and transform.  \n",
    "\n",
    "from sklearn.linear_model import LinearRegression\n",
    "\n",
    "model = LinearRegression()\n",
    "\n",
    "model.fit(x_train,y_train)"
   ]
  },
  {
   "cell_type": "code",
   "execution_count": 40,
   "id": "d04e875e-14d8-466c-8bfa-cb6bad542fd4",
   "metadata": {},
   "outputs": [
    {
     "data": {
      "text/plain": [
       "-13298.941482426046"
      ]
     },
     "execution_count": 40,
     "metadata": {},
     "output_type": "execute_result"
    }
   ],
   "source": [
    "#β0\n",
    "\n",
    "model.intercept_"
   ]
  },
  {
   "cell_type": "code",
   "execution_count": 41,
   "id": "99b8fb6f-de91-4fea-bd44-1394af83fee5",
   "metadata": {},
   "outputs": [
    {
     "data": {
      "text/plain": [
       "array([15.2865543])"
      ]
     },
     "execution_count": 41,
     "metadata": {},
     "output_type": "execute_result"
    }
   ],
   "source": [
    "#β1\n",
    "model.coef_"
   ]
  },
  {
   "cell_type": "markdown",
   "id": "3fffb2b2-b5b6-473e-9a3f-0066bf7e8432",
   "metadata": {},
   "source": [
    "### 4.2: Predictions"
   ]
  },
  {
   "cell_type": "code",
   "execution_count": 42,
   "id": "cdc1a3d8-f17b-46ed-bf5d-a0e09e98f4c4",
   "metadata": {},
   "outputs": [],
   "source": [
    "train_predections = model.predict(x_train)"
   ]
  },
  {
   "cell_type": "code",
   "execution_count": 43,
   "id": "43ae2a99-46ef-4073-a44d-58f94184d654",
   "metadata": {},
   "outputs": [],
   "source": [
    "test_predictions = model.predict(x_test)"
   ]
  },
  {
   "cell_type": "markdown",
   "id": "45ca6a1d-1ba6-4d8c-ad6c-dcdbdb063473",
   "metadata": {},
   "source": [
    "# Step 5: Evaluation\n",
    "We can evaluate model in four different ways. \n",
    "1. MAE\n",
    "2. MSE\n",
    "3. RMSE\n",
    "4. R2"
   ]
  },
  {
   "cell_type": "code",
   "execution_count": 44,
   "id": "579f0f62-775a-4299-8e7d-88f6cfdafdc9",
   "metadata": {},
   "outputs": [
    {
     "name": "stdout",
     "output_type": "stream",
     "text": [
      "MAE_Train 37404.65563343213\n",
      "MAE_Test 33542.098519110186\n"
     ]
    }
   ],
   "source": [
    " ## MAE\n",
    "from sklearn.metrics import mean_absolute_error\n",
    "print(\"MAE_Train\",mean_absolute_error(y_train,train_predections))\n",
    "print(\"MAE_Test\",mean_absolute_error(y_test,test_predictions))"
   ]
  },
  {
   "cell_type": "code",
   "execution_count": 45,
   "id": "53cb6a6d-b8d7-4f25-bf40-0c99d6647214",
   "metadata": {},
   "outputs": [
    {
     "name": "stdout",
     "output_type": "stream",
     "text": [
      "MSE_Train 2272939567.1486425\n",
      "MSE_Test 1784763734.5019963\n"
     ]
    }
   ],
   "source": [
    " ## MSE\n",
    "from sklearn.metrics import mean_squared_error\n",
    "print(\"MSE_Train\",mean_squared_error(y_train,train_predections))\n",
    "print(\"MSE_Test\",mean_squared_error(y_test,test_predictions))"
   ]
  },
  {
   "cell_type": "code",
   "execution_count": 46,
   "id": "dfa490a0-61ce-4da1-bbd6-61c09390744d",
   "metadata": {},
   "outputs": [
    {
     "name": "stdout",
     "output_type": "stream",
     "text": [
      "RMSE_Train 47675.35597296199\n",
      "MSE_Test 42246.46416567896\n"
     ]
    }
   ],
   "source": [
    " ## RMSE\n",
    "print(\"RMSE_Train\",np.sqrt(mean_squared_error(y_train,train_predections)))\n",
    "print(\"MSE_Test\",np.sqrt(mean_squared_error(y_test,test_predictions)))"
   ]
  },
  {
   "cell_type": "code",
   "execution_count": 47,
   "id": "a4a2d779-5c42-4c35-8097-dd770a907576",
   "metadata": {},
   "outputs": [
    {
     "name": "stdout",
     "output_type": "stream",
     "text": [
      "R2_Train 0.7299821177304135\n",
      "R2_Test 0.8014777818215404\n"
     ]
    }
   ],
   "source": [
    " ## R2_test, R2_Train\n",
    "from sklearn.metrics import r2_score\n",
    "print(\"R2_Train\",r2_score(y_train,train_predections))\n",
    "print(\"R2_Test\",r2_score(y_test,test_predictions))"
   ]
  },
  {
   "cell_type": "code",
   "execution_count": 54,
   "id": "32e30724-1649-4ec9-a5dd-fbf37c584cc0",
   "metadata": {},
   "outputs": [
    {
     "name": "stdout",
     "output_type": "stream",
     "text": [
      "R2_Test 0.8014777818215404\n"
     ]
    }
   ],
   "source": [
    "## R2 can also calculated with delow steps.\n",
    "\n",
    "print(\"R2_Test\",model.score(x_test,y_test))"
   ]
  },
  {
   "cell_type": "code",
   "execution_count": 55,
   "id": "3e26d6c6-9d4f-47ba-b0af-a67a9ed819eb",
   "metadata": {},
   "outputs": [
    {
     "name": "stdout",
     "output_type": "stream",
     "text": [
      "R2_Train 0.7299821177304135\n"
     ]
    }
   ],
   "source": [
    "print(\"R2_Train\",model.score(x_train,y_train))"
   ]
  },
  {
   "cell_type": "markdown",
   "id": "d0ac9e52-2647-421a-819b-74f6445ac5fc",
   "metadata": {},
   "source": [
    "# Step 6: Checklist\n",
    "For any supervised machine learning algorithm.\n",
    "1. Check whether model has overfitting or underfitting problem.\n",
    "2. Is Test Accuracy = Cross Validation Score.\n",
    "3. Check model meets the business problem requirements.\n",
    "4. Finally, save the model and share to the deployment team.\n",
    "\n",
    "For Linear regression, in addition to above\n",
    "\n",
    "5. Check Assumptions (If it is linear regression)\n",
    "\n",
    "#### 6.1: Is the model overfitter or underfitted. \n",
    "- If train accuracy is greater than test accuracy its over fitted.\n",
    "- If test accuracy is greater than train accuracy its underfitted.\n",
    "- (+/- 5 % is ok)\n",
    "\n",
    "Answer:: For this example it is underfitted. Since test is 72 and train is 80 its about 11% change so its underfitted. \n",
    "\n",
    "#### 6.2 Is Test Accuracy = Cross Validation Score. "
   ]
  },
  {
   "cell_type": "code",
   "execution_count": 52,
   "id": "cde4facc-b8b6-4d28-af85-7ed980ef1fe4",
   "metadata": {},
   "outputs": [
    {
     "name": "stdout",
     "output_type": "stream",
     "text": [
      "[0.74889528 0.81411823 0.76073463 0.7449477  0.66862442]\n",
      "Cross Validation Score: 0.7474640514827872\n"
     ]
    }
   ],
   "source": [
    "from sklearn.model_selection import cross_val_score\n",
    "\n",
    "scores = cross_val_score(model,x,y,cv=5)\n",
    "print(scores)\n",
    "\n",
    "cv_score = scores.mean()\n",
    "\n",
    "print(\"Cross Validation Score:\", cv_score)"
   ]
  },
  {
   "cell_type": "markdown",
   "id": "a48ac962-505a-4912-8d52-d3e0916f10f6",
   "metadata": {},
   "source": [
    "Sicne  Test Accuracy NOT eqal to Cross Validation Score this is not good model."
   ]
  },
  {
   "cell_type": "markdown",
   "id": "78433caa-7bf4-4943-95d8-4ecbf8322fec",
   "metadata": {},
   "source": [
    "Assume if in step 5 lets say we got test accuracy = cross validation, since its regression model we need to also make sure LINE Assumptions are valid too. \n",
    "- L - Linearty of errors (line plot of errors)\n",
    "- I - Independent of errors.\n",
    "- N - Normality of errors.\n",
    "- E - Equal Variance of errors (important) - also called Homoscadescity. \n",
    "\n",
    "## Check for Assumptions\n",
    "\n",
    "#### 1. Linearity of Errors"
   ]
  },
  {
   "cell_type": "code",
   "execution_count": 57,
   "id": "ec27905c-8d6a-4943-b286-400c4837e8db",
   "metadata": {},
   "outputs": [],
   "source": [
    "test_res = y_test - test_predictions"
   ]
  },
  {
   "cell_type": "code",
   "execution_count": 58,
   "id": "d5aa38d6-eff5-47b4-b583-6aab50c297d6",
   "metadata": {},
   "outputs": [
    {
     "data": {
      "image/png": "[encoded data removed]",
      "text/plain": [
       "<Figure size 640x480 with 1 Axes>"
      ]
     },
     "metadata": {},
     "output_type": "display_data"
    }
   ],
   "source": [
    "plt.scatter(y_test, test_res)\n",
    "plt.xlabel(\"Observed_values\")\n",
    "plt.ylabel(\"Fitted_Values\")\n",
    "plt.show()"
   ]
  },
  {
   "cell_type": "markdown",
   "id": "5d6b7f61-45c0-4f3c-a5a3-dc217f601605",
   "metadata": {},
   "source": [
    "#### 2. Normality of Errors"
   ]
  },
  {
   "cell_type": "code",
   "execution_count": 60,
   "id": "218ad28d-090e-45c4-a5e6-ad9c57777b5c",
   "metadata": {},
   "outputs": [
    {
     "data": {
      "image/png": "[encoded data removed]",
      "text/plain": [
       "<Figure size 500x500 with 1 Axes>"
      ]
     },
     "metadata": {},
     "output_type": "display_data"
    }
   ],
   "source": [
    "sns.displot(test_res,kde=True)\n",
    "\n",
    "#plt.hist(test_res)\n",
    "\n",
    "plt.show()"
   ]
  },
  {
   "cell_type": "code",
   "execution_count": null,
   "id": "f1606c87-70f9-4665-aa5f-cc499fcfbda2",
   "metadata": {},
   "outputs": [],
   "source": []
  }
 ],
 "metadata": {
  "kernelspec": {
   "display_name": "Python 3 (ipykernel)",
   "language": "python",
   "name": "python3"
  },
  "language_info": {
   "codemirror_mode": {
    "name": "ipython",
    "version": 3
   },
   "file_extension": ".py",
   "mimetype": "text/x-python",
   "name": "python",
   "nbconvert_exporter": "python",
   "pygments_lexer": "ipython3",
   "version": "3.9.7"
  }
 },
 "nbformat": 4,
 "nbformat_minor": 5
}
