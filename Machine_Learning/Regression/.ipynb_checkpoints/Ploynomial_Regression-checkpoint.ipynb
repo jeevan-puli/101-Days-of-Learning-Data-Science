{
 "cells": [
  {
   "cell_type": "markdown",
   "id": "b17a122b-92e0-4165-915b-3fbb0a565b06",
   "metadata": {
    "jp-MarkdownHeadingCollapsed": true
   },
   "source": [
    "# Polynomial Regression - NON LINEAR REGRESSION.\n",
    "- We just completed a Linear Regression task, allowing us to predict future label values given a set of features!\n",
    "- How can we now improve on a Linear Regression model?\n",
    "- One approach is t consider higher order relationships on the features."
   ]
  },
  {
   "cell_type": "code",
   "execution_count": 1,
   "id": "46771c25-a856-4b42-8d7e-b4ee50482b7b",
   "metadata": {},
   "outputs": [],
   "source": [
    "import numpy as np\n",
    "import pandas as pd\n",
    "\n",
    "import matplotlib.pyplot as plt\n",
    "%matplotlib inline\n",
    "\n",
    "import seaborn as sns"
   ]
  },
  {
   "cell_type": "markdown",
   "id": "9868d278-9666-48c2-9aac-d391ff1cebad",
   "metadata": {},
   "source": [
    "# Step 1: Business Problem Understanding\n",
    "- What is the relationship between each advertising channel (TV,Radio,Newspaper) and sales?"
   ]
  },
  {
   "cell_type": "code",
   "execution_count": 2,
   "id": "83569d9e-6afa-4a04-9b9a-0a54ff0be779",
   "metadata": {},
   "outputs": [],
   "source": [
    "sd = pd.read_csv(\"Advertising.csv\")"
   ]
  },
  {
   "cell_type": "code",
   "execution_count": 3,
   "id": "bbfa14ff-e26f-4b0b-aea8-42b7c5de4a59",
   "metadata": {},
   "outputs": [
    {
     "name": "stdout",
     "output_type": "stream",
     "text": [
      "<class 'pandas.core.frame.DataFrame'>\n",
      "RangeIndex: 200 entries, 0 to 199\n",
      "Data columns (total 4 columns):\n",
      " #   Column     Non-Null Count  Dtype\n",
      "---  ------     --------------  -----\n",
      " 0   TV         200 non-null    int64\n",
      " 1   radio      200 non-null    int64\n",
      " 2   newspaper  200 non-null    int64\n",
      " 3   sales      200 non-null    int64\n",
      "dtypes: int64(4)\n",
      "memory usage: 6.4 KB\n"
     ]
    }
   ],
   "source": [
    "sd.info()"
   ]
  },
  {
   "cell_type": "markdown",
   "id": "c6c917f2-57aa-4ade-932e-5718c9ad21e2",
   "metadata": {},
   "source": []
  }
 ],
 "metadata": {
  "kernelspec": {
   "display_name": "Python 3 (ipykernel)",
   "language": "python",
   "name": "python3"
  },
  "language_info": {
   "codemirror_mode": {
    "name": "ipython",
    "version": 3
   },
   "file_extension": ".py",
   "mimetype": "text/x-python",
   "name": "python",
   "nbconvert_exporter": "python",
   "pygments_lexer": "ipython3",
   "version": "3.9.7"
  }
 },
 "nbformat": 4,
 "nbformat_minor": 5
}
