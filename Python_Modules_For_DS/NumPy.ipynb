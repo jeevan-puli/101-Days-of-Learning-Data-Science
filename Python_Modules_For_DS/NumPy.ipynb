{
 "cells": [
  {
   "cell_type": "markdown",
   "id": "d15de1e5-42cb-4003-8654-6f89f596de62",
   "metadata": {},
   "source": [
    "# NumPy\n",
    "- NumPy (Numerical Python) is an open source Python library that aids in nathematical and scientific programming.\n",
    "- - Used for working with arrays.\n",
    "  - In python we have lists that serve the purpose of arrays, but they are slow to process.\n",
    "  - NumPy aims to provide an array object that is up to 50x faster than the aditional python lists.\n",
    "  - NumPy is incradible library to perform mathematical and statistical operations due to it's fast and memory efficient.\n",
    "  - So processes can access and manipulate them very efficiently. Also it is optimized to work with latest CPU architectures.\n",
    "  - designed for working in domain of linear algebra, fourier transformations, matrices.\n",
    "  - NumPy works only with lists. "
   ]
  },
  {
   "cell_type": "code",
   "execution_count": 9,
   "id": "ad3e6a82-6f10-4190-8e2c-01f630c81d05",
   "metadata": {},
   "outputs": [
    {
     "name": "stdout",
     "output_type": "stream",
     "text": [
      "[1, 2, 3, 4, 5]\n",
      "<class 'list'>\n"
     ]
    }
   ],
   "source": [
    "a = [1,2,3,4,5]\n",
    "print(a)\n",
    "print(type(a))"
   ]
  },
  {
   "cell_type": "code",
   "execution_count": 10,
   "id": "5a14ee2f-166e-4e05-a6c5-d37aa46314e7",
   "metadata": {},
   "outputs": [],
   "source": [
    "## Import NumPy\n",
    "import numpy as np"
   ]
  },
  {
   "cell_type": "code",
   "execution_count": null,
   "id": "8bc6a74e-34a7-475e-bc02-3235960ffa89",
   "metadata": {},
   "outputs": [],
   "source": [
    "np.__version__\n",
    "## os is used to know the version of NumPy module. "
   ]
  },
  {
   "cell_type": "code",
   "execution_count": 12,
   "id": "315b6500-e3e3-4a51-a69b-4fde005121df",
   "metadata": {},
   "outputs": [
    {
     "name": "stdout",
     "output_type": "stream",
     "text": [
      "[1 2 3 4 5]\n",
      "<class 'numpy.ndarray'>\n"
     ]
    }
   ],
   "source": [
    "a = [1,2,3,4,5]\n",
    "np_a = np.array(a)  # This is create an array. \n",
    "print(np_a)\n",
    "print(type(np_a))"
   ]
  },
  {
   "cell_type": "code",
   "execution_count": 13,
   "id": "0965ad41-4ca3-45dd-bc80-9a9e498c20cd",
   "metadata": {},
   "outputs": [],
   "source": [
    "##-----------------------------------##"
   ]
  },
  {
   "cell_type": "code",
   "execution_count": 14,
   "id": "3bcb0dcb-5cb5-4040-aea5-04f9f9296834",
   "metadata": {},
   "outputs": [
    {
     "name": "stdout",
     "output_type": "stream",
     "text": [
      "[5, 5, 5]\n"
     ]
    }
   ],
   "source": [
    "# Without NumPy. \n",
    "\n",
    "# Add the elements of two arrayrs. \n",
    "\n",
    "l1 = [1,2,3]\n",
    "l2 = [4,3,2]\n",
    "\n",
    "# l1 + l2 = l3 = [5,5,5]   desired output. \n",
    "\n",
    "l3 = []\n",
    "for i in range(0,3):\n",
    "    a = l1[i] + l2[i]\n",
    "    l3.append(a)\n",
    "print(l3)"
   ]
  },
  {
   "cell_type": "code",
   "execution_count": 15,
   "id": "7b99096f-486c-43bc-a4c8-01c0000939f6",
   "metadata": {},
   "outputs": [
    {
     "name": "stdout",
     "output_type": "stream",
     "text": [
      "[5 5 5]\n"
     ]
    }
   ],
   "source": [
    "# same with NumPy.\n",
    "\n",
    "import numpy as np\n",
    "\n",
    "l1 = [1,2,3]\n",
    "l2 = [4,3,2]\n",
    "\n",
    "np_l1 = np.array(l1)\n",
    "np_l2 = np.array(l2)\n",
    "\n",
    "l3 = np_l1 + np_l2\n",
    "\n",
    "print(l3)"
   ]
  },
  {
   "cell_type": "markdown",
   "id": "36a82061-c4fd-4ad9-95b2-3cfddd51ef04",
   "metadata": {},
   "source": [
    "## Creating NumPy Arrays From a List. "
   ]
  },
  {
   "cell_type": "code",
   "execution_count": 16,
   "id": "89655903-5471-44f4-b36e-a5d851485df2",
   "metadata": {},
   "outputs": [
    {
     "name": "stdout",
     "output_type": "stream",
     "text": [
      "42\n"
     ]
    },
    {
     "data": {
      "text/plain": [
       "numpy.ndarray"
      ]
     },
     "execution_count": 16,
     "metadata": {},
     "output_type": "execute_result"
    }
   ],
   "source": [
    "# 0-D  - Zero Dimension Array. \n",
    "\n",
    "arr = np.array(42)\n",
    "print(arr)\n",
    "type(arr)"
   ]
  },
  {
   "cell_type": "code",
   "execution_count": 17,
   "id": "a413c8b6-2a6f-40ef-80ca-8148f29d21b0",
   "metadata": {},
   "outputs": [
    {
     "name": "stdout",
     "output_type": "stream",
     "text": [
      "[0 1 2 3]\n"
     ]
    }
   ],
   "source": [
    "# 1-D - One Dimensional Array\n",
    "import numpy as np\n",
    "\n",
    "a = np.array([0,1,2,3])\n",
    "print(a)"
   ]
  },
  {
   "cell_type": "code",
   "execution_count": 18,
   "id": "fefe4834-17c7-4c40-913f-2f677e89d6bb",
   "metadata": {},
   "outputs": [
    {
     "data": {
      "text/plain": [
       "1"
      ]
     },
     "execution_count": 18,
     "metadata": {},
     "output_type": "execute_result"
    }
   ],
   "source": [
    "# Print the dimensions of an arrary. \n",
    "a.ndim"
   ]
  },
  {
   "cell_type": "code",
   "execution_count": 19,
   "id": "577a6fb1-dc59-41f2-b18a-0362204114d4",
   "metadata": {},
   "outputs": [
    {
     "data": {
      "text/plain": [
       "(4,)"
      ]
     },
     "execution_count": 19,
     "metadata": {},
     "output_type": "execute_result"
    }
   ],
   "source": [
    "#shape\n",
    "a.shape"
   ]
  },
  {
   "cell_type": "code",
   "execution_count": 20,
   "id": "3696578d-3e88-4065-933d-2d96729f8f56",
   "metadata": {},
   "outputs": [
    {
     "name": "stdout",
     "output_type": "stream",
     "text": [
      "[[0 1 2]\n",
      " [3 4 5]]\n"
     ]
    }
   ],
   "source": [
    " # 2-D - Two Dimensional Array. \n",
    "\n",
    "b = np.array([[0,1,2], [3,4,5]])\n",
    "print(b)"
   ]
  },
  {
   "cell_type": "code",
   "execution_count": 21,
   "id": "5bfa25c5-5d87-4c7e-b3dc-c450efb070e4",
   "metadata": {},
   "outputs": [
    {
     "data": {
      "text/plain": [
       "2"
      ]
     },
     "execution_count": 21,
     "metadata": {},
     "output_type": "execute_result"
    }
   ],
   "source": [
    "b.ndim"
   ]
  },
  {
   "cell_type": "code",
   "execution_count": 24,
   "id": "c9640a26-7473-4f82-ba2c-8a7ab45aac43",
   "metadata": {},
   "outputs": [
    {
     "data": {
      "text/plain": [
       "(3, 3)"
      ]
     },
     "execution_count": 24,
     "metadata": {},
     "output_type": "execute_result"
    }
   ],
   "source": [
    "b.shape  # in this there are two row and 3 columns."
   ]
  },
  {
   "cell_type": "code",
   "execution_count": 23,
   "id": "fb9da0d4-d974-4b14-a51b-fab7869f1c28",
   "metadata": {},
   "outputs": [
    {
     "name": "stdout",
     "output_type": "stream",
     "text": [
      "[[1 2 3]\n",
      " [4 5 6]\n",
      " [7 8 9]]\n"
     ]
    }
   ],
   "source": [
    "#Matrix\n",
    "\n",
    "my_matric = [[1,2,3],[4,5,6],[7,8,9]]\n",
    "\n",
    "b = np.array(my_matric)\n",
    "print(b)"
   ]
  },
  {
   "cell_type": "code",
   "execution_count": 25,
   "id": "5dee0122-cca2-45b3-bebe-940fed210612",
   "metadata": {},
   "outputs": [
    {
     "data": {
      "text/plain": [
       "2"
      ]
     },
     "execution_count": 25,
     "metadata": {},
     "output_type": "execute_result"
    }
   ],
   "source": [
    "b.ndim"
   ]
  },
  {
   "cell_type": "code",
   "execution_count": 26,
   "id": "1c6be68e-ed10-417a-a0ec-46584d69ae0c",
   "metadata": {},
   "outputs": [
    {
     "data": {
      "text/plain": [
       "(3, 3)"
      ]
     },
     "execution_count": 26,
     "metadata": {},
     "output_type": "execute_result"
    }
   ],
   "source": [
    "b.shape"
   ]
  },
  {
   "cell_type": "markdown",
   "id": "64d97b7a-766f-4b0f-8a42-9daa1c4f3c28",
   "metadata": {},
   "source": [
    "## Functions to creating arrays. \n",
    "\n",
    "### arange\n",
    "- arange is an array-valued version of the built-in Python range function.\n",
    "- Syntax: np.arange(start,end,step)"
   ]
  },
  {
   "cell_type": "code",
   "execution_count": 27,
   "id": "ea0343b8-257f-41d3-8883-d26580a18087",
   "metadata": {},
   "outputs": [
    {
     "name": "stdout",
     "output_type": "stream",
     "text": [
      "[10 20 30 40 50 60 70 80 90]\n"
     ]
    }
   ],
   "source": [
    "a = np.arange(10,100,10) # start, end(exclusive),step\n",
    "print(a)"
   ]
  },
  {
   "cell_type": "code",
   "execution_count": 28,
   "id": "cfc0bf7a-1a4f-4b5e-a847-2ee6a3bf06ad",
   "metadata": {},
   "outputs": [
    {
     "data": {
      "text/plain": [
       "1"
      ]
     },
     "execution_count": 28,
     "metadata": {},
     "output_type": "execute_result"
    }
   ],
   "source": [
    "a.ndim"
   ]
  },
  {
   "cell_type": "code",
   "execution_count": 29,
   "id": "6f043307-e60c-447a-8420-7cbb145b3aa0",
   "metadata": {},
   "outputs": [
    {
     "data": {
      "text/plain": [
       "(9,)"
      ]
     },
     "execution_count": 29,
     "metadata": {},
     "output_type": "execute_result"
    }
   ],
   "source": [
    "a.shape"
   ]
  },
  {
   "cell_type": "markdown",
   "id": "29f274ab-7ee4-4ca2-9814-bfee284e2c3f",
   "metadata": {},
   "source": [
    "### linespace\n",
    "- Return evenly spaced numbers over a specified interval.\n",
    "- Syntax: np.linspace(start, end, num_of_samples)\n",
    "- Default num_of_samples is 50 (you can find this in help file (shit+tab))"
   ]
  },
  {
   "cell_type": "code",
   "execution_count": 30,
   "id": "8243ee60-a728-42e1-a44d-452792cfb78b",
   "metadata": {},
   "outputs": [
    {
     "name": "stdout",
     "output_type": "stream",
     "text": [
      "[ 0.  5. 10.]\n"
     ]
    }
   ],
   "source": [
    "ls = np.linspace(0, 10, 3)\n",
    "print(ls)"
   ]
  },
  {
   "cell_type": "code",
   "execution_count": 31,
   "id": "bab013fe-1ec4-4b7c-9b81-16b358220702",
   "metadata": {},
   "outputs": [
    {
     "data": {
      "text/plain": [
       "(3,)"
      ]
     },
     "execution_count": 31,
     "metadata": {},
     "output_type": "execute_result"
    }
   ],
   "source": [
    "ls.shape"
   ]
  },
  {
   "cell_type": "code",
   "execution_count": 32,
   "id": "239a0106-68e8-4b17-b730-7b60d50a2f86",
   "metadata": {},
   "outputs": [
    {
     "data": {
      "text/plain": [
       "array([  0.,   1.,   2.,   3.,   4.,   5.,   6.,   7.,   8.,   9.,  10.,\n",
       "        11.,  12.,  13.,  14.,  15.,  16.,  17.,  18.,  19.,  20.,  21.,\n",
       "        22.,  23.,  24.,  25.,  26.,  27.,  28.,  29.,  30.,  31.,  32.,\n",
       "        33.,  34.,  35.,  36.,  37.,  38.,  39.,  40.,  41.,  42.,  43.,\n",
       "        44.,  45.,  46.,  47.,  48.,  49.,  50.,  51.,  52.,  53.,  54.,\n",
       "        55.,  56.,  57.,  58.,  59.,  60.,  61.,  62.,  63.,  64.,  65.,\n",
       "        66.,  67.,  68.,  69.,  70.,  71.,  72.,  73.,  74.,  75.,  76.,\n",
       "        77.,  78.,  79.,  80.,  81.,  82.,  83.,  84.,  85.,  86.,  87.,\n",
       "        88.,  89.,  90.,  91.,  92.,  93.,  94.,  95.,  96.,  97.,  98.,\n",
       "        99., 100.])"
      ]
     },
     "execution_count": 32,
     "metadata": {},
     "output_type": "execute_result"
    }
   ],
   "source": [
    "ls = np.linspace(0,100,101)\n",
    "ls"
   ]
  },
  {
   "cell_type": "markdown",
   "id": "499c0f87-30e2-4f4d-b04a-c1b3d2c598fb",
   "metadata": {},
   "source": [
    "### zeros\n",
    "- Generate arrays of zeros.\n",
    "- Syntax: np.zeros(shape)"
   ]
  },
  {
   "cell_type": "code",
   "execution_count": 33,
   "id": "66590ac9-eab9-4ce1-a96a-7cefe743bc79",
   "metadata": {},
   "outputs": [
    {
     "data": {
      "text/plain": [
       "array([0, 0, 0])"
      ]
     },
     "execution_count": 33,
     "metadata": {},
     "output_type": "execute_result"
    }
   ],
   "source": [
    "np.zeros((3,),dtype=int)"
   ]
  },
  {
   "cell_type": "code",
   "execution_count": 34,
   "id": "fbd22c81-1f39-4395-aa55-2e0ce236123e",
   "metadata": {},
   "outputs": [
    {
     "data": {
      "text/plain": [
       "array([[0., 0., 0.],\n",
       "       [0., 0., 0.],\n",
       "       [0., 0., 0.]])"
      ]
     },
     "execution_count": 34,
     "metadata": {},
     "output_type": "execute_result"
    }
   ],
   "source": [
    "np.zeros((3,3)) # Zero matrix or null matrix"
   ]
  },
  {
   "cell_type": "markdown",
   "id": "363b7068-d737-4743-b0e4-fc5090ce5a85",
   "metadata": {},
   "source": [
    "### random.randint\n",
    "- Return random integers from start(inclusive) to end (exclusive)\n",
    "- Syntax: np.random.randint(start,end,num_of_samples)"
   ]
  },
  {
   "cell_type": "code",
   "execution_count": 35,
   "id": "8ac9c909-4102-48a5-b213-f3bc975981e0",
   "metadata": {},
   "outputs": [
    {
     "data": {
      "text/plain": [
       "array([4, 6, 8, 9, 4])"
      ]
     },
     "execution_count": 35,
     "metadata": {},
     "output_type": "execute_result"
    }
   ],
   "source": [
    "np.random.randint(1,10,5)"
   ]
  },
  {
   "cell_type": "markdown",
   "id": "8143c963-74f3-401c-b9ac-44700d4d2cd2",
   "metadata": {},
   "source": [
    "# Accesing elements\n",
    "- Accessing a single value through indexing.\n",
    "- Accessing a multiple value based on indexing.\n",
    "- Accessing a multiple value based on indexing.\n",
    "- Accessing a multiple value based on condition. "
   ]
  },
  {
   "cell_type": "markdown",
   "id": "d127ac8b-c106-4886-9909-e451bd36e5c2",
   "metadata": {},
   "source": [
    "### Indexing\n",
    "- indexing a single value."
   ]
  },
  {
   "cell_type": "code",
   "execution_count": 36,
   "id": "409d15e4-46be-4883-90d0-61c770ac8d6a",
   "metadata": {},
   "outputs": [
    {
     "name": "stdout",
     "output_type": "stream",
     "text": [
      "[ 0  3  6  9 12 15 18 21 24 27 30]\n",
      "Index: 15\n"
     ]
    }
   ],
   "source": [
    "a = np.arange(0,31,3)\n",
    "print(a)\n",
    "print(\"Index:\",a[5])"
   ]
  },
  {
   "cell_type": "markdown",
   "id": "b2b2bc6e-947e-46a6-b42f-d28bddbaae9d",
   "metadata": {},
   "source": [
    "### Slicing"
   ]
  },
  {
   "cell_type": "code",
   "execution_count": 37,
   "id": "3760f5c9-766a-4847-bb67-8af6e8bf6f30",
   "metadata": {},
   "outputs": [
    {
     "data": {
      "text/plain": [
       "array([ 3,  9, 15, 21])"
      ]
     },
     "execution_count": 37,
     "metadata": {},
     "output_type": "execute_result"
    }
   ],
   "source": [
    "a[1:8:2] #[startingdex: endindex(exclusive):step}"
   ]
  },
  {
   "cell_type": "markdown",
   "id": "8bc1590d-3e76-412a-bc01-7f363872dd8a",
   "metadata": {},
   "source": [
    "### Indexing multiple values Indexing.\n",
    "syntax: array[list of index numbers]"
   ]
  },
  {
   "cell_type": "code",
   "execution_count": 38,
   "id": "aa8c3719-fa62-4496-967d-13238b5a8035",
   "metadata": {},
   "outputs": [
    {
     "data": {
      "text/plain": [
       "array([ 0,  9, 12, 15, 30])"
      ]
     },
     "execution_count": 38,
     "metadata": {},
     "output_type": "execute_result"
    }
   ],
   "source": [
    "#Indexing can be done with an array of integers, where the same index is represented.\n",
    "a[[0,3,4,5,10]]"
   ]
  },
  {
   "cell_type": "markdown",
   "id": "ff83ae8f-eff5-414b-a2f8-5a38ee95029c",
   "metadata": {},
   "source": [
    "### Mask Indexing or Fancy Indexing (Important topic)"
   ]
  },
  {
   "cell_type": "code",
   "execution_count": 39,
   "id": "b1016959-68bb-4447-969e-58b18c090e37",
   "metadata": {},
   "outputs": [
    {
     "data": {
      "text/plain": [
       "array([ True, False,  True, False,  True, False,  True, False,  True,\n",
       "       False,  True])"
      ]
     },
     "execution_count": 39,
     "metadata": {},
     "output_type": "execute_result"
    }
   ],
   "source": [
    "a%2==0"
   ]
  },
  {
   "cell_type": "code",
   "execution_count": 41,
   "id": "3cf1dcc1-da91-46d6-8d2f-7a2cb79098bb",
   "metadata": {},
   "outputs": [
    {
     "data": {
      "text/plain": [
       "array([ 0,  6, 12, 18, 24, 30])"
      ]
     },
     "execution_count": 41,
     "metadata": {},
     "output_type": "execute_result"
    }
   ],
   "source": [
    "a[a%2==0]   # only true values are take. "
   ]
  },
  {
   "cell_type": "markdown",
   "id": "1b2486ad-4833-4a34-8b57-9e3036c527ff",
   "metadata": {},
   "source": [
    "## Numpy is Mutable (Replace, Add, Remove)"
   ]
  },
  {
   "cell_type": "markdown",
   "id": "86d077d1-4f34-4f84-a6ae-a544001f4455",
   "metadata": {},
   "source": [
    "### Replacing a singel value in a array"
   ]
  },
  {
   "cell_type": "code",
   "execution_count": 42,
   "id": "366077e3-98fa-45e3-a0bd-46d89b8c0314",
   "metadata": {},
   "outputs": [
    {
     "name": "stdout",
     "output_type": "stream",
     "text": [
      "[ 0  3  6 50 12 15 18 21 24 27 30]\n"
     ]
    }
   ],
   "source": [
    "a[3] = 50\n",
    "print(a)"
   ]
  },
  {
   "cell_type": "markdown",
   "id": "979e11b9-eb8d-4307-8673-fd2307ab0ea4",
   "metadata": {},
   "source": [
    "### Replacing multiple values in a array. "
   ]
  },
  {
   "cell_type": "code",
   "execution_count": 43,
   "id": "b56327cc-9a8c-4686-bc7e-813bab769869",
   "metadata": {},
   "outputs": [
    {
     "data": {
      "text/plain": [
       "array([ 0,  3, 40, 40, 12, 15, 18, 21, 24, 27, 30])"
      ]
     },
     "execution_count": 43,
     "metadata": {},
     "output_type": "execute_result"
    }
   ],
   "source": [
    "a[[2,3]] = 40\n",
    "a"
   ]
  },
  {
   "cell_type": "markdown",
   "id": "b8c623e7-4cd9-4800-bd38-a764d9766275",
   "metadata": {},
   "source": [
    "### Add values in a array"
   ]
  },
  {
   "cell_type": "code",
   "execution_count": 45,
   "id": "6fd18407-a56c-452a-8dd6-85a2853ff130",
   "metadata": {},
   "outputs": [
    {
     "name": "stdout",
     "output_type": "stream",
     "text": [
      "Numpy array after addition: [4 7 8 2 4 5]\n"
     ]
    }
   ],
   "source": [
    "a = np.array([4,7,8])\n",
    "a = np.append(a,[2,4,5])\n",
    "print(\"Numpy array after addition:\",a)"
   ]
  },
  {
   "cell_type": "markdown",
   "id": "204425f4-fa32-4b80-9484-2e54c1df446c",
   "metadata": {},
   "source": [
    "### Delete a single value in a array"
   ]
  },
  {
   "cell_type": "code",
   "execution_count": 47,
   "id": "580a032a-585f-4a6c-b64a-26f1e50b7701",
   "metadata": {},
   "outputs": [
    {
     "name": "stdout",
     "output_type": "stream",
     "text": [
      "Numpy array after deletion of one element: [4 7 8 2 5]\n"
     ]
    }
   ],
   "source": [
    "a = np.delete(a,4)\n",
    "print(\"Numpy array after deletion of one element:\",a)"
   ]
  },
  {
   "cell_type": "markdown",
   "id": "f07c1ec2-1915-482b-83e1-d9685d6f3ac2",
   "metadata": {},
   "source": [
    "### Delete a multiple values in a array"
   ]
  },
  {
   "cell_type": "code",
   "execution_count": 48,
   "id": "d4a8f5fa-4564-4149-af99-38cf3aa23541",
   "metadata": {},
   "outputs": [
    {
     "data": {
      "text/plain": [
       "array([4, 2, 5])"
      ]
     },
     "execution_count": 48,
     "metadata": {},
     "output_type": "execute_result"
    }
   ],
   "source": [
    "a = np.delete(a,[1,2])\n",
    "a"
   ]
  },
  {
   "cell_type": "markdown",
   "id": "762f169b-996c-432a-af06-78d5eef71836",
   "metadata": {},
   "source": [
    "### Sort"
   ]
  },
  {
   "cell_type": "code",
   "execution_count": 50,
   "id": "8c556eb2-04ce-4382-a251-11e4fc50de0e",
   "metadata": {},
   "outputs": [
    {
     "data": {
      "text/plain": [
       "array([ 2,  4,  5,  8, 20])"
      ]
     },
     "execution_count": 50,
     "metadata": {},
     "output_type": "execute_result"
    }
   ],
   "source": [
    "np.sort([4,5,8,2,20])"
   ]
  },
  {
   "cell_type": "markdown",
   "id": "43e94a14-2c32-4ffd-8662-6c6ea153ad74",
   "metadata": {},
   "source": [
    "### Copy array"
   ]
  },
  {
   "cell_type": "code",
   "execution_count": 51,
   "id": "4e685a77-fef7-49aa-8bd9-b3ac63b4678a",
   "metadata": {},
   "outputs": [
    {
     "name": "stdout",
     "output_type": "stream",
     "text": [
      "[1 2 3]\n",
      "[100   2   3]\n"
     ]
    }
   ],
   "source": [
    "a = np.array([1,2,3])\n",
    "b = a.copy()\n",
    "b[0] = 100\n",
    "print(a)\n",
    "print(b)"
   ]
  },
  {
   "cell_type": "markdown",
   "id": "e3b94e00-ed26-4703-b942-75a69cc16dca",
   "metadata": {},
   "source": [
    "## Operations\n",
    "### Flattening\n",
    "    - - Converting n-D array to 1-D array\n"
   ]
  },
  {
   "cell_type": "code",
   "execution_count": 52,
   "id": "d3ceaac2-c7d3-4be8-bf9e-9509cec50c27",
   "metadata": {},
   "outputs": [
    {
     "data": {
      "text/plain": [
       "array([1, 2, 3, 4, 5, 6])"
      ]
     },
     "execution_count": 52,
     "metadata": {},
     "output_type": "execute_result"
    }
   ],
   "source": [
    "a = np.array([[1,2,3], [4,5,6]])\n",
    "a.ravel()"
   ]
  },
  {
   "cell_type": "markdown",
   "id": "315fde45-2e1c-461a-baee-69d70d78cb5e",
   "metadata": {},
   "source": [
    "### Reshape array"
   ]
  },
  {
   "cell_type": "code",
   "execution_count": 53,
   "id": "c5cab273-1d48-4d08-90a2-84d36285880f",
   "metadata": {},
   "outputs": [
    {
     "name": "stdout",
     "output_type": "stream",
     "text": [
      "[ 0  1  2  3  4  5  6  7  8  9 10 11 12 13 14 15 16 17 18 19]\n",
      "(20,)\n"
     ]
    }
   ],
   "source": [
    "arr = np.arange(20)\n",
    "print(arr)\n",
    "print(arr.shape)"
   ]
  },
  {
   "cell_type": "code",
   "execution_count": 54,
   "id": "2ef306db-6901-4783-a5c8-dc35cbdbc18f",
   "metadata": {},
   "outputs": [
    {
     "data": {
      "text/plain": [
       "array([[ 0,  1,  2,  3,  4,  5,  6,  7,  8,  9],\n",
       "       [10, 11, 12, 13, 14, 15, 16, 17, 18, 19]])"
      ]
     },
     "execution_count": 54,
     "metadata": {},
     "output_type": "execute_result"
    }
   ],
   "source": [
    "# Notice the two sets of brackets.\n",
    "a1 = arr.reshape(2,10)\n",
    "a1"
   ]
  },
  {
   "cell_type": "code",
   "execution_count": 55,
   "id": "aee59605-a5a6-41d1-ae93-4f36f0d83662",
   "metadata": {},
   "outputs": [
    {
     "name": "stdout",
     "output_type": "stream",
     "text": [
      "[[1 2 3]\n",
      " [4 5 6]]\n"
     ]
    }
   ],
   "source": [
    "a = np.array([[1,2,3],[4,5,6]])\n",
    "print(a)"
   ]
  },
  {
   "cell_type": "markdown",
   "id": "2968ace6-540d-4b5f-94d6-b3f1f92a93be",
   "metadata": {},
   "source": [
    "### Transpose array"
   ]
  },
  {
   "cell_type": "code",
   "execution_count": 57,
   "id": "21f30d60-ee4a-40d5-aba0-b403012b6f6c",
   "metadata": {},
   "outputs": [
    {
     "name": "stdout",
     "output_type": "stream",
     "text": [
      "[[1 2 3]\n",
      " [4 5 6]]\n",
      "[[1 4]\n",
      " [2 5]\n",
      " [3 6]]\n"
     ]
    }
   ],
   "source": [
    "print(a)\n",
    "c = a.T\n",
    "print(c)"
   ]
  },
  {
   "cell_type": "markdown",
   "id": "3260b1ae-598c-4f3c-b667-e44e935db254",
   "metadata": {},
   "source": [
    "### Sort"
   ]
  },
  {
   "cell_type": "code",
   "execution_count": 58,
   "id": "9dce1cd8-5953-4dec-8284-b33690e1d93c",
   "metadata": {},
   "outputs": [
    {
     "data": {
      "text/plain": [
       "array([[2, 4, 3],\n",
       "       [5, 8, 6]])"
      ]
     },
     "execution_count": 58,
     "metadata": {},
     "output_type": "execute_result"
    }
   ],
   "source": [
    "#Sorting along an axis: axis=1 --> row and axis =0 --> column\n",
    "a = np.array([[5,4,6], [2,8,3]])\n",
    "b = np.sort(a,axis=0)\n",
    "b"
   ]
  },
  {
   "cell_type": "code",
   "execution_count": 59,
   "id": "d208eb22-f2b5-44c8-b1a0-4b5b7b6cd9ba",
   "metadata": {},
   "outputs": [
    {
     "data": {
      "text/plain": [
       "array([[1, 0, 0],\n",
       "       [0, 2, 0],\n",
       "       [0, 0, 3]])"
      ]
     },
     "execution_count": 59,
     "metadata": {},
     "output_type": "execute_result"
    }
   ],
   "source": [
    "a = np.diag([1,2,3])\n",
    "a"
   ]
  },
  {
   "cell_type": "code",
   "execution_count": 63,
   "id": "58b692e9-dfc0-41d8-b2e6-d49ea409e4b5",
   "metadata": {},
   "outputs": [
    {
     "name": "stdout",
     "output_type": "stream",
     "text": [
      "2\n"
     ]
    }
   ],
   "source": [
    "print(a[1,1])   # index aij   where i = row, j=column "
   ]
  },
  {
   "cell_type": "code",
   "execution_count": 64,
   "id": "9071036a-c9d3-42ca-8344-dc722387cd46",
   "metadata": {},
   "outputs": [
    {
     "data": {
      "text/plain": [
       "array([[ 1,  0,  0],\n",
       "       [ 0, 35,  0],\n",
       "       [ 0,  0,  3]])"
      ]
     },
     "execution_count": 64,
     "metadata": {},
     "output_type": "execute_result"
    }
   ],
   "source": [
    "a[1,1] = 35 # assigning values\n",
    "a"
   ]
  },
  {
   "cell_type": "markdown",
   "id": "a1539939-d685-462d-a35f-71b08957ba6b",
   "metadata": {},
   "source": [
    "## Arthimetic Operations. "
   ]
  },
  {
   "cell_type": "code",
   "execution_count": 65,
   "id": "abe53406-ac57-443e-bc88-647f81a7d77f",
   "metadata": {},
   "outputs": [
    {
     "name": "stdout",
     "output_type": "stream",
     "text": [
      "[1 2 3 4]\n"
     ]
    }
   ],
   "source": [
    "a = np.array([1,2,3,4]) # create an array. \n",
    "print(a)"
   ]
  },
  {
   "cell_type": "code",
   "execution_count": 66,
   "id": "98e7c39f-2c31-4a21-bd8f-5835faa9b365",
   "metadata": {},
   "outputs": [
    {
     "name": "stdout",
     "output_type": "stream",
     "text": [
      "[2 3 4 5]\n"
     ]
    }
   ],
   "source": [
    "print(a+1)"
   ]
  },
  {
   "cell_type": "code",
   "execution_count": 67,
   "id": "b96f1296-60b2-48a2-9479-a78da50eb591",
   "metadata": {},
   "outputs": [
    {
     "data": {
      "text/plain": [
       "array([ 1,  4,  9, 16])"
      ]
     },
     "execution_count": 67,
     "metadata": {},
     "output_type": "execute_result"
    }
   ],
   "source": [
    "a ** 2"
   ]
  },
  {
   "cell_type": "code",
   "execution_count": 72,
   "id": "969a63a4-81e3-4038-b36f-3dc8881508a5",
   "metadata": {},
   "outputs": [
    {
     "data": {
      "text/plain": [
       "array([2., 2., 2., 2.])"
      ]
     },
     "execution_count": 72,
     "metadata": {},
     "output_type": "execute_result"
    }
   ],
   "source": [
    "b = np.ones((4,)) + 1\n",
    "b"
   ]
  },
  {
   "cell_type": "code",
   "execution_count": 73,
   "id": "1873e28e-8880-4bac-9288-1d1d247ab95e",
   "metadata": {},
   "outputs": [
    {
     "data": {
      "text/plain": [
       "array([3., 4., 5., 6.])"
      ]
     },
     "execution_count": 73,
     "metadata": {},
     "output_type": "execute_result"
    }
   ],
   "source": [
    "a + b"
   ]
  },
  {
   "cell_type": "code",
   "execution_count": 75,
   "id": "5953f455-55b6-41b2-a356-2c125a0f4e51",
   "metadata": {},
   "outputs": [
    {
     "data": {
      "text/plain": [
       "array([-1.,  0.,  1.,  2.])"
      ]
     },
     "execution_count": 75,
     "metadata": {},
     "output_type": "execute_result"
    }
   ],
   "source": [
    "a - b"
   ]
  },
  {
   "cell_type": "code",
   "execution_count": 77,
   "id": "3c8fb836-fa2b-43c0-acc7-204cd577c911",
   "metadata": {},
   "outputs": [
    {
     "data": {
      "text/plain": [
       "array([2., 4., 6., 8.])"
      ]
     },
     "execution_count": 77,
     "metadata": {},
     "output_type": "execute_result"
    }
   ],
   "source": [
    "a * b"
   ]
  },
  {
   "cell_type": "code",
   "execution_count": 83,
   "id": "5aef485d-3d0a-4741-bdf2-b52fd4c2b19c",
   "metadata": {},
   "outputs": [
    {
     "name": "stdout",
     "output_type": "stream",
     "text": [
      "[[5 6]\n",
      " [7 8]]\n"
     ]
    }
   ],
   "source": [
    "a = np.array([[1,2],[3,4]])\n",
    "b = np.array([[4,4],[4,4]])\n",
    "\n",
    "#adding a and b element-wise addition. \n",
    "print(a+b)"
   ]
  },
  {
   "cell_type": "code",
   "execution_count": 84,
   "id": "276f96c8-b97a-48d3-9ad9-ebcfe231ef59",
   "metadata": {},
   "outputs": [
    {
     "name": "stdout",
     "output_type": "stream",
     "text": [
      "[[ 4  8]\n",
      " [12 16]]\n"
     ]
    }
   ],
   "source": [
    "print(a*b)  #Element-wise multiplication. "
   ]
  },
  {
   "cell_type": "code",
   "execution_count": 85,
   "id": "ffdec57d-e4b9-4ef4-bf28-d415da7833d8",
   "metadata": {},
   "outputs": [
    {
     "data": {
      "text/plain": [
       "array([[12, 12],\n",
       "       [28, 28]])"
      ]
     },
     "execution_count": 85,
     "metadata": {},
     "output_type": "execute_result"
    }
   ],
   "source": [
    "# Acutal matrix multiplications. \n",
    "np.matmul(a,b)"
   ]
  },
  {
   "cell_type": "markdown",
   "id": "777962a0-dacb-46cd-954b-cfee1b964170",
   "metadata": {},
   "source": [
    "## Comparision operations. "
   ]
  },
  {
   "cell_type": "code",
   "execution_count": 86,
   "id": "323a1586-fc79-49b6-a629-b92a69f9ea4c",
   "metadata": {},
   "outputs": [
    {
     "data": {
      "text/plain": [
       "array([False, False, False,  True])"
      ]
     },
     "execution_count": 86,
     "metadata": {},
     "output_type": "execute_result"
    }
   ],
   "source": [
    "a = np.array([1,2,3,4])\n",
    "b = np.array([5,5,5,4])\n",
    "a == b"
   ]
  },
  {
   "cell_type": "code",
   "execution_count": 87,
   "id": "39d0c992-3a48-4e3f-815a-1884a57840ac",
   "metadata": {},
   "outputs": [
    {
     "data": {
      "text/plain": [
       "array([False, False, False, False])"
      ]
     },
     "execution_count": 87,
     "metadata": {},
     "output_type": "execute_result"
    }
   ],
   "source": [
    "a > b"
   ]
  },
  {
   "cell_type": "code",
   "execution_count": 88,
   "id": "75ebef1e-16dc-47d7-a47b-fc3e7667a7e8",
   "metadata": {},
   "outputs": [],
   "source": [
    "#array-wise comparisions.\n",
    "a = np.array([1,2,3,4])\n",
    "b = np.array([5,5,5,4])\n",
    "c = np.array([1,2,3,4])"
   ]
  },
  {
   "cell_type": "code",
   "execution_count": 89,
   "id": "03805cfc-8d75-4263-96c7-02b64375201a",
   "metadata": {},
   "outputs": [
    {
     "data": {
      "text/plain": [
       "False"
      ]
     },
     "execution_count": 89,
     "metadata": {},
     "output_type": "execute_result"
    }
   ],
   "source": [
    "np.array_equal(a,b)"
   ]
  },
  {
   "cell_type": "code",
   "execution_count": 90,
   "id": "338d752d-37f9-446e-8adc-95e937b29292",
   "metadata": {},
   "outputs": [
    {
     "data": {
      "text/plain": [
       "True"
      ]
     },
     "execution_count": 90,
     "metadata": {},
     "output_type": "execute_result"
    }
   ],
   "source": [
    "np.array_equal(a,c)"
   ]
  },
  {
   "cell_type": "markdown",
   "id": "29c78031-0d1c-4b77-a5e2-b5ce9ccba8d1",
   "metadata": {},
   "source": [
    "## Mathamatic operations. "
   ]
  },
  {
   "cell_type": "code",
   "execution_count": 94,
   "id": "c5b0f81c-b828-4bf3-9231-982276aff9c2",
   "metadata": {},
   "outputs": [
    {
     "data": {
      "text/plain": [
       "array([1, 2, 3, 4, 5])"
      ]
     },
     "execution_count": 94,
     "metadata": {},
     "output_type": "execute_result"
    }
   ],
   "source": [
    "import numpy as np\n",
    "\n",
    "a = np.arange(1,6)\n",
    "a"
   ]
  },
  {
   "cell_type": "code",
   "execution_count": 95,
   "id": "cdadc5d5-3cc5-4cf6-8705-109d3334377f",
   "metadata": {},
   "outputs": [
    {
     "data": {
      "text/plain": [
       "array([ 0.84147098,  0.90929743,  0.14112001, -0.7568025 , -0.95892427])"
      ]
     },
     "execution_count": 95,
     "metadata": {},
     "output_type": "execute_result"
    }
   ],
   "source": [
    "np.sin(a)"
   ]
  },
  {
   "cell_type": "code",
   "execution_count": 96,
   "id": "3af37d6d-5764-4ed1-98b2-acc86a11e36a",
   "metadata": {},
   "outputs": [
    {
     "data": {
      "text/plain": [
       "array([0.        , 0.69314718, 1.09861229, 1.38629436, 1.60943791])"
      ]
     },
     "execution_count": 96,
     "metadata": {},
     "output_type": "execute_result"
    }
   ],
   "source": [
    "np.log(a)"
   ]
  },
  {
   "cell_type": "code",
   "execution_count": 97,
   "id": "09d526c0-2951-4d27-b994-993a1d9054fb",
   "metadata": {},
   "outputs": [
    {
     "data": {
      "text/plain": [
       "array([  2.71828183,   7.3890561 ,  20.08553692,  54.59815003,\n",
       "       148.4131591 ])"
      ]
     },
     "execution_count": 97,
     "metadata": {},
     "output_type": "execute_result"
    }
   ],
   "source": [
    "np.exp(a)"
   ]
  },
  {
   "cell_type": "code",
   "execution_count": null,
   "id": "a90e2c92-5fc7-4643-bfe8-3da77044d63a",
   "metadata": {},
   "outputs": [],
   "source": []
  }
 ],
 "metadata": {
  "kernelspec": {
   "display_name": "Python 3 (ipykernel)",
   "language": "python",
   "name": "python3"
  },
  "language_info": {
   "codemirror_mode": {
    "name": "ipython",
    "version": 3
   },
   "file_extension": ".py",
   "mimetype": "text/x-python",
   "name": "python",
   "nbconvert_exporter": "python",
   "pygments_lexer": "ipython3",
   "version": "3.9.7"
  }
 },
 "nbformat": 4,
 "nbformat_minor": 5
}
