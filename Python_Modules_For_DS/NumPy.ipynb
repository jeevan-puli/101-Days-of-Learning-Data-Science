{
 "cells": [
  {
   "cell_type": "markdown",
   "id": "d15de1e5-42cb-4003-8654-6f89f596de62",
   "metadata": {},
   "source": [
    "# NumPy\n",
    "- NumPy (Numerical Python) is an open source Python library that aids in nathematical and scientific programming.\n",
    "- - Used for working with arrays.\n",
    "  - In python we have lists that serve the purpose of arrays, but they are slow to process.\n",
    "  - NumPy aims to provide an array object that is up to 50x faster than the aditional python lists.\n",
    "  - NumPy is incradible library to perform mathematical and statistical operations due to it's fast and memory efficient.\n",
    "  - So processes can access and manipulate them very efficiently. Also it is optimized to work with latest CPU architectures.\n",
    "  - designed for working in domain of linear algebra, fourier transformations, matrices.\n",
    "  - NumPy works only with lists. "
   ]
  },
  {
   "cell_type": "code",
   "execution_count": 3,
   "id": "ad3e6a82-6f10-4190-8e2c-01f630c81d05",
   "metadata": {},
   "outputs": [
    {
     "name": "stdout",
     "output_type": "stream",
     "text": [
      "[1, 2, 3, 4, 5]\n",
      "<class 'list'>\n"
     ]
    }
   ],
   "source": [
    "a = [1,2,3,4,5]\n",
    "print(a)\n",
    "print(type(a))"
   ]
  },
  {
   "cell_type": "code",
   "execution_count": 4,
   "id": "5a14ee2f-166e-4e05-a6c5-d37aa46314e7",
   "metadata": {},
   "outputs": [],
   "source": [
    "## Import NumPy\n",
    "import numpy as np"
   ]
  },
  {
   "cell_type": "code",
   "execution_count": 6,
   "id": "8bc6a74e-34a7-475e-bc02-3235960ffa89",
   "metadata": {},
   "outputs": [
    {
     "data": {
      "text/plain": [
       "'1.21.5'"
      ]
     },
     "execution_count": 6,
     "metadata": {},
     "output_type": "execute_result"
    }
   ],
   "source": [
    "np.__version__\n",
    "## os is used to know the version of NumPy module. "
   ]
  },
  {
   "cell_type": "code",
   "execution_count": 7,
   "id": "315b6500-e3e3-4a51-a69b-4fde005121df",
   "metadata": {},
   "outputs": [
    {
     "name": "stdout",
     "output_type": "stream",
     "text": [
      "[1 2 3 4 5]\n",
      "<class 'numpy.ndarray'>\n"
     ]
    }
   ],
   "source": [
    "a = [1,2,3,4,5]\n",
    "np_a = np.array(a)  # This is create an array. \n",
    "print(np_a)\n",
    "print(type(np_a))"
   ]
  },
  {
   "cell_type": "code",
   "execution_count": 8,
   "id": "0965ad41-4ca3-45dd-bc80-9a9e498c20cd",
   "metadata": {},
   "outputs": [],
   "source": [
    "##-----------------------------------##"
   ]
  },
  {
   "cell_type": "code",
   "execution_count": 1,
   "id": "3bcb0dcb-5cb5-4040-aea5-04f9f9296834",
   "metadata": {},
   "outputs": [
    {
     "name": "stdout",
     "output_type": "stream",
     "text": [
      "[5, 5, 5]\n"
     ]
    }
   ],
   "source": [
    "# Without NumPy. \n",
    "\n",
    "# Add the elements of two arrayrs. \n",
    "\n",
    "l1 = [1,2,3]\n",
    "l2 = [4,3,2]\n",
    "\n",
    "# l1 + l2 = l3 = [5,5,5]   desired output. \n",
    "\n",
    "l3 = []\n",
    "for i in range(0,3):\n",
    "    a = l1[i] + l2[i]\n",
    "    l3.append(a)\n",
    "print(l3)"
   ]
  },
  {
   "cell_type": "code",
   "execution_count": 11,
   "id": "7b99096f-486c-43bc-a4c8-01c0000939f6",
   "metadata": {},
   "outputs": [
    {
     "name": "stdout",
     "output_type": "stream",
     "text": [
      "[5 5 5]\n"
     ]
    }
   ],
   "source": [
    "# same with NumPy.\n",
    "\n",
    "import numpy as np\n",
    "\n",
    "l1 = [1,2,3]\n",
    "l2 = [4,3,2]\n",
    "\n",
    "np_l1 = np.array(l1)\n",
    "np_l2 = np.array(l2)\n",
    "\n",
    "l3 = np_l1 + np_l2\n",
    "\n",
    "print(l3)"
   ]
  },
  {
   "cell_type": "markdown",
   "id": "36a82061-c4fd-4ad9-95b2-3cfddd51ef04",
   "metadata": {},
   "source": [
    "## Creating NumPy Arrays From a List. "
   ]
  },
  {
   "cell_type": "code",
   "execution_count": 17,
   "id": "89655903-5471-44f4-b36e-a5d851485df2",
   "metadata": {},
   "outputs": [
    {
     "name": "stdout",
     "output_type": "stream",
     "text": [
      "42\n"
     ]
    },
    {
     "data": {
      "text/plain": [
       "numpy.ndarray"
      ]
     },
     "execution_count": 17,
     "metadata": {},
     "output_type": "execute_result"
    }
   ],
   "source": [
    "# 0-D  - Zero Dimension Array. \n",
    "\n",
    "arr = np.array(42)\n",
    "print(arr)\n",
    "type(arr)"
   ]
  },
  {
   "cell_type": "code",
   "execution_count": 16,
   "id": "a413c8b6-2a6f-40ef-80ca-8148f29d21b0",
   "metadata": {},
   "outputs": [
    {
     "name": "stdout",
     "output_type": "stream",
     "text": [
      "[0 1 2 3]\n"
     ]
    }
   ],
   "source": [
    "# 1-D - One Dimensional Array\n",
    "import numpy as np\n",
    "\n",
    "a = np.array([0,1,2,3])\n",
    "print(a)"
   ]
  },
  {
   "cell_type": "code",
   "execution_count": 18,
   "id": "fefe4834-17c7-4c40-913f-2f677e89d6bb",
   "metadata": {},
   "outputs": [
    {
     "data": {
      "text/plain": [
       "1"
      ]
     },
     "execution_count": 18,
     "metadata": {},
     "output_type": "execute_result"
    }
   ],
   "source": [
    "# Print the dimensions of an arrary. \n",
    "a.ndim"
   ]
  },
  {
   "cell_type": "code",
   "execution_count": 22,
   "id": "577a6fb1-dc59-41f2-b18a-0362204114d4",
   "metadata": {},
   "outputs": [
    {
     "data": {
      "text/plain": [
       "(4,)"
      ]
     },
     "execution_count": 22,
     "metadata": {},
     "output_type": "execute_result"
    }
   ],
   "source": [
    "#shape\n",
    "a.shape"
   ]
  },
  {
   "cell_type": "code",
   "execution_count": 24,
   "id": "3696578d-3e88-4065-933d-2d96729f8f56",
   "metadata": {},
   "outputs": [
    {
     "name": "stdout",
     "output_type": "stream",
     "text": [
      "[[0 1 2]\n",
      " [3 4 5]]\n"
     ]
    }
   ],
   "source": [
    " # 2-D - Two Dimensional Array. \n",
    "\n",
    "b = np.array([[0,1,2], [3,4,5]])\n",
    "print(b)"
   ]
  },
  {
   "cell_type": "code",
   "execution_count": 26,
   "id": "5bfa25c5-5d87-4c7e-b3dc-c450efb070e4",
   "metadata": {},
   "outputs": [
    {
     "data": {
      "text/plain": [
       "2"
      ]
     },
     "execution_count": 26,
     "metadata": {},
     "output_type": "execute_result"
    }
   ],
   "source": [
    "b.ndim"
   ]
  },
  {
   "cell_type": "code",
   "execution_count": 28,
   "id": "c9640a26-7473-4f82-ba2c-8a7ab45aac43",
   "metadata": {},
   "outputs": [
    {
     "data": {
      "text/plain": [
       "(2, 3)"
      ]
     },
     "execution_count": 28,
     "metadata": {},
     "output_type": "execute_result"
    }
   ],
   "source": [
    "b.shape  # in this there are two row and 3 columns."
   ]
  },
  {
   "cell_type": "code",
   "execution_count": 32,
   "id": "fb9da0d4-d974-4b14-a51b-fab7869f1c28",
   "metadata": {},
   "outputs": [
    {
     "name": "stdout",
     "output_type": "stream",
     "text": [
      "[[1 2 3]\n",
      " [4 5 6]\n",
      " [7 8 9]]\n"
     ]
    }
   ],
   "source": [
    "#Matrix\n",
    "\n",
    "my_matric = [[1,2,3],[4,5,6],[7,8,9]]\n",
    "\n",
    "b = np.array(my_matric)\n",
    "print(b)"
   ]
  },
  {
   "cell_type": "code",
   "execution_count": 33,
   "id": "5dee0122-cca2-45b3-bebe-940fed210612",
   "metadata": {},
   "outputs": [
    {
     "data": {
      "text/plain": [
       "2"
      ]
     },
     "execution_count": 33,
     "metadata": {},
     "output_type": "execute_result"
    }
   ],
   "source": [
    "b.ndim"
   ]
  },
  {
   "cell_type": "code",
   "execution_count": 34,
   "id": "1c6be68e-ed10-417a-a0ec-46584d69ae0c",
   "metadata": {},
   "outputs": [
    {
     "data": {
      "text/plain": [
       "(3, 3)"
      ]
     },
     "execution_count": 34,
     "metadata": {},
     "output_type": "execute_result"
    }
   ],
   "source": [
    "b.shape"
   ]
  },
  {
   "cell_type": "markdown",
   "id": "64d97b7a-766f-4b0f-8a42-9daa1c4f3c28",
   "metadata": {},
   "source": [
    "## Functions to creating arrays. \n",
    "\n",
    "### arange\n",
    "- arange is an array-valued version of the built-in Python range function.\n",
    "- Syntax: np.arange(start,end,step)"
   ]
  },
  {
   "cell_type": "code",
   "execution_count": 35,
   "id": "ea0343b8-257f-41d3-8883-d26580a18087",
   "metadata": {},
   "outputs": [
    {
     "name": "stdout",
     "output_type": "stream",
     "text": [
      "[10 20 30 40 50 60 70 80 90]\n"
     ]
    }
   ],
   "source": [
    "a = np.arange(10,100,10) # start, end(exclusive),step\n",
    "print(a)"
   ]
  },
  {
   "cell_type": "code",
   "execution_count": 37,
   "id": "cfc0bf7a-1a4f-4b5e-a847-2ee6a3bf06ad",
   "metadata": {},
   "outputs": [
    {
     "data": {
      "text/plain": [
       "1"
      ]
     },
     "execution_count": 37,
     "metadata": {},
     "output_type": "execute_result"
    }
   ],
   "source": [
    "a.ndim"
   ]
  },
  {
   "cell_type": "code",
   "execution_count": 38,
   "id": "6f043307-e60c-447a-8420-7cbb145b3aa0",
   "metadata": {},
   "outputs": [
    {
     "data": {
      "text/plain": [
       "(9,)"
      ]
     },
     "execution_count": 38,
     "metadata": {},
     "output_type": "execute_result"
    }
   ],
   "source": [
    "a.shape"
   ]
  },
  {
   "cell_type": "markdown",
   "id": "29f274ab-7ee4-4ca2-9814-bfee284e2c3f",
   "metadata": {},
   "source": [
    "### linespace\n",
    "- Return evenly spaced numbers over a specified interval.\n",
    "- Syntax: np.linspace(start, end, num_of_samples)\n",
    "- Default num_of_samples is 50 (you can find this in help file (shit+tab))"
   ]
  },
  {
   "cell_type": "code",
   "execution_count": 45,
   "id": "8243ee60-a728-42e1-a44d-452792cfb78b",
   "metadata": {},
   "outputs": [
    {
     "name": "stdout",
     "output_type": "stream",
     "text": [
      "[ 0.  5. 10.]\n"
     ]
    }
   ],
   "source": [
    "ls = np.linspace(0, 10, 3)\n",
    "print(ls)"
   ]
  },
  {
   "cell_type": "code",
   "execution_count": 46,
   "id": "bab013fe-1ec4-4b7c-9b81-16b358220702",
   "metadata": {},
   "outputs": [
    {
     "data": {
      "text/plain": [
       "(3,)"
      ]
     },
     "execution_count": 46,
     "metadata": {},
     "output_type": "execute_result"
    }
   ],
   "source": [
    "ls.shape"
   ]
  },
  {
   "cell_type": "code",
   "execution_count": 50,
   "id": "239a0106-68e8-4b17-b730-7b60d50a2f86",
   "metadata": {},
   "outputs": [
    {
     "data": {
      "text/plain": [
       "array([  0.,   1.,   2.,   3.,   4.,   5.,   6.,   7.,   8.,   9.,  10.,\n",
       "        11.,  12.,  13.,  14.,  15.,  16.,  17.,  18.,  19.,  20.,  21.,\n",
       "        22.,  23.,  24.,  25.,  26.,  27.,  28.,  29.,  30.,  31.,  32.,\n",
       "        33.,  34.,  35.,  36.,  37.,  38.,  39.,  40.,  41.,  42.,  43.,\n",
       "        44.,  45.,  46.,  47.,  48.,  49.,  50.,  51.,  52.,  53.,  54.,\n",
       "        55.,  56.,  57.,  58.,  59.,  60.,  61.,  62.,  63.,  64.,  65.,\n",
       "        66.,  67.,  68.,  69.,  70.,  71.,  72.,  73.,  74.,  75.,  76.,\n",
       "        77.,  78.,  79.,  80.,  81.,  82.,  83.,  84.,  85.,  86.,  87.,\n",
       "        88.,  89.,  90.,  91.,  92.,  93.,  94.,  95.,  96.,  97.,  98.,\n",
       "        99., 100.])"
      ]
     },
     "execution_count": 50,
     "metadata": {},
     "output_type": "execute_result"
    }
   ],
   "source": [
    "ls = np.linspace(0,100,101)\n",
    "ls"
   ]
  },
  {
   "cell_type": "markdown",
   "id": "499c0f87-30e2-4f4d-b04a-c1b3d2c598fb",
   "metadata": {},
   "source": [
    "### zeros\n",
    "- Generate arrays of zeros.\n",
    "- Syntax: np.zeros(shape)"
   ]
  },
  {
   "cell_type": "code",
   "execution_count": 54,
   "id": "66590ac9-eab9-4ce1-a96a-7cefe743bc79",
   "metadata": {},
   "outputs": [
    {
     "data": {
      "text/plain": [
       "array([0, 0, 0])"
      ]
     },
     "execution_count": 54,
     "metadata": {},
     "output_type": "execute_result"
    }
   ],
   "source": [
    "np.zeros((3,),dtype=int)"
   ]
  },
  {
   "cell_type": "code",
   "execution_count": 53,
   "id": "fbd22c81-1f39-4395-aa55-2e0ce236123e",
   "metadata": {},
   "outputs": [
    {
     "data": {
      "text/plain": [
       "array([[0., 0., 0.],\n",
       "       [0., 0., 0.],\n",
       "       [0., 0., 0.]])"
      ]
     },
     "execution_count": 53,
     "metadata": {},
     "output_type": "execute_result"
    }
   ],
   "source": [
    "np.zeros((3,3)) # Zero matrix or null matrix"
   ]
  },
  {
   "cell_type": "markdown",
   "id": "363b7068-d737-4743-b0e4-fc5090ce5a85",
   "metadata": {},
   "source": [
    "### random.randint\n",
    "- Return random integers from start(inclusive) to end (exclusive)\n",
    "- Syntax: np.random.randint(start,end,num_of_samples)"
   ]
  },
  {
   "cell_type": "code",
   "execution_count": 55,
   "id": "8ac9c909-4102-48a5-b213-f3bc975981e0",
   "metadata": {},
   "outputs": [
    {
     "data": {
      "text/plain": [
       "array([6, 7, 2, 2, 7])"
      ]
     },
     "execution_count": 55,
     "metadata": {},
     "output_type": "execute_result"
    }
   ],
   "source": [
    "np.random.randint(1,10,5)"
   ]
  },
  {
   "cell_type": "markdown",
   "id": "8143c963-74f3-401c-b9ac-44700d4d2cd2",
   "metadata": {},
   "source": [
    "# Accesing elements\n",
    "- Accessing a single value through indexing.\n",
    "- Accessing a multiple value based on indexing.\n",
    "- Accessing a multiple value based on indexing.\n",
    "- Accessing a multiple value based on condition. "
   ]
  },
  {
   "cell_type": "markdown",
   "id": "d127ac8b-c106-4886-9909-e451bd36e5c2",
   "metadata": {},
   "source": [
    "### Indexing\n",
    "- indexing a single value."
   ]
  },
  {
   "cell_type": "code",
   "execution_count": 59,
   "id": "409d15e4-46be-4883-90d0-61c770ac8d6a",
   "metadata": {},
   "outputs": [
    {
     "name": "stdout",
     "output_type": "stream",
     "text": [
      "[ 0  3  6  9 12 15 18 21 24 27 30]\n",
      "Index: 15\n"
     ]
    }
   ],
   "source": [
    "a = np.arange(0,31,3)\n",
    "print(a)\n",
    "print(\"Index:\",a[5])"
   ]
  },
  {
   "cell_type": "markdown",
   "id": "b2b2bc6e-947e-46a6-b42f-d28bddbaae9d",
   "metadata": {},
   "source": [
    "### Slicing"
   ]
  },
  {
   "cell_type": "code",
   "execution_count": 60,
   "id": "3760f5c9-766a-4847-bb67-8af6e8bf6f30",
   "metadata": {},
   "outputs": [
    {
     "data": {
      "text/plain": [
       "array([ 3,  9, 15, 21])"
      ]
     },
     "execution_count": 60,
     "metadata": {},
     "output_type": "execute_result"
    }
   ],
   "source": [
    "a[1:8:2] #[startingdex: endindex(exclusive):step}"
   ]
  },
  {
   "cell_type": "markdown",
   "id": "8bc1590d-3e76-412a-bc01-7f363872dd8a",
   "metadata": {},
   "source": [
    "### Indexing multiple values Indexing.\n",
    "syntax: array[list of index numbers]"
   ]
  },
  {
   "cell_type": "code",
   "execution_count": 62,
   "id": "aa8c3719-fa62-4496-967d-13238b5a8035",
   "metadata": {},
   "outputs": [
    {
     "data": {
      "text/plain": [
       "array([ 0,  9, 12, 15, 30])"
      ]
     },
     "execution_count": 62,
     "metadata": {},
     "output_type": "execute_result"
    }
   ],
   "source": [
    "#Indexing can be done with an array of integers, where the same index is represented.\n",
    "a[[0,3,4,5,10]]"
   ]
  },
  {
   "cell_type": "markdown",
   "id": "ff83ae8f-eff5-414b-a2f8-5a38ee95029c",
   "metadata": {},
   "source": [
    "### Mask Indexing or Fancy Indexing (Important topic)"
   ]
  },
  {
   "cell_type": "code",
   "execution_count": 63,
   "id": "b1016959-68bb-4447-969e-58b18c090e37",
   "metadata": {},
   "outputs": [
    {
     "data": {
      "text/plain": [
       "array([ True, False,  True, False,  True, False,  True, False,  True,\n",
       "       False,  True])"
      ]
     },
     "execution_count": 63,
     "metadata": {},
     "output_type": "execute_result"
    }
   ],
   "source": [
    "a%2==0"
   ]
  },
  {
   "cell_type": "code",
   "execution_count": 65,
   "id": "3cf1dcc1-da91-46d6-8d2f-7a2cb79098bb",
   "metadata": {},
   "outputs": [
    {
     "data": {
      "text/plain": [
       "array([ 0,  6, 12, 18, 24, 30])"
      ]
     },
     "execution_count": 65,
     "metadata": {},
     "output_type": "execute_result"
    }
   ],
   "source": [
    "a[a%2==0]   # only true values are take. "
   ]
  },
  {
   "cell_type": "code",
   "execution_count": null,
   "id": "19f6cf76-2ee5-4126-b492-25941e1ce6d7",
   "metadata": {},
   "outputs": [],
   "source": []
  }
 ],
 "metadata": {
  "kernelspec": {
   "display_name": "Python 3 (ipykernel)",
   "language": "python",
   "name": "python3"
  },
  "language_info": {
   "codemirror_mode": {
    "name": "ipython",
    "version": 3
   },
   "file_extension": ".py",
   "mimetype": "text/x-python",
   "name": "python",
   "nbconvert_exporter": "python",
   "pygments_lexer": "ipython3",
   "version": "3.9.7"
  }
 },
 "nbformat": 4,
 "nbformat_minor": 5
}
