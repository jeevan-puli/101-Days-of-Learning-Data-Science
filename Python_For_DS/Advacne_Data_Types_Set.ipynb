{
 "cells": [
  {
   "cell_type": "markdown",
   "id": "3a3b747a-0bd1-40d9-958a-88007f6aca3d",
   "metadata": {},
   "source": [
    "# Sets\n",
    "- Sets can be used to perform mathematical set operations like union, intersection, symmetric difference etc.\n",
    "- A set is an unordered collection of items.\n",
    "- Set is defined by values separated by comma inside braces {}.\n",
    "- Every element is unique(no duplicates).\n",
    "- Set does not support indexing, because it is unordered  collection of items."
   ]
  },
  {
   "cell_type": "markdown",
   "id": "9273c934-e2d0-4a8d-b806-79906802fe35",
   "metadata": {},
   "source": [
    "#### Empty set. "
   ]
  },
  {
   "cell_type": "code",
   "execution_count": 2,
   "id": "f964b0a5-b381-484a-8aa1-f6938f0f26df",
   "metadata": {},
   "outputs": [
    {
     "name": "stdout",
     "output_type": "stream",
     "text": [
      "set()\n"
     ]
    },
    {
     "data": {
      "text/plain": [
       "set"
      ]
     },
     "execution_count": 2,
     "metadata": {},
     "output_type": "execute_result"
    }
   ],
   "source": [
    "set_var = set()\n",
    "print(set_var)\n",
    "type(set_var)"
   ]
  },
  {
   "cell_type": "code",
   "execution_count": 5,
   "id": "e19959c0-6317-4e50-b783-035f0f389d6f",
   "metadata": {},
   "outputs": [
    {
     "name": "stdout",
     "output_type": "stream",
     "text": [
      "{1, 3, 4, 5, 6, 20}\n"
     ]
    }
   ],
   "source": [
    "a = {1,20,3,4,5,6}\n",
    "print(a)"
   ]
  },
  {
   "cell_type": "code",
   "execution_count": 6,
   "id": "45d4dea7-214e-400c-86d7-b865a9751cb7",
   "metadata": {},
   "outputs": [
    {
     "name": "stdout",
     "output_type": "stream",
     "text": [
      "{1, 3, 4, 5, 6, 20}\n"
     ]
    }
   ],
   "source": [
    "print(a)"
   ]
  },
  {
   "cell_type": "code",
   "execution_count": 8,
   "id": "146cdaa6-b64d-4e04-87b1-f7d94fd6aa29",
   "metadata": {},
   "outputs": [
    {
     "name": "stdout",
     "output_type": "stream",
     "text": [
      "{40, 50, 20, 30}\n"
     ]
    }
   ],
   "source": [
    "b = {20,30,40,40,40,40,50}\n",
    "print(b)                            #Sets do not save duplicates. "
   ]
  },
  {
   "cell_type": "code",
   "execution_count": 9,
   "id": "60e235c8-e619-43dd-8d2f-7e862cdaac93",
   "metadata": {},
   "outputs": [
    {
     "ename": "TypeError",
     "evalue": "'set' object is not subscriptable",
     "output_type": "error",
     "traceback": [
      "\u001b[0;31m---------------------------------------------------------------------------\u001b[0m",
      "\u001b[0;31mTypeError\u001b[0m                                 Traceback (most recent call last)",
      "\u001b[0;32m/var/folders/m_/0sjrbfvs43jdhs_tkhk_sbqc0000gn/T/ipykernel_50643/277079519.py\u001b[0m in \u001b[0;36m<module>\u001b[0;34m\u001b[0m\n\u001b[0;32m----> 1\u001b[0;31m \u001b[0mprint\u001b[0m\u001b[0;34m(\u001b[0m\u001b[0mb\u001b[0m\u001b[0;34m[\u001b[0m\u001b[0;36m2\u001b[0m\u001b[0;34m]\u001b[0m\u001b[0;34m)\u001b[0m\u001b[0;34m\u001b[0m\u001b[0;34m\u001b[0m\u001b[0m\n\u001b[0m",
      "\u001b[0;31mTypeError\u001b[0m: 'set' object is not subscriptable"
     ]
    }
   ],
   "source": [
    "print(b[2])                        # No indexing is allowed for sets. "
   ]
  },
  {
   "cell_type": "code",
   "execution_count": 10,
   "id": "0815e0af-5981-474a-88ac-323e66436672",
   "metadata": {},
   "outputs": [
    {
     "name": "stdout",
     "output_type": "stream",
     "text": [
      "{1, 2, 3}\n"
     ]
    }
   ],
   "source": [
    "s = [1,2,3,1,2,3,1,2,3]\n",
    "c = set(s)\n",
    "print(c)                               # sets can be used to remove duplicates. "
   ]
  },
  {
   "cell_type": "markdown",
   "id": "56657de3-a751-4328-b2f6-c44735379b37",
   "metadata": {},
   "source": [
    "#### Set Methods.  \n",
    "- set.add() --> we can add single element.\n",
    "- set.update() --> can add multiple elements.\n",
    "- set.copy() --> copy complete set.\n",
    "- set.discard() --> remove the particular value if it is available.\n",
    "- set.remove() --> remove the particular value if it is available, else print error.\n",
    "- set. clear() --> it deletes all items in set. "
   ]
  },
  {
   "cell_type": "code",
   "execution_count": 12,
   "id": "cd635599-70ed-4637-9ee0-fdeddd0dee1c",
   "metadata": {},
   "outputs": [
    {
     "name": "stdout",
     "output_type": "stream",
     "text": [
      "set()\n",
      "{3}\n"
     ]
    }
   ],
   "source": [
    "c = set()\n",
    "print(c)\n",
    "c.add(3)\n",
    "print(c)  #set.add()\n"
   ]
  },
  {
   "cell_type": "code",
   "execution_count": 13,
   "id": "3869c4e6-44ff-42ec-b9e0-183091ab53e3",
   "metadata": {},
   "outputs": [
    {
     "name": "stdout",
     "output_type": "stream",
     "text": [
      "{'abc', 3, 4, 6, 8, 14}\n"
     ]
    }
   ],
   "source": [
    "s = {3,4}\n",
    "s.update([8,6,14,\"abc\"])     #set.update()\n",
    "print(s)"
   ]
  },
  {
   "cell_type": "markdown",
   "id": "93d7d4d2-c838-4570-87fd-78aa3389c257",
   "metadata": {},
   "source": [
    "x = {4,5,6}\n",
    "y = x.copy()\n",
    "y.add(7)\n",
    "print(x)\n",
    "print(y)           #set.copy()"
   ]
  },
  {
   "cell_type": "code",
   "execution_count": 19,
   "id": "48fcece7-6358-4ad0-b73e-c3df7b52f148",
   "metadata": {},
   "outputs": [
    {
     "name": "stdout",
     "output_type": "stream",
     "text": [
      "{1, 3, 5, 6}\n",
      "{1, 3, 5, 6}\n"
     ]
    }
   ],
   "source": [
    "s = {1, 3, 4, 5, 6}\n",
    "s.discard(4)      # avaiable so it will remove 4.\n",
    "print(s)\n",
    "s.discard(8)   #not avaiable do noting, no error as well. \n",
    "print(s)"
   ]
  },
  {
   "cell_type": "code",
   "execution_count": 20,
   "id": "c9722c2e-67a2-4a2f-8cb5-92c875aeecb5",
   "metadata": {},
   "outputs": [
    {
     "ename": "KeyError",
     "evalue": "70",
     "output_type": "error",
     "traceback": [
      "\u001b[0;31m---------------------------------------------------------------------------\u001b[0m",
      "\u001b[0;31mKeyError\u001b[0m                                  Traceback (most recent call last)",
      "\u001b[0;32m/var/folders/m_/0sjrbfvs43jdhs_tkhk_sbqc0000gn/T/ipykernel_50643/3204476631.py\u001b[0m in \u001b[0;36m<module>\u001b[0;34m\u001b[0m\n\u001b[0;32m----> 1\u001b[0;31m \u001b[0ms\u001b[0m\u001b[0;34m.\u001b[0m\u001b[0mremove\u001b[0m\u001b[0;34m(\u001b[0m\u001b[0;36m70\u001b[0m\u001b[0;34m)\u001b[0m\u001b[0;34m\u001b[0m\u001b[0;34m\u001b[0m\u001b[0m\n\u001b[0m",
      "\u001b[0;31mKeyError\u001b[0m: 70"
     ]
    }
   ],
   "source": [
    "s.remove(70) # this iwll through error."
   ]
  },
  {
   "cell_type": "markdown",
   "id": "2039bf1a-3d2c-47c6-bb76-e73d9b64dbe9",
   "metadata": {},
   "source": [
    "#### Set Operations. "
   ]
  },
  {
   "cell_type": "code",
   "execution_count": 21,
   "id": "50d0477b-ee0d-486c-8ba8-7aaf1392f5e0",
   "metadata": {},
   "outputs": [],
   "source": [
    "set1 = {1,2,3,4,5}\n",
    "set2 = {3,4,5,6}"
   ]
  },
  {
   "cell_type": "markdown",
   "id": "1aa22ad8-dead-46b3-ab7c-83aa9f227331",
   "metadata": {},
   "source": [
    "- Union "
   ]
  },
  {
   "cell_type": "code",
   "execution_count": 24,
   "id": "a791eb3e-bdc9-4776-9304-bf5adf3628e7",
   "metadata": {},
   "outputs": [
    {
     "data": {
      "text/plain": [
       "{1, 2, 3, 4, 5, 6}"
      ]
     },
     "execution_count": 24,
     "metadata": {},
     "output_type": "execute_result"
    }
   ],
   "source": [
    "set1.union(set2)"
   ]
  },
  {
   "cell_type": "code",
   "execution_count": null,
   "id": "9a3b0486-438e-44d8-aa90-ff3c3d79f1b5",
   "metadata": {},
   "outputs": [],
   "source": []
  }
 ],
 "metadata": {
  "kernelspec": {
   "display_name": "Python 3 (ipykernel)",
   "language": "python",
   "name": "python3"
  },
  "language_info": {
   "codemirror_mode": {
    "name": "ipython",
    "version": 3
   },
   "file_extension": ".py",
   "mimetype": "text/x-python",
   "name": "python",
   "nbconvert_exporter": "python",
   "pygments_lexer": "ipython3",
   "version": "3.9.7"
  }
 },
 "nbformat": 4,
 "nbformat_minor": 5
}
