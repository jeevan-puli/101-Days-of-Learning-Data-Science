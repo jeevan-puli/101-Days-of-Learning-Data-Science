{
 "cells": [
  {
   "cell_type": "markdown",
   "id": "9623b5e6-e2f8-4ea4-a845-723abf516aaf",
   "metadata": {},
   "source": [
    "# Module\n",
    "- A group of functions, and variables saved to a file, which is nothing but a module.\n",
    "- Every Python file (.py) acts as a module.\n",
    "\n",
    "## Types of Modules\n",
    "- Inbuilt Module\n",
    "- - Math\n",
    "  - Random\n",
    "- User-defined Module\n",
    "- - If we want to use members of the module in our program then we should import that module.\n",
    "  - Import module name.\n",
    "\n",
    "## Various Possibilities of Import:\n",
    "1. Import Modulename.\n",
    "2. Import module1,module2,module3\n",
    "3. Import module 1 as m\n",
    "4. Import module 1 as m1, module2 as m2, module3 as m3\n",
    "5. from module import member\n",
    "6. from module import memer2, member2,membr3\n",
    "7. from the module import member1 as x\n",
    "8. from module import*\n",
    "\n",
    "## We can access members by using the module name. \n",
    "- modulename.variable\n",
    "- modulename.function()\n",
    "\n",
    "## Inbuilt Module\n",
    "#### Working with math module.\n",
    "- Python provides inbuild module math.\n",
    "- This module defines several functions which can be used for mathematical operations. "
   ]
  },
  {
   "cell_type": "markdown",
   "id": "aa91b4a8-b785-435a-ac65-251ebbfaf906",
   "metadata": {},
   "source": [
    "## Math Module and different Possibilities of Import:"
   ]
  },
  {
   "cell_type": "code",
   "execution_count": 13,
   "id": "cfcac084-8fa2-440b-920f-9adc9cf6d24e",
   "metadata": {},
   "outputs": [],
   "source": [
    "import math  # Importing all math.py file. "
   ]
  },
  {
   "cell_type": "code",
   "execution_count": null,
   "id": "58304aa2-2bae-4b47-8744-1eb4aaaa6c73",
   "metadata": {},
   "outputs": [],
   "source": [
    "help(math)\n",
    "\n",
    "## This will help to see all available functions with in the .py file. "
   ]
  },
  {
   "cell_type": "code",
   "execution_count": null,
   "id": "5097edfb-5233-443d-8f4c-dd0a60c00e3b",
   "metadata": {},
   "outputs": [],
   "source": [
    "math.exp(1)"
   ]
  },
  {
   "cell_type": "code",
   "execution_count": 4,
   "id": "038a9b34-8c89-4f70-a2c6-ef32129bf0d4",
   "metadata": {},
   "outputs": [
    {
     "data": {
      "text/plain": [
       "7.38905609893065"
      ]
     },
     "execution_count": 4,
     "metadata": {},
     "output_type": "execute_result"
    }
   ],
   "source": [
    "math.exp(2)"
   ]
  },
  {
   "cell_type": "code",
   "execution_count": 6,
   "id": "1095847c-c196-45da-9a46-5ce7d5555fbe",
   "metadata": {},
   "outputs": [
    {
     "data": {
      "text/plain": [
       "2.0"
      ]
     },
     "execution_count": 6,
     "metadata": {},
     "output_type": "execute_result"
    }
   ],
   "source": [
    "math.sqrt(4)"
   ]
  },
  {
   "cell_type": "code",
   "execution_count": 7,
   "id": "ff8e76ab-bdd7-4b50-b2ea-1a826fa36aaa",
   "metadata": {},
   "outputs": [
    {
     "data": {
      "text/plain": [
       "4.0"
      ]
     },
     "execution_count": 7,
     "metadata": {},
     "output_type": "execute_result"
    }
   ],
   "source": [
    "math.sqrt(16)"
   ]
  },
  {
   "cell_type": "code",
   "execution_count": 8,
   "id": "62963642-fd6b-4ae4-93ff-43398e111077",
   "metadata": {},
   "outputs": [
    {
     "data": {
      "text/plain": [
       "float"
      ]
     },
     "execution_count": 8,
     "metadata": {},
     "output_type": "execute_result"
    }
   ],
   "source": [
    "type(math.sqrt(16))"
   ]
  },
  {
   "cell_type": "code",
   "execution_count": 9,
   "id": "da19754d-8638-42d6-8a12-0290cbda62a4",
   "metadata": {},
   "outputs": [
    {
     "data": {
      "text/plain": [
       "9.0"
      ]
     },
     "execution_count": 9,
     "metadata": {},
     "output_type": "execute_result"
    }
   ],
   "source": [
    "math.pow(3,2)"
   ]
  },
  {
   "cell_type": "markdown",
   "id": "2dfd3e98-fdb0-4255-bb27-1e93151c0a58",
   "metadata": {},
   "source": [
    "### We can know which function is available in which module by googling. "
   ]
  },
  {
   "cell_type": "code",
   "execution_count": 11,
   "id": "46130d9f-33d0-45e6-8872-72d4569468b3",
   "metadata": {},
   "outputs": [
    {
     "data": {
      "text/plain": [
       "2.33"
      ]
     },
     "execution_count": 11,
     "metadata": {},
     "output_type": "execute_result"
    }
   ],
   "source": [
    "math.fabs(-2.33)"
   ]
  },
  {
   "cell_type": "code",
   "execution_count": 14,
   "id": "cc7479e3-02d1-4fb6-a5d2-5b0a1a38fbff",
   "metadata": {},
   "outputs": [],
   "source": [
    "from math import *  # Importing all functions in the match.py file. \n",
    "\n",
    "# The advantage is that we do not need to write match.function(), We can directly call the function. "
   ]
  },
  {
   "cell_type": "code",
   "execution_count": 16,
   "id": "0ef75304-eaee-4e90-84e0-d1fc07006c12",
   "metadata": {},
   "outputs": [
    {
     "data": {
      "text/plain": [
       "64.0"
      ]
     },
     "execution_count": 16,
     "metadata": {},
     "output_type": "execute_result"
    }
   ],
   "source": [
    "pow(4,3) # in step 9 same function is written as math.pow(3,2) since we used import math. "
   ]
  },
  {
   "cell_type": "code",
   "execution_count": 17,
   "id": "42477266-ecba-4e98-9c6f-3a23b3d83682",
   "metadata": {},
   "outputs": [
    {
     "data": {
      "text/plain": [
       "120"
      ]
     },
     "execution_count": 17,
     "metadata": {},
     "output_type": "execute_result"
    }
   ],
   "source": [
    "factorial(5)"
   ]
  },
  {
   "cell_type": "markdown",
   "id": "c935a04b-8146-48de-b98b-029e8da861d3",
   "metadata": {},
   "source": [
    "## Working with random Module::\n",
    "- This module defines several functions to generate random numbers.\n",
    "- We can use these functions while developing games, in cryptography and to generate random numbers on the fly for authentication, etc.\n",
    "- All this can be found in google depending on our requirement.  "
   ]
  },
  {
   "cell_type": "code",
   "execution_count": 18,
   "id": "915754d4-ed6e-4bf9-a91d-518e8ddd8f0e",
   "metadata": {},
   "outputs": [],
   "source": [
    "import random"
   ]
  },
  {
   "cell_type": "code",
   "execution_count": null,
   "id": "ab779cb8-373b-47b9-be86-0ea10ea86139",
   "metadata": {},
   "outputs": [],
   "source": [
    "help(random) # Use this to know all available functions in this .py file. "
   ]
  },
  {
   "cell_type": "code",
   "execution_count": 19,
   "id": "ce2b8e59-e498-400d-8c68-ef94f3e6d58f",
   "metadata": {},
   "outputs": [
    {
     "data": {
      "text/plain": [
       "0.8546010268088823"
      ]
     },
     "execution_count": 19,
     "metadata": {},
     "output_type": "execute_result"
    }
   ],
   "source": [
    "#random() function: This function always generates some floating value between 0 and 1\n",
    "random.random()"
   ]
  },
  {
   "cell_type": "code",
   "execution_count": 21,
   "id": "2533d21d-ad64-4524-92da-f1d2c00b2e9e",
   "metadata": {},
   "outputs": [
    {
     "name": "stdout",
     "output_type": "stream",
     "text": [
      "0.32999765984518525\n",
      "0.22775991900923265\n",
      "0.4460900002791184\n",
      "0.9996222273879919\n",
      "0.4134807953014743\n"
     ]
    }
   ],
   "source": [
    "## Print 5 random numbers between 0 to 1. \n",
    "\n",
    "for i in range(5):\n",
    "    print(random.random())"
   ]
  },
  {
   "cell_type": "code",
   "execution_count": 24,
   "id": "47590b1e-7f01-40c8-af5a-dfb549eab397",
   "metadata": {},
   "outputs": [
    {
     "data": {
      "text/plain": [
       "481"
      ]
     },
     "execution_count": 24,
     "metadata": {},
     "output_type": "execute_result"
    }
   ],
   "source": [
    "# randint() Function: To generate random integer between two given numbers(inclusive)\n",
    "random.randint(1,500)"
   ]
  },
  {
   "cell_type": "code",
   "execution_count": 25,
   "id": "16e33be3-925f-4454-822f-69e8d54d3e77",
   "metadata": {},
   "outputs": [
    {
     "name": "stdout",
     "output_type": "stream",
     "text": [
      "85\n",
      "11\n",
      "67\n",
      "99\n",
      "29\n"
     ]
    }
   ],
   "source": [
    "# Print 5 random numbers between 1 to 100.\n",
    "for i in range(5):\n",
    "    print(random.randint(1,100))"
   ]
  },
  {
   "cell_type": "code",
   "execution_count": 40,
   "id": "2118e4a7-62c6-409b-9823-62efb23af7ab",
   "metadata": {},
   "outputs": [
    {
     "name": "stdin",
     "output_type": "stream",
     "text": [
      "Enter number of random numbers you want to print: 5\n",
      "Enter lower limit: 100\n",
      "Enter upper limit: 100\n"
     ]
    },
    {
     "name": "stdout",
     "output_type": "stream",
     "text": [
      "Cannot print required random numbers with given range\n"
     ]
    }
   ],
   "source": [
    "# Print random numbers as per user requirement.\n",
    "\n",
    "randNum = int(input(\"Enter number of random numbers you want to print:\"))\n",
    "\n",
    "if randNum <= 0:\n",
    "    print(\"Please enter +ve values\")\n",
    "else:\n",
    "    st_range = int(input(\"Enter lower limit:\"))\n",
    "    ed_range = int(input(\"Enter upper limit:\"))\n",
    "\n",
    "    if ed_range - st_range < randNum:\n",
    "        print(\"Cannot print required random numbers with given range\")\n",
    "    else:\n",
    "        for i in range(randNum):\n",
    "            print(random.randint(st_range,ed_range))"
   ]
  },
  {
   "cell_type": "code",
   "execution_count": 42,
   "id": "c6cff28d-89a1-4942-886c-74f49331bc64",
   "metadata": {},
   "outputs": [
    {
     "data": {
      "text/plain": [
       "14"
      ]
     },
     "execution_count": 42,
     "metadata": {},
     "output_type": "execute_result"
    }
   ],
   "source": [
    "# randrange() Function: To generate random integer or intergers in given random range. \n",
    "random.randrange(2,101,2)\n",
    "\n",
    "# this will randomly select one number between 2 and 101 with 2 increment i.e only even numbers. "
   ]
  },
  {
   "cell_type": "code",
   "execution_count": 45,
   "id": "57fb45a9-c0ec-4adf-9bd3-ecd4bd0822fe",
   "metadata": {},
   "outputs": [
    {
     "data": {
      "text/plain": [
       "'Munna'"
      ]
     },
     "execution_count": 45,
     "metadata": {},
     "output_type": "execute_result"
    }
   ],
   "source": [
    "#choice() Function: It won't return random name. It will return a random object. \n",
    "list = [\"suresh\",\"naresh\",\"Munna\",\"Jeevan\",\"rabbi\"]\n",
    "random.choice(list)"
   ]
  },
  {
   "cell_type": "markdown",
   "id": "9d1ebd5c-0f35-41fb-bc67-f09c381d54af",
   "metadata": {},
   "source": [
    "## Userdefined Modules\n",
    "\n",
    "#### Working Directory:: The folder, where your code is present is called working directory. "
   ]
  },
  {
   "cell_type": "code",
   "execution_count": null,
   "id": "6dcc1ff9-3950-4fc0-b81e-2e0e1c211532",
   "metadata": {},
   "outputs": [],
   "source": [
    "# Option 1.\n",
    "pwd\n",
    "\n",
    "# pwd will give you a working directory. "
   ]
  },
  {
   "cell_type": "code",
   "execution_count": null,
   "id": "35e8b958-28c2-48cd-877c-097af617b4e8",
   "metadata": {},
   "outputs": [],
   "source": [
    "# option 2.\n",
    "\n",
    "import os\n",
    "os.getcwd()"
   ]
  },
  {
   "cell_type": "markdown",
   "id": "11cf210f-279a-4e63-ac81-04ce1286d44a",
   "metadata": {},
   "source": [
    "### Setting Working directory."
   ]
  },
  {
   "cell_type": "code",
   "execution_count": null,
   "id": "93c3358e-dcdb-48e8-b10b-e2dc9905303a",
   "metadata": {},
   "outputs": [],
   "source": [
    "# changing the working directory. \n",
    "os.chdir(\"<File_Path\")"
   ]
  },
  {
   "cell_type": "code",
   "execution_count": 13,
   "id": "2e085ff8-81c5-4928-831a-94936044993c",
   "metadata": {},
   "outputs": [
    {
     "data": {
      "text/plain": [
       "'/Users/puli/101-Days-of-Learning-Data-Science/Python_For_DS/Modules'"
      ]
     },
     "execution_count": 13,
     "metadata": {},
     "output_type": "execute_result"
    }
   ],
   "source": [
    "pwd"
   ]
  },
  {
   "cell_type": "code",
   "execution_count": 1,
   "id": "06c7d675-fec5-4608-87d5-75a3e98ebd7b",
   "metadata": {},
   "outputs": [],
   "source": [
    "import jeeva"
   ]
  },
  {
   "cell_type": "code",
   "execution_count": 24,
   "id": "b5500467-f996-4afa-9166-8c26a89e3bc1",
   "metadata": {},
   "outputs": [
    {
     "data": {
      "text/plain": [
       "5"
      ]
     },
     "execution_count": 24,
     "metadata": {},
     "output_type": "execute_result"
    }
   ],
   "source": [
    "jeeva.add(3,2)"
   ]
  },
  {
   "cell_type": "code",
   "execution_count": 2,
   "id": "c573fc52-b510-4415-8c6d-a4f350b7904f",
   "metadata": {},
   "outputs": [
    {
     "name": "stdout",
     "output_type": "stream",
     "text": [
      "99\n"
     ]
    }
   ],
   "source": [
    "print(jeeva.x)"
   ]
  },
  {
   "cell_type": "code",
   "execution_count": 3,
   "id": "72e6dd5a-40d5-4a17-857e-631df75795a4",
   "metadata": {},
   "outputs": [
    {
     "name": "stdout",
     "output_type": "stream",
     "text": [
      "99\n",
      "40\n",
      "10\n"
     ]
    }
   ],
   "source": [
    "import jeeva as j  #renaming a module at the time of import. \n",
    "\n",
    "print(j.x)\n",
    "print(j.add(10,30))\n",
    "print(j.sub(30,20))"
   ]
  },
  {
   "cell_type": "code",
   "execution_count": 5,
   "id": "8310a627-f4f4-44da-a452-bf5abe420aaf",
   "metadata": {},
   "outputs": [
    {
     "name": "stdout",
     "output_type": "stream",
     "text": [
      "99\n",
      "30\n"
     ]
    },
    {
     "ename": "NameError",
     "evalue": "name 'sub' is not defined",
     "output_type": "error",
     "traceback": [
      "\u001b[0;31m---------------------------------------------------------------------------\u001b[0m",
      "\u001b[0;31mNameError\u001b[0m                                 Traceback (most recent call last)",
      "\u001b[0;32m/var/folders/m_/0sjrbfvs43jdhs_tkhk_sbqc0000gn/T/ipykernel_41229/815257925.py\u001b[0m in \u001b[0;36m<module>\u001b[0;34m\u001b[0m\n\u001b[1;32m      4\u001b[0m \u001b[0mprint\u001b[0m\u001b[0;34m(\u001b[0m\u001b[0mx\u001b[0m\u001b[0;34m)\u001b[0m       \u001b[0;31m# We are not writing jeeva.x or j.x because we imported members of moudule direct.\u001b[0m\u001b[0;34m\u001b[0m\u001b[0;34m\u001b[0m\u001b[0m\n\u001b[1;32m      5\u001b[0m \u001b[0mprint\u001b[0m\u001b[0;34m(\u001b[0m\u001b[0madd\u001b[0m\u001b[0;34m(\u001b[0m\u001b[0;36m10\u001b[0m\u001b[0;34m,\u001b[0m\u001b[0;36m20\u001b[0m\u001b[0;34m)\u001b[0m\u001b[0;34m)\u001b[0m\u001b[0;34m\u001b[0m\u001b[0;34m\u001b[0m\u001b[0m\n\u001b[0;32m----> 6\u001b[0;31m \u001b[0mprint\u001b[0m\u001b[0;34m(\u001b[0m\u001b[0msub\u001b[0m\u001b[0;34m(\u001b[0m\u001b[0;36m10\u001b[0m\u001b[0;34m,\u001b[0m\u001b[0;36m5\u001b[0m\u001b[0;34m)\u001b[0m\u001b[0;34m)\u001b[0m  \u001b[0;31m# this will give error because we did not import sub.\u001b[0m\u001b[0;34m\u001b[0m\u001b[0;34m\u001b[0m\u001b[0m\n\u001b[0m",
      "\u001b[0;31mNameError\u001b[0m: name 'sub' is not defined"
     ]
    }
   ],
   "source": [
    "# from import:: we can import particular members of module by using from \n",
    "\n",
    "from jeeva import x,add\n",
    "print(x)       # We are not writing jeeva.x or j.x because we imported members of moudule direct. \n",
    "print(add(10,20))\n",
    "print(sub(10,5))  # this will give error because we did not import sub. "
   ]
  },
  {
   "cell_type": "code",
   "execution_count": 10,
   "id": "ad616294-03d2-4f42-88e0-df52a3bc739b",
   "metadata": {},
   "outputs": [
    {
     "name": "stdout",
     "output_type": "stream",
     "text": [
      "99\n",
      "30\n",
      "5\n"
     ]
    }
   ],
   "source": [
    "# We can import all members of a module as follows. \n",
    "from jeeva import *\n",
    "\n",
    "print(x) \n",
    "print(add(10,20))\n",
    "print(sub(10,5))"
   ]
  },
  {
   "cell_type": "code",
   "execution_count": 11,
   "id": "4aca042f-bef2-4d73-9f50-8ea3a51442af",
   "metadata": {},
   "outputs": [
    {
     "name": "stdout",
     "output_type": "stream",
     "text": [
      "99\n",
      "30\n"
     ]
    }
   ],
   "source": [
    "# Members aliasing. \n",
    "from jeeva import x as y, add as sum\n",
    "\n",
    "print(y)\n",
    "print(sum(10,20))"
   ]
  }
 ],
 "metadata": {
  "kernelspec": {
   "display_name": "Python 3 (ipykernel)",
   "language": "python",
   "name": "python3"
  },
  "language_info": {
   "codemirror_mode": {
    "name": "ipython",
    "version": 3
   },
   "file_extension": ".py",
   "mimetype": "text/x-python",
   "name": "python",
   "nbconvert_exporter": "python",
   "pygments_lexer": "ipython3",
   "version": "3.9.7"
  }
 },
 "nbformat": 4,
 "nbformat_minor": 5
}
