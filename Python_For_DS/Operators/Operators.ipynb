{
 "cells": [
  {
   "cell_type": "markdown",
   "id": "2b420657-be64-4240-8154-d5f3c9edcff6",
   "metadata": {},
   "source": [
    "# Operators::\n",
    "\n",
    "- Operators are special symbols in Python that carry out arithmetic or logical computation.\n",
    "\n",
    "## Operator Types. \n",
    "1. Arithmetic operators.\n",
    "2. Assignment operators.\n",
    "3. Comparison (Relational) operators.\n",
    "4. Logical (Boolean) operators.\n",
    "5. Membership Operators.\n",
    "6. Identity Operators. "
   ]
  },
  {
   "cell_type": "markdown",
   "id": "62cb4e4f-0cbb-42b6-bad0-8ef81e5ba98c",
   "metadata": {},
   "source": [
    "### Arithmetic Operators. \n",
    "- Arithmetic operators are used to perform mathematical operations like addition, substraction, multiplication etc.\n",
    "- +, -, *, /, ??, %, **,() are operators. "
   ]
  },
  {
   "cell_type": "code",
   "execution_count": 1,
   "id": "34694591-d96d-4adb-b290-286617677d7b",
   "metadata": {},
   "outputs": [
    {
     "data": {
      "text/plain": [
       "8"
      ]
     },
     "execution_count": 1,
     "metadata": {},
     "output_type": "execute_result"
    }
   ],
   "source": [
    "# Addition. \n",
    "3+5"
   ]
  },
  {
   "cell_type": "code",
   "execution_count": 2,
   "id": "b89fb228-96cb-4ada-ba06-fae5e90c6057",
   "metadata": {},
   "outputs": [
    {
     "data": {
      "text/plain": [
       "30"
      ]
     },
     "execution_count": 2,
     "metadata": {},
     "output_type": "execute_result"
    }
   ],
   "source": [
    "# Substraction\n",
    "\n",
    "60 - 30"
   ]
  },
  {
   "cell_type": "code",
   "execution_count": 3,
   "id": "80af42a1-f22e-45f5-9d8e-bd3d81ba2329",
   "metadata": {},
   "outputs": [
    {
     "data": {
      "text/plain": [
       "10"
      ]
     },
     "execution_count": 3,
     "metadata": {},
     "output_type": "execute_result"
    }
   ],
   "source": [
    "# multiplication. \n",
    "\n",
    "2 * 5"
   ]
  },
  {
   "cell_type": "code",
   "execution_count": 6,
   "id": "017188db-871f-48f0-b2ab-50b0d6579790",
   "metadata": {},
   "outputs": [
    {
     "data": {
      "text/plain": [
       "3.2"
      ]
     },
     "execution_count": 6,
     "metadata": {},
     "output_type": "execute_result"
    }
   ],
   "source": [
    "# Division.   ---> Division always gives output in float data time. \n",
    "\n",
    "16/5"
   ]
  },
  {
   "cell_type": "code",
   "execution_count": 5,
   "id": "6ade6c07-9680-403e-859e-71fd4cfff702",
   "metadata": {},
   "outputs": [
    {
     "data": {
      "text/plain": [
       "3"
      ]
     },
     "execution_count": 5,
     "metadata": {},
     "output_type": "execute_result"
    }
   ],
   "source": [
    "# floor division. --> quotient is output\n",
    "\n",
    "16//5"
   ]
  },
  {
   "cell_type": "code",
   "execution_count": 8,
   "id": "f880b537-ac97-4b2d-9449-894d839f5ac1",
   "metadata": {},
   "outputs": [
    {
     "data": {
      "text/plain": [
       "1"
      ]
     },
     "execution_count": 8,
     "metadata": {},
     "output_type": "execute_result"
    }
   ],
   "source": [
    " # modulo --> remainder is output.\n",
    "16%5"
   ]
  },
  {
   "cell_type": "code",
   "execution_count": 10,
   "id": "ec653be8-b116-4b1e-a30b-88cbe3b1e07c",
   "metadata": {},
   "outputs": [
    {
     "data": {
      "text/plain": [
       "100"
      ]
     },
     "execution_count": 10,
     "metadata": {},
     "output_type": "execute_result"
    }
   ],
   "source": [
    "# power / exponent. x^2\n",
    "\n",
    "10**2"
   ]
  },
  {
   "cell_type": "code",
   "execution_count": 11,
   "id": "d09ffe80-8839-4851-906d-54b416e24573",
   "metadata": {},
   "outputs": [
    {
     "data": {
      "text/plain": [
       "50"
      ]
     },
     "execution_count": 11,
     "metadata": {},
     "output_type": "execute_result"
    }
   ],
   "source": [
    "# parantasis\n",
    "\n",
    "(2+3) * (5+5)"
   ]
  },
  {
   "cell_type": "markdown",
   "id": "d9e2685c-d6fb-4581-b308-81caba6a9b5c",
   "metadata": {},
   "source": [
    "### Arthimetic operators Precedence. \n",
    "\n",
    "- Paracentheis\n",
    "- exponents.\n",
    "- floor division\n",
    "- division or multiplication.\n",
    "- modulus\n",
    "- addition or substraction. "
   ]
  },
  {
   "cell_type": "code",
   "execution_count": 12,
   "id": "93924ede-318c-4e06-9cfe-4b1f98e82c1a",
   "metadata": {},
   "outputs": [
    {
     "data": {
      "text/plain": [
       "21.0"
      ]
     },
     "execution_count": 12,
     "metadata": {},
     "output_type": "execute_result"
    }
   ],
   "source": [
    "5*5+5/5-5 "
   ]
  },
  {
   "cell_type": "code",
   "execution_count": 13,
   "id": "81d4a4b1-517a-4ca3-b693-ebd161f22afb",
   "metadata": {},
   "outputs": [
    {
     "data": {
      "text/plain": [
       "3"
      ]
     },
     "execution_count": 13,
     "metadata": {},
     "output_type": "execute_result"
    }
   ],
   "source": [
    "3%8"
   ]
  },
  {
   "cell_type": "markdown",
   "id": "02ce1b72-00a3-4e94-b5fc-63b5fe10f3b0",
   "metadata": {},
   "source": [
    " #### When we use arthimetic operators, the boolean values will be automatically converted to int. "
   ]
  },
  {
   "cell_type": "code",
   "execution_count": 14,
   "id": "041881eb-5e7b-447f-883f-d42a10ceec72",
   "metadata": {},
   "outputs": [
    {
     "data": {
      "text/plain": [
       "2"
      ]
     },
     "execution_count": 14,
     "metadata": {},
     "output_type": "execute_result"
    }
   ],
   "source": [
    "True + True"
   ]
  },
  {
   "cell_type": "code",
   "execution_count": 15,
   "id": "90097106-21b5-47d3-a987-768023a05815",
   "metadata": {},
   "outputs": [
    {
     "data": {
      "text/plain": [
       "0"
      ]
     },
     "execution_count": 15,
     "metadata": {},
     "output_type": "execute_result"
    }
   ],
   "source": [
    "False + False "
   ]
  },
  {
   "cell_type": "code",
   "execution_count": 16,
   "id": "e83fc3c2-703b-48a1-a24b-8567a426f9cd",
   "metadata": {},
   "outputs": [
    {
     "data": {
      "text/plain": [
       "1"
      ]
     },
     "execution_count": 16,
     "metadata": {},
     "output_type": "execute_result"
    }
   ],
   "source": [
    "True + False"
   ]
  },
  {
   "cell_type": "code",
   "execution_count": 17,
   "id": "237952a6-d2fa-4cc4-9c0a-681c796062a5",
   "metadata": {},
   "outputs": [
    {
     "data": {
      "text/plain": [
       "4.9"
      ]
     },
     "execution_count": 17,
     "metadata": {},
     "output_type": "execute_result"
    }
   ],
   "source": [
    "x = 3.9\n",
    "y = True\n",
    "x+y"
   ]
  },
  {
   "cell_type": "code",
   "execution_count": 19,
   "id": "4637a7dd-09d7-4417-ab62-101fa160aa91",
   "metadata": {},
   "outputs": [
    {
     "data": {
      "text/plain": [
       "0.0"
      ]
     },
     "execution_count": 19,
     "metadata": {},
     "output_type": "execute_result"
    }
   ],
   "source": [
    "a = 3\n",
    "b = False\n",
    "b/a"
   ]
  },
  {
   "cell_type": "markdown",
   "id": "03552cb7-05d4-4a39-9cfb-33c447dc7623",
   "metadata": {},
   "source": [
    "### Assignment operators. \n",
    "- Assignment operators are used in python to assign values to variables.\n",
    "- (=,+=,-=,/=,%=,//=,*=) are assignment values.\n",
    "- First right side part will be executed and then assigned to the left side variable. "
   ]
  },
  {
   "cell_type": "code",
   "execution_count": 20,
   "id": "b886d9ba-325d-4894-97af-a1ccf5d16051",
   "metadata": {},
   "outputs": [
    {
     "data": {
      "text/plain": [
       "10"
      ]
     },
     "execution_count": 20,
     "metadata": {},
     "output_type": "execute_result"
    }
   ],
   "source": [
    "# = is a simple assignemt operator that assigns the value on the right to the variables. \n",
    "a = 10\n",
    "a"
   ]
  },
  {
   "cell_type": "code",
   "execution_count": 21,
   "id": "5bd7bebb-5c2c-4e33-b31a-6fe7ab6ce546",
   "metadata": {},
   "outputs": [
    {
     "data": {
      "text/plain": [
       "140595083536976"
      ]
     },
     "execution_count": 21,
     "metadata": {},
     "output_type": "execute_result"
    }
   ],
   "source": [
    "id(a)"
   ]
  },
  {
   "cell_type": "code",
   "execution_count": 24,
   "id": "0d24e5f3-e4b3-4edd-9f85-189594a064c9",
   "metadata": {},
   "outputs": [
    {
     "name": "stdout",
     "output_type": "stream",
     "text": [
      "13\n"
     ]
    },
    {
     "data": {
      "text/plain": [
       "140595083537072"
      ]
     },
     "execution_count": 24,
     "metadata": {},
     "output_type": "execute_result"
    }
   ],
   "source": [
    "a = a+1      # in this right side part is executed first and that value is assigned to the left side variable. If the variable is mutable the value is overwritten in the same object \n",
    "print(a)     # if the object is immutable a new object is created. In this example \"a\" is int and int is immutable so a new object of a is created (check the id before and after)\n",
    "id(a)"
   ]
  },
  {
   "cell_type": "markdown",
   "id": "68f5c88a-ff65-4707-ba63-8482a2e89fee",
   "metadata": {},
   "source": [
    "- a = a+1 or a+=1  are same. "
   ]
  },
  {
   "cell_type": "code",
   "execution_count": 25,
   "id": "a1925d78-a196-49ea-97a2-b97f5f6601aa",
   "metadata": {},
   "outputs": [
    {
     "data": {
      "text/plain": [
       "9"
      ]
     },
     "execution_count": 25,
     "metadata": {},
     "output_type": "execute_result"
    }
   ],
   "source": [
    "a-=4   # a=a-4\n",
    "a"
   ]
  },
  {
   "cell_type": "code",
   "execution_count": 27,
   "id": "8c733ca0-2de0-4038-b509-ec10148f6698",
   "metadata": {},
   "outputs": [],
   "source": [
    "#Multiply AND (*=)\n",
    "\n",
    "#Divide AND (/=)\n",
    "\n",
    "#Modulus AND (%=)\n",
    "\n",
    "#Floor Division AND (//=)\n",
    "\n",
    "#Exponent AND (**=)"
   ]
  },
  {
   "cell_type": "markdown",
   "id": "5a7ce2b5-85cf-4429-bb77-92cf3105c562",
   "metadata": {},
   "source": [
    "### Comparison / Relational Operators. \n",
    "- Comparison operators are used to compare values. It either returns True or False according to the condition.\n",
    "- <,==,!=,>=,<= are comparision operators. "
   ]
  },
  {
   "cell_type": "code",
   "execution_count": 30,
   "id": "515712f1-9cf5-4432-a429-431ff0597303",
   "metadata": {},
   "outputs": [
    {
     "data": {
      "text/plain": [
       "True"
      ]
     },
     "execution_count": 30,
     "metadata": {},
     "output_type": "execute_result"
    }
   ],
   "source": [
    "# is greater than \n",
    "45 > 34"
   ]
  },
  {
   "cell_type": "code",
   "execution_count": 31,
   "id": "b5db2752-d30c-43d1-a1ce-295ae70e484e",
   "metadata": {},
   "outputs": [
    {
     "data": {
      "text/plain": [
       "False"
      ]
     },
     "execution_count": 31,
     "metadata": {},
     "output_type": "execute_result"
    }
   ],
   "source": [
    "# is less than\n",
    "70 < 20"
   ]
  },
  {
   "cell_type": "code",
   "execution_count": 32,
   "id": "3153aa3e-ede6-4ab8-b7d8-eacea818663c",
   "metadata": {},
   "outputs": [
    {
     "data": {
      "text/plain": [
       "False"
      ]
     },
     "execution_count": 32,
     "metadata": {},
     "output_type": "execute_result"
    }
   ],
   "source": [
    "5*4 < 4*4"
   ]
  },
  {
   "cell_type": "code",
   "execution_count": 35,
   "id": "31037f8e-ce3a-4965-8ec7-7067666fce9b",
   "metadata": {},
   "outputs": [
    {
     "data": {
      "text/plain": [
       "True"
      ]
     },
     "execution_count": 35,
     "metadata": {},
     "output_type": "execute_result"
    }
   ],
   "source": [
    "# is equal to ( its double ==) \n",
    "40 == 40"
   ]
  },
  {
   "cell_type": "code",
   "execution_count": 36,
   "id": "7d9ef1bc-f863-49a2-a6f4-c32d68e62dbf",
   "metadata": {},
   "outputs": [
    {
     "data": {
      "text/plain": [
       "True"
      ]
     },
     "execution_count": 36,
     "metadata": {},
     "output_type": "execute_result"
    }
   ],
   "source": [
    "# is not equal \n",
    "\n",
    "3 != 5"
   ]
  },
  {
   "cell_type": "code",
   "execution_count": 37,
   "id": "85d0d0be-a5b7-4ca1-aa67-582495ae253b",
   "metadata": {},
   "outputs": [
    {
     "data": {
      "text/plain": [
       "True"
      ]
     },
     "execution_count": 37,
     "metadata": {},
     "output_type": "execute_result"
    }
   ],
   "source": [
    "#greater than or equal to \n",
    "1 >= 1"
   ]
  },
  {
   "cell_type": "code",
   "execution_count": 39,
   "id": "4a251cb8-9027-47e7-8ab7-067d99a103ac",
   "metadata": {},
   "outputs": [
    {
     "data": {
      "text/plain": [
       "False"
      ]
     },
     "execution_count": 39,
     "metadata": {},
     "output_type": "execute_result"
    }
   ],
   "source": [
    "#lessthan or equal to \n",
    "5 <= 4"
   ]
  },
  {
   "cell_type": "code",
   "execution_count": 41,
   "id": "a23393b3-e5d5-44ca-863c-81f61d015c67",
   "metadata": {},
   "outputs": [
    {
     "data": {
      "text/plain": [
       "True"
      ]
     },
     "execution_count": 41,
     "metadata": {},
     "output_type": "execute_result"
    }
   ],
   "source": [
    "45 == 45.0   # comparison is only in tearms of value. Not the data type. "
   ]
  },
  {
   "cell_type": "code",
   "execution_count": 44,
   "id": "a317eb52-0799-4cd1-96cd-a3627a049d81",
   "metadata": {},
   "outputs": [
    {
     "data": {
      "text/plain": [
       "False"
      ]
     },
     "execution_count": 44,
     "metadata": {},
     "output_type": "execute_result"
    }
   ],
   "source": [
    "\"HI\" == \"hi\"  # Python is case sensitive. "
   ]
  },
  {
   "cell_type": "markdown",
   "id": "324069f2-484c-451a-ab1e-29fbab777a1b",
   "metadata": {},
   "source": [
    "### Logical Operators\n",
    "- it returns bool type only.\n",
    "- Logical operators are and, or, not operators.\n",
    "- when we have, \"or\" operator...atleast 1 condition should be True then only overall output will be True.\n",
    "- When we have, \"and\" operator.... all conditions should be true then only overall output will be True.\n"
   ]
  },
  {
   "cell_type": "code",
   "execution_count": 45,
   "id": "5d76afb4-fea2-4860-a4ab-2eebf9c27ea4",
   "metadata": {},
   "outputs": [
    {
     "data": {
      "text/plain": [
       "True"
      ]
     },
     "execution_count": 45,
     "metadata": {},
     "output_type": "execute_result"
    }
   ],
   "source": [
    "(1 > 2) or (2 < 3)"
   ]
  },
  {
   "cell_type": "code",
   "execution_count": 47,
   "id": "a7a3e28a-1732-48fe-97fd-6fd9c01e6778",
   "metadata": {},
   "outputs": [
    {
     "data": {
      "text/plain": [
       "False"
      ]
     },
     "execution_count": 47,
     "metadata": {},
     "output_type": "execute_result"
    }
   ],
   "source": [
    "(1 > 2) and (2 < 3)"
   ]
  },
  {
   "cell_type": "code",
   "execution_count": 49,
   "id": "d78496be-5058-4785-932e-5fc4ee38ff46",
   "metadata": {},
   "outputs": [
    {
     "data": {
      "text/plain": [
       "False"
      ]
     },
     "execution_count": 49,
     "metadata": {},
     "output_type": "execute_result"
    }
   ],
   "source": [
    "not True"
   ]
  },
  {
   "cell_type": "code",
   "execution_count": 50,
   "id": "c3593590-c76a-42c5-ba26-6094816526b5",
   "metadata": {},
   "outputs": [
    {
     "data": {
      "text/plain": [
       "True"
      ]
     },
     "execution_count": 50,
     "metadata": {},
     "output_type": "execute_result"
    }
   ],
   "source": [
    "not False"
   ]
  },
  {
   "cell_type": "code",
   "execution_count": 51,
   "id": "f9d3dc44-4e2f-4afb-82d9-6e9f5f7dd232",
   "metadata": {},
   "outputs": [
    {
     "data": {
      "text/plain": [
       "True"
      ]
     },
     "execution_count": 51,
     "metadata": {},
     "output_type": "execute_result"
    }
   ],
   "source": [
    "fst_String = \"Jeevan\"\n",
    "fst_String.isalpha() or fst_String.isalmum()"
   ]
  },
  {
   "cell_type": "markdown",
   "id": "1e10caaf-89e1-4398-8721-628e01d512ee",
   "metadata": {},
   "source": [
    "#### Logical Operators Precedence. \n",
    "- Logical NOT\n",
    "- Logical AND\n",
    "- Logical OR"
   ]
  },
  {
   "cell_type": "code",
   "execution_count": 53,
   "id": "64a5740f-3d0e-426e-b4e5-99801442ca03",
   "metadata": {},
   "outputs": [
    {
     "data": {
      "text/plain": [
       "True"
      ]
     },
     "execution_count": 53,
     "metadata": {},
     "output_type": "execute_result"
    }
   ],
   "source": [
    "(2 == 2) or (3==3) and (3==4)   #--> \"logical and\" followed by \"Logical or\""
   ]
  },
  {
   "cell_type": "markdown",
   "id": "15af93ed-60de-4939-b7c2-c9c9fcd6b24e",
   "metadata": {},
   "source": [
    "### I denity Operators. \n",
    "- is and is not are the idenitty operators in Python.\n",
    "- They are used to check if two values( or variables) are indicating to same object or not.\n",
    "- - is operator (#is - True if the operands are identical).\n",
    "  - is not operators (# is not - True if the operands are not identical). "
   ]
  },
  {
   "cell_type": "code",
   "execution_count": 54,
   "id": "ce393657-a7bf-49e2-a87e-f37877baf9ba",
   "metadata": {},
   "outputs": [
    {
     "name": "stdout",
     "output_type": "stream",
     "text": [
      "True\n"
     ]
    }
   ],
   "source": [
    "a = 5\n",
    "b = 5 \n",
    "print(a is b) "
   ]
  },
  {
   "cell_type": "code",
   "execution_count": 56,
   "id": "d1487f19-fb56-4e5d-9f79-b99a85aefba0",
   "metadata": {},
   "outputs": [
    {
     "name": "stdout",
     "output_type": "stream",
     "text": [
      "True\n"
     ]
    }
   ],
   "source": [
    "s1 = \"Jeevan\"\n",
    "s2 = \"jeevan\"\n",
    "print(a is b)"
   ]
  },
  {
   "cell_type": "code",
   "execution_count": 57,
   "id": "0e88e952-631d-4edc-8828-4c0ba2aa568d",
   "metadata": {},
   "outputs": [
    {
     "name": "stdout",
     "output_type": "stream",
     "text": [
      "True\n"
     ]
    }
   ],
   "source": [
    "a = [1,2,3,4]\n",
    "b = a\n",
    "b.append(5)\n",
    "print(a is b)"
   ]
  },
  {
   "cell_type": "code",
   "execution_count": 58,
   "id": "3f2ca230-ce32-4243-a3bc-c0e3d7ec86aa",
   "metadata": {},
   "outputs": [
    {
     "name": "stdout",
     "output_type": "stream",
     "text": [
      "False\n"
     ]
    }
   ],
   "source": [
    "x = [1,2,3,4]\n",
    "y = x.copy()\n",
    "y.append(5)\n",
    "print(x is y)"
   ]
  },
  {
   "cell_type": "code",
   "execution_count": 59,
   "id": "2f7ed482-56a7-4e04-a346-775cf0a5dca7",
   "metadata": {},
   "outputs": [
    {
     "data": {
      "text/plain": [
       "True"
      ]
     },
     "execution_count": 59,
     "metadata": {},
     "output_type": "execute_result"
    }
   ],
   "source": [
    "a = 6\n",
    "b = 8\n",
    "a is not b"
   ]
  },
  {
   "cell_type": "markdown",
   "id": "47ce2f0b-d82b-42d4-bf21-8e91e4f09e06",
   "metadata": {},
   "source": [
    "### Membership Operators\n",
    "- in and not in are the membership operators in python.\n",
    "- They are used to test weather a value or variable is found in a sequence(string, list, tuple, set and dictionary). "
   ]
  },
  {
   "cell_type": "code",
   "execution_count": 60,
   "id": "a9a19dc5-5a88-4a9f-a459-15052b88b038",
   "metadata": {},
   "outputs": [
    {
     "data": {
      "text/plain": [
       "True"
      ]
     },
     "execution_count": 60,
     "metadata": {},
     "output_type": "execute_result"
    }
   ],
   "source": [
    "a = \"Jeevan\"\n",
    "\n",
    "\"van\" in a"
   ]
  },
  {
   "cell_type": "code",
   "execution_count": 61,
   "id": "22c1d14d-2dca-4d75-9fcc-065b511d8f18",
   "metadata": {},
   "outputs": [
    {
     "data": {
      "text/plain": [
       "True"
      ]
     },
     "execution_count": 61,
     "metadata": {},
     "output_type": "execute_result"
    }
   ],
   "source": [
    "lst = [1,2,3,4]\n",
    "1 in lst"
   ]
  },
  {
   "cell_type": "code",
   "execution_count": 62,
   "id": "c3f414fe-10d9-4b9a-aa5a-dc2d7ba30748",
   "metadata": {},
   "outputs": [
    {
     "data": {
      "text/plain": [
       "True"
      ]
     },
     "execution_count": 62,
     "metadata": {},
     "output_type": "execute_result"
    }
   ],
   "source": [
    "a = [1,2,3,3,4,5]\n",
    "9 not in a"
   ]
  },
  {
   "cell_type": "markdown",
   "id": "02985f3e-68c7-4b43-b43f-e4d24eec319a",
   "metadata": {},
   "source": [
    "- Only arthimetic operators, returns value.\n",
    "- remaing all other operators, return boolean value. "
   ]
  },
  {
   "cell_type": "markdown",
   "id": "61fd47a5-c3e8-4ea5-b2ad-9fed2373a794",
   "metadata": {},
   "source": [
    "## bit wise operator is not included in here since its not important for DS."
   ]
  },
  {
   "cell_type": "code",
   "execution_count": null,
   "id": "3bba75b5-c75a-4d51-806f-03322ce556a6",
   "metadata": {},
   "outputs": [],
   "source": []
  }
 ],
 "metadata": {
  "kernelspec": {
   "display_name": "Python 3 (ipykernel)",
   "language": "python",
   "name": "python3"
  },
  "language_info": {
   "codemirror_mode": {
    "name": "ipython",
    "version": 3
   },
   "file_extension": ".py",
   "mimetype": "text/x-python",
   "name": "python",
   "nbconvert_exporter": "python",
   "pygments_lexer": "ipython3",
   "version": "3.9.7"
  }
 },
 "nbformat": 4,
 "nbformat_minor": 5
}
