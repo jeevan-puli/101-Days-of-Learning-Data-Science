{
 "cells": [
  {
   "cell_type": "markdown",
   "id": "9751f412-aaa0-4605-8e94-225d4eedb613",
   "metadata": {},
   "source": [
    "# Input\n",
    "- want to take the input from the user. In Python, we have the input() function ot allow this.\n",
    "- By default it takes as \"Str\" datatype. "
   ]
  },
  {
   "cell_type": "code",
   "execution_count": 2,
   "id": "e5ff22b1-5806-4320-bb1c-7c13910dfa44",
   "metadata": {},
   "outputs": [
    {
     "name": "stdin",
     "output_type": "stream",
     "text": [
      " 3\n"
     ]
    },
    {
     "name": "stdout",
     "output_type": "stream",
     "text": [
      "3\n"
     ]
    },
    {
     "data": {
      "text/plain": [
       "str"
      ]
     },
     "execution_count": 2,
     "metadata": {},
     "output_type": "execute_result"
    }
   ],
   "source": [
    "n = input()\n",
    "print(n)\n",
    "type(n)"
   ]
  },
  {
   "cell_type": "code",
   "execution_count": 3,
   "id": "b57a26ae-7edf-4a91-8587-02f3ebeb78d1",
   "metadata": {},
   "outputs": [
    {
     "name": "stdin",
     "output_type": "stream",
     "text": [
      "enter your age: 4\n"
     ]
    }
   ],
   "source": [
    "n1 = input(\"enter your age:\")"
   ]
  },
  {
   "cell_type": "code",
   "execution_count": 4,
   "id": "e98e3bac-b2f6-4c1d-b165-826593d92a6c",
   "metadata": {},
   "outputs": [
    {
     "name": "stdin",
     "output_type": "stream",
     "text": [
      "enter your age:: 34\n"
     ]
    }
   ],
   "source": [
    "n2 = float(input(\"enter your age::\"))"
   ]
  },
  {
   "cell_type": "code",
   "execution_count": 5,
   "id": "5ab1fdfe-894f-4246-98d5-ad90759b9c91",
   "metadata": {},
   "outputs": [
    {
     "data": {
      "text/plain": [
       "float"
      ]
     },
     "execution_count": 5,
     "metadata": {},
     "output_type": "execute_result"
    }
   ],
   "source": [
    "type(n2)"
   ]
  },
  {
   "cell_type": "code",
   "execution_count": 7,
   "id": "4c7a28aa-c70f-4c3c-9e74-23e190b80eb0",
   "metadata": {},
   "outputs": [
    {
     "name": "stdin",
     "output_type": "stream",
     "text": [
      "Whats is your name? jeevan\n"
     ]
    },
    {
     "name": "stdout",
     "output_type": "stream",
     "text": [
      "It was nice talking to you jeevan !\n"
     ]
    }
   ],
   "source": [
    "#Let's have one more example\n",
    "name = input(\"Whats is your name?\")\n",
    "print(\"It was nice talking to you\", name, \"!\")"
   ]
  },
  {
   "cell_type": "code",
   "execution_count": 9,
   "id": "1b843f03-c856-4a30-8ffe-b38b8d46137e",
   "metadata": {},
   "outputs": [
    {
     "name": "stdin",
     "output_type": "stream",
     "text": [
      "enter your age? 45\n"
     ]
    },
    {
     "name": "stdout",
     "output_type": "stream",
     "text": [
      "Hey, you are already 45 year old, jeevan !\n"
     ]
    }
   ],
   "source": [
    "age = input(\"enter your age?\")\n",
    "print(\"Hey, you are already\", age, \"year old,\", name, \"!\")"
   ]
  },
  {
   "cell_type": "code",
   "execution_count": 15,
   "id": "2db101c9-ed6d-41eb-8e32-eecca8e8ddb1",
   "metadata": {},
   "outputs": [
    {
     "name": "stdin",
     "output_type": "stream",
     "text": [
      "enter your age? 23\n",
      "enter your name:: jjj\n"
     ]
    },
    {
     "ename": "AttributeError",
     "evalue": "'str' object has no attribute 'formate'",
     "output_type": "error",
     "traceback": [
      "\u001b[0;31m---------------------------------------------------------------------------\u001b[0m",
      "\u001b[0;31mAttributeError\u001b[0m                            Traceback (most recent call last)",
      "\u001b[0;32m/var/folders/m_/0sjrbfvs43jdhs_tkhk_sbqc0000gn/T/ipykernel_65450/3103859473.py\u001b[0m in \u001b[0;36m<module>\u001b[0;34m\u001b[0m\n\u001b[1;32m      1\u001b[0m \u001b[0mage\u001b[0m \u001b[0;34m=\u001b[0m \u001b[0minput\u001b[0m\u001b[0;34m(\u001b[0m\u001b[0;34m\"enter your age?\"\u001b[0m\u001b[0;34m)\u001b[0m\u001b[0;34m\u001b[0m\u001b[0;34m\u001b[0m\u001b[0m\n\u001b[1;32m      2\u001b[0m \u001b[0mname\u001b[0m \u001b[0;34m=\u001b[0m \u001b[0minput\u001b[0m\u001b[0;34m(\u001b[0m\u001b[0;34m\"enter your name::\"\u001b[0m\u001b[0;34m)\u001b[0m\u001b[0;34m\u001b[0m\u001b[0;34m\u001b[0m\u001b[0m\n\u001b[0;32m----> 3\u001b[0;31m \u001b[0mprint\u001b[0m\u001b[0;34m(\u001b[0m\u001b[0;34m\"hey, you are already {} years old, {} !\"\u001b[0m\u001b[0;34m.\u001b[0m\u001b[0mformate\u001b[0m \u001b[0;34m(\u001b[0m\u001b[0mage\u001b[0m\u001b[0;34m,\u001b[0m \u001b[0mname\u001b[0m\u001b[0;34m)\u001b[0m\u001b[0;34m)\u001b[0m\u001b[0;34m\u001b[0m\u001b[0;34m\u001b[0m\u001b[0m\n\u001b[0m",
      "\u001b[0;31mAttributeError\u001b[0m: 'str' object has no attribute 'formate'"
     ]
    }
   ],
   "source": [
    "age = input(\"enter your age?\")\n",
    "name = input(\"enter your name::\")\n",
    "print(\"hey, you are already {} years old, {} !\".formate (age, name))"
   ]
  },
  {
   "cell_type": "code",
   "execution_count": 14,
   "id": "3ee7eddf-c3b7-4b02-bdd8-836824ea507d",
   "metadata": {},
   "outputs": [
    {
     "name": "stdin",
     "output_type": "stream",
     "text": [
      "enter your full name: jeevan kumar\n"
     ]
    },
    {
     "name": "stdout",
     "output_type": "stream",
     "text": [
      "jeevan\n",
      "kumar\n"
     ]
    }
   ],
   "source": [
    "# multiple inputs in a single entry. \n",
    "var_1, var_2 = input(\"enter your full name:\").split()\n",
    "print(var_1)\n",
    "print(var_2)"
   ]
  },
  {
   "cell_type": "code",
   "execution_count": null,
   "id": "810657f1-caff-45dc-bdc3-85315eab10e9",
   "metadata": {},
   "outputs": [],
   "source": []
  }
 ],
 "metadata": {
  "kernelspec": {
   "display_name": "Python 3 (ipykernel)",
   "language": "python",
   "name": "python3"
  },
  "language_info": {
   "codemirror_mode": {
    "name": "ipython",
    "version": 3
   },
   "file_extension": ".py",
   "mimetype": "text/x-python",
   "name": "python",
   "nbconvert_exporter": "python",
   "pygments_lexer": "ipython3",
   "version": "3.9.7"
  }
 },
 "nbformat": 4,
 "nbformat_minor": 5
}
