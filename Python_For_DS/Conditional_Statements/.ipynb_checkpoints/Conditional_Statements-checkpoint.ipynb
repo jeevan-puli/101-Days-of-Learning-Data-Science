{
 "cells": [
  {
   "cell_type": "markdown",
   "id": "4abe0e66-a29b-4041-9dbe-be90f75212ce",
   "metadata": {},
   "source": [
    "# Conditional Statements (Control flow statements) in python.  \n",
    "\n",
    "- if\n",
    "- if-ekse\n",
    "- if-elif\n",
    "- if-elif-else\n",
    "- nested if"
   ]
  },
  {
   "cell_type": "markdown",
   "id": "79d96f21-3f97-4e75-b72f-53bd7260f808",
   "metadata": {},
   "source": [
    "### Blocked Structure\n",
    "- The code that is executed when a specific condition is met is defined in a \"Block\".\n",
    "- Statements preceding blocks generally end with a colon(:)\n",
    "- In Python, the block structure is signaled by changes in indentation.\n",
    "- Each line of code in a certain block level must be indented equally and indented more than the surrounding scope.\n",
    "- The standard is to use 4 spaces for each level of block indentation."
   ]
  },
  {
   "cell_type": "markdown",
   "id": "0ca1bce9-f8ab-4955-9419-d256cafdcf3b",
   "metadata": {},
   "source": [
    "### If:\n",
    "- if statement syntax\n",
    "- - - if test_expression / condition:\n",
    "    -        Statement(s)"
   ]
  },
  {
   "cell_type": "code",
   "execution_count": 4,
   "id": "747f0380-2801-4aa9-8721-e43a080fc748",
   "metadata": {},
   "outputs": [
    {
     "name": "stdout",
     "output_type": "stream",
     "text": [
      "shiva\n",
      "ds\n"
     ]
    }
   ],
   "source": [
    "if 1<3:\n",
    "    print(\"shiva\")    # this line is in side the if block. \n",
    "    \n",
    "print(\"ds\")           # this line is outside the if block. "
   ]
  },
  {
   "cell_type": "code",
   "execution_count": 5,
   "id": "094fb623-735f-47b6-8470-74ed5609f181",
   "metadata": {},
   "outputs": [],
   "source": [
    "if(1>2):\n",
    "    print(\"Hi\") # no output since the statement is false. "
   ]
  },
  {
   "cell_type": "code",
   "execution_count": 7,
   "id": "4bf08c96-a963-4723-ba5d-1e1d6a2e80f4",
   "metadata": {},
   "outputs": [
    {
     "name": "stdout",
     "output_type": "stream",
     "text": [
      "shiva\n"
     ]
    }
   ],
   "source": [
    "if 1>2:\n",
    "    print(\"hi\")\n",
    "\n",
    "print(\"shiva\")    #since the condition is false so it will only print the line which is outside the statement. "
   ]
  },
  {
   "cell_type": "markdown",
   "id": "0adf2446-c8f7-4b33-96dc-7a23bee09c7b",
   "metadata": {},
   "source": [
    "### if-else Syntak::\n",
    "\n",
    "if test expression::\n",
    "    \n",
    "    Body of if\n",
    "\n",
    "else::\n",
    "\n",
    "    Body of else"
   ]
  },
  {
   "cell_type": "code",
   "execution_count": 8,
   "id": "ca6d4d02-cfae-463e-874d-da918bb02d0b",
   "metadata": {},
   "outputs": [
    {
     "name": "stdout",
     "output_type": "stream",
     "text": [
      "first\n"
     ]
    }
   ],
   "source": [
    "if 1 < 2:\n",
    "    print(\"first\")\n",
    "else:\n",
    "    print(\"last\")"
   ]
  },
  {
   "cell_type": "code",
   "execution_count": 12,
   "id": "04e65da1-a935-4a34-815c-7e0168c1eebd",
   "metadata": {},
   "outputs": [
    {
     "name": "stdin",
     "output_type": "stream",
     "text": [
      "Enter a number 20\n"
     ]
    },
    {
     "name": "stdout",
     "output_type": "stream",
     "text": [
      "20 is even number\n"
     ]
    }
   ],
   "source": [
    "# take a variable x and print \"even\" if the number is divisible by 2, otherwise print \"odd\"\n",
    "\n",
    "x = int(input(\"Enter a number\"))\n",
    "\n",
    "if (x%2==0):\n",
    "        print(x, \"is even number\")\n",
    "else:\n",
    "        print(x, \"is odd number\")"
   ]
  },
  {
   "cell_type": "code",
   "execution_count": 13,
   "id": "403b3c99-130b-4559-9191-295b02129935",
   "metadata": {},
   "outputs": [
    {
     "name": "stdout",
     "output_type": "stream",
     "text": [
      "abc\n"
     ]
    }
   ],
   "source": [
    "a,b,c,d=2,2,3,4\n",
    "if(a==b or c==d):\n",
    "    print(\"abc\")\n",
    "else:\n",
    "    print(\"def\")"
   ]
  },
  {
   "cell_type": "markdown",
   "id": "8f7762ba-d689-497c-97f1-db08699c39bc",
   "metadata": {},
   "source": [
    "### if-elif-else Syntax\n",
    "\n",
    "if test expression:\n",
    "\n",
    "    Body of if \n",
    "    \n",
    "elif test expression:\n",
    "\n",
    "    Body of elif\n",
    "\n",
    "else:\n",
    "\n",
    "    Body of else"
   ]
  },
  {
   "cell_type": "code",
   "execution_count": 14,
   "id": "8a7b4a99-50c7-42d0-927f-80744e198683",
   "metadata": {},
   "outputs": [
    {
     "name": "stdout",
     "output_type": "stream",
     "text": [
      "first\n"
     ]
    }
   ],
   "source": [
    "if 2==2:\n",
    "    print(\"first\")\n",
    "elif 3!=3:\n",
    "    print(\"middle\")"
   ]
  },
  {
   "cell_type": "code",
   "execution_count": 16,
   "id": "148e097b-3291-423d-9919-299285b533c0",
   "metadata": {},
   "outputs": [
    {
     "name": "stdout",
     "output_type": "stream",
     "text": [
      "All is well with the world\n",
      "ds\n"
     ]
    },
    {
     "name": "stdin",
     "output_type": "stream",
     "text": [
      " 14\n"
     ]
    },
    {
     "name": "stdout",
     "output_type": "stream",
     "text": [
      "34\n"
     ]
    }
   ],
   "source": [
    "if 1 != 1:\n",
    "    print(\"How did that happen?\")\n",
    "elif 1 == 2:\n",
    "    pirnt(\"Like\")\n",
    "else:\n",
    "    print(\"All is well with the world\")\n",
    "    print(\"ds\")\n",
    "    a = int(input())\n",
    "    b = a + 20\n",
    "    print(b)       #since if and elif conditions are false else block is executed. "
   ]
  },
  {
   "cell_type": "code",
   "execution_count": 18,
   "id": "1156dc58-5cd2-4e6a-9455-bc7decc36149",
   "metadata": {},
   "outputs": [
    {
     "name": "stdin",
     "output_type": "stream",
     "text": [
      "enter the marks 33\n"
     ]
    },
    {
     "name": "stdout",
     "output_type": "stream",
     "text": [
      "Grade F\n"
     ]
    }
   ],
   "source": [
    "y = int(input(\"enter the marks\"))\n",
    "if y > 90:\n",
    "    print(\"Grade is A\")\n",
    "elif(y>70):\n",
    "    print(\"grade is B\")\n",
    "else:\n",
    "    print(\"Grade F\")"
   ]
  },
  {
   "cell_type": "code",
   "execution_count": 20,
   "id": "a8aa20b8-9a0d-4a8e-8f8e-f4873df4b0fe",
   "metadata": {},
   "outputs": [
    {
     "name": "stdin",
     "output_type": "stream",
     "text": [
      "Enter first number: 23\n",
      "Enter Second number: 34\n"
     ]
    },
    {
     "name": "stdout",
     "output_type": "stream",
     "text": [
      "Largest number is: 34\n"
     ]
    }
   ],
   "source": [
    "# Write a program to find the largest of two numbers provided by the user. \n",
    "\n",
    "n1 = int(input(\"Enter first number:\"))\n",
    "n2 = int(input(\"Enter Second number:\"))\n",
    "\n",
    "if n1 > n2:\n",
    "         print(\"Larest number is:\", n1)\n",
    "elif n1 == n2:\n",
    "         print(\"both are same\")\n",
    "else:\n",
    "        print(\"Largest number is:\", n2)"
   ]
  },
  {
   "cell_type": "code",
   "execution_count": 21,
   "id": "20394bc1-e810-472e-a4f6-30c49300049b",
   "metadata": {},
   "outputs": [
    {
     "name": "stdin",
     "output_type": "stream",
     "text": [
      "Enter first number: 34\n",
      "Enter Second number: 33\n",
      "Enter Third number: 32\n"
     ]
    },
    {
     "name": "stdout",
     "output_type": "stream",
     "text": [
      "34 is the Largest\n"
     ]
    }
   ],
   "source": [
    "# Write a program to find largest number of three given numbers. \n",
    "\n",
    "n1 = int(input(\"Enter first number:\"))\n",
    "n2 = int(input(\"Enter Second number:\"))\n",
    "n3 = int(input(\"Enter Third number:\"))\n",
    "if n1==n2==n3:\n",
    "    print(\"All numbers are same\")\n",
    "elif n1>n2 and n1>n3:\n",
    "    print(n1, \"is the Largest\")\n",
    "elif n2>n3:\n",
    "    print(n2,\"is the Largest\")\n",
    "else:\n",
    "    print(n3,\"is the largest\")\n",
    "    "
   ]
  },
  {
   "cell_type": "markdown",
   "id": "1c23e716-8dfc-460c-b2a9-117d90cef4ec",
   "metadata": {},
   "source": [
    "### Nested if Statements. \n",
    "- We can have a if..else statements inside if..elif..else statements. This is called nesting in programming. "
   ]
  },
  {
   "cell_type": "code",
   "execution_count": 22,
   "id": "226f63e1-f46d-43e6-9a10-120a9fb77763",
   "metadata": {},
   "outputs": [
    {
     "name": "stdout",
     "output_type": "stream",
     "text": [
      "Positive number\n"
     ]
    }
   ],
   "source": [
    "num = 4\n",
    "\n",
    "if num >= 0:\n",
    "    if num == 0:\n",
    "        print(\"Zero\")\n",
    "    else:\n",
    "        print(\"Positive number\")\n",
    "else:\n",
    "    print(\"Negative number\")"
   ]
  },
  {
   "cell_type": "code",
   "execution_count": null,
   "id": "2a01849f-240c-4e08-ad36-73b0f9db4075",
   "metadata": {},
   "outputs": [],
   "source": [
    "# Next program on bank transactions using conditional statements. \n",
    "balance = 40000\n",
    "x = float(input(\"Enter amount to withdraw:\"))\n",
    "y = int(input(\"Enter you pin:\"))\n",
    "pin = 1234\n",
    "if(y == pin):\n",
    "    with_draw"
   ]
  },
  {
   "cell_type": "code",
   "execution_count": null,
   "id": "047596e3-63ff-4fa7-b6ff-39f94b2589b0",
   "metadata": {},
   "outputs": [],
   "source": []
  }
 ],
 "metadata": {
  "kernelspec": {
   "display_name": "Python 3 (ipykernel)",
   "language": "python",
   "name": "python3"
  },
  "language_info": {
   "codemirror_mode": {
    "name": "ipython",
    "version": 3
   },
   "file_extension": ".py",
   "mimetype": "text/x-python",
   "name": "python",
   "nbconvert_exporter": "python",
   "pygments_lexer": "ipython3",
   "version": "3.9.7"
  }
 },
 "nbformat": 4,
 "nbformat_minor": 5
}
