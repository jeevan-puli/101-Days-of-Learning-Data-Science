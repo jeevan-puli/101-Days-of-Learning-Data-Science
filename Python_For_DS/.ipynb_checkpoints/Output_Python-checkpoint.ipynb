{
 "cells": [
  {
   "cell_type": "markdown",
   "id": "bedb1698-9b43-4210-b5c9-382e6f34e625",
   "metadata": {},
   "source": [
    "### Python Output\n",
    "\n",
    "\n",
    "We use the print() function to output data to the standard output function."
   ]
  },
  {
   "cell_type": "code",
   "execution_count": 1,
   "id": "b9b89de9-a09f-4ff2-a050-13cf0d4417d2",
   "metadata": {},
   "outputs": [
    {
     "name": "stdout",
     "output_type": "stream",
     "text": [
      "10\n"
     ]
    }
   ],
   "source": [
    "# Print a single variable\n",
    "a = 10\n",
    "print(a)"
   ]
  },
  {
   "cell_type": "code",
   "execution_count": 6,
   "id": "9a060d0f-3bdc-4e20-af3b-c1ddfb65a5b3",
   "metadata": {},
   "outputs": [
    {
     "name": "stdout",
     "output_type": "stream",
     "text": [
      "10 20 40\n"
     ]
    }
   ],
   "source": [
    "# print multiple variables\n",
    "a=10\n",
    "b=20\n",
    "c=40\n",
    "\n",
    "print(a,b,c)"
   ]
  },
  {
   "cell_type": "code",
   "execution_count": 8,
   "id": "d0825a37-ab21-4674-8973-ed7ad16460fd",
   "metadata": {},
   "outputs": [
    {
     "name": "stdout",
     "output_type": "stream",
     "text": [
      "10 20 30 40\n"
     ]
    }
   ],
   "source": [
    "# Print multiple values\n",
    "\n",
    "print(10,20,30,40)"
   ]
  },
  {
   "cell_type": "code",
   "execution_count": 9,
   "id": "7f968169-b1d2-4817-b13d-6e10450970f3",
   "metadata": {},
   "outputs": [
    {
     "name": "stdout",
     "output_type": "stream",
     "text": [
      "The value of a: 10\n"
     ]
    }
   ],
   "source": [
    "# print combination of variable and values\n",
    "a=10\n",
    "print(\"The value of a:\",a)"
   ]
  },
  {
   "cell_type": "code",
   "execution_count": 10,
   "id": "00cfe1ba-e483-4cab-ba5d-d58d8c313b79",
   "metadata": {},
   "outputs": [],
   "source": [
    "mynum = 10\n",
    "myname = \"Jeevan\""
   ]
  },
  {
   "cell_type": "code",
   "execution_count": 12,
   "id": "ebdc0082-9047-4b4d-86ae-6937d0fd7547",
   "metadata": {},
   "outputs": [
    {
     "name": "stdout",
     "output_type": "stream",
     "text": [
      "My name is: Jeevan My number is: 10\n"
     ]
    }
   ],
   "source": [
    "print(\"My name is:\",myname,\"My number is:\",mynum)"
   ]
  },
  {
   "cell_type": "code",
   "execution_count": 13,
   "id": "5f41888e-92a5-49ce-aaa3-f89eb8db35e6",
   "metadata": {},
   "outputs": [
    {
     "name": "stdout",
     "output_type": "stream",
     "text": [
      "My number is: 10 and my namme is; Jeevan\n"
     ]
    }
   ],
   "source": [
    "# curly brace formate.\n",
    "print(\"My number is: {} and my namme is; {}\".format(mynum,myname))"
   ]
  },
  {
   "cell_type": "code",
   "execution_count": 14,
   "id": "4675cad3-0f82-452a-932e-5f686aeed9f1",
   "metadata": {},
   "outputs": [
    {
     "name": "stdout",
     "output_type": "stream",
     "text": [
      "My number is: 10 and my namme is; Jeevan\n"
     ]
    }
   ],
   "source": [
    "print(\"My number is: {x} and my namme is; {y}\".format(x=mynum,y=myname))"
   ]
  }
 ],
 "metadata": {
  "kernelspec": {
   "display_name": "Python 3 (ipykernel)",
   "language": "python",
   "name": "python3"
  },
  "language_info": {
   "codemirror_mode": {
    "name": "ipython",
    "version": 3
   },
   "file_extension": ".py",
   "mimetype": "text/x-python",
   "name": "python",
   "nbconvert_exporter": "python",
   "pygments_lexer": "ipython3",
   "version": "3.9.7"
  }
 },
 "nbformat": 4,
 "nbformat_minor": 5
}
