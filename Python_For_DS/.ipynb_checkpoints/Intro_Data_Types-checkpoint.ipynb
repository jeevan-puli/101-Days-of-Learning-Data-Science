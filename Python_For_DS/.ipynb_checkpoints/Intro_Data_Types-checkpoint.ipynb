{
 "cells": [
  {
   "cell_type": "markdown",
   "id": "f086e87a-039c-49b4-a64a-7757f9eb83c4",
   "metadata": {},
   "source": [
    "# 1. Fundamental Data Types\n",
    "Ex:: Integer, float, complex, boolean, string."
   ]
  },
  {
   "cell_type": "markdown",
   "id": "85039241-7424-4c90-ba32-de5312d8b1bd",
   "metadata": {
    "tags": []
   },
   "source": [
    "# 2. Advanced Data Types or Data Structure or Containers\n",
    "\n",
    "Ex:: List, Tuple, Set, Dictionary."
   ]
  },
  {
   "cell_type": "markdown",
   "id": "6b229bcd-b93c-4892-87f9-f83c1ed4a68a",
   "metadata": {},
   "source": [
    "# Int - Numeric value without any decimal"
   ]
  },
  {
   "cell_type": "code",
   "execution_count": 2,
   "id": "e52ed4ee-ad1b-4470-9387-067d197464d0",
   "metadata": {},
   "outputs": [
    {
     "name": "stdout",
     "output_type": "stream",
     "text": [
      "10\n"
     ]
    }
   ],
   "source": [
    "a = 10\n",
    "print(a)"
   ]
  },
  {
   "cell_type": "markdown",
   "id": "e7287066-2202-4d0c-b25e-2ae7dc13529d",
   "metadata": {},
   "source": [
    "type(a) # to check data type:: use tyep() function. "
   ]
  },
  {
   "cell_type": "markdown",
   "id": "cadc2092-88ba-496c-99f6-bf5307ffdb45",
   "metadata": {},
   "source": [
    "# Float - numberic Value with decimal"
   ]
  },
  {
   "cell_type": "code",
   "execution_count": 4,
   "id": "9a1ef0d9-c2f1-488c-a076-494fbaf0e487",
   "metadata": {},
   "outputs": [
    {
     "name": "stdout",
     "output_type": "stream",
     "text": [
      "3.0\n"
     ]
    }
   ],
   "source": [
    "b = 3.0\n",
    "print(b)"
   ]
  },
  {
   "cell_type": "code",
   "execution_count": 6,
   "id": "1b53ed80-da3d-4646-bb6e-a9c3114b50c7",
   "metadata": {},
   "outputs": [
    {
     "data": {
      "text/plain": [
       "float"
      ]
     },
     "execution_count": 6,
     "metadata": {},
     "output_type": "execute_result"
    }
   ],
   "source": [
    "type(b)"
   ]
  },
  {
   "cell_type": "code",
   "execution_count": 10,
   "id": "367316ab-0cd7-4fa6-8919-3a86b24b688e",
   "metadata": {},
   "outputs": [],
   "source": [
    "#id() function in Python. In Python, id() function is a built-in function that returns the unique identifier of an object. The identifier is an integer, which represents the memory address of the object."
   ]
  },
  {
   "cell_type": "code",
   "execution_count": 7,
   "id": "1a9a312a-1872-44a7-af24-9c0867430829",
   "metadata": {},
   "outputs": [
    {
     "data": {
      "text/plain": [
       "140643536136784"
      ]
     },
     "execution_count": 9,
     "metadata": {},
     "output_type": "execute_result"
    }
   ],
   "source": [
    "id(a) "
   ]
  },
  {
   "cell_type": "code",
   "execution_count": 8,
   "id": "105990bb-82f7-4d40-9ef9-f94d11170085",
   "metadata": {},
   "outputs": [
    {
     "data": {
      "text/plain": [
       "140642737761328"
      ]
     },
     "execution_count": 8,
     "metadata": {},
     "output_type": "execute_result"
    }
   ],
   "source": [
    "id(b)"
   ]
  },
  {
   "cell_type": "markdown",
   "id": "8071adce-aa30-4957-9a4f-ab6e765d72a5",
   "metadata": {},
   "source": [
    "# Type Casting:: Convert from one data type to another data type"
   ]
  },
  {
   "cell_type": "code",
   "execution_count": 12,
   "id": "60356ad7-74ff-49e8-9a3c-80f4999f24ef",
   "metadata": {},
   "outputs": [
    {
     "name": "stdout",
     "output_type": "stream",
     "text": [
      "5.999999\n"
     ]
    }
   ],
   "source": [
    "b = 5.999999\n",
    "print(b)"
   ]
  },
  {
   "cell_type": "code",
   "execution_count": 13,
   "id": "7480fe35-4cb0-409c-956f-38c6e8aa07f6",
   "metadata": {},
   "outputs": [
    {
     "data": {
      "text/plain": [
       "5"
      ]
     },
     "execution_count": 13,
     "metadata": {},
     "output_type": "execute_result"
    }
   ],
   "source": [
    "int(b)"
   ]
  },
  {
   "cell_type": "code",
   "execution_count": 14,
   "id": "32bc6701-3701-432d-9f16-76d4af88d014",
   "metadata": {},
   "outputs": [],
   "source": [
    "#***** Where ever there are multiple brackets the inner bracket get exectued first. "
   ]
  },
  {
   "cell_type": "code",
   "execution_count": 17,
   "id": "8ef37d05-de65-42c0-8aaa-2f5009902917",
   "metadata": {},
   "outputs": [
    {
     "name": "stdout",
     "output_type": "stream",
     "text": [
      "10.0\n"
     ]
    }
   ],
   "source": [
    "b = 10.55\n",
    "c = float(int(b))\n",
    "print(c)"
   ]
  },
  {
   "cell_type": "code",
   "execution_count": 18,
   "id": "a534364e-35e5-4afd-b42b-d9019c615e37",
   "metadata": {},
   "outputs": [
    {
     "data": {
      "text/plain": [
       "float"
      ]
     },
     "execution_count": 18,
     "metadata": {},
     "output_type": "execute_result"
    }
   ],
   "source": [
    "type(c)"
   ]
  },
  {
   "cell_type": "markdown",
   "id": "8a80091e-0dab-49b6-9411-95305519feda",
   "metadata": {},
   "source": [
    "# Boolean - Ture / False"
   ]
  },
  {
   "cell_type": "code",
   "execution_count": 20,
   "id": "11cb146e-aaeb-406e-bdf6-cf2603f82c38",
   "metadata": {},
   "outputs": [
    {
     "data": {
      "text/plain": [
       "bool"
      ]
     },
     "execution_count": 20,
     "metadata": {},
     "output_type": "execute_result"
    }
   ],
   "source": [
    "J1 = True\n",
    "type(J1)"
   ]
  },
  {
   "cell_type": "code",
   "execution_count": 21,
   "id": "ccdc6f35-c9b0-4fc4-8c9c-64ad7edab56d",
   "metadata": {},
   "outputs": [
    {
     "data": {
      "text/plain": [
       "1"
      ]
     },
     "execution_count": 21,
     "metadata": {},
     "output_type": "execute_result"
    }
   ],
   "source": [
    "int(True) # In this we are converting True which is boolean into int value. True = 1, False = 0"
   ]
  },
  {
   "cell_type": "markdown",
   "id": "204aaa92-fa75-40a0-833c-ee952a345755",
   "metadata": {},
   "source": [
    "# Complex\n",
    "\n",
    "Complex literals can be created by using the notation x+yj where x is the real component and y is the imaginary component. "
   ]
  },
  {
   "cell_type": "code",
   "execution_count": 22,
   "id": "3bd92ecc-b5a8-4e87-9301-ff6ed3111e9e",
   "metadata": {},
   "outputs": [
    {
     "name": "stdout",
     "output_type": "stream",
     "text": [
      "(50+20j)\n"
     ]
    }
   ],
   "source": [
    "x = 50+20j\n",
    "print(x)"
   ]
  },
  {
   "cell_type": "code",
   "execution_count": 23,
   "id": "b70891f0-68f1-4547-97b7-2748550b2a68",
   "metadata": {},
   "outputs": [
    {
     "data": {
      "text/plain": [
       "complex"
      ]
     },
     "execution_count": 23,
     "metadata": {},
     "output_type": "execute_result"
    }
   ],
   "source": [
    "type(x)"
   ]
  },
  {
   "cell_type": "code",
   "execution_count": 26,
   "id": "4a86a3e3-de39-4e8a-9791-52e3287e7e12",
   "metadata": {},
   "outputs": [
    {
     "name": "stdout",
     "output_type": "stream",
     "text": [
      "50.0\n"
     ]
    }
   ],
   "source": [
    "#if you want just the real part of complex value and it will give the real value in float. \n",
    "k = x.real\n",
    "print(k)"
   ]
  },
  {
   "cell_type": "code",
   "execution_count": 27,
   "id": "e2fab63c-abbd-4cc4-946f-a3d6272604e6",
   "metadata": {},
   "outputs": [
    {
     "name": "stdout",
     "output_type": "stream",
     "text": [
      "20.0\n"
     ]
    }
   ],
   "source": [
    "#if you want just the imaginary part of complex value and it will give the real value in float. \n",
    "p = x.imag\n",
    "print(p)"
   ]
  },
  {
   "cell_type": "markdown",
   "id": "f081df82-1d0f-407a-b354-e92407d40af8",
   "metadata": {},
   "source": [
    "# Strings\n",
    " A string in Python consists of a series or sequence of characters - letters, numbers and special characters. \n",
    " \n",
    "\n",
    " String can be represented in single or double quotes. "
   ]
  },
  {
   "cell_type": "code",
   "execution_count": 33,
   "id": "640f7524-6e2f-4266-a1a8-4d8178d8e94e",
   "metadata": {},
   "outputs": [
    {
     "name": "stdout",
     "output_type": "stream",
     "text": [
      "Jeevan\n",
      "Jeevan\n",
      "Jeevan\n"
     ]
    }
   ],
   "source": [
    "fstString = 'Jeevan'\n",
    "print(fstString)\n",
    "\n",
    "secString = \"Jeevan\"\n",
    "print(secString)\n",
    "\n",
    "trdString = '''Jeevan'''\n",
    "print(trdString)\n"
   ]
  },
  {
   "cell_type": "code",
   "execution_count": 35,
   "id": "6def0f78-9dfa-46bc-9d01-901e547097d8",
   "metadata": {},
   "outputs": [
    {
     "name": "stdout",
     "output_type": "stream",
     "text": [
      "'this is \n",
      "jeevan\n"
     ]
    }
   ],
   "source": [
    "# three inverted ''' are used in multline string. \n",
    "multi = ''''this is \n",
    "jeevan'''\n",
    "\n",
    "print(multi)"
   ]
  },
  {
   "cell_type": "code",
   "execution_count": 36,
   "id": "2bbb181a-d9a8-4f8f-b03a-0f85cb48dae7",
   "metadata": {},
   "outputs": [
    {
     "data": {
      "text/plain": [
       "int"
      ]
     },
     "execution_count": 36,
     "metadata": {},
     "output_type": "execute_result"
    }
   ],
   "source": [
    "var = 4565\n",
    "type(var)"
   ]
  },
  {
   "cell_type": "code",
   "execution_count": 43,
   "id": "807d2711-4669-42dd-958f-a904567d9060",
   "metadata": {},
   "outputs": [
    {
     "data": {
      "text/plain": [
       "str"
      ]
     },
     "execution_count": 43,
     "metadata": {},
     "output_type": "execute_result"
    }
   ],
   "source": [
    "var1 = \"4565\"\n",
    "type(var1)"
   ]
  },
  {
   "cell_type": "code",
   "execution_count": 44,
   "id": "13636c6f-69a4-4806-afcb-118ca73545b3",
   "metadata": {},
   "outputs": [
    {
     "data": {
      "text/plain": [
       "4565.0"
      ]
     },
     "execution_count": 44,
     "metadata": {},
     "output_type": "execute_result"
    }
   ],
   "source": [
    "float(var1)   #this is possible because var1 is purly numeric string. "
   ]
  },
  {
   "cell_type": "code",
   "execution_count": 47,
   "id": "d9a32275-d437-475d-b670-417c921f73de",
   "metadata": {},
   "outputs": [
    {
     "data": {
      "text/plain": [
       "str"
      ]
     },
     "execution_count": 47,
     "metadata": {},
     "output_type": "execute_result"
    }
   ],
   "source": [
    "var2 = \"2345kk\"\n",
    "type(var2)"
   ]
  },
  {
   "cell_type": "code",
   "execution_count": null,
   "id": "360bed90-9f1f-4639-8808-e20bc71c3255",
   "metadata": {},
   "outputs": [],
   "source": [
    "float(var2) #this will through an error because this is not possible because var2 is not purly numberic stirng. "
   ]
  }
 ],
 "metadata": {
  "kernelspec": {
   "display_name": "Python 3 (ipykernel)",
   "language": "python",
   "name": "python3"
  },
  "language_info": {
   "codemirror_mode": {
    "name": "ipython",
    "version": 3
   },
   "file_extension": ".py",
   "mimetype": "text/x-python",
   "name": "python",
   "nbconvert_exporter": "python",
   "pygments_lexer": "ipython3",
   "version": "3.9.7"
  }
 },
 "nbformat": 4,
 "nbformat_minor": 5
}
