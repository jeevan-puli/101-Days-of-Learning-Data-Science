{
 "cells": [
  {
   "cell_type": "markdown",
   "id": "10165ef8-9d35-4e84-a1ec-c7bc5aa6823d",
   "metadata": {},
   "source": [
    "# Assignment 2\n",
    "\n",
    "-  Write a program to sum the numbers in a phone number provided by the user. "
   ]
  },
  {
   "cell_type": "code",
   "execution_count": 16,
   "id": "8105b088-5b97-4245-baf6-48e9f06c44d0",
   "metadata": {},
   "outputs": [
    {
     "name": "stdin",
     "output_type": "stream",
     "text": [
      "Please enter your number: 5145182644\n"
     ]
    },
    {
     "name": "stdout",
     "output_type": "stream",
     "text": [
      "40\n"
     ]
    }
   ],
   "source": [
    "phone_number = input(\"Please enter your number:\")\n",
    "if phone_number.isdigit():\n",
    "    number = list(phone_number)\n",
    "    sum = 0\n",
    "    for i in number:\n",
    "        sum = sum + int(i)\n",
    "    print(sum)\n",
    "else:\n",
    "    print(\"Please enter only digits of phone number\")"
   ]
  },
  {
   "cell_type": "markdown",
   "id": "94a81109-3b1c-46c6-9526-e8fb160c09c9",
   "metadata": {},
   "source": [
    "# Assignment 3\n",
    "- Write a program to show all numbers between the user-provided range that meets the below rules.\n",
    "- - The number should be four digits.\n",
    "  - The number should only end in 9.\n",
    "  - Each digit in a given number should be in increasing order only.\n",
    "  - The sum of the digits in the given number should be 8.\n",
    "  - Output should be stored in a list. "
   ]
  },
  {
   "cell_type": "code",
   "execution_count": null,
   "id": "63d5891c-75ba-4930-859e-f268dd4c9fda",
   "metadata": {},
   "outputs": [],
   "source": [
    "number_digits = int(input(\"Enter lenght of number you want\"))\n",
    "lower_limit = input(\"Enter the lower limit:\")\n",
    "upper_limit = input(\"Enter the upper limit:\")\n",
    "\n",
    "if len(lower_limit) == len(upper_limit) == number_digits:\n",
    "    start_number = int(lower_limit)\n",
    "    end_number = int(upper_limit)\n",
    "    for i in range(start_number,end_number+1):\n",
    "        if str(i)[-1] == '9' :\n",
    "            print(\"its ok\", type(i), i)\n",
    "else:\n",
    "    print(\"Enter four digit number\")\n",
    "# I am still working on it. "
   ]
  },
  {
   "cell_type": "code",
   "execution_count": null,
   "id": "720ccc4a-ba84-45a1-a8dc-1ba9465b11ec",
   "metadata": {},
   "outputs": [],
   "source": []
  }
 ],
 "metadata": {
  "kernelspec": {
   "display_name": "Python 3 (ipykernel)",
   "language": "python",
   "name": "python3"
  },
  "language_info": {
   "codemirror_mode": {
    "name": "ipython",
    "version": 3
   },
   "file_extension": ".py",
   "mimetype": "text/x-python",
   "name": "python",
   "nbconvert_exporter": "python",
   "pygments_lexer": "ipython3",
   "version": "3.9.7"
  }
 },
 "nbformat": 4,
 "nbformat_minor": 5
}
