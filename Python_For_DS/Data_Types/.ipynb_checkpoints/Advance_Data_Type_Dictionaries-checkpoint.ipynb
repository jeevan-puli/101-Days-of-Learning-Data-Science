{
 "cells": [
  {
   "cell_type": "markdown",
   "id": "1a1ea01f-a65c-41e3-ab05-d25a2395a216",
   "metadata": {},
   "source": [
    "# Dictionaries \n",
    "- Dictionary is an unordered collection. "
   ]
  },
  {
   "cell_type": "markdown",
   "id": "37c5f322-74e0-4bfc-9ffd-fcd545701e49",
   "metadata": {},
   "source": [
    "### Empty Dictionary"
   ]
  },
  {
   "cell_type": "code",
   "execution_count": 1,
   "id": "f1a7044e-7978-4387-b5a5-80c7c136ef1c",
   "metadata": {},
   "outputs": [
    {
     "name": "stdout",
     "output_type": "stream",
     "text": [
      "{}\n"
     ]
    },
    {
     "data": {
      "text/plain": [
       "dict"
      ]
     },
     "execution_count": 1,
     "metadata": {},
     "output_type": "execute_result"
    }
   ],
   "source": [
    "d = {}\n",
    "print(d)\n",
    "type(d)"
   ]
  },
  {
   "cell_type": "code",
   "execution_count": 3,
   "id": "00bd1bf8-02ba-45cf-9cfa-bde912658aa2",
   "metadata": {},
   "outputs": [
    {
     "name": "stdout",
     "output_type": "stream",
     "text": [
      "{}\n"
     ]
    },
    {
     "data": {
      "text/plain": [
       "dict"
      ]
     },
     "execution_count": 3,
     "metadata": {},
     "output_type": "execute_result"
    }
   ],
   "source": [
    "dict()\n",
    "print(d)\n",
    "type(d)"
   ]
  },
  {
   "cell_type": "markdown",
   "id": "94b745bd-ddcd-4b63-97b9-c4dbf3e5acaf",
   "metadata": {},
   "source": [
    "- In python, dictionaries are defined within braces{} with each item being key:value\n",
    "- Keys can be of fundamental data type = Generally, the keys are int or string.\n",
    "- values can be of any data type. "
   ]
  },
  {
   "cell_type": "code",
   "execution_count": 5,
   "id": "2b692c18-e2fe-443b-b090-46a82636bf75",
   "metadata": {},
   "outputs": [
    {
     "name": "stdout",
     "output_type": "stream",
     "text": [
      "{1: 456, 10.4: [3, 4, 15], 'key3': (94, 4, 3)}\n"
     ]
    }
   ],
   "source": [
    " dict = {1: 456, 10.4: [3,4,15], 'key3': (94,4,3)}\n",
    "print(dict)"
   ]
  },
  {
   "cell_type": "code",
   "execution_count": 6,
   "id": "996d59dc-ab7a-41eb-8f35-22d1946c5007",
   "metadata": {},
   "outputs": [
    {
     "data": {
      "text/plain": [
       "[3, 4, 15]"
      ]
     },
     "execution_count": 6,
     "metadata": {},
     "output_type": "execute_result"
    }
   ],
   "source": [
    "dict[10.4]"
   ]
  },
  {
   "cell_type": "code",
   "execution_count": 9,
   "id": "cfc23bb1-160e-4835-81ef-69b87a8cbdc3",
   "metadata": {},
   "outputs": [
    {
     "data": {
      "text/plain": [
       "(94, 4, 3)"
      ]
     },
     "execution_count": 9,
     "metadata": {},
     "output_type": "execute_result"
    }
   ],
   "source": [
    "dict['key3']"
   ]
  },
  {
   "cell_type": "markdown",
   "id": "052be497-86d6-4165-90d5-2b9099028d35",
   "metadata": {},
   "source": [
    "### Nested Dictionary \n",
    "- If atleast one vallue is dict, then it is callled as nested dictionary. "
   ]
  },
  {
   "cell_type": "code",
   "execution_count": 11,
   "id": "a66960db-4de4-4a64-9444-ab3a3f3db0ec",
   "metadata": {},
   "outputs": [],
   "source": [
    "car_type={'car1':1989, 'car2':123, 'car3':{1:3}}"
   ]
  },
  {
   "cell_type": "code",
   "execution_count": 13,
   "id": "c0637a3f-269f-41f4-abcd-3871b95fec6b",
   "metadata": {},
   "outputs": [
    {
     "data": {
      "text/plain": [
       "3"
      ]
     },
     "execution_count": 13,
     "metadata": {},
     "output_type": "execute_result"
    }
   ],
   "source": [
    "car_type['car3'][1]    #instead of index number we need to use the keys. "
   ]
  },
  {
   "cell_type": "code",
   "execution_count": 16,
   "id": "cdf9e953-aa12-4f30-adab-030b0b835eae",
   "metadata": {},
   "outputs": [
    {
     "data": {
      "text/plain": [
       "{'maths': 34, 'enghlish': 45, 'physics': 65}"
      ]
     },
     "execution_count": 16,
     "metadata": {},
     "output_type": "execute_result"
    }
   ],
   "source": [
    "mark_list = {\"maths\":34, \"enghlish\":45, \"physics\":65}\n",
    "mark_list"
   ]
  },
  {
   "cell_type": "code",
   "execution_count": 18,
   "id": "1703058c-b413-4476-87ef-ba26637bd21f",
   "metadata": {},
   "outputs": [
    {
     "data": {
      "text/plain": [
       "3"
      ]
     },
     "execution_count": 18,
     "metadata": {},
     "output_type": "execute_result"
    }
   ],
   "source": [
    "len(mark_list)  #total no. of items."
   ]
  },
  {
   "cell_type": "code",
   "execution_count": 19,
   "id": "6d94e84e-e833-4b42-b78f-49dfb319ab69",
   "metadata": {},
   "outputs": [
    {
     "data": {
      "text/plain": [
       "dict_items([('maths', 34), ('enghlish', 45), ('physics', 65)])"
      ]
     },
     "execution_count": 19,
     "metadata": {},
     "output_type": "execute_result"
    }
   ],
   "source": [
    "mark_list.items()"
   ]
  },
  {
   "cell_type": "code",
   "execution_count": 20,
   "id": "76453706-5441-4c35-a74f-a914dd33a739",
   "metadata": {},
   "outputs": [
    {
     "data": {
      "text/plain": [
       "dict_keys(['maths', 'enghlish', 'physics'])"
      ]
     },
     "execution_count": 20,
     "metadata": {},
     "output_type": "execute_result"
    }
   ],
   "source": [
    "mark_list.keys() # only to find keys. "
   ]
  },
  {
   "cell_type": "code",
   "execution_count": 21,
   "id": "a44ae2a1-83ce-4e07-bf66-09d813b3e4aa",
   "metadata": {},
   "outputs": [
    {
     "data": {
      "text/plain": [
       "dict_values([34, 45, 65])"
      ]
     },
     "execution_count": 21,
     "metadata": {},
     "output_type": "execute_result"
    }
   ],
   "source": [
    "mark_list.values() # only to find values. "
   ]
  },
  {
   "cell_type": "markdown",
   "id": "d8c71416-160f-4c09-bec4-0077396d8e15",
   "metadata": {},
   "source": [
    "### Dictionary has indexing. \n",
    "- dict_name[key]"
   ]
  },
  {
   "cell_type": "code",
   "execution_count": 22,
   "id": "30a694fe-c2cc-4b5c-9b39-6af38e3c9ab3",
   "metadata": {},
   "outputs": [
    {
     "data": {
      "text/plain": [
       "34"
      ]
     },
     "execution_count": 22,
     "metadata": {},
     "output_type": "execute_result"
    }
   ],
   "source": [
    "mark_list[\"maths\"]"
   ]
  },
  {
   "cell_type": "markdown",
   "id": "e7df7f1b-7133-4dd4-b970-cc9759a8e6c6",
   "metadata": {},
   "source": [
    "### Dictionaries are mutable. \n",
    "- Add a single item into a dictionary. "
   ]
  },
  {
   "cell_type": "code",
   "execution_count": 23,
   "id": "7a7758b5-9e09-44e7-ba46-9bf8ec9c6861",
   "metadata": {},
   "outputs": [],
   "source": [
    "mark_list[\"biology\"] = 45"
   ]
  },
  {
   "cell_type": "code",
   "execution_count": 24,
   "id": "166ca834-6630-4f9b-8397-b203a463bc7d",
   "metadata": {},
   "outputs": [
    {
     "name": "stdout",
     "output_type": "stream",
     "text": [
      "{'maths': 34, 'enghlish': 45, 'physics': 65, 'biology': 45}\n"
     ]
    }
   ],
   "source": [
    "print(mark_list)"
   ]
  },
  {
   "cell_type": "markdown",
   "id": "bce35535-56aa-4abb-88b0-a47dfa97cceb",
   "metadata": {},
   "source": [
    "- Adding multiple items into a dictionary. "
   ]
  },
  {
   "cell_type": "code",
   "execution_count": 26,
   "id": "52cb1ed0-ab79-4df4-9fcf-01a3f4e05af0",
   "metadata": {},
   "outputs": [
    {
     "name": "stdout",
     "output_type": "stream",
     "text": [
      "{'maths': 34, 'enghlish': 45, 'physics': 65, 'biology': 45, 'chem': 45, 'phy': 67}\n"
     ]
    }
   ],
   "source": [
    "mark_list.update({\"chem\":45,\"phy\":67})\n",
    "print(mark_list)"
   ]
  },
  {
   "cell_type": "markdown",
   "id": "5679c9b5-6ecd-4854-b725-268f56859b36",
   "metadata": {},
   "source": [
    "- replace value in dictionary. "
   ]
  },
  {
   "cell_type": "code",
   "execution_count": 29,
   "id": "22024f93-c2a5-4942-89c8-8909acb95eba",
   "metadata": {},
   "outputs": [
    {
     "name": "stdout",
     "output_type": "stream",
     "text": [
      "{'maths': 34, 'enghlish': 45, 'physics': 65, 'biology': 45, 'chem': 64, 'phy': 67}\n"
     ]
    }
   ],
   "source": [
    "mark_list[\"chem\"] = 64\n",
    "print(mark_list)"
   ]
  },
  {
   "cell_type": "markdown",
   "id": "30c60fc2-98e1-4a54-931d-7f7f43ae9b1c",
   "metadata": {},
   "source": [
    "- replace keys in dictionary. "
   ]
  },
  {
   "cell_type": "code",
   "execution_count": 31,
   "id": "df6aaaaf-4b51-4da1-973f-606b415406a0",
   "metadata": {},
   "outputs": [
    {
     "data": {
      "text/plain": [
       "{'maths': 34,\n",
       " 'enghlish': 45,\n",
       " 'physics': 65,\n",
       " 'biology': 45,\n",
       " 'phy': 67,\n",
       " 'hind': 64}"
      ]
     },
     "execution_count": 31,
     "metadata": {},
     "output_type": "execute_result"
    }
   ],
   "source": [
    "mark_list[\"hind\"] = mark_list.pop(\"chem\")\n",
    "mark_list"
   ]
  },
  {
   "cell_type": "markdown",
   "id": "6ff8d3db-a368-473b-97b7-aa5f0c3458ed",
   "metadata": {},
   "source": [
    "### delete items in dictionary. "
   ]
  },
  {
   "cell_type": "code",
   "execution_count": 32,
   "id": "5f5cc6d7-5174-45ff-9494-48379cf2d83b",
   "metadata": {},
   "outputs": [],
   "source": [
    "del mark_list[\"maths\"]"
   ]
  },
  {
   "cell_type": "code",
   "execution_count": 33,
   "id": "f0a44ad0-e666-44ce-8247-896560911966",
   "metadata": {},
   "outputs": [
    {
     "data": {
      "text/plain": [
       "{'enghlish': 45, 'physics': 65, 'biology': 45, 'phy': 67, 'hind': 64}"
      ]
     },
     "execution_count": 33,
     "metadata": {},
     "output_type": "execute_result"
    }
   ],
   "source": [
    "mark_list"
   ]
  }
 ],
 "metadata": {
  "kernelspec": {
   "display_name": "Python 3 (ipykernel)",
   "language": "python",
   "name": "python3"
  },
  "language_info": {
   "codemirror_mode": {
    "name": "ipython",
    "version": 3
   },
   "file_extension": ".py",
   "mimetype": "text/x-python",
   "name": "python",
   "nbconvert_exporter": "python",
   "pygments_lexer": "ipython3",
   "version": "3.9.7"
  }
 },
 "nbformat": 4,
 "nbformat_minor": 5
}
