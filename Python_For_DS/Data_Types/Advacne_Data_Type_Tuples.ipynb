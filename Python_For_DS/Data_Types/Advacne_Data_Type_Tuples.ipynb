{
 "cells": [
  {
   "cell_type": "markdown",
   "id": "630a3166-514a-48ac-b900-ad8e70ed5398",
   "metadata": {},
   "source": [
    "# Tuples\n",
    "- Tuple is similar to List except a tuple is immutable which means we cannot change the elements of a tuple once assigned.\n",
    "- When we do not want to change the data over time, tuple is the preferred data type.\n",
    "- Iterationg over the elements of a tuple is faster compared to iterationg over a list.\n",
    "- Tuple is heterogenous. "
   ]
  },
  {
   "cell_type": "markdown",
   "id": "41a7cdb4-e908-4ea3-a717-31dc3c3de251",
   "metadata": {},
   "source": [
    "#### Empty tuple. "
   ]
  },
  {
   "cell_type": "code",
   "execution_count": 1,
   "id": "ac217394-10b8-48e1-a4c0-6f8caaf3d363",
   "metadata": {},
   "outputs": [
    {
     "data": {
      "text/plain": [
       "()"
      ]
     },
     "execution_count": 1,
     "metadata": {},
     "output_type": "execute_result"
    }
   ],
   "source": [
    "tu1 = ()\n",
    "tu1"
   ]
  },
  {
   "cell_type": "code",
   "execution_count": 2,
   "id": "a44737d7-8748-4191-850c-9d4fbe482e1e",
   "metadata": {},
   "outputs": [
    {
     "data": {
      "text/plain": [
       "tuple"
      ]
     },
     "execution_count": 2,
     "metadata": {},
     "output_type": "execute_result"
    }
   ],
   "source": [
    "type(tu1)"
   ]
  },
  {
   "cell_type": "code",
   "execution_count": 3,
   "id": "09a1375e-286c-4c8e-a790-abbb08ff534b",
   "metadata": {},
   "outputs": [
    {
     "data": {
      "text/plain": [
       "()"
      ]
     },
     "execution_count": 3,
     "metadata": {},
     "output_type": "execute_result"
    }
   ],
   "source": [
    "tu2 = tuple()\n",
    "tu2"
   ]
  },
  {
   "cell_type": "markdown",
   "id": "f52a1719-bafe-4421-8c20-39291089def3",
   "metadata": {},
   "source": []
  },
  {
   "cell_type": "markdown",
   "id": "a114db67-5da8-496e-8dce-ce8ac094afd3",
   "metadata": {},
   "source": [
    "#### Nested tuple\n",
    "#### Tuple Indexing\n",
    "#### Tuple Slicing\n",
    "#### Tuples are immutable."
   ]
  },
  {
   "cell_type": "code",
   "execution_count": 5,
   "id": "e9becf4e-6030-44f6-b8ad-fbae72576983",
   "metadata": {},
   "outputs": [
    {
     "data": {
      "text/plain": [
       "4"
      ]
     },
     "execution_count": 5,
     "metadata": {},
     "output_type": "execute_result"
    }
   ],
   "source": [
    "myTup = (1,2,3,4,5)\n",
    "myTup[3]"
   ]
  },
  {
   "cell_type": "code",
   "execution_count": 6,
   "id": "0f46c404-43f9-4d5e-815d-8655fa4a3384",
   "metadata": {},
   "outputs": [
    {
     "ename": "SyntaxError",
     "evalue": "invalid syntax (2280294251.py, line 1)",
     "output_type": "error",
     "traceback": [
      "\u001b[0;36m  File \u001b[0;32m\"/var/folders/m_/0sjrbfvs43jdhs_tkhk_sbqc0000gn/T/ipykernel_50407/2280294251.py\"\u001b[0;36m, line \u001b[0;32m1\u001b[0m\n\u001b[0;31m    delete myTup[3]\u001b[0m\n\u001b[0m           ^\u001b[0m\n\u001b[0;31mSyntaxError\u001b[0m\u001b[0;31m:\u001b[0m invalid syntax\n"
     ]
    }
   ],
   "source": [
    "delete myTup[3] # delete, modification of items of tuple are not possible. "
   ]
  },
  {
   "cell_type": "code",
   "execution_count": 11,
   "id": "ffeded25-c80e-4e90-81e3-9105f861c0bf",
   "metadata": {},
   "outputs": [],
   "source": [
    "tup = (1,2,3,[4,5],(1,2,3)) ## with in tuple if there is list that will follow all the rules of list (dele, append etc will work))."
   ]
  },
  {
   "cell_type": "code",
   "execution_count": 10,
   "id": "98829f76-15ce-4a2b-a404-4202d225ea9a",
   "metadata": {},
   "outputs": [
    {
     "name": "stdout",
     "output_type": "stream",
     "text": [
      "(1, 2, 3, [4, 5, 6], (1, 2, 3))\n"
     ]
    }
   ],
   "source": [
    "a = tup[3]\n",
    "a.append(6)\n",
    "print(tup)"
   ]
  },
  {
   "cell_type": "markdown",
   "id": "5aff2d24-11ab-4031-8521-76abf5796c70",
   "metadata": {},
   "source": [
    "#### Tuple Methods."
   ]
  },
  {
   "cell_type": "markdown",
   "id": "73b40ecb-9691-4704-a5ae-83b11ff3633a",
   "metadata": {},
   "source": [
    "- tuple.count() --> Number of times item occured in tuple.\n",
    "- tuple.index()\n",
    "- sorting (only sorted() is applicable, tuple.sort() is NOT applicable)."
   ]
  },
  {
   "cell_type": "code",
   "execution_count": 16,
   "id": "146ef767-b05f-412b-aff7-7b1d5882e920",
   "metadata": {},
   "outputs": [
    {
     "name": "stdout",
     "output_type": "stream",
     "text": [
      "[12, 49, 59, 85, 95]\n",
      "(49, 59, 85, 95, 12)\n"
     ]
    }
   ],
   "source": [
    "mytup = (49,59,85,95,12)\n",
    "\n",
    "print(sorted(mytup))          \n",
    "\n",
    "print(mytup) # The original tuple is not sorted. "
   ]
  },
  {
   "cell_type": "code",
   "execution_count": null,
   "id": "08e5ec15-d92d-49a0-ba36-edd09d5eeac3",
   "metadata": {},
   "outputs": [],
   "source": []
  }
 ],
 "metadata": {
  "kernelspec": {
   "display_name": "Python 3 (ipykernel)",
   "language": "python",
   "name": "python3"
  },
  "language_info": {
   "codemirror_mode": {
    "name": "ipython",
    "version": 3
   },
   "file_extension": ".py",
   "mimetype": "text/x-python",
   "name": "python",
   "nbconvert_exporter": "python",
   "pygments_lexer": "ipython3",
   "version": "3.9.7"
  }
 },
 "nbformat": 4,
 "nbformat_minor": 5
}
