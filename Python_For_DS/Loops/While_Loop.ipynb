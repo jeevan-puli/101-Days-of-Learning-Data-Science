{
 "cells": [
  {
   "cell_type": "markdown",
   "id": "03cea7a3-1aae-4121-b980-2938380277b2",
   "metadata": {},
   "source": [
    "# While Loop\n",
    "- The while loop in Python is used to iterate over a block of code as long as the test expression (Condition) is true.\n",
    "- We generally use this loop when we don't know beforehand, the number of times to iterate.\n",
    "- In the while loop, the test expression is checked first. The body of the loop is entered only if the test_expression evaluates to True.\n",
    "- After one iteration, the test expression is checked again. This process continues until the test_expression evaluates to False.\n",
    "- In Python, the body of the while loop is determined through indentation.\n",
    "The body starts with indentation and the first uniindented line marks the end.\n",
    "- Python interprets any non-zero value as True. None and 0 are interpreted as False.\n",
    "\n",
    "### While loop syntax::\n",
    "    - - while test_expression:\n",
    "                Body of while\n",
    "- The body of the loop is entered only if the test_expression evaluates to True.\n",
    "- After one iteration, the test expression is checked again.\n",
    "- This process continues until the test_expression evaluates to false. \n"
   ]
  },
  {
   "cell_type": "code",
   "execution_count": null,
   "id": "03cf7afa-00da-4a61-a888-92acd6697da8",
   "metadata": {},
   "outputs": [],
   "source": [
    "i = 1\n",
    "while i == 1:\n",
    "    print(\"ds\")\n",
    "    i = i + 1"
   ]
  },
  {
   "cell_type": "code",
   "execution_count": null,
   "id": "bb028cf4-132e-47ed-ba0b-711daa504b33",
   "metadata": {},
   "outputs": [],
   "source": [
    "x = 0\n",
    "while x <= 6:\n",
    "    print(x)\n",
    "    x = x + 1"
   ]
  },
  {
   "cell_type": "code",
   "execution_count": null,
   "id": "947cd797-c11f-493f-8c33-f251a3ba3a6b",
   "metadata": {},
   "outputs": [],
   "source": [
    "x = 8\n",
    "while x >= 6:\n",
    "    print(x)\n",
    "    x = x - 1"
   ]
  },
  {
   "cell_type": "code",
   "execution_count": null,
   "id": "bfee547d-ee94-4b4e-a4d3-c25b6a55dcce",
   "metadata": {},
   "outputs": [],
   "source": [
    "x = 0\n",
    "while x < 5:\n",
    "    x = x+3\n",
    "print(x)"
   ]
  },
  {
   "cell_type": "code",
   "execution_count": null,
   "id": "ba07eb20-0558-43e0-9aa8-af2422ef57c2",
   "metadata": {},
   "outputs": [],
   "source": [
    "i = 0\n",
    "s = 0\n",
    "\n",
    "while(i <= 5):\n",
    "    s = s + i\n",
    "    i+= 1\n",
    "    print(s,i)"
   ]
  },
  {
   "cell_type": "code",
   "execution_count": null,
   "id": "af3add74-fa77-40b3-a2c4-cc98b0ded867",
   "metadata": {},
   "outputs": [],
   "source": [
    "# Program to print 0 to 100 (inclusive) whole number.\n",
    "\n",
    "print(list(range(0,101)),end=\" \") # method 1"
   ]
  },
  {
   "cell_type": "code",
   "execution_count": null,
   "id": "3bfcc0c6-4a40-439e-a05e-c3604f0053fb",
   "metadata": {},
   "outputs": [],
   "source": [
    "for i in range(0, 101):\n",
    "    print(i,end=\" \")       # Method 2"
   ]
  },
  {
   "cell_type": "code",
   "execution_count": null,
   "id": "8b10795c-cb69-4d77-860f-718a4533c6a5",
   "metadata": {},
   "outputs": [],
   "source": [
    "i = 0\n",
    "\n",
    "while i <= 100:\n",
    "    print(i,end=\" \")\n",
    "    i = i + 1                #Metho 3"
   ]
  },
  {
   "cell_type": "code",
   "execution_count": null,
   "id": "934daeb4-5604-40ca-a324-6697197c4ddb",
   "metadata": {},
   "outputs": [],
   "source": [
    "i = 0\n",
    "while i<=100:\n",
    "    j=i+5\n",
    "    print(j,end=\" \")\n",
    "    i=i+5"
   ]
  },
  {
   "cell_type": "code",
   "execution_count": null,
   "id": "afef3321-4b5e-41d8-b940-53a07796191d",
   "metadata": {},
   "outputs": [],
   "source": [
    "# program to add \"n\" natural numbers --> sum = 1+2+3+...+n\n",
    "\n",
    "n = int(input(\"Enter n: \"))\n",
    "\n",
    "s=0\n",
    "i=1\n",
    "\n",
    "while i<=n:\n",
    "    s=s+i\n",
    "    i=i+1\n",
    "\n",
    "print(s)"
   ]
  },
  {
   "cell_type": "code",
   "execution_count": null,
   "id": "a0bff011-dd3f-4c01-abcf-622b2faf2104",
   "metadata": {},
   "outputs": [],
   "source": [
    "# Find the product of all numbers present in a list. \n",
    "lst = [1,2,3,4,5]\n",
    "\n",
    "p = 1\n",
    "i = 0\n",
    "\n",
    "while i < len(lst):\n",
    "    p = p*lst[i]\n",
    "    i = i+1\n",
    "print(\"product is::\",p)"
   ]
  },
  {
   "cell_type": "markdown",
   "id": "7711c4a2-a298-4d01-9f60-f9e0d188e555",
   "metadata": {},
   "source": [
    "# Infinate loops"
   ]
  },
  {
   "cell_type": "code",
   "execution_count": null,
   "id": "9e4234df-76d5-44fb-9eba-c6ee8d6a72b3",
   "metadata": {},
   "outputs": [],
   "source": [
    "while True:\n",
    "    print(1)"
   ]
  },
  {
   "cell_type": "code",
   "execution_count": 5,
   "id": "a29546b9-2e37-4c4d-b8a2-184862f31980",
   "metadata": {},
   "outputs": [
    {
     "name": "stdout",
     "output_type": "stream",
     "text": [
      "Enter the value you want to add, type # if you want to end:\n"
     ]
    },
    {
     "name": "stdin",
     "output_type": "stream",
     "text": [
      " 5\n",
      " 5\n",
      " 6\n",
      " 7\n",
      " 7\n",
      " #\n"
     ]
    },
    {
     "name": "stdout",
     "output_type": "stream",
     "text": [
      "Sum of all the numbers entered is: 30\n"
     ]
    }
   ],
   "source": [
    "print(\"Enter the value you want to add, type # if you want to end:\")\n",
    "\n",
    "s = 0\n",
    "\n",
    "while True:\n",
    "    x = input()\n",
    "    if x == \"#\":\n",
    "        break\n",
    "    else:\n",
    "        s = s + int(x)\n",
    "print(\"Sum of all the numbers entered is:\",s)"
   ]
  },
  {
   "cell_type": "markdown",
   "id": "920e0d7d-fa59-411f-a946-c46eacebb453",
   "metadata": {},
   "source": [
    "# while loop with else\n",
    "- Same as that of for loop, we can have an optional else block with while loop as well.\n",
    "- The else part is executed if the condition in the while loop evaluates to false. The while loop can be terminated with a break statement.\n",
    "- In such case, the else part is ignored. Hence, a while loop's else part runs if no break occures and the condition is false. "
   ]
  },
  {
   "cell_type": "code",
   "execution_count": 6,
   "id": "4c9c6c55-aa00-484c-b270-64b7466d7717",
   "metadata": {},
   "outputs": [
    {
     "name": "stdout",
     "output_type": "stream",
     "text": [
      "0\n",
      "1\n",
      "2\n",
      "3\n"
     ]
    }
   ],
   "source": [
    "num = [1,2,3,4,5,6]\n",
    "\n",
    "i = 0\n",
    "\n",
    "while i <= len(num):\n",
    "    print(i)\n",
    "    i = i + 1\n",
    "    if i == 4:\n",
    "        break\n",
    "else:\n",
    "    print(\"no item left in the list\")"
   ]
  },
  {
   "cell_type": "code",
   "execution_count": 9,
   "id": "bba97790-4265-48b4-86f8-8a2718f33ec7",
   "metadata": {},
   "outputs": [
    {
     "name": "stdout",
     "output_type": "stream",
     "text": [
      "x: 8\n",
      "x: 3\n",
      "-2 is no longer greater than 1\n"
     ]
    }
   ],
   "source": [
    "x = 8\n",
    "while x >= 1:\n",
    "    print(\"x:\",x)\n",
    "    x = x - 5\n",
    "    if x == 4:\n",
    "        break\n",
    "else:\n",
    "    print(x,\"is no longer greater than 1\")"
   ]
  },
  {
   "cell_type": "code",
   "execution_count": null,
   "id": "6195bfbd-ee59-474b-9b1f-d30dc5160908",
   "metadata": {},
   "outputs": [],
   "source": []
  }
 ],
 "metadata": {
  "kernelspec": {
   "display_name": "Python 3 (ipykernel)",
   "language": "python",
   "name": "python3"
  },
  "language_info": {
   "codemirror_mode": {
    "name": "ipython",
    "version": 3
   },
   "file_extension": ".py",
   "mimetype": "text/x-python",
   "name": "python",
   "nbconvert_exporter": "python",
   "pygments_lexer": "ipython3",
   "version": "3.9.7"
  }
 },
 "nbformat": 4,
 "nbformat_minor": 5
}
