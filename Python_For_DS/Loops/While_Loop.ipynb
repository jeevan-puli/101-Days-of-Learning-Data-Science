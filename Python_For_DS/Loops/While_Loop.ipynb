{
 "cells": [
  {
   "cell_type": "markdown",
   "id": "03cea7a3-1aae-4121-b980-2938380277b2",
   "metadata": {},
   "source": [
    "# While Loop\n",
    "- The while loop in Python is used to iterate over a block of code as long as the test expression (Condition) is true.\n",
    "- We generally use this loop when we don't know beforehand, the number of times to iterate.\n",
    "- In the while loop, the test expression is checked first. The body of the loop is entered only if the test_expression evaluates to True.\n",
    "- After one iteration, the test expression is checked again. This process continues until the test_expression evaluates to False.\n",
    "- In Python, the body of the while loop is determined through indentation.\n",
    "The body starts with indentation and the first uniindented line marks the end.\n",
    "- Python interprets any non-zero value as True. None and 0 are interpreted as False.\n",
    "\n",
    "### While loop syntax::\n",
    "    - - while test_expression:\n",
    "                Body of while\n",
    "- The body of the loop is entered only if the test_expression evaluates to True.\n",
    "- After one iteration, the test expression is checked again.\n",
    "- This process continues until the test_expression evaluates to false. \n"
   ]
  },
  {
   "cell_type": "code",
   "execution_count": 4,
   "id": "03cf7afa-00da-4a61-a888-92acd6697da8",
   "metadata": {},
   "outputs": [
    {
     "name": "stdout",
     "output_type": "stream",
     "text": [
      "ds\n"
     ]
    }
   ],
   "source": [
    "i = 1\n",
    "while i == 1:\n",
    "    print(\"ds\")\n",
    "    i = i + 1"
   ]
  },
  {
   "cell_type": "code",
   "execution_count": 6,
   "id": "bb028cf4-132e-47ed-ba0b-711daa504b33",
   "metadata": {},
   "outputs": [
    {
     "name": "stdout",
     "output_type": "stream",
     "text": [
      "0\n",
      "1\n",
      "2\n",
      "3\n",
      "4\n",
      "5\n",
      "6\n"
     ]
    }
   ],
   "source": [
    "x = 0\n",
    "while x <= 6:\n",
    "    print(x)\n",
    "    x = x + 1"
   ]
  },
  {
   "cell_type": "code",
   "execution_count": 1,
   "id": "947cd797-c11f-493f-8c33-f251a3ba3a6b",
   "metadata": {},
   "outputs": [
    {
     "name": "stdout",
     "output_type": "stream",
     "text": [
      "8\n",
      "7\n",
      "6\n"
     ]
    }
   ],
   "source": [
    "x = 8\n",
    "while x >= 6:\n",
    "    print(x)\n",
    "    x = x - 1"
   ]
  },
  {
   "cell_type": "code",
   "execution_count": 2,
   "id": "bfee547d-ee94-4b4e-a4d3-c25b6a55dcce",
   "metadata": {},
   "outputs": [
    {
     "name": "stdout",
     "output_type": "stream",
     "text": [
      "6\n"
     ]
    }
   ],
   "source": [
    "x = 0\n",
    "while x < 5:\n",
    "    x = x+3\n",
    "print(x)"
   ]
  },
  {
   "cell_type": "code",
   "execution_count": 4,
   "id": "ba07eb20-0558-43e0-9aa8-af2422ef57c2",
   "metadata": {},
   "outputs": [
    {
     "name": "stdout",
     "output_type": "stream",
     "text": [
      "0 1\n",
      "1 2\n",
      "3 3\n",
      "6 4\n",
      "10 5\n",
      "15 6\n"
     ]
    }
   ],
   "source": [
    "i = 0\n",
    "s = 0\n",
    "\n",
    "while(i <= 5):\n",
    "    s = s + i\n",
    "    i+= 1\n",
    "    print(s,i)"
   ]
  },
  {
   "cell_type": "code",
   "execution_count": 5,
   "id": "af3add74-fa77-40b3-a2c4-cc98b0ded867",
   "metadata": {},
   "outputs": [
    {
     "name": "stdout",
     "output_type": "stream",
     "text": [
      "[0, 1, 2, 3, 4, 5, 6, 7, 8, 9, 10, 11, 12, 13, 14, 15, 16, 17, 18, 19, 20, 21, 22, 23, 24, 25, 26, 27, 28, 29, 30, 31, 32, 33, 34, 35, 36, 37, 38, 39, 40, 41, 42, 43, 44, 45, 46, 47, 48, 49, 50, 51, 52, 53, 54, 55, 56, 57, 58, 59, 60, 61, 62, 63, 64, 65, 66, 67, 68, 69, 70, 71, 72, 73, 74, 75, 76, 77, 78, 79, 80, 81, 82, 83, 84, 85, 86, 87, 88, 89, 90, 91, 92, 93, 94, 95, 96, 97, 98, 99, 100] "
     ]
    }
   ],
   "source": [
    "# Program to print 0 to 100 (inclusive) whole number.\n",
    "\n",
    "print(list(range(0,101)),end=\" \") # method 1"
   ]
  },
  {
   "cell_type": "code",
   "execution_count": 7,
   "id": "3bfcc0c6-4a40-439e-a05e-c3604f0053fb",
   "metadata": {},
   "outputs": [
    {
     "name": "stdout",
     "output_type": "stream",
     "text": [
      "0 1 2 3 4 5 6 7 8 9 10 11 12 13 14 15 16 17 18 19 20 21 22 23 24 25 26 27 28 29 30 31 32 33 34 35 36 37 38 39 40 41 42 43 44 45 46 47 48 49 50 51 52 53 54 55 56 57 58 59 60 61 62 63 64 65 66 67 68 69 70 71 72 73 74 75 76 77 78 79 80 81 82 83 84 85 86 87 88 89 90 91 92 93 94 95 96 97 98 99 100 "
     ]
    }
   ],
   "source": [
    "for i in range(0, 101):\n",
    "    print(i,end=\" \")       # Method 2"
   ]
  },
  {
   "cell_type": "code",
   "execution_count": 10,
   "id": "8b10795c-cb69-4d77-860f-718a4533c6a5",
   "metadata": {},
   "outputs": [
    {
     "name": "stdout",
     "output_type": "stream",
     "text": [
      "0 1 2 3 4 5 6 7 8 9 10 11 12 13 14 15 16 17 18 19 20 21 22 23 24 25 26 27 28 29 30 31 32 33 34 35 36 37 38 39 40 41 42 43 44 45 46 47 48 49 50 51 52 53 54 55 56 57 58 59 60 61 62 63 64 65 66 67 68 69 70 71 72 73 74 75 76 77 78 79 80 81 82 83 84 85 86 87 88 89 90 91 92 93 94 95 96 97 98 99 100 "
     ]
    }
   ],
   "source": [
    "i = 0\n",
    "\n",
    "while i <= 100:\n",
    "    print(i,end=\" \")\n",
    "    i = i + 1                #Metho 3"
   ]
  },
  {
   "cell_type": "code",
   "execution_count": 12,
   "id": "934daeb4-5604-40ca-a324-6697197c4ddb",
   "metadata": {},
   "outputs": [
    {
     "name": "stdout",
     "output_type": "stream",
     "text": [
      "5 10 15 20 25 30 35 40 45 50 55 60 65 70 75 80 85 90 95 100 105 "
     ]
    }
   ],
   "source": [
    "i = 0\n",
    "while i<=100:\n",
    "    j=i+5\n",
    "    print(j,end=\" \")\n",
    "    i=i+5"
   ]
  },
  {
   "cell_type": "code",
   "execution_count": 17,
   "id": "afef3321-4b5e-41d8-b940-53a07796191d",
   "metadata": {},
   "outputs": [
    {
     "ename": "SyntaxError",
     "evalue": "invalid syntax (1314420754.py, line 5)",
     "output_type": "error",
     "traceback": [
      "\u001b[0;36m  File \u001b[0;32m\"/var/folders/m_/0sjrbfvs43jdhs_tkhk_sbqc0000gn/T/ipykernel_12053/1314420754.py\"\u001b[0;36m, line \u001b[0;32m5\u001b[0m\n\u001b[0;31m    sum = 0\u001b[0m\n\u001b[0m    ^\u001b[0m\n\u001b[0;31mSyntaxError\u001b[0m\u001b[0;31m:\u001b[0m invalid syntax\n"
     ]
    }
   ],
   "source": [
    "# program to add \"n\" natural numbers --> sum = 1+2+3+...+n\n",
    "\n",
    "n = int((input(\"Enter n: \"))\n",
    "\n",
    "sum = 0\n",
    "i = 1\n",
    "\n",
    "while i <= n:\n",
    "    sum = sum + i\n",
    "    i = i + 1\n",
    "\n",
    "print(sum)"
   ]
  },
  {
   "cell_type": "code",
   "execution_count": null,
   "id": "a0bff011-dd3f-4c01-abcf-622b2faf2104",
   "metadata": {},
   "outputs": [],
   "source": []
  }
 ],
 "metadata": {
  "kernelspec": {
   "display_name": "Python 3 (ipykernel)",
   "language": "python",
   "name": "python3"
  },
  "language_info": {
   "codemirror_mode": {
    "name": "ipython",
    "version": 3
   },
   "file_extension": ".py",
   "mimetype": "text/x-python",
   "name": "python",
   "nbconvert_exporter": "python",
   "pygments_lexer": "ipython3",
   "version": "3.9.7"
  }
 },
 "nbformat": 4,
 "nbformat_minor": 5
}
