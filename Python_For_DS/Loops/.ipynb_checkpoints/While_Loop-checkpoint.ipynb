{
 "cells": [
  {
   "cell_type": "markdown",
   "id": "03cea7a3-1aae-4121-b980-2938380277b2",
   "metadata": {},
   "source": [
    "# While Loop\n",
    "- The while loop in Python is used to iterate over a block of code as long as the test expression (Condition) is true.\n",
    "- We generally use this loop when we don't know beforehand, the number of times to iterate.\n",
    "- In the while loop, the test expression is checked first. The body of the loop is entered only if the test_expression evaluates to True.\n",
    "- After one iteration, the test expression is checked again. This process continues until the test_expression evaluates to False.\n",
    "- In Python, the body of the while loop is determined through indentation.\n",
    "The body starts with indentation and the first uniindented line marks the end.\n",
    "- Python interprets any non-zero value as True. None and 0 are interpreted as False.\n",
    "\n",
    "### While loop syntax::\n",
    "    - - while test_expression:\n",
    "                Body of while\n",
    "- The body of the loop is entered only if the test_expression evaluates to True.\n",
    "- After one iteration, the test expression is checked again.\n",
    "- This process continues until the test_expression evaluates to false. \n"
   ]
  },
  {
   "cell_type": "code",
   "execution_count": 4,
   "id": "03cf7afa-00da-4a61-a888-92acd6697da8",
   "metadata": {},
   "outputs": [
    {
     "name": "stdout",
     "output_type": "stream",
     "text": [
      "ds\n"
     ]
    }
   ],
   "source": [
    "i = 1\n",
    "while i == 1:\n",
    "    print(\"ds\")\n",
    "    i = i + 1"
   ]
  },
  {
   "cell_type": "code",
   "execution_count": 6,
   "id": "bb028cf4-132e-47ed-ba0b-711daa504b33",
   "metadata": {},
   "outputs": [
    {
     "name": "stdout",
     "output_type": "stream",
     "text": [
      "0\n",
      "1\n",
      "2\n",
      "3\n",
      "4\n",
      "5\n",
      "6\n"
     ]
    }
   ],
   "source": [
    "x = 0\n",
    "while x <= 6:\n",
    "    print(x)\n",
    "    x = x + 1"
   ]
  },
  {
   "cell_type": "code",
   "execution_count": 1,
   "id": "947cd797-c11f-493f-8c33-f251a3ba3a6b",
   "metadata": {},
   "outputs": [
    {
     "name": "stdout",
     "output_type": "stream",
     "text": [
      "8\n",
      "7\n",
      "6\n"
     ]
    }
   ],
   "source": [
    "x = 8\n",
    "while x >= 6:\n",
    "    print(x)\n",
    "    x = x - 1"
   ]
  },
  {
   "cell_type": "code",
   "execution_count": null,
   "id": "bfee547d-ee94-4b4e-a4d3-c25b6a55dcce",
   "metadata": {},
   "outputs": [],
   "source": []
  }
 ],
 "metadata": {
  "kernelspec": {
   "display_name": "Python 3 (ipykernel)",
   "language": "python",
   "name": "python3"
  },
  "language_info": {
   "codemirror_mode": {
    "name": "ipython",
    "version": 3
   },
   "file_extension": ".py",
   "mimetype": "text/x-python",
   "name": "python",
   "nbconvert_exporter": "python",
   "pygments_lexer": "ipython3",
   "version": "3.9.7"
  }
 },
 "nbformat": 4,
 "nbformat_minor": 5
}
