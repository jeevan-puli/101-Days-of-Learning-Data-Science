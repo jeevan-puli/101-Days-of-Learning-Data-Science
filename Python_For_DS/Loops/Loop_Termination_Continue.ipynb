{
 "cells": [
  {
   "cell_type": "markdown",
   "id": "03851e8f-a761-4510-8f0c-29c9f8ed7e04",
   "metadata": {},
   "source": [
    "# Loop termination. "
   ]
  },
  {
   "cell_type": "code",
   "execution_count": 4,
   "id": "e27398cb-7a17-4f7f-a0d2-3e4e287f9281",
   "metadata": {},
   "outputs": [
    {
     "name": "stdout",
     "output_type": "stream",
     "text": [
      "jk\n",
      "jk\n",
      "srk\n"
     ]
    }
   ],
   "source": [
    "num = [1,2,3,4,5]\n",
    "\n",
    "for i in num:\n",
    "    print(\"jk\")\n",
    "    if i == 2:\n",
    "        break\n",
    "print(\"srk\")"
   ]
  },
  {
   "cell_type": "code",
   "execution_count": 10,
   "id": "fa717ace-4129-428b-8277-d4cee498c1ad",
   "metadata": {},
   "outputs": [
    {
     "name": "stdout",
     "output_type": "stream",
     "text": [
      "jk\n",
      "srk\n"
     ]
    }
   ],
   "source": [
    "num = [1,2,3,4,5]\n",
    "\n",
    "for i in num:\n",
    "    if i == 2:\n",
    "        break\n",
    "    print(\"jk\")\n",
    "        \n",
    "print(\"srk\")"
   ]
  },
  {
   "cell_type": "code",
   "execution_count": 11,
   "id": "cda2022e-e791-4bac-95d1-ac000c0a867a",
   "metadata": {},
   "outputs": [
    {
     "name": "stdout",
     "output_type": "stream",
     "text": [
      "1\n",
      "2\n",
      "3\n",
      "4\n",
      "5\n"
     ]
    }
   ],
   "source": [
    "nums = [1,2,3,4,5,6,7,8,9]\n",
    "\n",
    "for i in nums:\n",
    "    print(i)\n",
    "    if i == 5:\n",
    "        break"
   ]
  },
  {
   "cell_type": "markdown",
   "id": "29676f60-775f-4bc0-b68c-0b8c640dc557",
   "metadata": {},
   "source": [
    "# Continue"
   ]
  },
  {
   "cell_type": "code",
   "execution_count": 12,
   "id": "b2cf5280-823a-4db0-8c1a-eaa2be6e027d",
   "metadata": {},
   "outputs": [
    {
     "name": "stdout",
     "output_type": "stream",
     "text": [
      "1\n",
      "2\n",
      "3\n",
      "4\n",
      "5\n",
      "6\n",
      "7\n"
     ]
    }
   ],
   "source": [
    "numb = [1,2,3,4,5,6,7]\n",
    "\n",
    "for i in numb:\n",
    "    print(i)\n",
    "    if i == 3:\n",
    "        a = i * 5\n",
    "        continue\n",
    "        print(a)"
   ]
  },
  {
   "cell_type": "code",
   "execution_count": 13,
   "id": "1378b171-271b-4019-9bf7-3dbefc717b5e",
   "metadata": {},
   "outputs": [
    {
     "name": "stdout",
     "output_type": "stream",
     "text": [
      "1\n",
      "2\n",
      "3\n",
      "4\n",
      "5\n",
      "6\n",
      "7\n"
     ]
    }
   ],
   "source": [
    " numb = [1,2,3,4,5,6,7]\n",
    "\n",
    "for i in numb:\n",
    "    print(i)\n",
    "    if i == 3:\n",
    "        continue\n",
    "        a = i * 5\n",
    "        print(a)"
   ]
  },
  {
   "cell_type": "code",
   "execution_count": null,
   "id": "8fa391f4-ceaa-4e0a-9ff8-b4d731b0483c",
   "metadata": {},
   "outputs": [],
   "source": []
  }
 ],
 "metadata": {
  "kernelspec": {
   "display_name": "Python 3 (ipykernel)",
   "language": "python",
   "name": "python3"
  },
  "language_info": {
   "codemirror_mode": {
    "name": "ipython",
    "version": 3
   },
   "file_extension": ".py",
   "mimetype": "text/x-python",
   "name": "python",
   "nbconvert_exporter": "python",
   "pygments_lexer": "ipython3",
   "version": "3.9.7"
  }
 },
 "nbformat": 4,
 "nbformat_minor": 5
}
