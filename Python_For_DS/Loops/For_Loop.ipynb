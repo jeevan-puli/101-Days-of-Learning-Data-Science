{
 "cells": [
  {
   "cell_type": "markdown",
   "id": "720c4352-24e2-4642-b61c-2c86dd3ac602",
   "metadata": {},
   "source": [
    "# Loops\n",
    "- There may be a situation when you need to execute a block of code several number of times.\n",
    "- To iterate over items or elements in a given seq like  str, list, tup, set or dict.\n",
    "- In general, statements are executed sequentially: The first statement in a fucntction is exectued first, followed by the second, and so on.  "
   ]
  },
  {
   "cell_type": "code",
   "execution_count": 5,
   "id": "657dfd06-c780-4286-9209-05ffd6c0f0af",
   "metadata": {},
   "outputs": [
    {
     "name": "stdout",
     "output_type": "stream",
     "text": [
      "1 6 16\n",
      "2 7 17\n",
      "3 8 18\n",
      "4 9 19\n"
     ]
    }
   ],
   "source": [
    "i = 1\n",
    "j = i + 5\n",
    "k = j + 10\n",
    "print(i, j, k)\n",
    "\n",
    "i = 2\n",
    "j = i + 5\n",
    "k = j + 10\n",
    "print(i, j, k)\n",
    "\n",
    "i = 3\n",
    "j = i + 5\n",
    "k = j + 10\n",
    "print(i, j, k)\n",
    "\n",
    "i = 4\n",
    "j = i + 5\n",
    "k = j + 10\n",
    "print(i, j, k)"
   ]
  },
  {
   "cell_type": "code",
   "execution_count": 8,
   "id": "0e2a1d6c-5c3a-46cd-8e76-79529af9827f",
   "metadata": {},
   "outputs": [
    {
     "name": "stdout",
     "output_type": "stream",
     "text": [
      "1 6 16\n",
      "2 7 17\n",
      "3 8 18\n",
      "4 9 19\n"
     ]
    }
   ],
   "source": [
    "for i in range(1,5):  # The Above code can be cut short to this using a for loop.  This is using range. \n",
    "    j = i + 5\n",
    "    k = j + 10\n",
    "    print(i, j, k)"
   ]
  },
  {
   "cell_type": "code",
   "execution_count": 18,
   "id": "e9e4e523-fffe-4dc6-92a7-ec7ad773b31e",
   "metadata": {},
   "outputs": [
    {
     "name": "stdout",
     "output_type": "stream",
     "text": [
      "10 11 12 13 14 15 16 17 18 19 20 21 22 23 24 25 26 27 28 29 30 31 32 33 34 35 36 37 38 39 40 41 42 43 44 45 46 47 48 49 50 "
     ]
    }
   ],
   "source": [
    "for i in range(10,51): # print all the numbers between 10 to 50 (both inclusive). \n",
    "    print(i, end=\" \")   # for print by default the end = \\ (new line). Here by keeping end = \" \" it will print the answer in line with space. "
   ]
  },
  {
   "cell_type": "code",
   "execution_count": 20,
   "id": "112aa7c0-db1e-4da3-8c7a-614f49c68257",
   "metadata": {},
   "outputs": [
    {
     "name": "stdout",
     "output_type": "stream",
     "text": [
      "100 98 96 94 92 90 88 86 84 82 80 78 76 74 72 70 68 66 64 62 60 58 56 54 52 50 48 46 44 42 40 38 36 34 32 30 28 26 24 22 20 18 16 14 12 10 8 6 4 2 "
     ]
    }
   ],
   "source": [
    "#print even numbers in descending order from 1 to 100\n",
    "for i in range(100, 1, -2):\n",
    "    print(i, end=\" \")"
   ]
  },
  {
   "cell_type": "code",
   "execution_count": 24,
   "id": "535cf4a9-519f-4a92-b277-bf9805b9093e",
   "metadata": {},
   "outputs": [
    {
     "name": "stdout",
     "output_type": "stream",
     "text": [
      "2 4 6 8 10 12 14 16 18 20 22 24 26 28 30 32 34 36 38 40 42 44 46 48 50 52 54 56 58 60 62 64 66 68 70 72 74 76 78 80 82 84 86 88 90 92 94 96 98 "
     ]
    }
   ],
   "source": [
    "# Print even numbers in ascending order from 1 to 100(inclusive)\n",
    "for i in range(2,100,2):\n",
    "    print(i,end=\" \")"
   ]
  },
  {
   "cell_type": "code",
   "execution_count": 41,
   "id": "89365213-24c3-47da-8ece-562d0802be25",
   "metadata": {},
   "outputs": [
    {
     "name": "stdin",
     "output_type": "stream",
     "text": [
      "Enter starting number: 34\n",
      "Enter end number: 45\n"
     ]
    },
    {
     "name": "stdout",
     "output_type": "stream",
     "text": [
      "34 36 38 40 42 44 "
     ]
    }
   ],
   "source": [
    "# Write the python program to get all the even numbers for a given range both are inclusive. \n",
    "start = int(input(\"Enter starting number:\"))\n",
    "end = int(input(\"Enter end number:\"))\n",
    "\n",
    "for i in range(start,end+1):\n",
    "    if i%2==0:\n",
    "        print(i,end=\" \")\n"
   ]
  },
  {
   "cell_type": "code",
   "execution_count": null,
   "id": "8f6774ab-41e3-419b-90d5-bf8ee2333d9c",
   "metadata": {},
   "outputs": [],
   "source": [
    "## above can also be done with if else to make sure user enters correct inputs. \n",
    "start = int(input(\"Enter starting number:\"))\n",
    "end = int(input(\"Enter end number:\"))\n",
    "if start < end:\n",
    "    for i in range(start,end+1):\n",
    "        if i%2==0:\n",
    "            print(i,end=\" \")\n",
    "elif start == end:\n",
    "    print(\"Start and End are same, No range to print\")\n",
    "else:\n",
    "    print(\"start should be less than end\")"
   ]
  },
  {
   "cell_type": "code",
   "execution_count": 42,
   "id": "91a4d7b5-1bcb-4cb5-8c12-cd0195df1bb1",
   "metadata": {},
   "outputs": [
    {
     "name": "stdout",
     "output_type": "stream",
     "text": [
      "35 70 "
     ]
    }
   ],
   "source": [
    "#wire program that gives numbers between 1 to 100 which are divisible by 5 and divisible by 7. \n",
    "for num in range(1, 101):\n",
    "    if num%5 == 0 and num%7 == 0:\n",
    "        print(num,end=\" \")"
   ]
  },
  {
   "cell_type": "code",
   "execution_count": 46,
   "id": "1f617f8b-a126-4b3a-88df-bb214420f73e",
   "metadata": {},
   "outputs": [
    {
     "name": "stdout",
     "output_type": "stream",
     "text": [
      "1 11\n",
      "2 12\n",
      "3 13\n",
      "4 14\n",
      "5 15\n"
     ]
    }
   ],
   "source": [
    "seq = [1,2,3,4,5]\n",
    "## Iterating over given list. \n",
    "for i in seq:\n",
    "    j = i +10\n",
    "    print(i, j)"
   ]
  },
  {
   "cell_type": "code",
   "execution_count": 48,
   "id": "5be47e1c-7d27-42ca-a61b-5b4401e60190",
   "metadata": {},
   "outputs": [
    {
     "name": "stdout",
     "output_type": "stream",
     "text": [
      "jeevan 1\n",
      "jeevan 2\n",
      "jeevan 3\n",
      "jeevan 4\n",
      "jeevan 5\n"
     ]
    }
   ],
   "source": [
    "seq = [1,2,3,4,5]\n",
    "## Iterating over given list. \n",
    "for i in seq:\n",
    "    print(\"jeevan\",i)"
   ]
  },
  {
   "cell_type": "code",
   "execution_count": 47,
   "id": "79efb078-cb3c-43cd-b686-197bf6f1d0f5",
   "metadata": {},
   "outputs": [
    {
     "name": "stdout",
     "output_type": "stream",
     "text": [
      "item1 is at index 0\n",
      "items2 is at index 1\n",
      "item3 is at index 2\n",
      "item4 is at index 3\n"
     ]
    }
   ],
   "source": [
    "items = [\"item1\", \"items2\", \"item3\", \"item4\"]\n",
    "\n",
    "for i in range(len(items)):\n",
    "    print(items[i], \"is at index\",i)"
   ]
  },
  {
   "cell_type": "code",
   "execution_count": null,
   "id": "0463c174-8645-4ca5-9850-f05c060e87e0",
   "metadata": {},
   "outputs": [],
   "source": []
  }
 ],
 "metadata": {
  "kernelspec": {
   "display_name": "Python 3 (ipykernel)",
   "language": "python",
   "name": "python3"
  },
  "language_info": {
   "codemirror_mode": {
    "name": "ipython",
    "version": 3
   },
   "file_extension": ".py",
   "mimetype": "text/x-python",
   "name": "python",
   "nbconvert_exporter": "python",
   "pygments_lexer": "ipython3",
   "version": "3.9.7"
  }
 },
 "nbformat": 4,
 "nbformat_minor": 5
}
