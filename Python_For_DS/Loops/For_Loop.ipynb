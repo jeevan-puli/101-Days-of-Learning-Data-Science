{
 "cells": [
  {
   "cell_type": "markdown",
   "id": "720c4352-24e2-4642-b61c-2c86dd3ac602",
   "metadata": {},
   "source": [
    "# Loops\n",
    "- There may be a situation when you need to execute a block of code several number of times.\n",
    "- To iterate over items or elements in a given seq like  str, list, tup, set or dict.\n",
    "- In general, statements are executed sequentially: The first statement in a fucntction is exectued first, followed by the second, and so on.  "
   ]
  },
  {
   "cell_type": "code",
   "execution_count": 5,
   "id": "657dfd06-c780-4286-9209-05ffd6c0f0af",
   "metadata": {},
   "outputs": [
    {
     "name": "stdout",
     "output_type": "stream",
     "text": [
      "1 6 16\n",
      "2 7 17\n",
      "3 8 18\n",
      "4 9 19\n"
     ]
    }
   ],
   "source": [
    "i = 1\n",
    "j = i + 5\n",
    "k = j + 10\n",
    "print(i, j, k)\n",
    "\n",
    "i = 2\n",
    "j = i + 5\n",
    "k = j + 10\n",
    "print(i, j, k)\n",
    "\n",
    "i = 3\n",
    "j = i + 5\n",
    "k = j + 10\n",
    "print(i, j, k)\n",
    "\n",
    "i = 4\n",
    "j = i + 5\n",
    "k = j + 10\n",
    "print(i, j, k)"
   ]
  },
  {
   "cell_type": "code",
   "execution_count": 8,
   "id": "0e2a1d6c-5c3a-46cd-8e76-79529af9827f",
   "metadata": {},
   "outputs": [
    {
     "name": "stdout",
     "output_type": "stream",
     "text": [
      "1 6 16\n",
      "2 7 17\n",
      "3 8 18\n",
      "4 9 19\n"
     ]
    }
   ],
   "source": [
    "for i in range(1,5):  # The Above code can be cut short to this using a for loop.  This is using range. \n",
    "    j = i + 5\n",
    "    k = j + 10\n",
    "    print(i, j, k)"
   ]
  },
  {
   "cell_type": "code",
   "execution_count": 18,
   "id": "e9e4e523-fffe-4dc6-92a7-ec7ad773b31e",
   "metadata": {},
   "outputs": [
    {
     "name": "stdout",
     "output_type": "stream",
     "text": [
      "10 11 12 13 14 15 16 17 18 19 20 21 22 23 24 25 26 27 28 29 30 31 32 33 34 35 36 37 38 39 40 41 42 43 44 45 46 47 48 49 50 "
     ]
    }
   ],
   "source": [
    "for i in range(10,51): # print all the numbers between 10 to 50 (both inclusive). \n",
    "    print(i, end=\" \")   # for print by default the end = \\ (new line). Here by keeping end = \" \" it will print the answer in line with space. "
   ]
  },
  {
   "cell_type": "code",
   "execution_count": 20,
   "id": "112aa7c0-db1e-4da3-8c7a-614f49c68257",
   "metadata": {},
   "outputs": [
    {
     "name": "stdout",
     "output_type": "stream",
     "text": [
      "100 98 96 94 92 90 88 86 84 82 80 78 76 74 72 70 68 66 64 62 60 58 56 54 52 50 48 46 44 42 40 38 36 34 32 30 28 26 24 22 20 18 16 14 12 10 8 6 4 2 "
     ]
    }
   ],
   "source": [
    "#print even numbers in descending order from 1 to 100\n",
    "for i in range(100, 1, -2):\n",
    "    print(i, end=\" \")"
   ]
  },
  {
   "cell_type": "code",
   "execution_count": 24,
   "id": "535cf4a9-519f-4a92-b277-bf9805b9093e",
   "metadata": {},
   "outputs": [
    {
     "name": "stdout",
     "output_type": "stream",
     "text": [
      "2 4 6 8 10 12 14 16 18 20 22 24 26 28 30 32 34 36 38 40 42 44 46 48 50 52 54 56 58 60 62 64 66 68 70 72 74 76 78 80 82 84 86 88 90 92 94 96 98 "
     ]
    }
   ],
   "source": [
    "# Print even numbers in ascending order from 1 to 100(inclusive)\n",
    "for i in range(2,100,2):\n",
    "    print(i,end=\" \")"
   ]
  },
  {
   "cell_type": "code",
   "execution_count": 41,
   "id": "89365213-24c3-47da-8ece-562d0802be25",
   "metadata": {},
   "outputs": [
    {
     "name": "stdin",
     "output_type": "stream",
     "text": [
      "Enter starting number: 34\n",
      "Enter end number: 45\n"
     ]
    },
    {
     "name": "stdout",
     "output_type": "stream",
     "text": [
      "34 36 38 40 42 44 "
     ]
    }
   ],
   "source": [
    "# Write the python program to get all the even numbers for a given range both are inclusive. \n",
    "start = int(input(\"Enter starting number:\"))\n",
    "end = int(input(\"Enter end number:\"))\n",
    "\n",
    "for i in range(start,end+1):\n",
    "    if i%2==0:\n",
    "        print(i,end=\" \")\n"
   ]
  },
  {
   "cell_type": "code",
   "execution_count": null,
   "id": "8f6774ab-41e3-419b-90d5-bf8ee2333d9c",
   "metadata": {},
   "outputs": [],
   "source": [
    "## above can also be done with if else to make sure user enters correct inputs. \n",
    "start = int(input(\"Enter starting number:\"))\n",
    "end = int(input(\"Enter end number:\"))\n",
    "if start < end:\n",
    "    for i in range(start,end+1):\n",
    "        if i%2==0:\n",
    "            print(i,end=\" \")\n",
    "elif start == end:\n",
    "    print(\"Start and End are same, No range to print\")\n",
    "else:\n",
    "    print(\"start should be less than end\")"
   ]
  },
  {
   "cell_type": "code",
   "execution_count": 42,
   "id": "91a4d7b5-1bcb-4cb5-8c12-cd0195df1bb1",
   "metadata": {},
   "outputs": [
    {
     "name": "stdout",
     "output_type": "stream",
     "text": [
      "35 70 "
     ]
    }
   ],
   "source": [
    "#wire program that gives numbers between 1 to 100 which are divisible by 5 and divisible by 7. \n",
    "for num in range(1, 101):\n",
    "    if num%5 == 0 and num%7 == 0:\n",
    "        print(num,end=\" \")"
   ]
  },
  {
   "cell_type": "code",
   "execution_count": 46,
   "id": "1f617f8b-a126-4b3a-88df-bb214420f73e",
   "metadata": {},
   "outputs": [
    {
     "name": "stdout",
     "output_type": "stream",
     "text": [
      "1 11\n",
      "2 12\n",
      "3 13\n",
      "4 14\n",
      "5 15\n"
     ]
    }
   ],
   "source": [
    "seq = [1,2,3,4,5]\n",
    "## Iterating over given list. \n",
    "for i in seq:\n",
    "    j = i +10\n",
    "    print(i, j)"
   ]
  },
  {
   "cell_type": "code",
   "execution_count": 48,
   "id": "5be47e1c-7d27-42ca-a61b-5b4401e60190",
   "metadata": {},
   "outputs": [
    {
     "name": "stdout",
     "output_type": "stream",
     "text": [
      "jeevan 1\n",
      "jeevan 2\n",
      "jeevan 3\n",
      "jeevan 4\n",
      "jeevan 5\n"
     ]
    }
   ],
   "source": [
    "seq = [1,2,3,4,5]\n",
    "## Iterating over given list. \n",
    "for i in seq:\n",
    "    print(\"jeevan\",i)"
   ]
  },
  {
   "cell_type": "code",
   "execution_count": 47,
   "id": "79efb078-cb3c-43cd-b686-197bf6f1d0f5",
   "metadata": {},
   "outputs": [
    {
     "name": "stdout",
     "output_type": "stream",
     "text": [
      "item1 is at index 0\n",
      "items2 is at index 1\n",
      "item3 is at index 2\n",
      "item4 is at index 3\n"
     ]
    }
   ],
   "source": [
    "items = [\"item1\", \"items2\", \"item3\", \"item4\"]\n",
    "\n",
    "for i in range(len(items)):\n",
    "    print(items[i], \"is at index\",i)"
   ]
  },
  {
   "cell_type": "code",
   "execution_count": 2,
   "id": "0463c174-8645-4ca5-9850-f05c060e87e0",
   "metadata": {},
   "outputs": [
    {
     "name": "stdout",
     "output_type": "stream",
     "text": [
      "inital sum::, sum\n",
      "After adding 1 the sum: 1\n",
      "After adding 2 the sum: 3\n",
      "After adding 3 the sum: 6\n",
      "After adding 4 the sum: 10\n",
      "After adding 5 the sum: 15\n"
     ]
    }
   ],
   "source": [
    "# Sum of items in a given list. \n",
    "l = [1,2,3,4,5]\n",
    "\n",
    "sum = 0 # initialization.\n",
    "print(\"inital sum::, sum\")\n",
    "\n",
    "for i in l:\n",
    "    sum = sum + i\n",
    "    print(\"After adding\", i, \"the sum:\", sum)"
   ]
  },
  {
   "cell_type": "code",
   "execution_count": 3,
   "id": "dbca1e86-7963-4a8d-97d1-98e8830595a7",
   "metadata": {},
   "outputs": [
    {
     "name": "stdout",
     "output_type": "stream",
     "text": [
      "2880\n"
     ]
    }
   ],
   "source": [
    "# multiply the list of number. \n",
    "\n",
    "l = [4,4,5,6,6]\n",
    "\n",
    "p = 1\n",
    "\n",
    "for i in l:\n",
    "    p = p * i\n",
    "print(p)"
   ]
  },
  {
   "cell_type": "code",
   "execution_count": 12,
   "id": "d8cbc3e1-2acd-40ba-8cfd-4dd9660fd4ab",
   "metadata": {},
   "outputs": [
    {
     "name": "stdin",
     "output_type": "stream",
     "text": [
      "Enter lower boundary: 40\n",
      "Enter upper boundary: 100\n"
     ]
    },
    {
     "name": "stdout",
     "output_type": "stream",
     "text": [
      "For i = 40 the sum is: 40\n",
      "For i = 42 the sum is: 82\n",
      "For i = 44 the sum is: 126\n",
      "For i = 46 the sum is: 172\n",
      "For i = 48 the sum is: 220\n",
      "For i = 50 the sum is: 270\n",
      "For i = 52 the sum is: 322\n",
      "For i = 54 the sum is: 376\n",
      "For i = 56 the sum is: 432\n",
      "For i = 58 the sum is: 490\n",
      "For i = 60 the sum is: 550\n",
      "For i = 62 the sum is: 612\n",
      "For i = 64 the sum is: 676\n",
      "For i = 66 the sum is: 742\n",
      "For i = 68 the sum is: 810\n",
      "For i = 70 the sum is: 880\n",
      "For i = 72 the sum is: 952\n",
      "For i = 74 the sum is: 1026\n",
      "For i = 76 the sum is: 1102\n",
      "For i = 78 the sum is: 1180\n",
      "For i = 80 the sum is: 1260\n",
      "For i = 82 the sum is: 1342\n",
      "For i = 84 the sum is: 1426\n",
      "For i = 86 the sum is: 1512\n",
      "For i = 88 the sum is: 1600\n",
      "For i = 90 the sum is: 1690\n",
      "For i = 92 the sum is: 1782\n",
      "For i = 94 the sum is: 1876\n",
      "For i = 96 the sum is: 1972\n",
      "For i = 98 the sum is: 2070\n",
      "For i = 100 the sum is: 2170\n",
      "The total is 2170\n"
     ]
    }
   ],
   "source": [
    "#sum of even numbers in between given ranges (both inclusive). \n",
    "lb = int(input(\"Enter lower boundary:\"))\n",
    "ub = int(input(\"Enter upper boundary:\"))\n",
    "\n",
    "sum = 0\n",
    "\n",
    "for i in range(lb, ub+1):\n",
    "    if(i%2==0):\n",
    "        sum = sum + i\n",
    "        print(\"For i =\",i ,\"the sum is:\", sum)\n",
    "print(\"The total is\", sum)\n"
   ]
  },
  {
   "cell_type": "code",
   "execution_count": 13,
   "id": "478d25c1-8d3f-445b-9c17-9d4f3eb027be",
   "metadata": {},
   "outputs": [
    {
     "name": "stdin",
     "output_type": "stream",
     "text": [
      "Enter multplication table: 2\n"
     ]
    },
    {
     "name": "stdout",
     "output_type": "stream",
     "text": [
      "2 X 1 = 2\n",
      "2 X 2 = 4\n",
      "2 X 3 = 6\n",
      "2 X 4 = 8\n",
      "2 X 5 = 10\n",
      "2 X 6 = 12\n",
      "2 X 7 = 14\n",
      "2 X 8 = 16\n",
      "2 X 9 = 18\n",
      "2 X 10 = 20\n"
     ]
    }
   ],
   "source": [
    "# Program to print multiplication table of user provided number. \n",
    "\n",
    "a = int(input(\"Enter multplication table:\"))\n",
    "for i in range(1,11):\n",
    "    print(a, \"X\" ,i, \"=\", a*i)"
   ]
  },
  {
   "cell_type": "code",
   "execution_count": 17,
   "id": "4b5726e3-277c-4ab2-96a1-1040e058dd1e",
   "metadata": {},
   "outputs": [
    {
     "name": "stdin",
     "output_type": "stream",
     "text": [
      "Enter the factorial number: 6\n"
     ]
    },
    {
     "name": "stdout",
     "output_type": "stream",
     "text": [
      "720\n"
     ]
    }
   ],
   "source": [
    "# Write a program that can compute the factorial of a given number. \n",
    "f = int(input(\"Enter the factorial number:\"))\n",
    "\n",
    "fact = 1\n",
    "\n",
    "for i in range(1,f+1):\n",
    "    fact = fact*i\n",
    "\n",
    "print(fact)"
   ]
  },
  {
   "cell_type": "markdown",
   "id": "e17df0f2-2bb2-4fc1-a719-bbb9ce952aa4",
   "metadata": {},
   "source": [
    "## Nested for loop."
   ]
  },
  {
   "cell_type": "code",
   "execution_count": 18,
   "id": "7ddfd8fd-1403-4b59-a4a5-be9c12fa608b",
   "metadata": {},
   "outputs": [
    {
     "name": "stdout",
     "output_type": "stream",
     "text": [
      "i= 0 j= 0\n",
      "i= 0 j= 1\n",
      "i= 1 j= 0\n",
      "i= 1 j= 1\n",
      "i= 2 j= 0\n",
      "i= 2 j= 1\n"
     ]
    }
   ],
   "source": [
    "for i in range(3):\n",
    "    for j in range(2):\n",
    "        print(\"i=\",i,\"j=\",j)"
   ]
  },
  {
   "cell_type": "code",
   "execution_count": 20,
   "id": "fb9298dc-2652-4e17-90c6-f2b27e3c1244",
   "metadata": {},
   "outputs": [
    {
     "name": "stdout",
     "output_type": "stream",
     "text": [
      "12 1\n",
      "12 2\n",
      "12 3\n",
      "15 1\n",
      "15 2\n",
      "15 3\n",
      "18\n"
     ]
    }
   ],
   "source": [
    "s_no = [1,2,3]\n",
    "marks = [12,15]\n",
    "\n",
    "for i in marks:\n",
    "    for j in s_no:\n",
    "        print(i,j)\n",
    "print(i+j)"
   ]
  },
  {
   "cell_type": "code",
   "execution_count": 21,
   "id": "b1035d8d-e6e6-4c90-bad0-d2075d9d044e",
   "metadata": {},
   "outputs": [
    {
     "name": "stdout",
     "output_type": "stream",
     "text": [
      "0 0 DS\n",
      "0 1 DS\n",
      "1 0 DS\n",
      "1 1 DS\n"
     ]
    }
   ],
   "source": [
    "for i in range(2):\n",
    "    for j in range(2):\n",
    "        print(i,j,\"DS\")"
   ]
  },
  {
   "cell_type": "code",
   "execution_count": 22,
   "id": "949ca4a4-8d20-44f4-a5e0-3eeaa4cc3994",
   "metadata": {},
   "outputs": [
    {
     "name": "stdout",
     "output_type": "stream",
     "text": [
      "0 1\n",
      "0 2\n",
      "0 9\n",
      "1 1\n",
      "1 2\n",
      "1 9\n",
      "2 1\n",
      "2 2\n",
      "2 9\n"
     ]
    }
   ],
   "source": [
    "for i in range(3):\n",
    "    for k in [1,2,9]:\n",
    "        print(i,k)"
   ]
  },
  {
   "cell_type": "code",
   "execution_count": null,
   "id": "4f1d04a9-b976-49b7-8cb2-91fb368316d3",
   "metadata": {},
   "outputs": [],
   "source": []
  }
 ],
 "metadata": {
  "kernelspec": {
   "display_name": "Python 3 (ipykernel)",
   "language": "python",
   "name": "python3"
  },
  "language_info": {
   "codemirror_mode": {
    "name": "ipython",
    "version": 3
   },
   "file_extension": ".py",
   "mimetype": "text/x-python",
   "name": "python",
   "nbconvert_exporter": "python",
   "pygments_lexer": "ipython3",
   "version": "3.9.7"
  }
 },
 "nbformat": 4,
 "nbformat_minor": 5
}
