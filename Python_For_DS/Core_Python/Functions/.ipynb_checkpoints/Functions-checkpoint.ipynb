{
 "cells": [
  {
   "cell_type": "markdown",
   "id": "422cb72a-6064-4823-b1c4-84b430ccceeb",
   "metadata": {},
   "source": [
    "# Python Functions\n",
    "- Function is a group of related statements that perform a specific task.\n",
    "- A function is a set of statements that take inputs, do some specific computation, and produce output.\n",
    "- It avoids repetition and makes code reusable.\n",
    "- If we use functions written by others in the form of a library, it can be termed as library functions.\n",
    "\n",
    "## Types of Functions\n",
    "1. InBuilt Functions.\n",
    "2. User-defined Functions.\n",
    "\n",
    "### Built-in Functions\n",
    "- print() is a Builtin function.\n",
    "- input()\n",
    "- type()\n",
    "Note:: list.append() is not a function it is a method. "
   ]
  },
  {
   "cell_type": "code",
   "execution_count": 1,
   "id": "d464577a-9e64-4a48-a1e1-417888078820",
   "metadata": {},
   "outputs": [
    {
     "data": {
      "text/plain": [
       "10"
      ]
     },
     "execution_count": 1,
     "metadata": {},
     "output_type": "execute_result"
    }
   ],
   "source": [
    "### abs() --> find the absolute value\n",
    "abs(-10)  # abs is used to give absolute value. "
   ]
  },
  {
   "cell_type": "markdown",
   "id": "6bac667d-4f95-414c-9a04-863a233dfd8a",
   "metadata": {},
   "source": [
    "### User-defined Function.\n",
    "- Functions that we define ourselves to do certain specific tasks are referred to as user-defined functions.\n",
    "\n",
    "#### Advantages\n",
    "1. User-defined functions help to decompose a large program into small segments which makes the program easy to understand, maintain, and debug.\n",
    "2. If repeated code occurs in a program. The function can be used to include those codes and execute when needed by calling that function.\n",
    "3. Programmers working on large projects can divide the workload by making different functions.\n",
    "\n",
    "### Syntax:\n",
    "    def function_name(parameters):\n",
    "\n",
    "        \"\"\"\n",
    "        Dpc String\n",
    "        \"\"\"\n",
    "        function body(statements)\n",
    "        \n",
    "        return[expression]\n",
    "\n",
    "1. The keyword \"def\" marks the start of the function header.\n",
    "2. Parameters(arguments) through which we pass value to a function. These are optional.\n",
    "3. A colon(:) to mark the end of function header.\n",
    "4. Doc string describes what the function does. This is optional.\n",
    "5. \"Return\" Statement to return a value from the function. This is optional.\n",
    "\n",
    "##### return.\n",
    "- The return statement is used to exit a function and go back to the place from where it was called.\n",
    "- return statement can contain an expression that gets evaluated and the value is returned.\n",
    "- If there is no expression in the statement or the return statement itself is not present inside a function, then the function will return None Object."
   ]
  },
  {
   "cell_type": "code",
   "execution_count": 1,
   "id": "43e88ada-e1d7-49ed-9e5f-a49eb67636ee",
   "metadata": {},
   "outputs": [],
   "source": [
    "# Defining a function. \n",
    "def add(a,b):\n",
    "    \"\"\"\n",
    "    This function is used to add two number\n",
    "    \"\"\"\n",
    "    c = a + b\n",
    "    return c"
   ]
  },
  {
   "cell_type": "code",
   "execution_count": 4,
   "id": "f00f6809-4933-4bb0-a473-85fc15f16830",
   "metadata": {},
   "outputs": [
    {
     "data": {
      "text/plain": [
       "3"
      ]
     },
     "execution_count": 4,
     "metadata": {},
     "output_type": "execute_result"
    }
   ],
   "source": [
    "# adding the function. \n",
    "#Note:: this will only work after executing the defined function. \n",
    "add(1,2)"
   ]
  },
  {
   "cell_type": "code",
   "execution_count": 5,
   "id": "818f0fea-19a6-49bf-8b8e-212653f86881",
   "metadata": {},
   "outputs": [],
   "source": [
    "# Define the function.\n",
    "\n",
    "def sum_4(a,b,c,d):\n",
    "    return a+b+c+d"
   ]
  },
  {
   "cell_type": "code",
   "execution_count": 6,
   "id": "155a4699-3842-4563-a195-16093eb0de53",
   "metadata": {},
   "outputs": [
    {
     "data": {
      "text/plain": [
       "10"
      ]
     },
     "execution_count": 6,
     "metadata": {},
     "output_type": "execute_result"
    }
   ],
   "source": [
    "## all the function. \n",
    "sum_4(1,2,3,4)"
   ]
  },
  {
   "cell_type": "code",
   "execution_count": 7,
   "id": "769f85b1-3ee0-4ec0-9b6f-17ae9640560f",
   "metadata": {},
   "outputs": [
    {
     "data": {
      "text/plain": [
       "140"
      ]
     },
     "execution_count": 7,
     "metadata": {},
     "output_type": "execute_result"
    }
   ],
   "source": [
    "## Function can be called multiple times with in the same file (if using jupyter)\n",
    "\n",
    "sum_4(20,30,40,50)"
   ]
  },
  {
   "cell_type": "code",
   "execution_count": 8,
   "id": "fc78f5e6-44e7-4c96-9efd-fb2c34d136a7",
   "metadata": {},
   "outputs": [
    {
     "data": {
      "text/plain": [
       "20"
      ]
     },
     "execution_count": 8,
     "metadata": {},
     "output_type": "execute_result"
    }
   ],
   "source": [
    "def double(jk):\n",
    "    r = 2*jk\n",
    "    return r\n",
    "\n",
    "double(10)"
   ]
  },
  {
   "cell_type": "markdown",
   "id": "6c86e550-3333-4f68-8be2-ab47c4e14e1c",
   "metadata": {},
   "source": [
    "______________________"
   ]
  },
  {
   "cell_type": "code",
   "execution_count": 10,
   "id": "49f1876b-abd6-4226-8140-dea933a8965c",
   "metadata": {},
   "outputs": [
    {
     "name": "stdout",
     "output_type": "stream",
     "text": [
      "35\n",
      "70\n",
      "105\n",
      "140\n",
      "175\n"
     ]
    }
   ],
   "source": [
    "for num in range(1,200):\n",
    "    if num%5 == 0 and num%7==0:\n",
    "        print(num)"
   ]
  },
  {
   "cell_type": "code",
   "execution_count": 11,
   "id": "ef0f8279-5120-48fe-ad1f-74c112d88dea",
   "metadata": {},
   "outputs": [
    {
     "name": "stdout",
     "output_type": "stream",
     "text": [
      "35\n",
      "70\n",
      "105\n",
      "140\n",
      "175\n",
      "210\n",
      "245\n",
      "280\n"
     ]
    }
   ],
   "source": [
    "for num in range(1,300):\n",
    "    if num%5 == 0 and num%7==0:\n",
    "        print(num)"
   ]
  },
  {
   "cell_type": "code",
   "execution_count": 12,
   "id": "795b8d9a-0156-4bd7-b71e-697669518840",
   "metadata": {},
   "outputs": [
    {
     "name": "stdout",
     "output_type": "stream",
     "text": [
      "35\n",
      "70\n",
      "105\n",
      "140\n",
      "175\n",
      "210\n",
      "245\n",
      "280\n",
      "315\n",
      "350\n",
      "385\n"
     ]
    }
   ],
   "source": [
    "for num in range(1,400):\n",
    "    if num%5 == 0 and num%7==0:\n",
    "        print(num)"
   ]
  },
  {
   "cell_type": "code",
   "execution_count": 16,
   "id": "7292e38a-cf33-4fe9-bd02-deb906b80b27",
   "metadata": {},
   "outputs": [],
   "source": [
    "### in the above example we write 9 lines of code to to get number from 1 to 200, 1 to 300, 1 to 400. \n",
    "## This can be done in the following way with functions to write less code. \n",
    "\n",
    "def num_5_7(i):\n",
    "    for num in range(1,i):\n",
    "        if num%5 == 0 and num%7==0:\n",
    "            print(num)"
   ]
  },
  {
   "cell_type": "code",
   "execution_count": 17,
   "id": "ea365187-2afb-4c4a-b0ed-5e19befb8b8f",
   "metadata": {},
   "outputs": [
    {
     "name": "stdout",
     "output_type": "stream",
     "text": [
      "35\n",
      "70\n"
     ]
    }
   ],
   "source": [
    "num_5_7(100)"
   ]
  },
  {
   "cell_type": "code",
   "execution_count": 19,
   "id": "c59c22ed-6bbb-4d63-98ed-c412bea33464",
   "metadata": {},
   "outputs": [
    {
     "name": "stdout",
     "output_type": "stream",
     "text": [
      "35\n",
      "70\n",
      "105\n",
      "140\n",
      "175\n"
     ]
    }
   ],
   "source": [
    "num_5_7(200)"
   ]
  },
  {
   "cell_type": "code",
   "execution_count": 20,
   "id": "c8671ce9-115a-4a8a-93d0-924a6313d73a",
   "metadata": {},
   "outputs": [
    {
     "name": "stdout",
     "output_type": "stream",
     "text": [
      "35\n",
      "70\n",
      "105\n",
      "140\n",
      "175\n",
      "210\n",
      "245\n",
      "280\n"
     ]
    }
   ],
   "source": [
    "num_5_7(300)"
   ]
  },
  {
   "cell_type": "markdown",
   "id": "b137a08b-5c41-4782-87e4-d4c03815ede0",
   "metadata": {},
   "source": [
    "--------------------------------"
   ]
  },
  {
   "cell_type": "code",
   "execution_count": 22,
   "id": "a3f38141-5f62-44aa-a022-cb81315960c2",
   "metadata": {},
   "outputs": [
    {
     "name": "stdout",
     "output_type": "stream",
     "text": [
      "1\n",
      "3\n",
      "6\n",
      "10\n",
      "15\n"
     ]
    }
   ],
   "source": [
    "# write a program to add number in a list. \n",
    "\n",
    "a = [1,2,3,4,5]\n",
    "sum = 0\n",
    "for i in a:\n",
    "    sum = sum + i\n",
    "    print(sum)"
   ]
  },
  {
   "cell_type": "code",
   "execution_count": 26,
   "id": "b9c7ff3f-4ba1-4d0d-b795-e983a2b9d1bd",
   "metadata": {},
   "outputs": [],
   "source": [
    "# above program is not reusable so this can be done as follows using functions. \n",
    "\n",
    "def sum_of_list(a):\n",
    "    sum = 0\n",
    "    for i in a:\n",
    "        sum = sum + i\n",
    "    print(sum)"
   ]
  },
  {
   "cell_type": "code",
   "execution_count": 27,
   "id": "7d3bde8a-067d-4f24-a437-b155861c45dc",
   "metadata": {},
   "outputs": [
    {
     "name": "stdout",
     "output_type": "stream",
     "text": [
      "15\n"
     ]
    }
   ],
   "source": [
    "a = [1,2,3,4,5]\n",
    "sum_of_list(a)"
   ]
  },
  {
   "cell_type": "code",
   "execution_count": 28,
   "id": "c8d94ec6-34fc-43f0-8a02-ab45bf6349d6",
   "metadata": {},
   "outputs": [
    {
     "name": "stdout",
     "output_type": "stream",
     "text": [
      "419\n"
     ]
    }
   ],
   "source": [
    "a = [30,10,40,50,60,40,59,90,40]\n",
    "sum_of_list(a)"
   ]
  },
  {
   "cell_type": "markdown",
   "id": "7ecc5f08-7662-4453-baa7-40c0fd147e86",
   "metadata": {},
   "source": [
    "#### Write a program to print sum of all even number and sum of odd number from a given list. "
   ]
  },
  {
   "cell_type": "code",
   "execution_count": 31,
   "id": "268fa240-1b75-459b-b8e3-c136ad69b886",
   "metadata": {},
   "outputs": [
    {
     "name": "stdout",
     "output_type": "stream",
     "text": [
      "32\n",
      "37\n"
     ]
    }
   ],
   "source": [
    "# Method with out using functions (Not resuabled). \n",
    "lst = [1,14,15,12,9,7,6,5]\n",
    "\n",
    "even = 0\n",
    "odd = 0\n",
    "\n",
    "for i in lst:\n",
    "    if i%2 == 0:\n",
    "        even = even + i\n",
    "    else:\n",
    "        odd = odd + i \n",
    "print(even)\n",
    "print(odd)"
   ]
  },
  {
   "cell_type": "code",
   "execution_count": 35,
   "id": "25d2a3f5-1f35-485f-9a19-faa22be0d141",
   "metadata": {},
   "outputs": [],
   "source": [
    "def sum_even_odd(lst):\n",
    "    even = 0\n",
    "    odd = 0\n",
    "    for i in lst:\n",
    "        if i%2==0:\n",
    "            even = even + i\n",
    "        else:\n",
    "            odd = odd + i\n",
    "    print(\"sum of even:\",even)\n",
    "    print(\"sum of odd:\",odd)\n",
    "    "
   ]
  },
  {
   "cell_type": "code",
   "execution_count": 37,
   "id": "5fabb2d1-e7ff-4a05-8522-caf8987b2254",
   "metadata": {},
   "outputs": [
    {
     "name": "stdout",
     "output_type": "stream",
     "text": [
      "sum of even: 32\n",
      "sum of odd: 37\n"
     ]
    }
   ],
   "source": [
    "lst1 = [1,14,15,12,9,7,6,5]\n",
    "sum_even_odd(lst1)"
   ]
  },
  {
   "cell_type": "code",
   "execution_count": 38,
   "id": "487a3d13-0a4d-4dd4-ad68-3ff28a96acfb",
   "metadata": {},
   "outputs": [
    {
     "name": "stdout",
     "output_type": "stream",
     "text": [
      "sum of even: 234\n",
      "sum of odd: 49\n"
     ]
    }
   ],
   "source": [
    "lst2 = [20,30,49,52,50,82]\n",
    "sum_even_odd(lst2)"
   ]
  },
  {
   "cell_type": "markdown",
   "id": "a9998302-395d-42c6-a657-b223ebcd0884",
   "metadata": {},
   "source": [
    "#### The output of the function can only be saved if we use return. \n",
    "\n",
    "#### The output of the function can not be saved if we use print. "
   ]
  },
  {
   "cell_type": "markdown",
   "id": "2dd623ce-32df-429c-949c-9fa3c4b4080d",
   "metadata": {},
   "source": [
    "## Function with No Arguments. \n",
    "- number of arguments defined in function should match the arguments provided while calling the function.\n",
    "- if no arguments are not provided. While calling the function no arguments should be given. "
   ]
  },
  {
   "cell_type": "code",
   "execution_count": 39,
   "id": "c9a0c5fb-39b5-4cbe-b268-255824d9bb7d",
   "metadata": {},
   "outputs": [],
   "source": [
    "def even_num():\n",
    "    lb = int(input(\"Enter lower bound value:\"))\n",
    "    ub = int(input(\"Enter upper bound value:\"))\n",
    "    for i in range(lb, ub+1):\n",
    "        if i%2==0:\n",
    "            print(i)"
   ]
  },
  {
   "cell_type": "code",
   "execution_count": 40,
   "id": "3c1c03a8-6e41-48c9-baf2-a448d11922ea",
   "metadata": {},
   "outputs": [
    {
     "name": "stdin",
     "output_type": "stream",
     "text": [
      "Enter lower bound value: 20\n",
      "Enter upper bound value: 30\n"
     ]
    },
    {
     "name": "stdout",
     "output_type": "stream",
     "text": [
      "20\n",
      "22\n",
      "24\n",
      "26\n",
      "28\n",
      "30\n"
     ]
    }
   ],
   "source": [
    "even_num()"
   ]
  },
  {
   "cell_type": "markdown",
   "id": "21c8856a-a925-4bb5-9a2d-ccb2adfa3fa0",
   "metadata": {},
   "source": [
    "## 1. Positional Arguments."
   ]
  },
  {
   "cell_type": "code",
   "execution_count": 42,
   "id": "f3ea967e-b3db-4927-b811-8aeeb01106a3",
   "metadata": {},
   "outputs": [],
   "source": [
    "def greet(name, msg):\n",
    "    print(\"hello\", name, msg)"
   ]
  },
  {
   "cell_type": "code",
   "execution_count": 44,
   "id": "5128e64e-ef32-438a-a1bc-92143f2ae875",
   "metadata": {},
   "outputs": [
    {
     "name": "stdout",
     "output_type": "stream",
     "text": [
      "hello jk good morning\n"
     ]
    }
   ],
   "source": [
    "#call the function with arguments.\n",
    "greet(\"jk\",\"good morning\")\n",
    "\n",
    "## In this name = jk, msg=\"good morning\")"
   ]
  },
  {
   "cell_type": "code",
   "execution_count": 46,
   "id": "53f00aad-5c61-4166-8c19-4a586810462b",
   "metadata": {},
   "outputs": [
    {
     "name": "stdout",
     "output_type": "stream",
     "text": [
      "hello good morning jk\n"
     ]
    }
   ],
   "source": [
    "greet(\"good morning\",\"jk\")\n",
    "\n",
    "## in this name=\"good morning\", msg=\"jk\""
   ]
  },
  {
   "cell_type": "code",
   "execution_count": 47,
   "id": "08ae6472-6102-455a-9d64-9c5d44c63f79",
   "metadata": {},
   "outputs": [
    {
     "ename": "TypeError",
     "evalue": "greet() missing 1 required positional argument: 'msg'",
     "output_type": "error",
     "traceback": [
      "\u001b[0;31m---------------------------------------------------------------------------\u001b[0m",
      "\u001b[0;31mTypeError\u001b[0m                                 Traceback (most recent call last)",
      "\u001b[0;32m/var/folders/m_/0sjrbfvs43jdhs_tkhk_sbqc0000gn/T/ipykernel_4048/885315910.py\u001b[0m in \u001b[0;36m<module>\u001b[0;34m\u001b[0m\n\u001b[0;32m----> 1\u001b[0;31m \u001b[0mgreet\u001b[0m\u001b[0;34m(\u001b[0m\u001b[0;34m\"morning\"\u001b[0m\u001b[0;34m)\u001b[0m\u001b[0;34m\u001b[0m\u001b[0;34m\u001b[0m\u001b[0m\n\u001b[0m\u001b[1;32m      2\u001b[0m \u001b[0;34m\u001b[0m\u001b[0m\n\u001b[1;32m      3\u001b[0m \u001b[0;31m#  if you run this it will show error since,\u001b[0m\u001b[0;34m\u001b[0m\u001b[0;34m\u001b[0m\u001b[0m\n\u001b[1;32m      4\u001b[0m \u001b[0;31m# greet() function needs two arugments.\u001b[0m\u001b[0;34m\u001b[0m\u001b[0;34m\u001b[0m\u001b[0m\n",
      "\u001b[0;31mTypeError\u001b[0m: greet() missing 1 required positional argument: 'msg'"
     ]
    }
   ],
   "source": [
    "greet(\"morning\") \n",
    "\n",
    "#  if you run this it will show error since, \n",
    "# greet() function needs two arugments. "
   ]
  },
  {
   "cell_type": "markdown",
   "id": "182b7512-ea95-4b4a-8ee8-25f82185fa7b",
   "metadata": {},
   "source": [
    "## 2. Default Arguments - Very very important topic. \n",
    "\n",
    "- While creating a function, we are assigning a default value to an argument by using the assignment operator(=).\n"
   ]
  },
  {
   "cell_type": "code",
   "execution_count": 48,
   "id": "eb9be5ca-5384-4681-bd9c-a49cc6ad8146",
   "metadata": {},
   "outputs": [],
   "source": [
    "def messge(name, msg=\"Good Morning\"):\n",
    "    print(\"hello\", name, msg)"
   ]
  },
  {
   "cell_type": "code",
   "execution_count": 52,
   "id": "77ec7c49-be1a-4a3f-bd64-69c38ba35e29",
   "metadata": {},
   "outputs": [
    {
     "name": "stdout",
     "output_type": "stream",
     "text": [
      "hello jk Good Morning\n"
     ]
    }
   ],
   "source": [
    "messge(\"jk\")"
   ]
  },
  {
   "cell_type": "code",
   "execution_count": 53,
   "id": "cb214b08-2313-45d0-9b9d-a064b43cf262",
   "metadata": {},
   "outputs": [
    {
     "name": "stdout",
     "output_type": "stream",
     "text": [
      "10 20 30\n"
     ]
    }
   ],
   "source": [
    "print(10,20,30) # default in print(sep=\" \")"
   ]
  },
  {
   "cell_type": "code",
   "execution_count": 54,
   "id": "c9bf48c2-d693-4e8e-b9ba-9556a69513b9",
   "metadata": {},
   "outputs": [
    {
     "name": "stdout",
     "output_type": "stream",
     "text": [
      "10:20:30\n"
     ]
    }
   ],
   "source": [
    "print(10,20,30,sep = \":\")"
   ]
  },
  {
   "cell_type": "markdown",
   "id": "fbc11390-564a-48fd-aba4-d5bb785de5c7",
   "metadata": {},
   "source": [
    "## 3. Keyword Arugments"
   ]
  },
  {
   "cell_type": "code",
   "execution_count": 55,
   "id": "364ef58e-0818-4bce-9215-38874627b313",
   "metadata": {},
   "outputs": [],
   "source": [
    "def greets(name, msg):\n",
    "    print(\"Hellow\", name, msg)"
   ]
  },
  {
   "cell_type": "code",
   "execution_count": 57,
   "id": "b225c875-0eba-4c21-8aba-e8361d84e92f",
   "metadata": {},
   "outputs": [
    {
     "name": "stdout",
     "output_type": "stream",
     "text": [
      "Hellow Good morning Jeevan\n"
     ]
    }
   ],
   "source": [
    "greets(\"Good morning\",\"Jeevan\") # Positional argument"
   ]
  },
  {
   "cell_type": "code",
   "execution_count": 58,
   "id": "6d46d8fe-4aa2-453b-abdf-d5a74fbaae33",
   "metadata": {},
   "outputs": [
    {
     "name": "stdout",
     "output_type": "stream",
     "text": [
      "Hellow Jeevan good morning\n"
     ]
    }
   ],
   "source": [
    "greets(msg=\"good morning\", name=\"Jeevan\") # Key word arugment. "
   ]
  },
  {
   "cell_type": "markdown",
   "id": "ef23e2ad-15db-463f-8d7c-94ee3cbe5c8d",
   "metadata": {},
   "source": [
    "## 4. Arbitary Arguments. \n",
    "- Sometimes, we do not know in advance the number of arguments that will be passed into a function. Python allows us to handle this kind of situation through function calls with arbitrary number of arguments. "
   ]
  },
  {
   "cell_type": "code",
   "execution_count": 60,
   "id": "61fbd23d-2190-4ff7-a615-aa1a65294421",
   "metadata": {},
   "outputs": [],
   "source": [
    "def greetss(*names):\n",
    "    for i in names:\n",
    "        print(\"hellow, \", i)"
   ]
  },
  {
   "cell_type": "code",
   "execution_count": 61,
   "id": "6de425a2-4430-454d-80e7-174e761b61c9",
   "metadata": {},
   "outputs": [
    {
     "name": "stdout",
     "output_type": "stream",
     "text": [
      "hellow,  jk\n",
      "hellow,  suri\n",
      "hellow,  vamsh\n"
     ]
    }
   ],
   "source": [
    "greetss(\"jk\",\"suri\",\"vamsh\")"
   ]
  },
  {
   "cell_type": "markdown",
   "id": "43f0bbf2-8c4b-4196-a2ef-98b8977eb050",
   "metadata": {},
   "source": [
    "## Recussive Function or Recurison\n",
    "- We know that in python, a function can call other functions. It is even possible for the function to call itself. These type of construct are termed as recursive functions."
   ]
  },
  {
   "cell_type": "code",
   "execution_count": 62,
   "id": "4047d7f2-4907-48de-a92b-748e6630aba0",
   "metadata": {},
   "outputs": [
    {
     "data": {
      "text/plain": [
       "24"
      ]
     },
     "execution_count": 62,
     "metadata": {},
     "output_type": "execute_result"
    }
   ],
   "source": [
    "def fact(n):\n",
    "    if n <= 1:\n",
    "        return 1\n",
    "    else:\n",
    "        return n*fact(n-1)\n",
    "fact(4)"
   ]
  },
  {
   "cell_type": "code",
   "execution_count": null,
   "id": "0f944874-e7dd-4a6d-8b0f-4c612c3b97f9",
   "metadata": {},
   "outputs": [],
   "source": []
  }
 ],
 "metadata": {
  "kernelspec": {
   "display_name": "Python 3 (ipykernel)",
   "language": "python",
   "name": "python3"
  },
  "language_info": {
   "codemirror_mode": {
    "name": "ipython",
    "version": 3
   },
   "file_extension": ".py",
   "mimetype": "text/x-python",
   "name": "python",
   "nbconvert_exporter": "python",
   "pygments_lexer": "ipython3",
   "version": "3.9.7"
  }
 },
 "nbformat": 4,
 "nbformat_minor": 5
}
