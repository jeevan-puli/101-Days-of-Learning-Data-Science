{
 "cells": [
  {
   "cell_type": "markdown",
   "id": "54c3c668-c81f-44fc-98b4-1e6b69a81a3c",
   "metadata": {},
   "source": [
    "# List\n",
    "- it is one of the most used datatypes in Python and is very flexible.\n",
    "## Empty List.\n",
    "- To create an empty list, you can use empty square brackets or use the list() function with no arguments. "
   ]
  },
  {
   "cell_type": "code",
   "execution_count": 2,
   "id": "f6e439ba-1e50-410b-b07f-03301bdaf855",
   "metadata": {},
   "outputs": [
    {
     "name": "stdout",
     "output_type": "stream",
     "text": [
      "[]\n"
     ]
    }
   ],
   "source": [
    "myList = [] ##Empty list assignment. \n",
    "print(myList)"
   ]
  },
  {
   "cell_type": "code",
   "execution_count": 4,
   "id": "c4c58f4f-a259-465c-ad3c-c6badbb931bc",
   "metadata": {},
   "outputs": [
    {
     "name": "stdout",
     "output_type": "stream",
     "text": [
      "[]\n"
     ]
    }
   ],
   "source": [
    "myList = list() ##Empty list assignment. \n",
    "print(myList) "
   ]
  },
  {
   "cell_type": "markdown",
   "id": "413ba283-b0e4-4082-9fd8-4e0bbf937a56",
   "metadata": {},
   "source": [
    "- List is an ordered sequence of items.\n",
    "- Each element or value that is inside of a list is called an item.\n",
    "- Declaring a list is, items separated by commas or enclosed within brackets[ ]."
   ]
  },
  {
   "cell_type": "code",
   "execution_count": 5,
   "id": "c7f87a03-53e4-4966-90ba-b159f14f8129",
   "metadata": {},
   "outputs": [
    {
     "name": "stdout",
     "output_type": "stream",
     "text": [
      "[1, 2, 3, 4]\n"
     ]
    }
   ],
   "source": [
    "myList = [1,2,3,4]\n",
    "print(myList)"
   ]
  },
  {
   "cell_type": "markdown",
   "id": "cabad199-e5c1-40c2-8525-4c9be489b128",
   "metadata": {},
   "source": [
    "- All the items in a list do not need to be of the same tyep (heterogenous)."
   ]
  },
  {
   "cell_type": "code",
   "execution_count": 8,
   "id": "29fe25db-dd1b-4e66-8a9d-7023c1188566",
   "metadata": {},
   "outputs": [
    {
     "name": "stdout",
     "output_type": "stream",
     "text": [
      "[1, (1+2j), True, 'new', 1.0]\n"
     ]
    }
   ],
   "source": [
    "myList1 = [1, 1+2j,True,\"new\",1.000]     #List is heterogenous. \n",
    "print(myList1)"
   ]
  },
  {
   "cell_type": "markdown",
   "id": "bc13d56e-bb91-4204-a05f-744b745df2de",
   "metadata": {},
   "source": [
    "#### Nested List\n",
    "- Within the list, one of the item is list.\n"
   ]
  },
  {
   "cell_type": "code",
   "execution_count": 9,
   "id": "d6a62852-83db-49d0-8428-2164a3262f9b",
   "metadata": {},
   "outputs": [
    {
     "name": "stdout",
     "output_type": "stream",
     "text": [
      "[1, [3, 5], 10]\n"
     ]
    }
   ],
   "source": [
    "myNest = [1, [3,5], 10]\n",
    "print(myNest)"
   ]
  },
  {
   "cell_type": "code",
   "execution_count": 10,
   "id": "b1a1dde5-0110-475c-8c30-05527a93b1c7",
   "metadata": {},
   "outputs": [
    {
     "data": {
      "text/plain": [
       "3"
      ]
     },
     "execution_count": 10,
     "metadata": {},
     "output_type": "execute_result"
    }
   ],
   "source": [
    " len(myNest)"
   ]
  },
  {
   "cell_type": "markdown",
   "id": "ae50e7ec-9a92-4a5f-9b41-c6f5ad6610a1",
   "metadata": {},
   "source": [
    "#### List Indexing."
   ]
  },
  {
   "cell_type": "code",
   "execution_count": 13,
   "id": "58b0d43c-4b96-4527-92ba-cd64c7cc0c82",
   "metadata": {},
   "outputs": [
    {
     "data": {
      "text/plain": [
       "[3, 5]"
      ]
     },
     "execution_count": 13,
     "metadata": {},
     "output_type": "execute_result"
    }
   ],
   "source": [
    "myNest[1]"
   ]
  },
  {
   "cell_type": "code",
   "execution_count": 14,
   "id": "225f03cc-af80-4363-ab43-13faa6f719e9",
   "metadata": {},
   "outputs": [
    {
     "data": {
      "text/plain": [
       "3"
      ]
     },
     "execution_count": 14,
     "metadata": {},
     "output_type": "execute_result"
    }
   ],
   "source": [
    "myNest[1][0]"
   ]
  },
  {
   "cell_type": "markdown",
   "id": "07bde993-56e7-4641-b175-85faded9bcba",
   "metadata": {},
   "source": [
    "#### Lists are Mutable. \n",
    "\n",
    "Mutable:: Value of elements of a list can be altered in the same object. "
   ]
  },
  {
   "cell_type": "code",
   "execution_count": 15,
   "id": "565f913b-2456-416e-bdc6-1402b88d9f18",
   "metadata": {},
   "outputs": [
    {
     "name": "stdout",
     "output_type": "stream",
     "text": [
      "[2, 3, 4]\n"
     ]
    },
    {
     "data": {
      "text/plain": [
       "140500749572608"
      ]
     },
     "execution_count": 15,
     "metadata": {},
     "output_type": "execute_result"
    }
   ],
   "source": [
    "x = [2,3,4]\n",
    "print(x)\n",
    "id(x)"
   ]
  },
  {
   "cell_type": "code",
   "execution_count": 17,
   "id": "f50d5e2a-d585-458d-887f-5feaf6d376d3",
   "metadata": {},
   "outputs": [
    {
     "name": "stdout",
     "output_type": "stream",
     "text": [
      "[2, 40, 4]\n"
     ]
    },
    {
     "data": {
      "text/plain": [
       "140500749572608"
      ]
     },
     "execution_count": 17,
     "metadata": {},
     "output_type": "execute_result"
    }
   ],
   "source": [
    "x[1] = 40\n",
    "print(x)\n",
    "id(x)"
   ]
  },
  {
   "cell_type": "markdown",
   "id": "58e021bb-2bb7-42e9-9277-9d63038dd9e6",
   "metadata": {},
   "source": [
    "#### List Slicing"
   ]
  },
  {
   "cell_type": "code",
   "execution_count": 19,
   "id": "92b8830c-2d80-422f-a462-04b24e0e94e7",
   "metadata": {},
   "outputs": [
    {
     "data": {
      "text/plain": [
       "[10, 20, 30, 40]"
      ]
     },
     "execution_count": 19,
     "metadata": {},
     "output_type": "execute_result"
    }
   ],
   "source": [
    "l1 = [10,20,30,40,50,60]\n",
    "l1[0:4]"
   ]
  },
  {
   "cell_type": "markdown",
   "id": "9bb97ff9-fd51-4c62-bf43-04f53f212eb9",
   "metadata": {},
   "source": [
    "#### List concatenation."
   ]
  },
  {
   "cell_type": "code",
   "execution_count": 20,
   "id": "f204a1b2-ee89-400e-a7d7-4604b91707a6",
   "metadata": {},
   "outputs": [
    {
     "name": "stdout",
     "output_type": "stream",
     "text": [
      "['abc', 1, 3, 'this', 'that', 'what', 5]\n"
     ]
    }
   ],
   "source": [
    "l2 = [\"abc\",1,3,\"this\"]\n",
    "l3 = [\"that\", \"what\", 5]\n",
    "l4 = l2 + l3\n",
    "print(l4)"
   ]
  },
  {
   "cell_type": "markdown",
   "id": "8126dbe7-2a24-49fe-9d61-ce858becc5a3",
   "metadata": {},
   "source": [
    "#### List Methods (Important method). \n",
    "- list.append() --> append is used to add elements in the list and it will add the item at the end. "
   ]
  },
  {
   "cell_type": "code",
   "execution_count": 21,
   "id": "6d298469-f249-411b-be4f-3250949d5bb3",
   "metadata": {},
   "outputs": [
    {
     "name": "stdout",
     "output_type": "stream",
     "text": [
      "[2, 3, 45, 6]\n"
     ]
    }
   ],
   "source": [
    "thisList = [2,3,45,6]\n",
    "print(thisList)"
   ]
  },
  {
   "cell_type": "code",
   "execution_count": 23,
   "id": "68b4bc7d-35b4-40fb-b477-14bb283974ef",
   "metadata": {},
   "outputs": [
    {
     "name": "stdout",
     "output_type": "stream",
     "text": [
      "[2, 3, 45, 6, 67, 67]\n"
     ]
    }
   ],
   "source": [
    "thisList.append(67)\n",
    "print(thisList)"
   ]
  },
  {
   "cell_type": "markdown",
   "id": "7d19a942-9740-4736-8147-0b6ff6b75aca",
   "metadata": {},
   "source": [
    "- list.extend() - it adds multiple items at the end individually. "
   ]
  },
  {
   "cell_type": "code",
   "execution_count": 25,
   "id": "d12c3a5c-4c75-4b37-bf2c-ad18c7f29a2f",
   "metadata": {},
   "outputs": [
    {
     "name": "stdout",
     "output_type": "stream",
     "text": [
      "[1, 2, 3, 4, 56, 45, 67]\n"
     ]
    }
   ],
   "source": [
    "thatList = [1,2,3,4,56]\n",
    "thatList.extend([45,67])\n",
    "print(thatList)"
   ]
  },
  {
   "cell_type": "markdown",
   "id": "251588d6-8903-474c-b4df-5db4e773bddb",
   "metadata": {},
   "source": [
    "- list.insert() --. insert in a specific order and list.insert(x,y) will add element y at location x.\n",
    "  "
   ]
  },
  {
   "cell_type": "code",
   "execution_count": 26,
   "id": "39eb28ab-5c7e-4403-873d-886e31c732f0",
   "metadata": {},
   "outputs": [
    {
     "name": "stdout",
     "output_type": "stream",
     "text": [
      "[1, 2, 'this', 4, 5, 6]\n"
     ]
    }
   ],
   "source": [
    "thisList = [ 1, 2, 4, 5, 6]\n",
    "thisList.insert(2, \"this\")\n",
    "print(thisList)"
   ]
  },
  {
   "cell_type": "markdown",
   "id": "5c50cf05-05f2-43a7-9538-8137c14dfffd",
   "metadata": {},
   "source": [
    "- list.remove() --> to remove an item based on value. "
   ]
  },
  {
   "cell_type": "code",
   "execution_count": 28,
   "id": "5ca611ad-b3c7-43d9-8aec-5c31f0829fb2",
   "metadata": {},
   "outputs": [
    {
     "name": "stdout",
     "output_type": "stream",
     "text": [
      "[10, 20, 40]\n"
     ]
    }
   ],
   "source": [
    "rmList = [10, 20, 30, 40]\n",
    "rmList.remove(30)\n",
    "print(rmList)"
   ]
  },
  {
   "cell_type": "markdown",
   "id": "ed436f14-c3e6-46a7-95a1-0ef6f84d3968",
   "metadata": {},
   "source": [
    "- list.pop() -- to remove an item based on index number. "
   ]
  },
  {
   "cell_type": "code",
   "execution_count": 29,
   "id": "8a11ee35-b47b-4657-b0fb-0a4f87cbd2d0",
   "metadata": {},
   "outputs": [
    {
     "name": "stdout",
     "output_type": "stream",
     "text": [
      "[2, 3, 4, 6]\n"
     ]
    }
   ],
   "source": [
    "popList = [2,3,4,5,6]\n",
    "popList.pop(3)\n",
    "print(popList)"
   ]
  },
  {
   "cell_type": "markdown",
   "id": "962d745a-d327-4016-b0df-fe04738977fc",
   "metadata": {},
   "source": [
    "#### delete from list"
   ]
  },
  {
   "cell_type": "code",
   "execution_count": 30,
   "id": "36c8f3e8-b847-4431-bbbd-498313b54e59",
   "metadata": {},
   "outputs": [
    {
     "name": "stdout",
     "output_type": "stream",
     "text": [
      "[30, 50, 50, 69, 98]\n"
     ]
    }
   ],
   "source": [
    "frList = [30,40,50,50,69,98]\n",
    "del frList[1]\n",
    "print(frList)"
   ]
  },
  {
   "cell_type": "code",
   "execution_count": 31,
   "id": "58139324-2681-4794-ae06-274e005eb320",
   "metadata": {},
   "outputs": [
    {
     "name": "stdout",
     "output_type": "stream",
     "text": [
      "[50, 69, 98]\n"
     ]
    }
   ],
   "source": [
    "frList = [30,40,50,50,69,98]\n",
    "del frList[0:3]\n",
    "print(frList)"
   ]
  },
  {
   "cell_type": "markdown",
   "id": "f0c98d11-fa17-445b-a8ff-c5d9e1e44099",
   "metadata": {},
   "source": [
    "- list.clear() --> clear all elements in a list and returns empty list. "
   ]
  },
  {
   "cell_type": "code",
   "execution_count": 33,
   "id": "390e957c-60b5-41bc-8f51-5f627fee5771",
   "metadata": {},
   "outputs": [
    {
     "name": "stdout",
     "output_type": "stream",
     "text": [
      "[]\n"
     ]
    }
   ],
   "source": [
    " crList = [2,3,4,5]\n",
    "crList.clear()\n",
    "print(crList)"
   ]
  },
  {
   "cell_type": "code",
   "execution_count": 36,
   "id": "f2ece15b-03f8-4939-bb32-1f1e2e64ef35",
   "metadata": {},
   "outputs": [
    {
     "name": "stdout",
     "output_type": "stream",
     "text": [
      "[[4, 5, 6]]\n"
     ]
    },
    {
     "data": {
      "text/plain": [
       "1"
      ]
     },
     "execution_count": 36,
     "metadata": {},
     "output_type": "execute_result"
    }
   ],
   "source": [
    "thisList = [1,3,23,45,9]\n",
    "thisList.clear()\n",
    "thisList.append([4,5,6])\n",
    "print(thisList)\n",
    "len(thisList)"
   ]
  },
  {
   "cell_type": "markdown",
   "id": "922f2931-73c9-4d28-a2a3-21c239eddcf6",
   "metadata": {},
   "source": [
    "- list.reverse()\n",
    "- list.sort() ##Default is ascending order. To get decending order we need to write reverse = True in the bracket (list.sort(reverse=True))\n",
    "- - sort is only for numberic or alphbets.\n",
    "- list.sort and sorted() are different.\n",
    "- - list.sort() will sort and replace orginal list.\n",
    "  - sorted() will only sort but will not replace the original list.\n",
    "- list.count()\n",
    "- list.copy() - Important. \n",
    "- - shallow copy\n",
    "  - deep copy"
   ]
  },
  {
   "cell_type": "code",
   "execution_count": 43,
   "id": "6b937078-2b9b-4d0c-be3e-a0c2d7477404",
   "metadata": {},
   "outputs": [
    {
     "name": "stdout",
     "output_type": "stream",
     "text": [
      "[4, 5, 6, 8]\n",
      "[4, 5, 6, 8]\n",
      "[4, 5, 6, 8, 4]\n",
      "[4, 5, 6, 8, 4]\n"
     ]
    }
   ],
   "source": [
    "#deep copy\n",
    "l1 = [4,5,6,8]\n",
    "l2 = l1\n",
    "print(l1)\n",
    "print(l2)\n",
    "\n",
    "l2.append(4)\n",
    "print(l1)\n",
    "print(l2)"
   ]
  },
  {
   "cell_type": "code",
   "execution_count": 45,
   "id": "ce2dcb2b-c839-4b5f-ac7f-db7e49ecee7e",
   "metadata": {},
   "outputs": [
    {
     "name": "stdout",
     "output_type": "stream",
     "text": [
      "[4, 5, 6, 8]\n",
      "[4, 5, 6, 8]\n",
      "[4, 5, 6, 8]\n",
      "[4, 5, 6, 8, 4]\n"
     ]
    }
   ],
   "source": [
    "#shollow copy\n",
    "l1 = [4,5,6,8]\n",
    "l2 = l1.copy()\n",
    "print(l1)\n",
    "print(l2)\n",
    "\n",
    "l2.append(4)\n",
    "print(l1)\n",
    "print(l2)"
   ]
  },
  {
   "cell_type": "code",
   "execution_count": null,
   "id": "daef6114-f7fc-42eb-b71d-42201941c416",
   "metadata": {},
   "outputs": [],
   "source": []
  }
 ],
 "metadata": {
  "kernelspec": {
   "display_name": "Python 3 (ipykernel)",
   "language": "python",
   "name": "python3"
  },
  "language_info": {
   "codemirror_mode": {
    "name": "ipython",
    "version": 3
   },
   "file_extension": ".py",
   "mimetype": "text/x-python",
   "name": "python",
   "nbconvert_exporter": "python",
   "pygments_lexer": "ipython3",
   "version": "3.9.7"
  }
 },
 "nbformat": 4,
 "nbformat_minor": 5
}
