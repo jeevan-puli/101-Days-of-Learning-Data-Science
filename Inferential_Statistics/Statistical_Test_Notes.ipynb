{
 "cells": [
  {
   "cell_type": "markdown",
   "id": "865fa3b3-23b3-41ae-922d-b956304a3ab3",
   "metadata": {},
   "source": [
    "## Statistical tests.\n",
    "\n",
    "### 1. Contionous Variable.\n",
    "- 1 Sample Test\n",
    "- - 1 sample Z test\n",
    "  - 1 sample T test\n",
    "- 2 Sample Test\n",
    "- - 2 Sample test for equal variance.\n",
    "  - 2 sample test for unequal variance.\n",
    "- Anova Test.\n",
    "\n",
    "### 2. Discrete Variable. \n",
    "- 1 Proportion test.\n",
    "- 2 Proportion test.\n",
    "- Chisquare Test. "
   ]
  },
  {
   "cell_type": "markdown",
   "id": "ad39b170-a1e4-40bc-8dab-b04fcad68b43",
   "metadata": {},
   "source": [
    "## Steps involved in statistical tests (Hypothesis Testing)\n",
    "\n",
    "- Step 1: Formulate the Null Hypothesis (h)) and Alternate Hypothesis(H1)\n",
    "- Step 2: Level of Significance (Alpha)\n",
    "- Step 3: Check for Normality of given data (For continous data only) --> 1 Sample. Check for Variance or equal (2 or More samples).\n",
    "- Step 4: Select the Statistical Test and calculate p value.\n",
    "- Step 5: Based on p value, conclude the hypothesis test.\n",
    "          If p <= Alpha (p low Null go) --> Reject H0\n",
    "          If p > Alpha (p high Null Fly) --> do not Reject H0"
   ]
  },
  {
   "cell_type": "markdown",
   "id": "177857f0-0886-45ba-ae9e-eaeacf8f3fab",
   "metadata": {},
   "source": [
    "## How to check for Normality. \n",
    "\n",
    "### Option 1 - Skewness::\n",
    "- If the skewness is between -1 to +1 --> Then, it is normal distribution.\n",
    "- If the skewness is less than -1 --> Then, it is said to be left skewed distribution.\n",
    "- If the skewness is greater than +1 --> Then, it is said to be right skewed distribution.\n",
    "\n",
    "### Option 2 - Density Curve::\n",
    "- If the density curve is symmetrical --> Then, it is said to be normal distribution.\n",
    "- If the density curve is non symmetrical --> then, it is said to be a Skewed Distribution.\n",
    "\n",
    "### Option 3 - Shapiro test. \n",
    "- H0 : Data is Normal --> if p > alpha, then data is normal.\n",
    "- H1 : Data is not normal --> if p <= alpha, then data is not normal. "
   ]
  },
  {
   "cell_type": "markdown",
   "id": "d45376d1-3b5a-4da0-9e4a-adcb6ef7a3fe",
   "metadata": {},
   "source": [
    "# ------------------- One sample Test-------\n",
    "## Example 1:: Fabric Data. \n",
    "\n",
    "The length of 25 samples of a fabric are taken at random. Mean and standard deviation from the historic 2 years study are 150 and 4 respectively. Test if the current mean is greater than the historic mean. Assume alpha to be 0.05."
   ]
  },
  {
   "cell_type": "code",
   "execution_count": 2,
   "id": "d6b879a6-a667-4fc9-901e-870b3c40d51a",
   "metadata": {},
   "outputs": [],
   "source": [
    "import numpy as np\n",
    "import pandas as pd\n",
    "\n",
    "import matplotlib.pyplot as plt\n",
    "import seaborn as sns\n",
    "\n",
    "from scipy import stats"
   ]
  },
  {
   "cell_type": "code",
   "execution_count": 3,
   "id": "56798182-21ae-4634-bb53-239b9f3ffa0d",
   "metadata": {},
   "outputs": [
    {
     "data": {
      "text/html": [
       "<div>\n",
       "<style scoped>\n",
       "    .dataframe tbody tr th:only-of-type {\n",
       "        vertical-align: middle;\n",
       "    }\n",
       "\n",
       "    .dataframe tbody tr th {\n",
       "        vertical-align: top;\n",
       "    }\n",
       "\n",
       "    .dataframe thead th {\n",
       "        text-align: right;\n",
       "    }\n",
       "</style>\n",
       "<table border=\"1\" class=\"dataframe\">\n",
       "  <thead>\n",
       "    <tr style=\"text-align: right;\">\n",
       "      <th></th>\n",
       "      <th>Fabric_length</th>\n",
       "    </tr>\n",
       "  </thead>\n",
       "  <tbody>\n",
       "    <tr>\n",
       "      <th>0</th>\n",
       "      <td>151.2</td>\n",
       "    </tr>\n",
       "    <tr>\n",
       "      <th>1</th>\n",
       "      <td>160.3</td>\n",
       "    </tr>\n",
       "    <tr>\n",
       "      <th>2</th>\n",
       "      <td>147.5</td>\n",
       "    </tr>\n",
       "    <tr>\n",
       "      <th>3</th>\n",
       "      <td>149.2</td>\n",
       "    </tr>\n",
       "    <tr>\n",
       "      <th>4</th>\n",
       "      <td>159.2</td>\n",
       "    </tr>\n",
       "  </tbody>\n",
       "</table>\n",
       "</div>"
      ],
      "text/plain": [
       "   Fabric_length\n",
       "0          151.2\n",
       "1          160.3\n",
       "2          147.5\n",
       "3          149.2\n",
       "4          159.2"
      ]
     },
     "execution_count": 3,
     "metadata": {},
     "output_type": "execute_result"
    }
   ],
   "source": [
    "# Load fabric data. \n",
    "\n",
    "fabric = pd.read_excel(\"Fabric data.xlsx\")\n",
    "\n",
    "fabric.head()"
   ]
  },
  {
   "cell_type": "markdown",
   "id": "35c3fd59-bc43-4033-9192-8f2f712b1aab",
   "metadata": {},
   "source": [
    "#### Step 1:: Formulate of H0 and Ha\n",
    "- H0: Mean >= 150.\n",
    "- Ha : Mean < 150.\n",
    "\n",
    "#### Step 2:: Select Level of Significance. \n",
    "- Alpha = 0.05 (given).\n",
    "\n",
    "#### Step 3:: Check for Normality. \n"
   ]
  },
  {
   "cell_type": "code",
   "execution_count": 5,
   "id": "30665449-b313-4dd3-aeaa-0193088d1b31",
   "metadata": {},
   "outputs": [
    {
     "data": {
      "text/plain": [
       "0.29650632012590666"
      ]
     },
     "execution_count": 5,
     "metadata": {},
     "output_type": "execute_result"
    }
   ],
   "source": [
    "#option 1 --> Skewness. \n",
    "fabric[\"Fabric_length\"].skew()"
   ]
  },
  {
   "cell_type": "code",
   "execution_count": 6,
   "id": "a427085c-c3a2-4039-9a45-f53a55a1bc85",
   "metadata": {},
   "outputs": [
    {
     "data": {
      "image/png": "[encoded data removed]",
      "text/plain": [
       "<Figure size 500x500 with 1 Axes>"
      ]
     },
     "metadata": {},
     "output_type": "display_data"
    }
   ],
   "source": [
    "#option 2 --> Density Curve\n",
    "sns.displot(fabric[\"Fabric_length\"],kde=True)\n",
    "plt.show()"
   ]
  },
  {
   "cell_type": "code",
   "execution_count": 7,
   "id": "bb8bd2da-b8b9-4d56-96db-1fc000ab4af9",
   "metadata": {},
   "outputs": [
    {
     "data": {
      "text/plain": [
       "ShapiroResult(statistic=0.9397523999214172, pvalue=0.14609353244304657)"
      ]
     },
     "execution_count": 7,
     "metadata": {},
     "output_type": "execute_result"
    }
   ],
   "source": [
    "#Option 3 --> Shapiro test (h0 - data is normal)\n",
    "\n",
    "stats.shapiro(fabric[\"Fabric_length\"])"
   ]
  },
  {
   "cell_type": "markdown",
   "id": "9cb51b2f-76cc-49ac-8f34-7d14034877e4",
   "metadata": {},
   "source": [
    "#### - From above three options we can say that the sample data is normally distributed. \n",
    "\n",
    "#### Step 4:: Select the statistical test and calculate p value. \n",
    "- 1 sample Z test "
   ]
  },
  {
   "cell_type": "code",
   "execution_count": 8,
   "id": "f9b52576-1a86-46a7-aae1-db5288a66f27",
   "metadata": {},
   "outputs": [
    {
     "data": {
      "text/plain": [
       "155.06399999999996"
      ]
     },
     "execution_count": 8,
     "metadata": {},
     "output_type": "execute_result"
    }
   ],
   "source": [
    "fabric[\"Fabric_length\"].mean()"
   ]
  },
  {
   "cell_type": "code",
   "execution_count": 9,
   "id": "804d7815-3f5d-4d56-960d-f5755c875469",
   "metadata": {},
   "outputs": [
    {
     "name": "stdout",
     "output_type": "stream",
     "text": [
      "6.325000000000003\n"
     ]
    }
   ],
   "source": [
    "z_cal = (155.06-150) / (4/np.sqrt(25))\n",
    "print(z_cal)"
   ]
  },
  {
   "cell_type": "code",
   "execution_count": 13,
   "id": "aafc253b-5434-402d-946f-bb2b5d989c33",
   "metadata": {},
   "outputs": [
    {
     "name": "stdout",
     "output_type": "stream",
     "text": [
      "0.9999999998733837\n"
     ]
    }
   ],
   "source": [
    "p = stats.norm.cdf(z_cal)\n",
    "print(p)\n",
    "\n",
    "# stats.norm.cdf give leftside area of distrubution. And in this case we reject only sample which less than 150."
   ]
  },
  {
   "cell_type": "markdown",
   "id": "ff66de35-bf83-49a3-942d-7d7496bb07f3",
   "metadata": {},
   "source": [
    "#### Step 5:: Based on p value, Accept or Reject H0\n",
    "- P > alpha (0.9999 > 0.05)\n",
    "- P high, Null Fly.\n",
    "- Do not reject H0 or Accpet H0 --> Mean > 150(no action required). "
   ]
  },
  {
   "cell_type": "markdown",
   "id": "59e3a004-af38-4849-8655-a02007517ab5",
   "metadata": {},
   "source": [
    "## ----------------------\n",
    "### Bolt Diameter ------ 1-sample T test.\n",
    "The mean diameter of the bolt manufactured should be 10 mm to be able to fit into the nut. 20 samples are taken at random from production line by a quality inspector. Conduct a test to check with 95% confidence that the mean is not different from the specification value. "
   ]
  },
  {
   "cell_type": "code",
   "execution_count": 1,
   "id": "87e7d3ab-a286-4f48-b19a-127a185f20f5",
   "metadata": {},
   "outputs": [],
   "source": [
    "import numpy as np\n",
    "import pandas as pd\n",
    "\n",
    "import matplotlib.pyplot as plt\n",
    "import seaborn as sns\n",
    "\n",
    "from scipy import stats"
   ]
  },
  {
   "cell_type": "code",
   "execution_count": 4,
   "id": "f9c33a8d-7e8b-450e-b782-896b4b3025d8",
   "metadata": {},
   "outputs": [
    {
     "data": {
      "text/html": [
       "<div>\n",
       "<style scoped>\n",
       "    .dataframe tbody tr th:only-of-type {\n",
       "        vertical-align: middle;\n",
       "    }\n",
       "\n",
       "    .dataframe tbody tr th {\n",
       "        vertical-align: top;\n",
       "    }\n",
       "\n",
       "    .dataframe thead th {\n",
       "        text-align: right;\n",
       "    }\n",
       "</style>\n",
       "<table border=\"1\" class=\"dataframe\">\n",
       "  <thead>\n",
       "    <tr style=\"text-align: right;\">\n",
       "      <th></th>\n",
       "      <th>Diameter</th>\n",
       "    </tr>\n",
       "  </thead>\n",
       "  <tbody>\n",
       "    <tr>\n",
       "      <th>0</th>\n",
       "      <td>10.00</td>\n",
       "    </tr>\n",
       "    <tr>\n",
       "      <th>1</th>\n",
       "      <td>10.01</td>\n",
       "    </tr>\n",
       "    <tr>\n",
       "      <th>2</th>\n",
       "      <td>10.02</td>\n",
       "    </tr>\n",
       "    <tr>\n",
       "      <th>3</th>\n",
       "      <td>9.99</td>\n",
       "    </tr>\n",
       "    <tr>\n",
       "      <th>4</th>\n",
       "      <td>10.00</td>\n",
       "    </tr>\n",
       "  </tbody>\n",
       "</table>\n",
       "</div>"
      ],
      "text/plain": [
       "   Diameter\n",
       "0     10.00\n",
       "1     10.01\n",
       "2     10.02\n",
       "3      9.99\n",
       "4     10.00"
      ]
     },
     "execution_count": 4,
     "metadata": {},
     "output_type": "execute_result"
    }
   ],
   "source": [
    "# Read the data. \n",
    "\n",
    "bolt = pd.read_excel(\"Bolt diameter.xlsx\")\n",
    "bolt.head()"
   ]
  },
  {
   "cell_type": "markdown",
   "id": "14a11d60-f10b-4fdf-82a3-1eebbd88830f",
   "metadata": {},
   "source": [
    "##### Step 1: Formulate H0 and H1\n",
    "\n",
    "H0 : μ = 10mm (No action and Bolt should be exact size to fit in Nut).\n",
    "H1 : μ != 10mm  (Action required, inorder to correct this). \n",
    "\n",
    "##### Step 2: Select Level of Significance.\n",
    "\n",
    "α = 0.05 (stated 95% confidence)"
   ]
  },
  {
   "cell_type": "code",
   "execution_count": 6,
   "id": "cb8e551d-f09e-45ae-9f22-8ddc6401cf59",
   "metadata": {},
   "outputs": [
    {
     "data": {
      "text/plain": [
       "0.9377400845737698"
      ]
     },
     "execution_count": 6,
     "metadata": {},
     "output_type": "execute_result"
    }
   ],
   "source": [
    "#step 3: Check for Normality (skewness)\n",
    "\n",
    "bolt[\"Diameter\"].skew()"
   ]
  },
  {
   "cell_type": "markdown",
   "id": "1b0c489a-0b8d-44a7-b3c7-5a7e65a4c2bf",
   "metadata": {},
   "source": [
    "##### Step 4: Select the statistical test & Calculate the p value. \n",
    "- Since population standard deviation is not given and number of samples are less than 30. We should select T test ( 1 sample because there is only one column). "
   ]
  },
  {
   "cell_type": "code",
   "execution_count": 10,
   "id": "6dc06fee-9990-4b3b-8f68-ba8e57ca4808",
   "metadata": {},
   "outputs": [
    {
     "data": {
      "text/plain": [
       "Ttest_1sampResult(statistic=1.0398561501518244, pvalue=0.3114592594451563)"
      ]
     },
     "execution_count": 10,
     "metadata": {},
     "output_type": "execute_result"
    }
   ],
   "source": [
    "stats.ttest_1samp(bolt[\"Diameter\"], 10)"
   ]
  },
  {
   "cell_type": "markdown",
   "id": "0f89867b-57ee-4434-a0f3-2e44f2fb3093",
   "metadata": {},
   "source": [
    "##### Step 5: Based on P value reject or accept H0.\n",
    "\n",
    "- Since p < alpha.\n",
    "- p low, null go.\n",
    "- Reject H0 (Average bolt diameter is not equal to 10) --> take Action. "
   ]
  },
  {
   "cell_type": "markdown",
   "id": "fff22120-f8cf-4af7-9524-464122dd4395",
   "metadata": {},
   "source": [
    "## ----------------------\n",
    "### Marketing Stategy.\n",
    "A financial analyst at a Financial institute wants to evaluate a recent Credit card promotion. After this promotion, 500 cardholders were randomly selected. Half received an ad promoting a full waiver of interest rate on purchases made over the next three months, and half received a standard christmas advertisement. Did the ad promoting full interest rate waiver, increase purchases?"
   ]
  },
  {
   "cell_type": "code",
   "execution_count": 11,
   "id": "ab8848d7-8236-47b0-b211-36bce6d1a6bc",
   "metadata": {},
   "outputs": [],
   "source": [
    "import numpy as np\n",
    "import pandas as pd\n",
    "\n",
    "import matplotlib.pyplot as plt\n",
    "import seaborn as sns\n",
    "\n",
    "from scipy import stats"
   ]
  },
  {
   "cell_type": "code",
   "execution_count": 12,
   "id": "f1b97704-a2b0-42c6-9ea3-08a6079ff922",
   "metadata": {},
   "outputs": [
    {
     "data": {
      "text/html": [
       "<div>\n",
       "<style scoped>\n",
       "    .dataframe tbody tr th:only-of-type {\n",
       "        vertical-align: middle;\n",
       "    }\n",
       "\n",
       "    .dataframe tbody tr th {\n",
       "        vertical-align: top;\n",
       "    }\n",
       "\n",
       "    .dataframe thead th {\n",
       "        text-align: right;\n",
       "    }\n",
       "</style>\n",
       "<table border=\"1\" class=\"dataframe\">\n",
       "  <thead>\n",
       "    <tr style=\"text-align: right;\">\n",
       "      <th></th>\n",
       "      <th>InterestRateWaiver</th>\n",
       "      <th>StandardPromotion</th>\n",
       "    </tr>\n",
       "  </thead>\n",
       "  <tbody>\n",
       "    <tr>\n",
       "      <th>0</th>\n",
       "      <td>1989.10</td>\n",
       "      <td>1272.25</td>\n",
       "    </tr>\n",
       "    <tr>\n",
       "      <th>1</th>\n",
       "      <td>1808.38</td>\n",
       "      <td>1250.38</td>\n",
       "    </tr>\n",
       "    <tr>\n",
       "      <th>2</th>\n",
       "      <td>1153.75</td>\n",
       "      <td>1474.78</td>\n",
       "    </tr>\n",
       "    <tr>\n",
       "      <th>3</th>\n",
       "      <td>1745.64</td>\n",
       "      <td>2064.89</td>\n",
       "    </tr>\n",
       "    <tr>\n",
       "      <th>4</th>\n",
       "      <td>1008.24</td>\n",
       "      <td>2030.87</td>\n",
       "    </tr>\n",
       "  </tbody>\n",
       "</table>\n",
       "</div>"
      ],
      "text/plain": [
       "   InterestRateWaiver  StandardPromotion\n",
       "0             1989.10            1272.25\n",
       "1             1808.38            1250.38\n",
       "2             1153.75            1474.78\n",
       "3             1745.64            2064.89\n",
       "4             1008.24            2030.87"
      ]
     },
     "execution_count": 12,
     "metadata": {},
     "output_type": "execute_result"
    }
   ],
   "source": [
    "credit_promo = pd.read_excel(\"Promotion.xlsx\")\n",
    "\n",
    "credit_promo.head()"
   ]
  },
  {
   "cell_type": "markdown",
   "id": "1c70e709-db46-42e7-bc87-fa189b3af4dd",
   "metadata": {},
   "source": [
    "### Step 1: Formulation of H0 and H1.\n",
    "- H0: Avg purchases made by FIW = Avg purchases made by SC ==> Default / current / no action.\n",
    "- H1 : Avg purchases made by FIW != Ave purchases made by SC ==> take Action.\n",
    "\n",
    "### Step 2: Select Level of significance. \n",
    "- Alpha = 0.05 (not given, so we take by default this value).\n",
    "\n",
    "### Step 3: Check for normality. "
   ]
  },
  {
   "cell_type": "code",
   "execution_count": 13,
   "id": "57b4744a-b296-40ca-b434-e8f3ec6c2b2a",
   "metadata": {},
   "outputs": [
    {
     "data": {
      "text/plain": [
       "-0.186848927819777"
      ]
     },
     "execution_count": 13,
     "metadata": {},
     "output_type": "execute_result"
    }
   ],
   "source": [
    "credit_promo[\"InterestRateWaiver\"].skew()"
   ]
  },
  {
   "cell_type": "code",
   "execution_count": 14,
   "id": "74df0e4f-4a51-48d4-8091-7050c8d827d4",
   "metadata": {},
   "outputs": [
    {
     "data": {
      "text/plain": [
       "0.1556560407787534"
      ]
     },
     "execution_count": 14,
     "metadata": {},
     "output_type": "execute_result"
    }
   ],
   "source": [
    "credit_promo[\"StandardPromotion\"].skew()"
   ]
  },
  {
   "cell_type": "markdown",
   "id": "95a1ef79-0e0d-4f94-9a26-0825804cea75",
   "metadata": {},
   "source": [
    "### Step 4: Select the test.\n",
    "- Since the data set has two samples we can only do 2 sample T test (no other option is available). \n",
    "- In 2 sample T test we have two options based on population variance. \n",
    "- - Population variance of sample 1 = Population variance of sample 2  (Note this is population variance)\n",
    "  - Population variacne of sample 1 != Population variance of sample 2.\n",
    "- In the question we only know the sample variance (since we only have sample data and not population data), so we need to estimate population variance of sample 1 and sample 2 by using Levene Test (Variance Tests).\n",
    "\n",
    "### Variance test - Levene Test. \n",
    "- H0: Variances are equal (p>0.05)\n",
    "- H1: Variances are not equal (P <= 0.05)\n"
   ]
  },
  {
   "cell_type": "code",
   "execution_count": 15,
   "id": "78c92d19-d51a-440f-84a1-e1fa237ec12a",
   "metadata": {},
   "outputs": [
    {
     "data": {
      "text/plain": [
       "LeveneResult(statistic=1.1334674473666406, pvalue=0.2875528565130808)"
      ]
     },
     "execution_count": 15,
     "metadata": {},
     "output_type": "execute_result"
    }
   ],
   "source": [
    "stats.levene(credit_promo.InterestRateWaiver,credit_promo.StandardPromotion)"
   ]
  },
  {
   "cell_type": "markdown",
   "id": "184eeec3-ba56-4a87-9bf3-2e6e023356c6",
   "metadata": {},
   "source": [
    "Sicne p value is greater than 0.05 we can conclude that population variance of the two samples given are equal. So finally we need to select 2 sample, equal variance, T test. "
   ]
  },
  {
   "cell_type": "code",
   "execution_count": 16,
   "id": "51c8f486-5e7c-4453-8e41-af40fd5ac8c7",
   "metadata": {},
   "outputs": [
    {
     "data": {
      "text/plain": [
       "Ttest_indResult(statistic=2.260425163136941, pvalue=0.02422584468584312)"
      ]
     },
     "execution_count": 16,
     "metadata": {},
     "output_type": "execute_result"
    }
   ],
   "source": [
    "### Actual test\n",
    "stats.ttest_ind(credit_promo.InterestRateWaiver,credit_promo.StandardPromotion,equal_var=True)"
   ]
  },
  {
   "cell_type": "markdown",
   "id": "1a5a1a16-0741-4537-91cf-a9fc480c1c32",
   "metadata": {},
   "source": [
    "### Step 5: Based on the p value, Accept or rejet H0.\n",
    "\n",
    "- p < alpha.\n",
    "- p low, null go.\n",
    "- Reject H0 (FIW = SC)--> Take Action. "
   ]
  },
  {
   "cell_type": "code",
   "execution_count": null,
   "id": "a242bb9c-e9f4-4a7f-8753-b228418377fc",
   "metadata": {},
   "outputs": [],
   "source": []
  }
 ],
 "metadata": {
  "kernelspec": {
   "display_name": "Python 3 (ipykernel)",
   "language": "python",
   "name": "python3"
  },
  "language_info": {
   "codemirror_mode": {
    "name": "ipython",
    "version": 3
   },
   "file_extension": ".py",
   "mimetype": "text/x-python",
   "name": "python",
   "nbconvert_exporter": "python",
   "pygments_lexer": "ipython3",
   "version": "3.9.7"
  }
 },
 "nbformat": 4,
 "nbformat_minor": 5
}
