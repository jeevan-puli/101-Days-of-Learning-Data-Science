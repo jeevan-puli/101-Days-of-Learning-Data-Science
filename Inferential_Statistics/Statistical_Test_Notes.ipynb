{
 "cells": [
  {
   "cell_type": "markdown",
   "id": "865fa3b3-23b3-41ae-922d-b956304a3ab3",
   "metadata": {},
   "source": [
    "## Statistical tests.\n",
    "\n",
    "1. Contionous Variable."
   ]
  }
 ],
 "metadata": {
  "kernelspec": {
   "display_name": "Python 3 (ipykernel)",
   "language": "python",
   "name": "python3"
  },
  "language_info": {
   "codemirror_mode": {
    "name": "ipython",
    "version": 3
   },
   "file_extension": ".py",
   "mimetype": "text/x-python",
   "name": "python",
   "nbconvert_exporter": "python",
   "pygments_lexer": "ipython3",
   "version": "3.9.7"
  }
 },
 "nbformat": 4,
 "nbformat_minor": 5
}
