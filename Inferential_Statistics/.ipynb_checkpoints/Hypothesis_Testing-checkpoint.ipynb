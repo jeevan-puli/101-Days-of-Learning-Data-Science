{
 "cells": [
  {
   "cell_type": "markdown",
   "id": "dd11729c-495f-4ae1-82cf-c61db5052328",
   "metadata": {},
   "source": [
    "# Hypothesis Testing\n",
    "- Hypothesis testing can be used to determine whether a statement about the value of a population parameter should or should not be rejected.\n",
    "\n",
    "- The null hypothesis, denoted by Ho , is a tentative assumption about a population parameter.\n",
    "\n",
    "- The alternative hypothesis, denoted by ha, is the opposite of what is stated in the null hypothesis.\n",
    "\n",
    "- The hypothesis testing procedure uses data from a sample to test the tow copeting statements indicated by Ho and Ha. "
   ]
  },
  {
   "cell_type": "code",
   "execution_count": null,
   "id": "c5e9736e-463e-4107-bfdc-21ea7d7ecbe1",
   "metadata": {},
   "outputs": [],
   "source": []
  }
 ],
 "metadata": {
  "kernelspec": {
   "display_name": "Python 3 (ipykernel)",
   "language": "python",
   "name": "python3"
  },
  "language_info": {
   "codemirror_mode": {
    "name": "ipython",
    "version": 3
   },
   "file_extension": ".py",
   "mimetype": "text/x-python",
   "name": "python",
   "nbconvert_exporter": "python",
   "pygments_lexer": "ipython3",
   "version": "3.9.7"
  }
 },
 "nbformat": 4,
 "nbformat_minor": 5
}
