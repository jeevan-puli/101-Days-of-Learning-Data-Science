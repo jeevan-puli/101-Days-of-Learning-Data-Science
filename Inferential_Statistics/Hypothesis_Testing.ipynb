{
 "cells": [
  {
   "cell_type": "markdown",
   "id": "dd11729c-495f-4ae1-82cf-c61db5052328",
   "metadata": {},
   "source": [
    "# Hypothesis Testing\n",
    "- Hypothesis testing can be used to determine whether a statement about the value of a population parameter should or should not be rejected.\n",
    "\n",
    "- The null hypothesis, denoted by Ho , is a tentative assumption about a population parameter.\n",
    "\n",
    "- The alternative hypothesis, denoted by ha, is the opposite of what is stated in the null hypothesis.\n",
    "\n",
    "- The hypothesis testing procedure uses data from a sample to test the tow copeting statements indicated by Ho and Ha. "
   ]
  },
  {
   "cell_type": "markdown",
   "id": "1becbab6-03f3-4a62-af25-fc67bfca0415",
   "metadata": {},
   "source": [
    "## Developing Null and Alternative Hypotheses. \n",
    "- it is not always obvius how the null and alternative hypotheses should be formulated.\n",
    "- Care must be taken to structure the hypotheses appropriately so that the tet conclusion provides the information the researcher wants.\n",
    "- The context of the situation is very important in determining how the hypotheses should be stated.\n",
    "- In some cases it is easier to identify the alternative hypothesis first. In other cases the null is easier.\n",
    "- Correct hypotheis forulation will take practice.\n",
    "\n",
    "\n",
    "## Steps of Hypothesis Testing. \n",
    "\n",
    "- Step 1. Develop the null and alternative hypotheses.\n",
    "- Step 2. Specify the level of significance α .\n",
    "- Step 3. Collect the sample data and compute the test statistic.\n",
    "\n",
    "p-Value\n",
    "\n",
    "- Setp 4. Compute the p-value, Using the value of the test statistic.\n",
    "- - The p-valuue is the probability, computed using the test statistic, that measures the support(or lack of support) provided by the sample for the null hypothesis.\n",
    "  - If the p-value is less than or equal to the level of significance α, the value of the test statistic is in the rejection region.\n",
    "- Step 5. Reject ho if the p-value <= α. "
   ]
  },
  {
   "cell_type": "markdown",
   "id": "238af90d-91bc-47ee-81ac-4bcc0ed89b86",
   "metadata": {},
   "source": [
    " ## Question. (One sample)\n",
    "\n",
    " The mean response time for a random sample of 30 Pizza Deliveries is 32 minutes. The population standard deviation is believed to be 10 minutes. The pizza delivery services director wants to perform a hypothesis test, with Alpha = 0.05 level of significance, to determine whether the service goal of 30 minutes or less is being achieved. \n",
    "\n",
    "### Solution.\n",
    "- Null Hypothersis ho:Mean time <=30.\n",
    "- Alternate Hypothesis: Mean time > 30 min.\n",
    "- Alpha = 0.05.\n",
    "- Right tail z test -- Right tail Rejection.\n",
    "- Z calculated = (Observed mean - Population mean) / Sandard error."
   ]
  },
  {
   "cell_type": "code",
   "execution_count": 1,
   "id": "57e7b92c-5334-4455-8559-526c4101005d",
   "metadata": {},
   "outputs": [],
   "source": [
    "import numpy as np"
   ]
  },
  {
   "cell_type": "code",
   "execution_count": 2,
   "id": "f3cb1479-8713-4547-8432-8562ff59cd8a",
   "metadata": {},
   "outputs": [
    {
     "data": {
      "text/plain": [
       "1.0954451150103321"
      ]
     },
     "execution_count": 2,
     "metadata": {},
     "output_type": "execute_result"
    }
   ],
   "source": [
    "z_test = (32-30) / (10/np.sqrt(30))\n",
    "z_test"
   ]
  },
  {
   "cell_type": "code",
   "execution_count": 5,
   "id": "5b4b3ee2-c7ab-460f-b51f-e4a126cc0d5b",
   "metadata": {},
   "outputs": [
    {
     "data": {
      "text/plain": [
       "0.1378565720320355"
      ]
     },
     "execution_count": 5,
     "metadata": {},
     "output_type": "execute_result"
    }
   ],
   "source": [
    "#right tail ---> 1-norm.cdf(z_cal) --> Cumulative distribution function. (area to the left )\n",
    "from scipy import stats\n",
    "\n",
    "1 - stats.norm.cdf(1.09)\n"
   ]
  },
  {
   "cell_type": "markdown",
   "id": "fab2faca-7c3f-41f8-8ef2-8988c2271d8d",
   "metadata": {},
   "source": [
    "### Inferences:\n",
    "- P high -- Null Fly.\n",
    "- Do not reject H0.\n",
    "- There is no sufficient statistical evidence to infer that Pizza delivery service is not meeting the response goal of 30 minutes. "
   ]
  },
  {
   "cell_type": "code",
   "execution_count": null,
   "id": "d53728c1-5987-4829-a681-0655d6fdab71",
   "metadata": {},
   "outputs": [],
   "source": []
  }
 ],
 "metadata": {
  "kernelspec": {
   "display_name": "Python 3 (ipykernel)",
   "language": "python",
   "name": "python3"
  },
  "language_info": {
   "codemirror_mode": {
    "name": "ipython",
    "version": 3
   },
   "file_extension": ".py",
   "mimetype": "text/x-python",
   "name": "python",
   "nbconvert_exporter": "python",
   "pygments_lexer": "ipython3",
   "version": "3.9.7"
  }
 },
 "nbformat": 4,
 "nbformat_minor": 5
}
