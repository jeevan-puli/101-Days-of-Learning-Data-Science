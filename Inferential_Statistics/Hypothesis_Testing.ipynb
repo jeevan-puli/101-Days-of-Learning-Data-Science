{
 "cells": [
  {
   "cell_type": "markdown",
   "id": "dd11729c-495f-4ae1-82cf-c61db5052328",
   "metadata": {},
   "source": [
    "# Hypothesis Testing\n",
    "- Hypothesis testing can be used to determine whether a statement about the value of a population parameter should or should not be rejected.\n",
    "\n",
    "- The null hypothesis, denoted by Ho , is a tentative assumption about a population parameter.\n",
    "\n",
    "- The alternative hypothesis, denoted by ha, is the opposite of what is stated in the null hypothesis.\n",
    "\n",
    "- The hypothesis testing procedure uses data from a sample to test the tow copeting statements indicated by Ho and Ha. "
   ]
  },
  {
   "cell_type": "markdown",
   "id": "1becbab6-03f3-4a62-af25-fc67bfca0415",
   "metadata": {},
   "source": [
    "## Developing Null and Alternative Hypotheses. \n",
    "- it is not always obvius how the null and alternative hypotheses should be formulated.\n",
    "- Care must be taken to structure the hypotheses appropriately so that the tet conclusion provides the information the researcher wants.\n",
    "- The context of the situation is very important in determining how the hypotheses should be stated.\n",
    "- In some cases it is easier to identify the alternative hypothesis first. In other cases the null is easier.\n",
    "- Correct hypotheis forulation will take practice.\n",
    "\n",
    "\n",
    "## Steps of Hypothesis Testing. \n",
    "\n",
    "- Step 1. Develop the null and alternative hypotheses.\n",
    "- Step 2. Specify the level of significance α .\n",
    "- Step 3. Collect the sample data and compute the test statistic.\n",
    "\n",
    "p-Value\n",
    "\n",
    "- Setp 4. Compute the p-value, Using the value of the test statistic.\n",
    "- - The p-valuue is the probability, computed using the test statistic, that measures the support(or lack of support) provided by the sample for the null hypothesis.\n",
    "  - If the p-value is less than or equal to the level of significance α, the value of the test statistic is in the rejection region.\n",
    "- Step 5. Reject ho if the p-value <= α. "
   ]
  },
  {
   "cell_type": "code",
   "execution_count": null,
   "id": "a1b150f7-72ef-44ef-aff3-1999b4a5ecce",
   "metadata": {},
   "outputs": [],
   "source": []
  }
 ],
 "metadata": {
  "kernelspec": {
   "display_name": "Python 3 (ipykernel)",
   "language": "python",
   "name": "python3"
  },
  "language_info": {
   "codemirror_mode": {
    "name": "ipython",
    "version": 3
   },
   "file_extension": ".py",
   "mimetype": "text/x-python",
   "name": "python",
   "nbconvert_exporter": "python",
   "pygments_lexer": "ipython3",
   "version": "3.9.7"
  }
 },
 "nbformat": 4,
 "nbformat_minor": 5
}
