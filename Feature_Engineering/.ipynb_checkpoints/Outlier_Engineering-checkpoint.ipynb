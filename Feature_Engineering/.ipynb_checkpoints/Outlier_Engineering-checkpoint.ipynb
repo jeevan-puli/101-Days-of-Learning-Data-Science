{
 "cells": [
  {
   "cell_type": "markdown",
   "id": "1d12668e-025e-4ea8-bf54-9e53337e6a33",
   "metadata": {},
   "source": [
    "# Outliers\n",
    "- An outlier is a data point in a data set that is sistant from all other observations, which is significanly different from the remaining data.\n",
    "- A data point that lies outside the overall distrbution of the dataset.\n",
    "\n",
    "### What are the impacts of having outliers in a dataset?\n",
    "1. It causes various problems during our statistical analysis(it may cause a significant impact on the mean and the standard deviation) statistics such as the mean and variance are very susceptible to outliers.\n",
    "2. In addition, some machine learing models are sensitive to outliers which may decrease their performance. Thus, depending on which algorithm we wish to train, we often remove outliers from our variables.\n",
    "\n",
    "### Reasons for Outliers in data. \n",
    "1. Data Entry errors (ex: 100000, inplace of 1000)\n",
    "2. Measurement Error (Ex meters vs km, lb vs kg)\n",
    "3. Instrumental Errors (Faulty sensors).\n",
    "\n",
    "## Types of outliers. \n",
    "1. Univariate outliers --> Indentifing outliers for single variable (Identified using box plot).\n",
    "2. Bivariate outliers --> Indentified as outlier by analyzing 2 variables at a time (Identified using scatter plot)."
   ]
  },
  {
   "cell_type": "code",
   "execution_count": 3,
   "id": "de0d4c1c-c4af-467b-84a8-28d1aaa9179c",
   "metadata": {},
   "outputs": [],
   "source": [
    "import pandas as pd\n",
    "import numpy as np\n",
    "import matplotlib.pyplot as plt\n",
    "import seaborn as sns"
   ]
  },
  {
   "cell_type": "code",
   "execution_count": 4,
   "id": "e45ba661-8799-4237-95a6-59918f03d11e",
   "metadata": {},
   "outputs": [
    {
     "data": {
      "text/html": [
       "<div>\n",
       "<style scoped>\n",
       "    .dataframe tbody tr th:only-of-type {\n",
       "        vertical-align: middle;\n",
       "    }\n",
       "\n",
       "    .dataframe tbody tr th {\n",
       "        vertical-align: top;\n",
       "    }\n",
       "\n",
       "    .dataframe thead th {\n",
       "        text-align: right;\n",
       "    }\n",
       "</style>\n",
       "<table border=\"1\" class=\"dataframe\">\n",
       "  <thead>\n",
       "    <tr style=\"text-align: right;\">\n",
       "      <th></th>\n",
       "      <th>CASENUM</th>\n",
       "      <th>CLMSEX</th>\n",
       "      <th>CLMINSUR</th>\n",
       "      <th>SEATBELT</th>\n",
       "      <th>CLMAGE</th>\n",
       "      <th>LOSS</th>\n",
       "      <th>ATTORNEY</th>\n",
       "    </tr>\n",
       "  </thead>\n",
       "  <tbody>\n",
       "    <tr>\n",
       "      <th>0</th>\n",
       "      <td>5</td>\n",
       "      <td>0</td>\n",
       "      <td>1.0</td>\n",
       "      <td>0</td>\n",
       "      <td>50.0</td>\n",
       "      <td>34.940</td>\n",
       "      <td>0</td>\n",
       "    </tr>\n",
       "    <tr>\n",
       "      <th>1</th>\n",
       "      <td>3</td>\n",
       "      <td>1</td>\n",
       "      <td>0.0</td>\n",
       "      <td>0</td>\n",
       "      <td>18.0</td>\n",
       "      <td>0.891</td>\n",
       "      <td>1</td>\n",
       "    </tr>\n",
       "    <tr>\n",
       "      <th>2</th>\n",
       "      <td>66</td>\n",
       "      <td>0</td>\n",
       "      <td>1.0</td>\n",
       "      <td>0</td>\n",
       "      <td>5.0</td>\n",
       "      <td>0.330</td>\n",
       "      <td>1</td>\n",
       "    </tr>\n",
       "    <tr>\n",
       "      <th>3</th>\n",
       "      <td>70</td>\n",
       "      <td>1</td>\n",
       "      <td>1.0</td>\n",
       "      <td>1</td>\n",
       "      <td>31.0</td>\n",
       "      <td>0.037</td>\n",
       "      <td>0</td>\n",
       "    </tr>\n",
       "    <tr>\n",
       "      <th>4</th>\n",
       "      <td>96</td>\n",
       "      <td>0</td>\n",
       "      <td>1.0</td>\n",
       "      <td>0</td>\n",
       "      <td>30.0</td>\n",
       "      <td>NaN</td>\n",
       "      <td>1</td>\n",
       "    </tr>\n",
       "    <tr>\n",
       "      <th>5</th>\n",
       "      <td>97</td>\n",
       "      <td>1</td>\n",
       "      <td>1.0</td>\n",
       "      <td>0</td>\n",
       "      <td>35.0</td>\n",
       "      <td>0.309</td>\n",
       "      <td>0</td>\n",
       "    </tr>\n",
       "    <tr>\n",
       "      <th>6</th>\n",
       "      <td>10</td>\n",
       "      <td>0</td>\n",
       "      <td>NaN</td>\n",
       "      <td>0</td>\n",
       "      <td>9.0</td>\n",
       "      <td>3.538</td>\n",
       "      <td>0</td>\n",
       "    </tr>\n",
       "    <tr>\n",
       "      <th>7</th>\n",
       "      <td>36</td>\n",
       "      <td>1</td>\n",
       "      <td>NaN</td>\n",
       "      <td>0</td>\n",
       "      <td>34.0</td>\n",
       "      <td>4.881</td>\n",
       "      <td>0</td>\n",
       "    </tr>\n",
       "    <tr>\n",
       "      <th>8</th>\n",
       "      <td>51</td>\n",
       "      <td>1</td>\n",
       "      <td>1.0</td>\n",
       "      <td>0</td>\n",
       "      <td>60.0</td>\n",
       "      <td>0.874</td>\n",
       "      <td>1</td>\n",
       "    </tr>\n",
       "    <tr>\n",
       "      <th>9</th>\n",
       "      <td>55</td>\n",
       "      <td>1</td>\n",
       "      <td>1.0</td>\n",
       "      <td>0</td>\n",
       "      <td>NaN</td>\n",
       "      <td>0.350</td>\n",
       "      <td>1</td>\n",
       "    </tr>\n",
       "  </tbody>\n",
       "</table>\n",
       "</div>"
      ],
      "text/plain": [
       "   CASENUM  CLMSEX  CLMINSUR  SEATBELT  CLMAGE    LOSS  ATTORNEY\n",
       "0        5       0       1.0         0    50.0  34.940         0\n",
       "1        3       1       0.0         0    18.0   0.891         1\n",
       "2       66       0       1.0         0     5.0   0.330         1\n",
       "3       70       1       1.0         1    31.0   0.037         0\n",
       "4       96       0       1.0         0    30.0     NaN         1\n",
       "5       97       1       1.0         0    35.0   0.309         0\n",
       "6       10       0       NaN         0     9.0   3.538         0\n",
       "7       36       1       NaN         0    34.0   4.881         0\n",
       "8       51       1       1.0         0    60.0   0.874         1\n",
       "9       55       1       1.0         0     NaN   0.350         1"
      ]
     },
     "execution_count": 4,
     "metadata": {},
     "output_type": "execute_result"
    }
   ],
   "source": [
    "df = pd.read_csv(\"claimants sample.csv\")\n",
    "df"
   ]
  },
  {
   "cell_type": "code",
   "execution_count": 3,
   "id": "73120eff-a4c6-49ad-b9b9-79608975114a",
   "metadata": {},
   "outputs": [
    {
     "data": {
      "text/plain": [
       "CASENUM     0\n",
       "CLMSEX      0\n",
       "CLMINSUR    2\n",
       "SEATBELT    0\n",
       "CLMAGE      1\n",
       "LOSS        1\n",
       "ATTORNEY    0\n",
       "dtype: int64"
      ]
     },
     "execution_count": 3,
     "metadata": {},
     "output_type": "execute_result"
    }
   ],
   "source": [
    "df.isnull().sum()"
   ]
  },
  {
   "cell_type": "markdown",
   "id": "df2df3f1-460c-443d-b75d-7b1866aff80b",
   "metadata": {},
   "source": [
    "### Various ways of finding the outliers. \n",
    "\n",
    "#### Detection of outliers (based on Box plot)"
   ]
  },
  {
   "cell_type": "code",
   "execution_count": 5,
   "id": "57f9dee2-fc9c-49a6-b862-41d3e0cf173a",
   "metadata": {},
   "outputs": [
    {
     "data": {
      "image/png": "[encoded data removed]",
      "text/plain": [
       "<Figure size 640x480 with 1 Axes>"
      ]
     },
     "metadata": {},
     "output_type": "display_data"
    }
   ],
   "source": [
    "sns.boxplot(x=df[\"LOSS\"])\n",
    "plt.show()"
   ]
  },
  {
   "cell_type": "markdown",
   "id": "722a6c38-2b6d-4b18-afdc-d13d7623096b",
   "metadata": {},
   "source": [
    "#### Detecting of outliers (Based on IQR)\n",
    "- Calculate first(q1) and third quartile(q3)\n",
    "- Find interquartile range(q3-q10\n",
    "- Fid lower bound q1 1.5 and find upper bound q3 1.5"
   ]
  },
  {
   "cell_type": "code",
   "execution_count": 6,
   "id": "8fced5d9-6154-453f-982d-c0cbae6989de",
   "metadata": {},
   "outputs": [
    {
     "name": "stdout",
     "output_type": "stream",
     "text": [
      "0.33 3.538 3.2079999999999997\n"
     ]
    }
   ],
   "source": [
    "Q1 = df[\"LOSS\"].quantile(0.25)\n",
    "Q3 = df[\"LOSS\"].quantile(0.75)\n",
    "IQR = Q3 - Q1\n",
    "print(Q1,Q3,IQR)"
   ]
  },
  {
   "cell_type": "code",
   "execution_count": 7,
   "id": "566bffe2-1934-4bec-b71e-195776cb051f",
   "metadata": {},
   "outputs": [
    {
     "data": {
      "text/plain": [
       "(-4.481999999999999, 8.35)"
      ]
     },
     "execution_count": 7,
     "metadata": {},
     "output_type": "execute_result"
    }
   ],
   "source": [
    "lower_limit = Q1 - (IQR * 1.5)\n",
    "upper_limit = Q3 + (IQR * 1.5)\n",
    "\n",
    "lower_limit, upper_limit"
   ]
  },
  {
   "cell_type": "code",
   "execution_count": 8,
   "id": "4bb7d8e3-840c-49bb-b31b-b0b55a0989e3",
   "metadata": {},
   "outputs": [
    {
     "data": {
      "text/html": [
       "<div>\n",
       "<style scoped>\n",
       "    .dataframe tbody tr th:only-of-type {\n",
       "        vertical-align: middle;\n",
       "    }\n",
       "\n",
       "    .dataframe tbody tr th {\n",
       "        vertical-align: top;\n",
       "    }\n",
       "\n",
       "    .dataframe thead th {\n",
       "        text-align: right;\n",
       "    }\n",
       "</style>\n",
       "<table border=\"1\" class=\"dataframe\">\n",
       "  <thead>\n",
       "    <tr style=\"text-align: right;\">\n",
       "      <th></th>\n",
       "      <th>CASENUM</th>\n",
       "      <th>CLMSEX</th>\n",
       "      <th>CLMINSUR</th>\n",
       "      <th>SEATBELT</th>\n",
       "      <th>CLMAGE</th>\n",
       "      <th>LOSS</th>\n",
       "      <th>ATTORNEY</th>\n",
       "    </tr>\n",
       "  </thead>\n",
       "  <tbody>\n",
       "    <tr>\n",
       "      <th>0</th>\n",
       "      <td>5</td>\n",
       "      <td>0</td>\n",
       "      <td>1.0</td>\n",
       "      <td>0</td>\n",
       "      <td>50.0</td>\n",
       "      <td>34.94</td>\n",
       "      <td>0</td>\n",
       "    </tr>\n",
       "  </tbody>\n",
       "</table>\n",
       "</div>"
      ],
      "text/plain": [
       "   CASENUM  CLMSEX  CLMINSUR  SEATBELT  CLMAGE   LOSS  ATTORNEY\n",
       "0        5       0       1.0         0    50.0  34.94         0"
      ]
     },
     "execution_count": 8,
     "metadata": {},
     "output_type": "execute_result"
    }
   ],
   "source": [
    "df[df[\"LOSS\"] > upper_limit]"
   ]
  },
  {
   "cell_type": "code",
   "execution_count": 9,
   "id": "c6ec42e8-4366-4196-bd28-88537739f456",
   "metadata": {},
   "outputs": [
    {
     "data": {
      "text/html": [
       "<div>\n",
       "<style scoped>\n",
       "    .dataframe tbody tr th:only-of-type {\n",
       "        vertical-align: middle;\n",
       "    }\n",
       "\n",
       "    .dataframe tbody tr th {\n",
       "        vertical-align: top;\n",
       "    }\n",
       "\n",
       "    .dataframe thead th {\n",
       "        text-align: right;\n",
       "    }\n",
       "</style>\n",
       "<table border=\"1\" class=\"dataframe\">\n",
       "  <thead>\n",
       "    <tr style=\"text-align: right;\">\n",
       "      <th></th>\n",
       "      <th>CASENUM</th>\n",
       "      <th>CLMSEX</th>\n",
       "      <th>CLMINSUR</th>\n",
       "      <th>SEATBELT</th>\n",
       "      <th>CLMAGE</th>\n",
       "      <th>LOSS</th>\n",
       "      <th>ATTORNEY</th>\n",
       "    </tr>\n",
       "  </thead>\n",
       "  <tbody>\n",
       "  </tbody>\n",
       "</table>\n",
       "</div>"
      ],
      "text/plain": [
       "Empty DataFrame\n",
       "Columns: [CASENUM, CLMSEX, CLMINSUR, SEATBELT, CLMAGE, LOSS, ATTORNEY]\n",
       "Index: []"
      ]
     },
     "execution_count": 9,
     "metadata": {},
     "output_type": "execute_result"
    }
   ],
   "source": [
    "df[df[\"LOSS\"] < lower_limit]"
   ]
  },
  {
   "cell_type": "code",
   "execution_count": 11,
   "id": "117b1d0c-fa2f-4b1e-b08b-7ba168b0f4ea",
   "metadata": {},
   "outputs": [
    {
     "data": {
      "text/html": [
       "<div>\n",
       "<style scoped>\n",
       "    .dataframe tbody tr th:only-of-type {\n",
       "        vertical-align: middle;\n",
       "    }\n",
       "\n",
       "    .dataframe tbody tr th {\n",
       "        vertical-align: top;\n",
       "    }\n",
       "\n",
       "    .dataframe thead th {\n",
       "        text-align: right;\n",
       "    }\n",
       "</style>\n",
       "<table border=\"1\" class=\"dataframe\">\n",
       "  <thead>\n",
       "    <tr style=\"text-align: right;\">\n",
       "      <th></th>\n",
       "      <th>CASENUM</th>\n",
       "      <th>CLMSEX</th>\n",
       "      <th>CLMINSUR</th>\n",
       "      <th>SEATBELT</th>\n",
       "      <th>CLMAGE</th>\n",
       "      <th>LOSS</th>\n",
       "      <th>ATTORNEY</th>\n",
       "    </tr>\n",
       "  </thead>\n",
       "  <tbody>\n",
       "    <tr>\n",
       "      <th>0</th>\n",
       "      <td>5</td>\n",
       "      <td>0</td>\n",
       "      <td>1.0</td>\n",
       "      <td>0</td>\n",
       "      <td>50.0</td>\n",
       "      <td>34.940</td>\n",
       "      <td>0</td>\n",
       "    </tr>\n",
       "    <tr>\n",
       "      <th>1</th>\n",
       "      <td>3</td>\n",
       "      <td>1</td>\n",
       "      <td>0.0</td>\n",
       "      <td>0</td>\n",
       "      <td>18.0</td>\n",
       "      <td>0.891</td>\n",
       "      <td>1</td>\n",
       "    </tr>\n",
       "    <tr>\n",
       "      <th>2</th>\n",
       "      <td>66</td>\n",
       "      <td>0</td>\n",
       "      <td>1.0</td>\n",
       "      <td>0</td>\n",
       "      <td>5.0</td>\n",
       "      <td>0.330</td>\n",
       "      <td>1</td>\n",
       "    </tr>\n",
       "    <tr>\n",
       "      <th>3</th>\n",
       "      <td>70</td>\n",
       "      <td>1</td>\n",
       "      <td>1.0</td>\n",
       "      <td>1</td>\n",
       "      <td>31.0</td>\n",
       "      <td>0.037</td>\n",
       "      <td>0</td>\n",
       "    </tr>\n",
       "    <tr>\n",
       "      <th>4</th>\n",
       "      <td>96</td>\n",
       "      <td>0</td>\n",
       "      <td>1.0</td>\n",
       "      <td>0</td>\n",
       "      <td>30.0</td>\n",
       "      <td>0.874</td>\n",
       "      <td>1</td>\n",
       "    </tr>\n",
       "    <tr>\n",
       "      <th>5</th>\n",
       "      <td>97</td>\n",
       "      <td>1</td>\n",
       "      <td>1.0</td>\n",
       "      <td>0</td>\n",
       "      <td>35.0</td>\n",
       "      <td>0.309</td>\n",
       "      <td>0</td>\n",
       "    </tr>\n",
       "    <tr>\n",
       "      <th>6</th>\n",
       "      <td>10</td>\n",
       "      <td>0</td>\n",
       "      <td>NaN</td>\n",
       "      <td>0</td>\n",
       "      <td>9.0</td>\n",
       "      <td>3.538</td>\n",
       "      <td>0</td>\n",
       "    </tr>\n",
       "    <tr>\n",
       "      <th>7</th>\n",
       "      <td>36</td>\n",
       "      <td>1</td>\n",
       "      <td>NaN</td>\n",
       "      <td>0</td>\n",
       "      <td>34.0</td>\n",
       "      <td>4.881</td>\n",
       "      <td>0</td>\n",
       "    </tr>\n",
       "    <tr>\n",
       "      <th>8</th>\n",
       "      <td>51</td>\n",
       "      <td>1</td>\n",
       "      <td>1.0</td>\n",
       "      <td>0</td>\n",
       "      <td>60.0</td>\n",
       "      <td>0.874</td>\n",
       "      <td>1</td>\n",
       "    </tr>\n",
       "    <tr>\n",
       "      <th>9</th>\n",
       "      <td>55</td>\n",
       "      <td>1</td>\n",
       "      <td>1.0</td>\n",
       "      <td>0</td>\n",
       "      <td>NaN</td>\n",
       "      <td>0.350</td>\n",
       "      <td>1</td>\n",
       "    </tr>\n",
       "  </tbody>\n",
       "</table>\n",
       "</div>"
      ],
      "text/plain": [
       "   CASENUM  CLMSEX  CLMINSUR  SEATBELT  CLMAGE    LOSS  ATTORNEY\n",
       "0        5       0       1.0         0    50.0  34.940         0\n",
       "1        3       1       0.0         0    18.0   0.891         1\n",
       "2       66       0       1.0         0     5.0   0.330         1\n",
       "3       70       1       1.0         1    31.0   0.037         0\n",
       "4       96       0       1.0         0    30.0   0.874         1\n",
       "5       97       1       1.0         0    35.0   0.309         0\n",
       "6       10       0       NaN         0     9.0   3.538         0\n",
       "7       36       1       NaN         0    34.0   4.881         0\n",
       "8       51       1       1.0         0    60.0   0.874         1\n",
       "9       55       1       1.0         0     NaN   0.350         1"
      ]
     },
     "execution_count": 11,
     "metadata": {},
     "output_type": "execute_result"
    }
   ],
   "source": [
    "df[\"LOSS\"].fillna(df[\"LOSS\"].median(),inplace = True)\n",
    "df"
   ]
  },
  {
   "cell_type": "code",
   "execution_count": 9,
   "id": "49c2b923-1e90-4dc3-a3f4-bdc375146295",
   "metadata": {},
   "outputs": [
    {
     "data": {
      "image/png": "[encoded data removed]",
      "text/plain": [
       "<Figure size 640x480 with 1 Axes>"
      ]
     },
     "metadata": {},
     "output_type": "display_data"
    }
   ],
   "source": [
    "sns.boxplot(x = df[\"LOSS\"])\n",
    "plt.show()"
   ]
  },
  {
   "cell_type": "markdown",
   "id": "0eadf869-dfd9-4510-9896-3cf31e6a5e58",
   "metadata": {},
   "source": [
    "## Dealing with Outliers (3 'R' Technique)\n",
    "\n",
    "#### 1. Remove(Trimming: remove the outliers from out data set) "
   ]
  },
  {
   "cell_type": "code",
   "execution_count": 11,
   "id": "b4e238cc-a1bb-42ab-bb43-87992725b4bc",
   "metadata": {},
   "outputs": [
    {
     "data": {
      "text/html": [
       "<div>\n",
       "<style scoped>\n",
       "    .dataframe tbody tr th:only-of-type {\n",
       "        vertical-align: middle;\n",
       "    }\n",
       "\n",
       "    .dataframe tbody tr th {\n",
       "        vertical-align: top;\n",
       "    }\n",
       "\n",
       "    .dataframe thead th {\n",
       "        text-align: right;\n",
       "    }\n",
       "</style>\n",
       "<table border=\"1\" class=\"dataframe\">\n",
       "  <thead>\n",
       "    <tr style=\"text-align: right;\">\n",
       "      <th></th>\n",
       "      <th>CASENUM</th>\n",
       "      <th>CLMSEX</th>\n",
       "      <th>CLMINSUR</th>\n",
       "      <th>SEATBELT</th>\n",
       "      <th>CLMAGE</th>\n",
       "      <th>LOSS</th>\n",
       "      <th>ATTORNEY</th>\n",
       "    </tr>\n",
       "  </thead>\n",
       "  <tbody>\n",
       "    <tr>\n",
       "      <th>1</th>\n",
       "      <td>3</td>\n",
       "      <td>1</td>\n",
       "      <td>0.0</td>\n",
       "      <td>0</td>\n",
       "      <td>18.0</td>\n",
       "      <td>0.891</td>\n",
       "      <td>1</td>\n",
       "    </tr>\n",
       "    <tr>\n",
       "      <th>2</th>\n",
       "      <td>66</td>\n",
       "      <td>0</td>\n",
       "      <td>1.0</td>\n",
       "      <td>0</td>\n",
       "      <td>5.0</td>\n",
       "      <td>0.330</td>\n",
       "      <td>1</td>\n",
       "    </tr>\n",
       "    <tr>\n",
       "      <th>3</th>\n",
       "      <td>70</td>\n",
       "      <td>1</td>\n",
       "      <td>1.0</td>\n",
       "      <td>1</td>\n",
       "      <td>31.0</td>\n",
       "      <td>0.037</td>\n",
       "      <td>0</td>\n",
       "    </tr>\n",
       "    <tr>\n",
       "      <th>5</th>\n",
       "      <td>97</td>\n",
       "      <td>1</td>\n",
       "      <td>1.0</td>\n",
       "      <td>0</td>\n",
       "      <td>35.0</td>\n",
       "      <td>0.309</td>\n",
       "      <td>0</td>\n",
       "    </tr>\n",
       "    <tr>\n",
       "      <th>6</th>\n",
       "      <td>10</td>\n",
       "      <td>0</td>\n",
       "      <td>NaN</td>\n",
       "      <td>0</td>\n",
       "      <td>9.0</td>\n",
       "      <td>3.538</td>\n",
       "      <td>0</td>\n",
       "    </tr>\n",
       "    <tr>\n",
       "      <th>7</th>\n",
       "      <td>36</td>\n",
       "      <td>1</td>\n",
       "      <td>NaN</td>\n",
       "      <td>0</td>\n",
       "      <td>34.0</td>\n",
       "      <td>4.881</td>\n",
       "      <td>0</td>\n",
       "    </tr>\n",
       "    <tr>\n",
       "      <th>8</th>\n",
       "      <td>51</td>\n",
       "      <td>1</td>\n",
       "      <td>1.0</td>\n",
       "      <td>0</td>\n",
       "      <td>60.0</td>\n",
       "      <td>0.874</td>\n",
       "      <td>1</td>\n",
       "    </tr>\n",
       "    <tr>\n",
       "      <th>9</th>\n",
       "      <td>55</td>\n",
       "      <td>1</td>\n",
       "      <td>1.0</td>\n",
       "      <td>0</td>\n",
       "      <td>NaN</td>\n",
       "      <td>0.350</td>\n",
       "      <td>1</td>\n",
       "    </tr>\n",
       "  </tbody>\n",
       "</table>\n",
       "</div>"
      ],
      "text/plain": [
       "   CASENUM  CLMSEX  CLMINSUR  SEATBELT  CLMAGE   LOSS  ATTORNEY\n",
       "1        3       1       0.0         0    18.0  0.891         1\n",
       "2       66       0       1.0         0     5.0  0.330         1\n",
       "3       70       1       1.0         1    31.0  0.037         0\n",
       "5       97       1       1.0         0    35.0  0.309         0\n",
       "6       10       0       NaN         0     9.0  3.538         0\n",
       "7       36       1       NaN         0    34.0  4.881         0\n",
       "8       51       1       1.0         0    60.0  0.874         1\n",
       "9       55       1       1.0         0     NaN  0.350         1"
      ]
     },
     "execution_count": 11,
     "metadata": {},
     "output_type": "execute_result"
    }
   ],
   "source": [
    "df_trimmed = df[(df[\"LOSS\"] > lower_limit) & (df[\"LOSS\"] < upper_limit)]\n",
    "df_trimmed"
   ]
  },
  {
   "cell_type": "code",
   "execution_count": 12,
   "id": "776d6fb1-0a23-4677-8327-47d6a43d6212",
   "metadata": {},
   "outputs": [
    {
     "data": {
      "image/png": "[encoded data removed]",
      "text/plain": [
       "<Figure size 640x480 with 1 Axes>"
      ]
     },
     "metadata": {},
     "output_type": "display_data"
    }
   ],
   "source": [
    "sns.boxplot(x = df_trimmed[\"LOSS\"])\n",
    "plt.show()"
   ]
  },
  {
   "cell_type": "markdown",
   "id": "2d5000a1-eeea-4771-82e8-b3f729f1a6df",
   "metadata": {},
   "source": [
    "- We can still see some outliers.\n",
    "- When we remove data points from our dataset, all the parameters of the distribution are recalculated(Mean, quartiles, range)\n",
    "- This is the problem with dealing with outliers in this method.\n",
    "\n",
    "### 2.  Replace the Outliers \n",
    "\n",
    "#### 1. Rectify or Replace -->(data entry error) --> As and confirm it from the data Engineering team. \n",
    "#### 2. Replace with upper limit & lower limit (Calculated based on IQR). "
   ]
  },
  {
   "cell_type": "code",
   "execution_count": 22,
   "id": "ae0d8085-c75e-4614-9ead-06f863072b43",
   "metadata": {},
   "outputs": [
    {
     "name": "stdout",
     "output_type": "stream",
     "text": [
      "Requirement already satisfied: feature_engine in /Users/puli/opt/anaconda3/lib/python3.9/site-packages (1.6.2)\n",
      "Requirement already satisfied: scikit-learn>=1.0.0 in /Users/puli/opt/anaconda3/lib/python3.9/site-packages (from feature_engine) (1.0.2)\n",
      "Requirement already satisfied: numpy>=1.18.2 in /Users/puli/opt/anaconda3/lib/python3.9/site-packages (from feature_engine) (1.21.5)\n",
      "Requirement already satisfied: pandas>=1.0.3 in /Users/puli/opt/anaconda3/lib/python3.9/site-packages (from feature_engine) (1.4.4)\n",
      "Requirement already satisfied: statsmodels>=0.11.1 in /Users/puli/opt/anaconda3/lib/python3.9/site-packages (from feature_engine) (0.13.5)\n",
      "Requirement already satisfied: scipy>=1.4.1 in /Users/puli/opt/anaconda3/lib/python3.9/site-packages (from feature_engine) (1.7.3)\n",
      "Requirement already satisfied: python-dateutil>=2.8.1 in /Users/puli/opt/anaconda3/lib/python3.9/site-packages (from pandas>=1.0.3->feature_engine) (2.8.2)\n",
      "Requirement already satisfied: pytz>=2020.1 in /Users/puli/opt/anaconda3/lib/python3.9/site-packages (from pandas>=1.0.3->feature_engine) (2022.7)\n",
      "Requirement already satisfied: threadpoolctl>=2.0.0 in /Users/puli/opt/anaconda3/lib/python3.9/site-packages (from scikit-learn>=1.0.0->feature_engine) (2.2.0)\n",
      "Requirement already satisfied: joblib>=0.11 in /Users/puli/opt/anaconda3/lib/python3.9/site-packages (from scikit-learn>=1.0.0->feature_engine) (1.1.1)\n",
      "Requirement already satisfied: patsy>=0.5.2 in /Users/puli/opt/anaconda3/lib/python3.9/site-packages (from statsmodels>=0.11.1->feature_engine) (0.5.3)\n",
      "Requirement already satisfied: packaging>=21.3 in /Users/puli/opt/anaconda3/lib/python3.9/site-packages (from statsmodels>=0.11.1->feature_engine) (22.0)\n",
      "Requirement already satisfied: six in /Users/puli/opt/anaconda3/lib/python3.9/site-packages (from patsy>=0.5.2->statsmodels>=0.11.1->feature_engine) (1.16.0)\n"
     ]
    }
   ],
   "source": [
    "#pip install feature_engine (Another module). make sure to add ! infront of pip since shell command need to execute from here. \n",
    "!pip install feature_engine"
   ]
  },
  {
   "cell_type": "code",
   "execution_count": 23,
   "id": "415ad486-de45-4a02-9c1b-792d95cef6e0",
   "metadata": {},
   "outputs": [],
   "source": [
    "from feature_engine.outliers import Winsorizer"
   ]
  },
  {
   "cell_type": "code",
   "execution_count": null,
   "id": "77246d46-60fa-4863-be93-70eb6ff9250c",
   "metadata": {},
   "outputs": [],
   "source": []
  }
 ],
 "metadata": {
  "kernelspec": {
   "display_name": "Python 3 (ipykernel)",
   "language": "python",
   "name": "python3"
  },
  "language_info": {
   "codemirror_mode": {
    "name": "ipython",
    "version": 3
   },
   "file_extension": ".py",
   "mimetype": "text/x-python",
   "name": "python",
   "nbconvert_exporter": "python",
   "pygments_lexer": "ipython3",
   "version": "3.9.7"
  }
 },
 "nbformat": 4,
 "nbformat_minor": 5
}
