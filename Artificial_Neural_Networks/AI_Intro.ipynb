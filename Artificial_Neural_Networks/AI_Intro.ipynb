{
 "cells": [
  {
   "cell_type": "markdown",
   "id": "5234e584-eb69-4ab7-b2aa-8cca9247719f",
   "metadata": {},
   "source": [
    "# Artificial Nerual Networks.\n",
    "- We will learn following in this section.\n",
    "- - What is Neuron.\n",
    "  - What is Activation Function.\n",
    "  - How do Neural Networks Work?(Examples)\n",
    "  - How do Neural Networks learn?\n",
    "  - Gradient Descent.\n",
    "  - Stochastic Gradient Descent.\n",
    "  - Back Propagation. "
   ]
  },
  {
   "cell_type": "code",
   "execution_count": null,
   "id": "feb93cf6-3861-4c6a-bb28-0f02b7c4616a",
   "metadata": {},
   "outputs": [],
   "source": []
  }
 ],
 "metadata": {
  "kernelspec": {
   "display_name": "Python 3 (ipykernel)",
   "language": "python",
   "name": "python3"
  },
  "language_info": {
   "codemirror_mode": {
    "name": "ipython",
    "version": 3
   },
   "file_extension": ".py",
   "mimetype": "text/x-python",
   "name": "python",
   "nbconvert_exporter": "python",
   "pygments_lexer": "ipython3",
   "version": "3.9.7"
  }
 },
 "nbformat": 4,
 "nbformat_minor": 5
}
